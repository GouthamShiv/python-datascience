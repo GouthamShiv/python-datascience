{
 "cells": [
  {
   "cell_type": "markdown",
   "metadata": {},
   "source": [
    "[back](./00-index.ipynb)\n",
    "\n",
    "---\n",
    "## `Intro to PyPlot`\n",
    "\n",
    "### `What is PyPlot?`\n",
    "\n",
    "- PyPlot is a sub-library within `MatPlotLib` that allows `MatPlotLib` to work like `MATLAB`\n",
    "- Allows users to treat graphs as figures which can be implicitly and automatically created\n",
    "- Essentially allows for easy graphing of data\n",
    "- Open Source\n",
    "\n",
    "### `PyPlot Applications`\n",
    "\n",
    "- Creating graphs and charts\n",
    "- Data science and analysis\n",
    "- Recognizing trends\n",
    "- Machine learning\n",
    "- Image viewing and analysis\n",
    "\n",
    "### `What can we do with PyPlot?`\n",
    "\n",
    "- Create graphs like scatter plots, line graphs, etc.\n",
    "- Create charts like bar charts, pie charts, etc.\n",
    "- Create 3D graphs\n",
    "- Customize graph appearance (line style, axes, titles, etc.)\n",
    "- Create trend lines, lines of best fit, etc.\n",
    "\n",
    "---\n",
    "[next](./02-installing-pyplot.ipynb)"
   ]
  }
 ],
 "metadata": {
  "language_info": {
   "name": "python"
  },
  "orig_nbformat": 4
 },
 "nbformat": 4,
 "nbformat_minor": 2
}
