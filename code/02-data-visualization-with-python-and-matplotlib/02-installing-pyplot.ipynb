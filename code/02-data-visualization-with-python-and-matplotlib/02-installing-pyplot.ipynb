{
 "cells": [
  {
   "cell_type": "markdown",
   "metadata": {},
   "source": [
    "[back](./01-intro-to-pyplot.ipynb)\n",
    "\n",
    "---\n",
    "## `Installing PyPlot library`\n",
    "\n",
    "> To find the package and documentations\n",
    "\n",
    "- Access [MatPlotLib](https://matplotlib.org) website for details and documentations\n",
    "\n",
    "> How to install MatPlotLib via terminal\n",
    "\n",
    "- Launch and run the below command in terminal\n",
    "  \n",
    "  `pip install matplotlib`\n",
    "\n",
    "- If using `anaconda`\n",
    "\n",
    "  `conda install matplotlib`\n",
    "\n",
    "> How to access `PyPlot`\n",
    "\n",
    "- Import PyPlot library using the below command\n",
    "\n",
    "  ```python\n",
    "  from matplotlib import pyplot as plt\n",
    "  ```\n",
    "\n",
    "---\n",
    "[next](./03-graphing-data.ipynb)"
   ]
  }
 ],
 "metadata": {
  "interpreter": {
   "hash": "0b4484ae063bf9ef0d5115063857dd0e382a2c73ed49a11a000ca56af03302b6"
  },
  "kernelspec": {
   "display_name": "Python 3.9.7 ('base')",
   "language": "python",
   "name": "python3"
  },
  "language_info": {
   "name": "python",
   "version": "3.9.7"
  },
  "orig_nbformat": 4
 },
 "nbformat": 4,
 "nbformat_minor": 2
}
