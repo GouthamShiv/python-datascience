{
 "cells": [
  {
   "cell_type": "markdown",
   "metadata": {},
   "source": [
    "[back](./01-intro-to-pyplot.ipynb)\n",
    "\n",
    "---\n",
    "## `Installing PyPlot library`\n",
    "\n",
    "> To find the package and documentations\n",
    "\n",
    "- Access [MatPlotLib](https://matplotlib.org) website for details and documentations\n",
    "\n",
    "> How to install MatPlotLib via terminal\n",
    "\n",
    "- Launch and run the below command in terminal\n",
    "  \n",
    "  `pip install matplotlib`\n",
    "\n",
    "- If using `anaconda`\n",
    "\n",
    "  `conda install matplotlib`\n",
    "\n",
    "> How to access `PyPlot`\n",
    "\n",
    "- Import PyPlot library using the below command\n",
    "\n",
    "  ```python\n",
    "  from matplotlib import pyplot as plt\n",
    "  ```\n",
    "\n",
    "---\n",
    "[next]()"
   ]
  }
 ],
 "metadata": {
  "language_info": {
   "name": "python"
  },
  "orig_nbformat": 4
 },
 "nbformat": 4,
 "nbformat_minor": 2
}
