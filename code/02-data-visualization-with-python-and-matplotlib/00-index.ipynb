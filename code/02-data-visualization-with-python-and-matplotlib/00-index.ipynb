{
 "cells": [
  {
   "cell_type": "markdown",
   "metadata": {},
   "source": [
    "[back](../01-python-fundamentals/07-classes-and-objects.ipynb)\n",
    "\n",
    "---\n",
    "# Data Visualization with `Python` and `MatPlotLib`\n",
    "\n",
    "- [Intro to PyPlot](./01-intro-to-pyplot.ipynb)\n",
    "- [Installing PyPlot](./02-installing-pyplot.ipynb)\n",
    "- [Graphing some data](./03-graphing-data.ipynb)\n",
    "    - [Basic Line Plot](./03-graphing-data.ipynb)\n",
    "    - [Customizing a graph](./03-graphing-data.ipynb)\n",
    "- [Showing multiple graphs]()\n",
    "- [Different kinds of graphs]()\n",
    "- [3D graphs]()\n",
    "\n",
    "---\n",
    "[next](./01-intro-to-pyplot.ipynb)"
   ]
  }
 ],
 "metadata": {
  "language_info": {
   "name": "python"
  },
  "orig_nbformat": 4
 },
 "nbformat": 4,
 "nbformat_minor": 2
}
