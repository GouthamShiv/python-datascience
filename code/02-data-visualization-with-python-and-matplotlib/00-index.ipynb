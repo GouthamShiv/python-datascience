{
 "cells": [
  {
   "cell_type": "markdown",
   "metadata": {},
   "source": [
    "[back](../01-python-fundamentals/07-classes-and-objects.ipynb)\n",
    "\n",
    "---\n",
    "# Data Visualization with `Python` and `MatPlotLib`\n",
    "\n",
    "- [Intro to PyPlot](./01-intro-to-pyplot.ipynb)\n",
    "- [Installing PyPlot]()\n",
    "- [Graphing some data]()\n",
    "- [Customizing a graph]()\n",
    "- [Showing multiple graphs]()\n",
    "- [Different kinds of graphs]()\n",
    "- [3D graphs]()\n",
    "\n",
    "---\n",
    "[next](./01-intro-to-pyplot.ipynb)"
   ]
  }
 ],
 "metadata": {
  "language_info": {
   "name": "python"
  },
  "orig_nbformat": 4
 },
 "nbformat": 4,
 "nbformat_minor": 2
}
