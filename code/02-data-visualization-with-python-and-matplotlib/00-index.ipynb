{
 "cells": [
  {
   "cell_type": "markdown",
   "metadata": {},
   "source": [
    "[back](../01-python-fundamentals/07-classes-and-objects.ipynb)\n",
    "\n",
    "---\n",
    "# Data Visualization with `Python` and `MatPlotLib`\n",
    "\n",
    "- [Intro to PyPlot](./01-intro-to-pyplot.ipynb)\n",
    "- [Installing PyPlot](./02-installing-pyplot.ipynb)\n",
    "- [Graphing some data](./03-graphing-data.ipynb)\n",
    "    - [Basic Line Plot](./03-graphing-data.ipynb)\n",
    "    - [Customizing a graph](./03-graphing-data.ipynb)\n",
    "- [Showing multiple graphs](./04-multiple-graphs.ipynb)\n",
    "- [Different kinds of graphs](./05-different-kinds-of-graphs.ipynb)\n",
    "  - [Bar Chart](./05-different-kinds-of-graphs.ipynb)\n",
    "  - [Pie Chart](./05-different-kinds-of-graphs.ipynb)\n",
    "- [3D graphs]()\n",
    "\n",
    "---\n",
    "[next](./01-intro-to-pyplot.ipynb)"
   ]
  }
 ],
 "metadata": {
  "interpreter": {
   "hash": "0b4484ae063bf9ef0d5115063857dd0e382a2c73ed49a11a000ca56af03302b6"
  },
  "kernelspec": {
   "display_name": "Python 3.9.7 ('base')",
   "language": "python",
   "name": "python3"
  },
  "language_info": {
   "name": "python",
   "version": "3.9.7"
  },
  "orig_nbformat": 4
 },
 "nbformat": 4,
 "nbformat_minor": 2
}
