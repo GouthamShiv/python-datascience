{
 "cells": [
  {
   "cell_type": "markdown",
   "metadata": {},
   "source": [
    "[back](../06-mining-and-storing-data/04-sql-mining.ipynb)\n",
    "\n",
    "---\n",
    "## `Natural Language Processing`\n",
    "\n",
    "- [NLP Data Cleaning](./01-nlp-data-cleaning.ipynb)\n",
    "- [Count Vectorizer](./02-count-vectorization-and-tfidf.ipynb)\n",
    "- [NLP Example with Spam](./03-nlp-example-with-spam.ipynb)\n",
    "- [Tweak model with Spam data]()"
   ]
  },
  {
   "cell_type": "markdown",
   "metadata": {},
   "source": [
    "\n",
    "---\n",
    "[next](./01-nlp-data-cleaning.ipynb)"
   ]
  }
 ],
 "metadata": {
  "kernelspec": {
   "display_name": "Python 3.9.7 ('base')",
   "language": "python",
   "name": "python3"
  },
  "language_info": {
   "name": "python",
   "version": "3.9.7"
  },
  "orig_nbformat": 4,
  "vscode": {
   "interpreter": {
    "hash": "0b4484ae063bf9ef0d5115063857dd0e382a2c73ed49a11a000ca56af03302b6"
   }
  }
 },
 "nbformat": 4,
 "nbformat_minor": 2
}
