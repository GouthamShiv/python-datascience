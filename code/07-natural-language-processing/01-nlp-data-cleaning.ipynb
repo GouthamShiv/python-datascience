{
 "cells": [
  {
   "cell_type": "markdown",
   "metadata": {},
   "source": [
    "[back](./00-index.ipynb)\n",
    "\n",
    "---\n",
    "## `NLP Data Cleaning`"
   ]
  },
  {
   "cell_type": "markdown",
   "metadata": {},
   "source": [
    "### `Imports and setup`"
   ]
  },
  {
   "cell_type": "code",
   "execution_count": 1,
   "metadata": {},
   "outputs": [],
   "source": [
    "import numpy as np\n",
    "from collections import Counter\n",
    "import pandas as pd\n",
    "import nltk\n",
    "from nltk.tokenize import word_tokenize\n",
    "from nltk.stem.wordnet import WordNetLemmatizer\n",
    "from nltk.stem import SnowballStemmer\n",
    "import string\n",
    "from scipy.spatial.distance import pdist, squareform\n",
    "from sklearn.feature_extraction.text import TfidfVectorizer, CountVectorizer\n",
    "from sklearn.metrics.pairwise import cosine_similarity\n",
    "from sklearn.linear_model import LogisticRegression\n",
    "from sklearn.model_selection import train_test_split\n",
    "from sklearn.metrics import confusion_matrix\n",
    "from sklearn.ensemble import RandomForestClassifier, GradientBoostingClassifier, VotingClassifier\n",
    "from sklearn.svm import SVC\n",
    "from sklearn.tree import DecisionTreeClassifier\n",
    "from sklearn.pipeline import Pipeline, FeatureUnion, make_pipeline\n"
   ]
  },
  {
   "cell_type": "code",
   "execution_count": 2,
   "metadata": {},
   "outputs": [
    {
     "name": "stderr",
     "output_type": "stream",
     "text": [
      "[nltk_data] Downloading package stopwords to\n",
      "[nltk_data]     /Users/goutham/nltk_data...\n",
      "[nltk_data]   Package stopwords is already up-to-date!\n",
      "[nltk_data] Downloading package punkt to /Users/goutham/nltk_data...\n",
      "[nltk_data]   Package punkt is already up-to-date!\n"
     ]
    }
   ],
   "source": [
    "nltk.download('stopwords')\n",
    "nltk.download('punkt')\n",
    "stops = set(nltk.corpus.stopwords.words('english'))\n"
   ]
  },
  {
   "cell_type": "code",
   "execution_count": 3,
   "metadata": {},
   "outputs": [],
   "source": [
    "corpus = [\"Jeff stole my octopus sandwich.\",\n",
    "          \"'Help!' I sobbed, sandwichlessly.\",\n",
    "          \"'Drop the sandwiches!' said the sandwich police.\"]\n"
   ]
  },
  {
   "cell_type": "markdown",
   "metadata": {},
   "source": [
    "### `How do I turn a corpus of documents into a feature matrix?`\n",
    "### `Words --> numbers?????`"
   ]
  },
  {
   "cell_type": "markdown",
   "metadata": {},
   "source": [
    "**Corpus:** A collection of written texts, especially the entire works of a particular author or a body of writing on a particular subject.\n",
    "\n",
    "```\n",
    "[\n",
    "  \"Jeff stole my octopus sandwich.\",\n",
    "  \"'Help!' I sobbed, sandwichlessly.\",\n",
    "  \"'Drop the sandwiches!' said the sandwich police.\"\n",
    "]\n",
    "```"
   ]
  },
  {
   "cell_type": "markdown",
   "metadata": {},
   "source": [
    "`NLTK` is a very famous library in python, which is used for pre-processing, it has some model components.\n",
    "\n",
    "But we'll primarily use it for pre-processing and `SKLearn` will be used for model, fitting, evaluation etc."
   ]
  },
  {
   "cell_type": "markdown",
   "metadata": {},
   "source": [
    "Now, lets inspect the `stopwords` we obtained from `nltk`"
   ]
  },
  {
   "cell_type": "code",
   "execution_count": 4,
   "metadata": {},
   "outputs": [
    {
     "name": "stdout",
     "output_type": "stream",
     "text": [
      "{'at', 'not', 'than', 'me', 'an', 'because', 'through', 'more', 'no', 'few', 'you', 'here', 'or', 'weren', 'doesn', 'have', 'most', 'for', \"won't\", 'same', 'ourselves', 'its', 'theirs', 'our', \"shan't\", 'won', 'before', 'is', \"shouldn't\", \"she's\", 'from', 'does', 'so', 'ma', 'under', 'should', 'just', 'very', 'aren', 'hasn', 'she', 'where', 'shouldn', \"couldn't\", 'do', 'as', \"don't\", \"mightn't\", 'been', \"hasn't\", 'with', 'each', 'being', 'has', 're', \"weren't\", 'their', 'we', \"you'd\", 'him', \"you'll\", 'to', 'further', 'some', 'how', 'below', 'nor', 'shan', 'ours', 'by', 'my', 'myself', 'this', 'did', 'these', 'after', 'other', 'them', 'if', \"you're\", 'hers', 'and', 'that', 'into', 'why', 'yourselves', 'mightn', 'whom', 've', 'be', 'too', 'didn', \"should've\", \"mustn't\", 'until', 'about', 'down', 'on', 'while', 'don', 'himself', 'his', 'own', 'themselves', 'your', 'when', \"doesn't\", 'such', 'the', 'doing', 'but', 's', 'needn', \"that'll\", 'can', 'her', 'who', 'which', 'of', 'i', 'all', 'above', 'isn', 'were', 'd', 'against', \"wasn't\", 'was', 'it', 'he', 'both', 'they', 'wouldn', 'will', 'now', 'yours', 'once', 'itself', \"isn't\", 'over', 'haven', 'couldn', 'in', 'out', 'a', \"didn't\", \"needn't\", 'y', \"it's\", 'ain', 'those', 't', 'o', 'll', 'between', 'off', 'having', \"you've\", 'any', 'there', 'then', 'hadn', 'what', 'am', \"hadn't\", 'only', 'again', \"wouldn't\", 'up', 'are', 'mustn', 'wasn', 'had', \"haven't\", 'herself', 'm', 'during', \"aren't\", 'yourself'}\n"
     ]
    }
   ],
   "source": [
    "print(stops)"
   ]
  },
  {
   "cell_type": "markdown",
   "metadata": {},
   "source": [
    "### `Tokenize or document our corpus`"
   ]
  },
  {
   "cell_type": "code",
   "execution_count": 5,
   "metadata": {},
   "outputs": [],
   "source": [
    "def our_tokenizer(doc, stops=None, stemmer=None):\n",
    "  doc = word_tokenize(doc.lower())\n",
    "  tokens = [''.join([char for char in tok if char not in string.punctuation]) for tok in doc]\n",
    "  tokens = [tok for tok in tokens if tok]\n",
    "  if stops:\n",
    "    tokens = [tok for tok in tokens if(tok not in stops)]\n",
    "  if stemmer:\n",
    "    tokens = [stemmer.stem(tok) for tok in tokens]\n",
    "  return tokens"
   ]
  },
  {
   "cell_type": "code",
   "execution_count": 6,
   "metadata": {},
   "outputs": [
    {
     "data": {
      "text/plain": [
       "[['jeff', 'stole', 'my', 'octopus', 'sandwich'],\n",
       " ['help', 'i', 'sobbed', 'sandwichlessly'],\n",
       " ['drop', 'the', 'sandwiches', 'said', 'the', 'sandwich', 'police']]"
      ]
     },
     "execution_count": 6,
     "metadata": {},
     "output_type": "execute_result"
    }
   ],
   "source": [
    "tokenized_docs = [our_tokenizer(doc) for doc in corpus]\n",
    "tokenized_docs"
   ]
  },
  {
   "cell_type": "markdown",
   "metadata": {},
   "source": [
    "After running the `our_tokenizer()`, we see that we get a list of lists as an output, where the original corpus was a list of sentences and now we have list of lists.\n",
    "\n",
    "Each document is converted into a list, and each word now is a token in the list inside of the output list.\n",
    "\n",
    "After this, we pretty much have some standardized steps that we need to take like:\n",
    "- We need to convert all the tokens to lowercase (or uppercase), and in our case, we convert to lowercase.\n",
    "- Also, we are going to remove all punctuations like `. , !` etc."
   ]
  },
  {
   "cell_type": "code",
   "execution_count": 7,
   "metadata": {},
   "outputs": [
    {
     "data": {
      "text/plain": [
       "True"
      ]
     },
     "execution_count": 7,
     "metadata": {},
     "output_type": "execute_result"
    }
   ],
   "source": [
    "'i' in stops"
   ]
  },
  {
   "cell_type": "markdown",
   "metadata": {},
   "source": [
    "### `Remove stop words`"
   ]
  },
  {
   "cell_type": "code",
   "execution_count": 8,
   "metadata": {},
   "outputs": [
    {
     "data": {
      "text/plain": [
       "[['jeff', 'stole', 'my', 'octopus', 'sandwich'],\n",
       " ['help', 'i', 'sobbed', 'sandwichlessly'],\n",
       " ['drop', 'the', 'sandwiches', 'said', 'the', 'sandwich', 'police']]"
      ]
     },
     "execution_count": 8,
     "metadata": {},
     "output_type": "execute_result"
    }
   ],
   "source": [
    "tokenized_docs"
   ]
  },
  {
   "cell_type": "code",
   "execution_count": 9,
   "metadata": {},
   "outputs": [
    {
     "data": {
      "text/plain": [
       "[['jeff', 'stole', 'octopus', 'sandwich'],\n",
       " ['help', 'sobbed', 'sandwichlessly'],\n",
       " ['drop', 'sandwiches', 'said', 'sandwich', 'police']]"
      ]
     },
     "execution_count": 9,
     "metadata": {},
     "output_type": "execute_result"
    }
   ],
   "source": [
    "tokenized_docs = [our_tokenizer(doc, stops=stops) for doc in corpus]\n",
    "tokenized_docs"
   ]
  },
  {
   "cell_type": "markdown",
   "metadata": {},
   "source": [
    "### `Stemming / Lemmatization`"
   ]
  },
  {
   "cell_type": "code",
   "execution_count": 10,
   "metadata": {},
   "outputs": [
    {
     "data": {
      "text/plain": [
       "[['jeff', 'stole', 'octopus', 'sandwich'],\n",
       " ['help', 'sobbed', 'sandwichlessly'],\n",
       " ['drop', 'sandwiches', 'said', 'sandwich', 'police']]"
      ]
     },
     "execution_count": 10,
     "metadata": {},
     "output_type": "execute_result"
    }
   ],
   "source": [
    "tokenized_docs"
   ]
  },
  {
   "cell_type": "code",
   "execution_count": 11,
   "metadata": {},
   "outputs": [
    {
     "data": {
      "text/plain": [
       "[['jeff', 'stole', 'octopus', 'sandwich'],\n",
       " ['help', 'sob', 'sandwichless'],\n",
       " ['drop', 'sandwich', 'said', 'sandwich', 'polic']]"
      ]
     },
     "execution_count": 11,
     "metadata": {},
     "output_type": "execute_result"
    }
   ],
   "source": [
    "tokenized_docs = [our_tokenizer(doc, stops=stops, stemmer=SnowballStemmer('english')) for doc in corpus]\n",
    "tokenized_docs"
   ]
  },
  {
   "cell_type": "markdown",
   "metadata": {},
   "source": [
    "### `Conclusion`"
   ]
  },
  {
   "cell_type": "markdown",
   "metadata": {},
   "source": [
    "\n",
    "---\n",
    "[next](./02-count-vectorization-and-tfidf.ipynb)"
   ]
  }
 ],
 "metadata": {
  "kernelspec": {
   "display_name": "Python 3.9.7 ('base')",
   "language": "python",
   "name": "python3"
  },
  "language_info": {
   "codemirror_mode": {
    "name": "ipython",
    "version": 3
   },
   "file_extension": ".py",
   "mimetype": "text/x-python",
   "name": "python",
   "nbconvert_exporter": "python",
   "pygments_lexer": "ipython3",
   "version": "3.9.7"
  },
  "orig_nbformat": 4,
  "vscode": {
   "interpreter": {
    "hash": "0b4484ae063bf9ef0d5115063857dd0e382a2c73ed49a11a000ca56af03302b6"
   }
  }
 },
 "nbformat": 4,
 "nbformat_minor": 2
}
