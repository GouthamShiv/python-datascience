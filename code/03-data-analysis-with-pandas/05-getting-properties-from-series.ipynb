{
 "cells": [
  {
   "cell_type": "markdown",
   "metadata": {},
   "source": [
    "[back](./04-getting-elements-from-series.ipynb)\n",
    "\n",
    "---\n",
    "## `Getting properties from Series`\n",
    "\n",
    "- Getting numerical properties such as **max, min, count** etc.\n",
    "- Getting indexes of max, min and other  default values\n",
    "- Getting distribution of values _(returns histogram kind of values)_\n",
    "- Above scenarios when Series is having `Strings, Booleans`\n",
    "- `Any` and `All` functions, useful with boolean Series\n",
    "  - Any function return True if any other value is True\n",
    "  - All function will return True if all the values are True"
   ]
  },
  {
   "cell_type": "code",
   "execution_count": 1,
   "metadata": {},
   "outputs": [],
   "source": [
    "# Import pandas\n",
    "\n",
    "import pandas as pd"
   ]
  },
  {
   "cell_type": "code",
   "execution_count": 2,
   "metadata": {},
   "outputs": [
    {
     "name": "stdout",
     "output_type": "stream",
     "text": [
      "Count of series: 22\n",
      "Type of count: <class 'numpy.int64'>\n",
      "\n",
      "Max value in the series: 5\n",
      "\n",
      "Min value in the series: 1\n",
      "\n",
      "Mean: 2.909090909090909\n",
      "\n",
      "Mode: 0    1\n",
      "dtype: int64\n",
      "\n",
      "Median: 3.0\n"
     ]
    }
   ],
   "source": [
    "# Creating data-set\n",
    "\n",
    "series = pd.Series([1,5,2,3,4,5,4,2,5,1,1,5,2,1,3,4,1,2,4,1,3,5])\n",
    "\n",
    "# Count of series\n",
    "print('Count of series:', series.count())\n",
    "print('Type of count:', type(series.count()))\n",
    "\n",
    "# Max value in Series\n",
    "print('\\nMax value in the series:', series.max())\n",
    "\n",
    "# Min value in Series\n",
    "print('\\nMin value in the series:', series.min())\n",
    "\n",
    "# Mean, Mode, Median\n",
    "print('\\nMean:', series.mean())\n",
    "print('\\nMode:', series.mode())\n",
    "print('\\nMedian:', series.median())\n"
   ]
  },
  {
   "cell_type": "code",
   "execution_count": 3,
   "metadata": {},
   "outputs": [
    {
     "name": "stdout",
     "output_type": "stream",
     "text": [
      "Description of the series:\n",
      "count    22.000000\n",
      "mean      2.909091\n",
      "std       1.570838\n",
      "min       1.000000\n",
      "25%       1.250000\n",
      "50%       3.000000\n",
      "75%       4.000000\n",
      "max       5.000000\n",
      "dtype: float64\n"
     ]
    }
   ],
   "source": [
    "# Better way of getting min, max etc\n",
    "\n",
    "description = series.describe()\n",
    "print('Description of the series:')\n",
    "print(description)"
   ]
  },
  {
   "cell_type": "code",
   "execution_count": 4,
   "metadata": {},
   "outputs": [
    {
     "name": "stdout",
     "output_type": "stream",
     "text": [
      "Two largest values in the series:\n",
      "1    5\n",
      "5    5\n",
      "dtype: int64\n",
      "\n",
      "Two smallest values in the series:\n",
      "0    1\n",
      "9    1\n",
      "dtype: int64\n"
     ]
    }
   ],
   "source": [
    "# Get 2 smallest and largest values\n",
    "\n",
    "print('Two largest values in the series:')\n",
    "n_largest = series.nlargest(2)\n",
    "print(n_largest)\n",
    "\n",
    "print('\\nTwo smallest values in the series:')\n",
    "n_smallest = series.nsmallest(2)\n",
    "print(n_smallest)\n"
   ]
  },
  {
   "cell_type": "code",
   "execution_count": 5,
   "metadata": {},
   "outputs": [
    {
     "name": "stdout",
     "output_type": "stream",
     "text": [
      "Index of the max value in the series: 1\n",
      "Index of the min value in the series: 0\n"
     ]
    }
   ],
   "source": [
    "# Index of largest and smallest values\n",
    "\n",
    "print('Index of the max value in the series:', series.idxmax())\n",
    "print('Index of the min value in the series:', series.idxmin())"
   ]
  },
  {
   "cell_type": "code",
   "execution_count": 6,
   "metadata": {},
   "outputs": [
    {
     "name": "stdout",
     "output_type": "stream",
     "text": [
      "Histograms:\n",
      "1    6\n",
      "5    5\n",
      "2    4\n",
      "4    4\n",
      "3    3\n",
      "dtype: int64\n"
     ]
    }
   ],
   "source": [
    "# Value Counts function - used to produce histograms, in our case it'll produce data\n",
    "\n",
    "histogram = series.value_counts()\n",
    "print('Histograms:')\n",
    "print(histogram)"
   ]
  },
  {
   "cell_type": "code",
   "execution_count": 7,
   "metadata": {},
   "outputs": [
    {
     "name": "stdout",
     "output_type": "stream",
     "text": [
      "count     4\n",
      "unique    4\n",
      "top       A\n",
      "freq      1\n",
      "dtype: object\n",
      "count        5\n",
      "unique       2\n",
      "top       True\n",
      "freq         3\n",
      "dtype: object\n"
     ]
    }
   ],
   "source": [
    "# When Series is having string values\n",
    "series = pd.Series(['A', 'B', 'C', 'D'])\n",
    "description = series.describe()\n",
    "print(description)\n",
    "\n",
    "# When Series is having boolean values\n",
    "series = pd.Series([True, True, False, False, True])\n",
    "description = series.describe()\n",
    "print(description)\n"
   ]
  },
  {
   "cell_type": "code",
   "execution_count": 8,
   "metadata": {},
   "outputs": [
    {
     "name": "stdout",
     "output_type": "stream",
     "text": [
      "Are all values True: False\n",
      "Are any value True: True\n"
     ]
    }
   ],
   "source": [
    "# All and Any functions\n",
    "\n",
    "series = pd.Series([True, True, False, False, True])\n",
    "all_true = series.all()\n",
    "any_true = series.any()\n",
    "\n",
    "print('Are all values True:', all_true)\n",
    "print('Are any value True:', any_true)"
   ]
  },
  {
   "cell_type": "markdown",
   "metadata": {},
   "source": [
    "\n",
    "---\n",
    "[next]()"
   ]
  }
 ],
 "metadata": {
  "interpreter": {
   "hash": "0b4484ae063bf9ef0d5115063857dd0e382a2c73ed49a11a000ca56af03302b6"
  },
  "kernelspec": {
   "display_name": "Python 3.9.7 ('base')",
   "language": "python",
   "name": "python3"
  },
  "language_info": {
   "codemirror_mode": {
    "name": "ipython",
    "version": 3
   },
   "file_extension": ".py",
   "mimetype": "text/x-python",
   "name": "python",
   "nbconvert_exporter": "python",
   "pygments_lexer": "ipython3",
   "version": "3.9.7"
  },
  "orig_nbformat": 4
 },
 "nbformat": 4,
 "nbformat_minor": 2
}
