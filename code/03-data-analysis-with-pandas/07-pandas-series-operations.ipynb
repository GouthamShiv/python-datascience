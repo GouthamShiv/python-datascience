{
 "cells": [
  {
   "cell_type": "markdown",
   "metadata": {},
   "source": [
    "[back](./06-pandas-series-modification.ipynb)\n",
    "\n",
    "---\n",
    "## `Pandas Series Operations`\n",
    "\n",
    "- [Arithmetic operations on Series](#arithmetic-operations-on-series)\n",
    "- [Applying functions on Series](#applying-functions-on-series)\n",
    "- [Cast or convert type of the values in a Series](#cast-or-convert-type-of-the-values-in-a-series)\n",
    "- [Sorting values in Series with indexes, values](#sorting-values-in-series-with-indexes-values)"
   ]
  },
  {
   "cell_type": "code",
   "execution_count": 1,
   "metadata": {},
   "outputs": [],
   "source": [
    "# Importing Pandas\n",
    "\n",
    "import pandas as pd\n",
    "import numpy as np"
   ]
  },
  {
   "cell_type": "code",
   "execution_count": 2,
   "metadata": {},
   "outputs": [
    {
     "name": "stdout",
     "output_type": "stream",
     "text": [
      "0    1.0\n",
      "1    2.0\n",
      "2    3.0\n",
      "3    4.0\n",
      "4    NaN\n",
      "dtype: float64\n"
     ]
    }
   ],
   "source": [
    "# Creating data-set\n",
    "\n",
    "series = pd.Series([1, 2, 3, 4, np.nan])\n",
    "print(series)"
   ]
  },
  {
   "cell_type": "markdown",
   "metadata": {},
   "source": [
    "### `Arithmetic operations on Series`"
   ]
  },
  {
   "cell_type": "code",
   "execution_count": 3,
   "metadata": {},
   "outputs": [
    {
     "name": "stdout",
     "output_type": "stream",
     "text": [
      "After adding 5 to all elements in the series:\n",
      "0    6.0\n",
      "1    7.0\n",
      "2    8.0\n",
      "3    9.0\n",
      "4    NaN\n",
      "dtype: float64\n",
      "\n",
      "After multiplying all elements in the series by 2:\n",
      "0    2.0\n",
      "1    4.0\n",
      "2    6.0\n",
      "3    8.0\n",
      "4    NaN\n",
      "dtype: float64\n",
      "\n",
      "After filling NaN values with default value and then multiplying all elements in the series by 2:\n",
      "0    2.0\n",
      "1    4.0\n",
      "2    6.0\n",
      "3    8.0\n",
      "4    2.0\n",
      "dtype: float64\n"
     ]
    }
   ],
   "source": [
    "# Arithmetic operations on Series\n",
    "\n",
    "# 01 Add 5 to all elements\n",
    "new_series = series + 5\n",
    "print('After adding 5 to all elements in the series:')\n",
    "print(new_series)\n",
    "\n",
    "# 02 Multiply all elements by 2\n",
    "new_series = series.mul(2)\n",
    "print('\\nAfter multiplying all elements in the series by 2:')\n",
    "print(new_series)\n",
    "\n",
    "# 03 First fill NaN values with default value and then multiply all elements\n",
    "new_series = series.mul(2, fill_value=1)\n",
    "print('\\nAfter filling NaN values with default value and then multiplying all elements in the series by 2:')\n",
    "print(new_series)\n"
   ]
  },
  {
   "cell_type": "markdown",
   "metadata": {},
   "source": [
    "### `Applying functions on Series`"
   ]
  },
  {
   "cell_type": "code",
   "execution_count": 4,
   "metadata": {},
   "outputs": [
    {
     "name": "stdout",
     "output_type": "stream",
     "text": [
      "Original series:\n",
      "0    1.0\n",
      "1    2.0\n",
      "2    3.0\n",
      "3    4.0\n",
      "4    NaN\n",
      "dtype: float64\n",
      "\n",
      "After applying custom function:\n",
      "0     7.0\n",
      "1     9.0\n",
      "2    11.0\n",
      "3    13.0\n",
      "4     NaN\n",
      "dtype: float64\n"
     ]
    }
   ],
   "source": [
    "# Applying custom function to Series\n",
    "\n",
    "# Multiply and add\n",
    "def func(x):\n",
    "  return (2*x)+5\n",
    "\n",
    "new_series = series.apply(func)\n",
    "print('Original series:')\n",
    "print(series)\n",
    "print('\\nAfter applying custom function:')\n",
    "print(new_series)"
   ]
  },
  {
   "cell_type": "markdown",
   "metadata": {},
   "source": [
    "### `Cast or convert type of the values in a Series`"
   ]
  },
  {
   "cell_type": "code",
   "execution_count": 5,
   "metadata": {},
   "outputs": [
    {
     "name": "stdout",
     "output_type": "stream",
     "text": [
      "Original Series:\n",
      "0    1.0\n",
      "1    2.0\n",
      "2    3.0\n",
      "3    4.0\n",
      "4    NaN\n",
      "dtype: float64\n",
      "\n",
      "After converting to np.float16\n",
      "0    1.0\n",
      "1    2.0\n",
      "2    3.0\n",
      "3    4.0\n",
      "4    NaN\n",
      "dtype: float16\n",
      "\n",
      "After converting to 'float16'\n",
      "0    1.0\n",
      "1    2.0\n",
      "2    3.0\n",
      "3    4.0\n",
      "4    NaN\n",
      "dtype: float16\n"
     ]
    }
   ],
   "source": [
    "# Convert type of the values\n",
    "\n",
    "print('Original Series:')\n",
    "print(series)\n",
    "\n",
    "# Applying numpy type\n",
    "# Casts all elements in the Series to float16 type\n",
    "new_series = series.astype(np.float16)\n",
    "print('\\nAfter converting to np.float16')\n",
    "print(new_series)\n",
    "\n",
    "# Alternative\n",
    "print('\\nAfter converting to \\'float16\\'')\n",
    "new_series = series.astype('float16')\n",
    "print(new_series)"
   ]
  },
  {
   "cell_type": "markdown",
   "metadata": {},
   "source": [
    "### `Sorting values in Series with indexes, values`"
   ]
  },
  {
   "cell_type": "code",
   "execution_count": 6,
   "metadata": {},
   "outputs": [
    {
     "name": "stdout",
     "output_type": "stream",
     "text": [
      "Original Series:\n",
      "a    3\n",
      "z    2\n",
      "r    4\n",
      "t    1\n",
      "g    5\n",
      "dtype: int64\n"
     ]
    }
   ],
   "source": [
    "# Creating new Series\n",
    "\n",
    "series = pd.Series([3, 2, 4, 1, 5], index=['a', 'z', 'r', 't', 'g'])\n",
    "print('Original Series:')\n",
    "print(series)\n"
   ]
  },
  {
   "cell_type": "code",
   "execution_count": 7,
   "metadata": {},
   "outputs": [
    {
     "name": "stdout",
     "output_type": "stream",
     "text": [
      "\n",
      "After sorting the Series based on index in descending order:\n",
      "z    2\n",
      "t    1\n",
      "r    4\n",
      "g    5\n",
      "a    3\n",
      "dtype: int64\n"
     ]
    }
   ],
   "source": [
    "# Sort Series by index, from greatest to least\n",
    "\n",
    "new_series = series.sort_index(ascending=False)\n",
    "print('\\nAfter sorting the Series based on index in descending order:')\n",
    "print(new_series)\n"
   ]
  },
  {
   "cell_type": "code",
   "execution_count": 8,
   "metadata": {},
   "outputs": [
    {
     "name": "stdout",
     "output_type": "stream",
     "text": [
      "\n",
      "After sorting the Series based on index using quicksort algorithm:\n",
      "a    3\n",
      "g    5\n",
      "r    4\n",
      "t    1\n",
      "z    2\n",
      "dtype: int64\n"
     ]
    }
   ],
   "source": [
    "# Sort Series by index, with quicksort algorithm\n",
    "\n",
    "new_series = series.sort_index(kind='quicksort')\n",
    "print('\\nAfter sorting the Series based on index using quicksort algorithm:')\n",
    "print(new_series)\n"
   ]
  },
  {
   "cell_type": "code",
   "execution_count": 9,
   "metadata": {},
   "outputs": [
    {
     "name": "stdout",
     "output_type": "stream",
     "text": [
      "\n",
      "After sorting Series based on values:\n",
      "t    1\n",
      "z    2\n",
      "a    3\n",
      "r    4\n",
      "g    5\n",
      "dtype: int64\n"
     ]
    }
   ],
   "source": [
    "# Sort Series based on values instead of index labels\n",
    "\n",
    "new_series = series.sort_values()\n",
    "print('\\nAfter sorting Series based on values:')\n",
    "print(new_series)\n"
   ]
  },
  {
   "cell_type": "markdown",
   "metadata": {},
   "source": [
    "\n",
    "---\n",
    "[next]()"
   ]
  }
 ],
 "metadata": {
  "interpreter": {
   "hash": "0b4484ae063bf9ef0d5115063857dd0e382a2c73ed49a11a000ca56af03302b6"
  },
  "kernelspec": {
   "display_name": "Python 3.9.7 ('base')",
   "language": "python",
   "name": "python3"
  },
  "language_info": {
   "codemirror_mode": {
    "name": "ipython",
    "version": 3
   },
   "file_extension": ".py",
   "mimetype": "text/x-python",
   "name": "python",
   "nbconvert_exporter": "python",
   "pygments_lexer": "ipython3",
   "version": "3.9.7"
  },
  "orig_nbformat": 4
 },
 "nbformat": 4,
 "nbformat_minor": 2
}
