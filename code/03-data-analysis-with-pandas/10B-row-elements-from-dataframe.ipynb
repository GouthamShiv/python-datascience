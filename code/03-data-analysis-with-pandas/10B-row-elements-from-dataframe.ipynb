{
 "cells": [
  {
   "cell_type": "markdown",
   "metadata": {},
   "source": [
    "[back](./10A-column-elements-from-dataframe.ipynb)\n",
    "\n",
    "---\n",
    "### `Getting DataFrames elements based on rows`\n"
   ]
  },
  {
   "cell_type": "code",
   "execution_count": 1,
   "metadata": {},
   "outputs": [],
   "source": [
    "# Importing pandas\n",
    "\n",
    "import pandas as pd\n"
   ]
  },
  {
   "cell_type": "code",
   "execution_count": 2,
   "metadata": {},
   "outputs": [
    {
     "name": "stdout",
     "output_type": "stream",
     "text": [
      "      col1  col2  col3\n",
      "row1     1     2     3\n",
      "row2     4     5     6\n",
      "row3     7     8     9\n",
      "--------------------------------------------------------------------------------\n"
     ]
    }
   ],
   "source": [
    "# Creating data-set\n",
    "\n",
    "df = pd.DataFrame({'col1': {'row1': 1, 'row2': 4, 'row3': 7},\n",
    "                  'col2': {'row1': 2, 'row2': 5, 'row3': 8},\n",
    "                   'col3': {'row1': 3, 'row2': 6, 'row3': 9}})\n",
    "\n",
    "\n",
    "def divider():\n",
    "  print('-'*80)\n",
    "\n",
    "\n",
    "def print_df():\n",
    "  print(df)\n",
    "  divider()\n",
    "\n",
    "\n",
    "print_df()\n"
   ]
  },
  {
   "cell_type": "code",
   "execution_count": 3,
   "metadata": {},
   "outputs": [
    {
     "name": "stdout",
     "output_type": "stream",
     "text": [
      "Values from row1, using .loc\n",
      "col1    1\n",
      "col2    2\n",
      "col3    3\n",
      "Name: row1, dtype: int64\n",
      "--------------------------------------------------------------------------------\n",
      "Values from row1, using .iloc\n",
      "col1    1\n",
      "col2    2\n",
      "col3    3\n",
      "Name: row1, dtype: int64\n",
      "--------------------------------------------------------------------------------\n"
     ]
    }
   ],
   "source": [
    "# Get an entire row from a DataFrame\n",
    "\n",
    "# 01 - using .loc\n",
    "# Get rows based on row labels\n",
    "row1 = df.loc['row1']\n",
    "print('Values from row1, using .loc')\n",
    "print(row1)\n",
    "divider()\n",
    "\n",
    "# 02 - using\n",
    "# .iloc fetches based on it's positional index\n",
    "row1 = df.iloc[0]\n",
    "print('Values from row1, using .iloc')\n",
    "print(row1)\n",
    "divider()\n"
   ]
  },
  {
   "cell_type": "markdown",
   "metadata": {},
   "source": [
    "\n",
    "---\n",
    "[next]()"
   ]
  }
 ],
 "metadata": {
  "interpreter": {
   "hash": "0b4484ae063bf9ef0d5115063857dd0e382a2c73ed49a11a000ca56af03302b6"
  },
  "kernelspec": {
   "display_name": "Python 3.9.7 ('base')",
   "language": "python",
   "name": "python3"
  },
  "language_info": {
   "codemirror_mode": {
    "name": "ipython",
    "version": 3
   },
   "file_extension": ".py",
   "mimetype": "text/x-python",
   "name": "python",
   "nbconvert_exporter": "python",
   "pygments_lexer": "ipython3",
   "version": "3.9.7"
  },
  "orig_nbformat": 4
 },
 "nbformat": 4,
 "nbformat_minor": 2
}
