{
 "cells": [
  {
   "cell_type": "markdown",
   "metadata": {},
   "source": [
    "[back](./10B-row-elements-from-dataframe.ipynb)\n",
    "\n",
    "---\n",
    "### `Getting individual elements in a DataFrame`\n"
   ]
  },
  {
   "cell_type": "code",
   "execution_count": 1,
   "metadata": {},
   "outputs": [],
   "source": [
    "# Importing pandas\n",
    "\n",
    "import pandas as pd\n"
   ]
  },
  {
   "cell_type": "code",
   "execution_count": 2,
   "metadata": {},
   "outputs": [
    {
     "name": "stdout",
     "output_type": "stream",
     "text": [
      "      col1  col2  col3\n",
      "row1     1     2     3\n",
      "row2     4     5     6\n",
      "row3     7     8     9\n",
      "--------------------------------------------------------------------------------\n"
     ]
    }
   ],
   "source": [
    "# Creating data-set\n",
    "\n",
    "df = pd.DataFrame({'col1': {'row1': 1, 'row2': 4, 'row3': 7},\n",
    "                  'col2': {'row1': 2, 'row2': 5, 'row3': 8},\n",
    "                   'col3': {'row1': 3, 'row2': 6, 'row3': 9}})\n",
    "\n",
    "\n",
    "def divider():\n",
    "  print('-'*80)\n",
    "\n",
    "\n",
    "def print_df():\n",
    "  print(df)\n",
    "  divider()\n",
    "\n",
    "\n",
    "print_df()\n"
   ]
  },
  {
   "cell_type": "code",
   "execution_count": 3,
   "metadata": {},
   "outputs": [
    {
     "name": "stdout",
     "output_type": "stream",
     "text": [
      "First element of the DataFrame based on column and row labels:\n",
      "1\n",
      "--------------------------------------------------------------------------------\n",
      "Last element of the DataFrame based on column label and row index:\n",
      "9\n",
      "--------------------------------------------------------------------------------\n"
     ]
    }
   ],
   "source": [
    "# Single element\n",
    "\n",
    "# Column and row labels\n",
    "first_ele = df['col1'].loc['row1']\n",
    "print('First element of the DataFrame based on column and row labels:')\n",
    "print(first_ele)\n",
    "divider()\n",
    "\n",
    "# Column label and row index\n",
    "last_ele = df['col3'].iloc[2]\n",
    "print('Last element of the DataFrame based on column label and row index:')\n",
    "print(last_ele)\n",
    "divider()\n",
    "\n"
   ]
  },
  {
   "cell_type": "code",
   "execution_count": 4,
   "metadata": {},
   "outputs": [
    {
     "name": "stdout",
     "output_type": "stream",
     "text": [
      "First element of the DataFrame based on labels, using .loc:\n",
      "1\n"
     ]
    }
   ],
   "source": [
    "# Getting element by just using the .loc function\n",
    "\n",
    "# First value should be row label and then column label\n",
    "first_ele = df.loc['row1', 'col1']\n",
    "print('First element of the DataFrame based on labels, using .loc:')\n",
    "print(first_ele)\n"
   ]
  },
  {
   "cell_type": "code",
   "execution_count": 5,
   "metadata": {},
   "outputs": [
    {
     "name": "stdout",
     "output_type": "stream",
     "text": [
      "Middle element of the DataFrame based on indexes, using .iloc:\n",
      "5\n"
     ]
    }
   ],
   "source": [
    "# Getting element by just using the .iloc function\n",
    "\n",
    "# First value should be row index and then column index\n",
    "middle_ele = df.iloc[1,1]\n",
    "print('Middle element of the DataFrame based on indexes, using .iloc:')\n",
    "print(middle_ele)\n"
   ]
  },
  {
   "cell_type": "markdown",
   "metadata": {},
   "source": [
    "\n",
    "---\n",
    "[next](./10D-slicing-dataframes.ipynb)"
   ]
  }
 ],
 "metadata": {
  "interpreter": {
   "hash": "0b4484ae063bf9ef0d5115063857dd0e382a2c73ed49a11a000ca56af03302b6"
  },
  "kernelspec": {
   "display_name": "Python 3.9.7 ('base')",
   "language": "python",
   "name": "python3"
  },
  "language_info": {
   "codemirror_mode": {
    "name": "ipython",
    "version": 3
   },
   "file_extension": ".py",
   "mimetype": "text/x-python",
   "name": "python",
   "nbconvert_exporter": "python",
   "pygments_lexer": "ipython3",
   "version": "3.9.7"
  },
  "orig_nbformat": 4
 },
 "nbformat": 4,
 "nbformat_minor": 2
}
