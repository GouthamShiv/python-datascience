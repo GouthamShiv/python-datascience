{
 "cells": [
  {
   "cell_type": "markdown",
   "metadata": {},
   "source": [
    "[back](./10-getting-dataframe-elements.ipynb)\n",
    "\n",
    "---\n",
    "### `Getting DataFrames elements based on columns`\n"
   ]
  },
  {
   "cell_type": "code",
   "execution_count": 1,
   "metadata": {},
   "outputs": [],
   "source": [
    "# Importing pandas and numpy\n",
    "\n",
    "import pandas as pd\n",
    "import numpy as np\n"
   ]
  },
  {
   "cell_type": "code",
   "execution_count": 2,
   "metadata": {},
   "outputs": [
    {
     "name": "stdout",
     "output_type": "stream",
     "text": [
      "      col1  col2  col3\n",
      "row1     1     2     3\n",
      "row2     4     5     6\n",
      "row3     7     8     9\n",
      "--------------------------------------------------------------------------------\n"
     ]
    }
   ],
   "source": [
    "# Creating data-set\n",
    "\n",
    "df = pd.DataFrame({'col1': {'row1': 1, 'row2': 4, 'row3': 7},\n",
    "                  'col2': {'row1': 2, 'row2': 5, 'row3': 8},\n",
    "                   'col3': {'row1': 3, 'row2': 6, 'row3': 9}})\n",
    "\n",
    "def divider():\n",
    "  print('-'*80)\n",
    "\n",
    "def print_df():\n",
    "  print(df)\n",
    "  divider()\n",
    "\n",
    "print_df()\n"
   ]
  },
  {
   "cell_type": "code",
   "execution_count": 3,
   "metadata": {},
   "outputs": [
    {
     "name": "stdout",
     "output_type": "stream",
     "text": [
      "Column 1 from the DataFrame\n",
      "row1    1\n",
      "row2    4\n",
      "row3    7\n",
      "Name: col1, dtype: int64\n",
      "--------------------------------------------------------------------------------\n",
      "Type of col1:\n",
      "<class 'pandas.core.series.Series'>\n"
     ]
    }
   ],
   "source": [
    "# Get an entire column from a DataFrame\n",
    "\n",
    "# We can't pass the index as we have column labels assigned\n",
    "col1 = df['col1']\n",
    "print('Column 1 from the DataFrame')\n",
    "print(col1)\n",
    "divider()\n",
    "# Type will be a Pandas Series\n",
    "print('Type of col1:')\n",
    "print(type(col1))"
   ]
  },
  {
   "cell_type": "code",
   "execution_count": 4,
   "metadata": {},
   "outputs": [
    {
     "name": "stdout",
     "output_type": "stream",
     "text": [
      "Column 1 from DataFrame using df.col1:\n",
      "row1    1\n",
      "row2    4\n",
      "row3    7\n",
      "Name: col1, dtype: int64\n",
      "--------------------------------------------------------------------------------\n",
      "Column 1 from DataFrame using df.get('col1'):\n",
      "row1    1\n",
      "row2    4\n",
      "row3    7\n",
      "Name: col1, dtype: int64\n",
      "--------------------------------------------------------------------------------\n",
      "Row 1 from DataFrame using df.get('row1'):\n",
      "None\n"
     ]
    }
   ],
   "source": [
    "# Get an entire column from a DataFrame, using default methods\n",
    "\n",
    "col1 = df.col1\n",
    "print('Column 1 from DataFrame using df.col1:')\n",
    "print(col1)\n",
    "divider()\n",
    "col1 = df.get('col1')\n",
    "print('Column 1 from DataFrame using df.get(\\'col1\\'):')\n",
    "print(col1)\n",
    "\n",
    "# NOTE: above methods will not work for fetching rows\n",
    "divider()\n",
    "col1 = df.get('row1')\n",
    "print('Row 1 from DataFrame using df.get(\\'row1\\'):')\n",
    "print(col1)\n"
   ]
  },
  {
   "cell_type": "markdown",
   "metadata": {},
   "source": [
    "\n",
    "---\n",
    "[next]()"
   ]
  }
 ],
 "metadata": {
  "interpreter": {
   "hash": "0b4484ae063bf9ef0d5115063857dd0e382a2c73ed49a11a000ca56af03302b6"
  },
  "kernelspec": {
   "display_name": "Python 3.9.7 ('base')",
   "language": "python",
   "name": "python3"
  },
  "language_info": {
   "codemirror_mode": {
    "name": "ipython",
    "version": 3
   },
   "file_extension": ".py",
   "mimetype": "text/x-python",
   "name": "python",
   "nbconvert_exporter": "python",
   "pygments_lexer": "ipython3",
   "version": "3.9.7"
  },
  "orig_nbformat": 4
 },
 "nbformat": 4,
 "nbformat_minor": 2
}
