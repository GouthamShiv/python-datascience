{
 "cells": [
  {
   "cell_type": "markdown",
   "metadata": {},
   "source": [
    "[back](./01-intro-to-pandas.ipynb)\n",
    "\n",
    "---\n",
    "\n",
    "## `Installing Pandas library`\n",
    "\n",
    "> To find the package and documentations\n",
    "\n",
    "- Access [Pandas](https://pandas.pydata.org) website for details and documentations\n",
    "\n",
    "> How to install pandas via terminal\n",
    "\n",
    "- Launch and run the below command in terminal _(prefix  `sudo` if required)_\n",
    "\n",
    "  - To **install**\n",
    "\n",
    "    `pip install pandas`\n",
    "  \n",
    "  - To **update**\n",
    "  \n",
    "    `pip install --upgrade pandas`\n",
    "\n",
    "- If using `anaconda`\n",
    "\n",
    "  `conda install pandas`\n",
    "\n",
    "> How to access `Pandas`\n",
    "\n",
    "- Import Pandas library using the below command\n",
    "\n",
    "  ```python\n",
    "  import pandas as pd\n",
    "  ```\n",
    "\n",
    "---\n",
    "[next](./03-pandas-series-with-lists.ipynb)"
   ]
  }
 ],
 "metadata": {
  "interpreter": {
   "hash": "0b4484ae063bf9ef0d5115063857dd0e382a2c73ed49a11a000ca56af03302b6"
  },
  "kernelspec": {
   "display_name": "Python 3.9.7 ('base')",
   "language": "python",
   "name": "python3"
  },
  "language_info": {
   "name": "python",
   "version": "3.9.7"
  },
  "orig_nbformat": 4
 },
 "nbformat": 4,
 "nbformat_minor": 2
}
