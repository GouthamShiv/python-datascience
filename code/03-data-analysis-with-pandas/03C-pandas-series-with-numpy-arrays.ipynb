{
 "cells": [
  {
   "cell_type": "markdown",
   "metadata": {},
   "source": [
    "[back](./03B-pandas-series-with-dictionary.ipynb)\n",
    "\n",
    "---\n",
    "\n",
    "### `Pandas Series - with NumPy arrays`\n",
    "\n",
    "> **NOTE:** `NumPy arrays` can be multidimensional, where as `Pandas Series` are strictly one dimensional"
   ]
  },
  {
   "cell_type": "code",
   "execution_count": 1,
   "metadata": {},
   "outputs": [],
   "source": [
    "# import pandas and numpy\n",
    "\n",
    "import pandas as pd\n",
    "import numpy as np"
   ]
  },
  {
   "cell_type": "code",
   "execution_count": 2,
   "metadata": {},
   "outputs": [
    {
     "name": "stdout",
     "output_type": "stream",
     "text": [
      "0    1\n",
      "1    2\n",
      "2    3\n",
      "dtype: int64\n",
      "[1 2 3]\n",
      "\n",
      "Type of series:  <class 'pandas.core.series.Series'>\n",
      "Type of NumPy series:  <class 'numpy.ndarray'>\n"
     ]
    }
   ],
   "source": [
    "# Pandas series with np array\n",
    "\n",
    "series = pd.Series(np.array([1, 2, 3]))\n",
    "print(series)\n",
    "\n",
    "np_series = series.to_numpy()\n",
    "print(np_series)\n",
    "\n",
    "print('\\nType of series: ', type(series))\n",
    "print('Type of NumPy series: ', type(np_series))\n"
   ]
  },
  {
   "cell_type": "code",
   "execution_count": 3,
   "metadata": {},
   "outputs": [
    {
     "name": "stdout",
     "output_type": "stream",
     "text": [
      "[1 2 3]\n",
      "\n",
      "Type:  <class 'numpy.ndarray'>\n"
     ]
    }
   ],
   "source": [
    "# Alternative way\n",
    "\n",
    "np_series = np.asarray(series)\n",
    "print(np_series)\n",
    "\n",
    "print('\\nType: ', type(np_series))"
   ]
  },
  {
   "cell_type": "markdown",
   "metadata": {},
   "source": [
    "\n",
    "---\n",
    "[next]()"
   ]
  }
 ],
 "metadata": {
  "interpreter": {
   "hash": "0b4484ae063bf9ef0d5115063857dd0e382a2c73ed49a11a000ca56af03302b6"
  },
  "kernelspec": {
   "display_name": "Python 3.9.7 ('base')",
   "language": "python",
   "name": "python3"
  },
  "language_info": {
   "codemirror_mode": {
    "name": "ipython",
    "version": 3
   },
   "file_extension": ".py",
   "mimetype": "text/x-python",
   "name": "python",
   "nbconvert_exporter": "python",
   "pygments_lexer": "ipython3",
   "version": "3.9.7"
  },
  "orig_nbformat": 4
 },
 "nbformat": 4,
 "nbformat_minor": 2
}
