{
 "cells": [
  {
   "cell_type": "markdown",
   "metadata": {},
   "source": [
    "[back](./00-index.ipynb)\n",
    "\n",
    "---\n",
    "## `Intro to Pandas`\n",
    "\n",
    "- [What is Pandas?](#what-is-pandas?)\n",
    "- [Pandas Data Structures](#pandas-data-structures)\n",
    "- [What are some of the applications of Pandas?](#what-are-some-of-the-applications-of-pandas)\n",
    "- [Why learn Pandas?](#why-learn-pandas)"
   ]
  },
  {
   "cell_type": "markdown",
   "metadata": {},
   "source": [
    "### `What is Pandas?`\n",
    "\n",
    "- `Pandas` is a Python library built for data manipulation and analysis\n",
    "- Incorporates a lot of `NumPy` functionality\n",
    "- Written in Python in C\n",
    "- First released in 2008 by Wes McKinney"
   ]
  },
  {
   "cell_type": "markdown",
   "metadata": {},
   "source": [
    "### `Pandas Data Structures`\n",
    "\n",
    "> **Series:**\n",
    "- Act like `1D arrays`\n",
    "- Much more functional than Python lists\n",
    "- Similar to `NumPy arrays`\n",
    "\n",
    "> **DataFrames:**\n",
    "- Act like `2D arrays`\n",
    "- Sort data into **rows and columns**\n",
    "- Can contain multiple data types\n",
    "- Capable of manipulating data by columns or rows"
   ]
  },
  {
   "cell_type": "markdown",
   "metadata": {},
   "source": [
    "### `What are some of the applications of Pandas?`\n",
    "\n",
    "- Any Python program that deals with data analysis and/or data manipulation\n",
    "- Web services\n",
    "- Data Science\n",
    "- Machine Learning\n",
    "- Reading CSVs"
   ]
  },
  {
   "cell_type": "markdown",
   "metadata": {},
   "source": [
    "### `Why learn Pandas`\n",
    "\n",
    "- Pandas `Series` are faster and more powerful versions of lists\n",
    "- `DataFrames` provide a much more powerful way to deal with 2D data\n",
    "- Used in most Python programs that need faster and more functional data handling and manipulation\n",
    "- Makes data analysis much faster and easier\n",
    "- Ties in very well with libraries like `Tensorflow`"
   ]
  },
  {
   "cell_type": "markdown",
   "metadata": {},
   "source": [
    "\n",
    "---\n",
    "[next](./02-installing-pandas.ipynb)"
   ]
  }
 ],
 "metadata": {
  "interpreter": {
   "hash": "0b4484ae063bf9ef0d5115063857dd0e382a2c73ed49a11a000ca56af03302b6"
  },
  "kernelspec": {
   "display_name": "Python 3.9.7 ('base')",
   "language": "python",
   "name": "python3"
  },
  "language_info": {
   "name": "python",
   "version": "3.9.7"
  },
  "orig_nbformat": 4
 },
 "nbformat": 4,
 "nbformat_minor": 2
}
