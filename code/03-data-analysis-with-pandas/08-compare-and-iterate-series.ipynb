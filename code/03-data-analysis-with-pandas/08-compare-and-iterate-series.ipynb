{
 "cells": [
  {
   "attachments": {},
   "cell_type": "markdown",
   "metadata": {},
   "source": [
    "[back](./07-pandas-series-operations.ipynb)\n",
    "\n",
    "---\n",
    "## `Series Comparisons and Iterations`\n",
    "\n",
    "- [Comparing entire Series](#comparing-entire-series)\n",
    "- [Comparing Series elements](#comparing-series-elements)\n",
    "- [Iterating through Series](#iterating-through-series)"
   ]
  },
  {
   "cell_type": "code",
   "execution_count": 1,
   "metadata": {},
   "outputs": [],
   "source": [
    "# Importing pandas and numpy\n",
    "\n",
    "import pandas as pd\n",
    "import numpy as np\n"
   ]
  },
  {
   "cell_type": "code",
   "execution_count": 2,
   "metadata": {},
   "outputs": [
    {
     "name": "stdout",
     "output_type": "stream",
     "text": [
      "Series 1:\n",
      "0    1.0\n",
      "1    2.0\n",
      "2    3.0\n",
      "3    4.0\n",
      "4    5.0\n",
      "5    NaN\n",
      "dtype: float64\n",
      "\n",
      "Series 2:\n",
      "0    5.0\n",
      "1    2.0\n",
      "2    4.0\n",
      "3    NaN\n",
      "4    1.0\n",
      "5    3.0\n",
      "dtype: float64\n"
     ]
    }
   ],
   "source": [
    "# Creating data-set\n",
    "\n",
    "series_1 = pd.Series([1, 2, 3, 4, 5, np.nan])\n",
    "series_2 = pd.Series([5, 2, 4, np.nan, 1, 3])\n",
    "\n",
    "print('Series 1:')\n",
    "print(series_1)\n",
    "print('\\nSeries 2:')\n",
    "print(series_2)"
   ]
  },
  {
   "attachments": {},
   "cell_type": "markdown",
   "metadata": {},
   "source": [
    "### `Comparing entire Series`"
   ]
  },
  {
   "cell_type": "code",
   "execution_count": 3,
   "metadata": {},
   "outputs": [
    {
     "name": "stdout",
     "output_type": "stream",
     "text": [
      "0    False\n",
      "1    False\n",
      "2    False\n",
      "3    False\n",
      "4     True\n",
      "5    False\n",
      "dtype: bool\n"
     ]
    }
   ],
   "source": [
    "# Comparing using comparison operators of Python\n",
    "\n",
    "# Always returns a Pandas Series and data-type is boolean, unless there is some error\n",
    "comp = series_1 > series_2\n",
    "print(comp)"
   ]
  },
  {
   "cell_type": "code",
   "execution_count": 4,
   "metadata": {},
   "outputs": [
    {
     "name": "stdout",
     "output_type": "stream",
     "text": [
      "Result of comparing series_1.eq(series_2):\n",
      "0    False\n",
      "1     True\n",
      "2    False\n",
      "3    False\n",
      "4    False\n",
      "5    False\n",
      "dtype: bool\n"
     ]
    }
   ],
   "source": [
    "# Using inbuilt eq function\n",
    "\n",
    "comp = series_1.eq(series_2)\n",
    "print('Result of comparing series_1.eq(series_2):')\n",
    "print(comp)"
   ]
  },
  {
   "cell_type": "code",
   "execution_count": 5,
   "metadata": {},
   "outputs": [
    {
     "name": "stdout",
     "output_type": "stream",
     "text": [
      "Result of comparing series_1.eq(series_2, fill_value=3):\n",
      "0    False\n",
      "1     True\n",
      "2    False\n",
      "3    False\n",
      "4    False\n",
      "5     True\n",
      "dtype: bool\n"
     ]
    }
   ],
   "source": [
    "# Using inbuilt eq function, and fill NaN values\n",
    "\n",
    "comp = series_1.eq(series_2, fill_value=3)\n",
    "print('Result of comparing series_1.eq(series_2, fill_value=3):')\n",
    "print(comp)\n"
   ]
  },
  {
   "cell_type": "code",
   "execution_count": 6,
   "metadata": {},
   "outputs": [
    {
     "name": "stdout",
     "output_type": "stream",
     "text": [
      "Result of comparing series_1.equals(series_2):\n",
      "False\n",
      "\n",
      "Result of comparing series_2.equals(series_3):\n",
      "True\n"
     ]
    }
   ],
   "source": [
    "# Using Series.equals()\n",
    "# Returns Trues only if all the elements are equal\n",
    "\n",
    "comp = series_1.equals(series_2)\n",
    "print('Result of comparing series_1.equals(series_2):')\n",
    "print(comp)\n",
    "\n",
    "series_3 = pd.Series([5, 2, 4, np.nan, 1, 3])\n",
    "comp = series_2.equals(series_3)\n",
    "print('\\nResult of comparing series_2.equals(series_3):')\n",
    "print(comp)"
   ]
  },
  {
   "attachments": {},
   "cell_type": "markdown",
   "metadata": {},
   "source": [
    "### `Comparing Series elements`"
   ]
  },
  {
   "cell_type": "code",
   "execution_count": 7,
   "metadata": {},
   "outputs": [
    {
     "name": "stdout",
     "output_type": "stream",
     "text": [
      "series_1[0]:  1.0\n",
      "series_2[2]:  4.0\n",
      "\n",
      "Compare if series_1[0] > series_2[2]:\n",
      "False\n"
     ]
    }
   ],
   "source": [
    "# Comparing individual elements by fetching\n",
    "\n",
    "comp = series_1[0] > series_2[4]\n",
    "\n",
    "print('series_1[0]: ', series_1[0])\n",
    "print('series_2[2]: ', series_2[2])\n",
    "\n",
    "print('\\nCompare if series_1[0] > series_2[2]:')\n",
    "print(comp)\n"
   ]
  },
  {
   "cell_type": "code",
   "execution_count": 8,
   "metadata": {},
   "outputs": [
    {
     "name": "stdout",
     "output_type": "stream",
     "text": [
      "Series 1:\n",
      "0    1.0\n",
      "1    2.0\n",
      "2    3.0\n",
      "3    4.0\n",
      "4    5.0\n",
      "5    NaN\n",
      "dtype: float64\n",
      "\n",
      "Comparing series_1 values which are >= 3:\n",
      "0    False\n",
      "1    False\n",
      "2     True\n",
      "3     True\n",
      "4     True\n",
      "5    False\n",
      "dtype: bool\n"
     ]
    }
   ],
   "source": [
    "# Compare entire Series with single value\n",
    "# Comparing series_1 values which are >= 3\n",
    "\n",
    "comp = series_1 >= 3\n",
    "\n",
    "print('Series 1:')\n",
    "print(series_1)\n",
    "\n",
    "print('\\nComparing series_1 values which are >= 3:')\n",
    "print(comp)\n"
   ]
  },
  {
   "attachments": {},
   "cell_type": "markdown",
   "metadata": {},
   "source": [
    "### `Iterating through Series`"
   ]
  },
  {
   "cell_type": "code",
   "execution_count": 9,
   "metadata": {},
   "outputs": [
    {
     "name": "stdout",
     "output_type": "stream",
     "text": [
      "Is 4 in series_1:  True\n"
     ]
    }
   ],
   "source": [
    "# Checking if a value exists in the Series\n",
    "\n",
    "is_in = 4 in series_1\n",
    "print('Is 4 in series_1: ', is_in)"
   ]
  },
  {
   "cell_type": "code",
   "execution_count": 10,
   "metadata": {},
   "outputs": [
    {
     "name": "stdout",
     "output_type": "stream",
     "text": [
      "1.0\n",
      "2.0\n",
      "3.0\n",
      "4.0\n",
      "5.0\n",
      "nan\n"
     ]
    }
   ],
   "source": [
    "# Print only the values in a Series\n",
    "\n",
    "for value in series_1:\n",
    "  print(value)"
   ]
  },
  {
   "cell_type": "code",
   "execution_count": 11,
   "metadata": {},
   "outputs": [
    {
     "name": "stdout",
     "output_type": "stream",
     "text": [
      "0\n",
      "1.0\n",
      "1\n",
      "2.0\n",
      "2\n",
      "3.0\n",
      "3\n",
      "4.0\n",
      "4\n",
      "5.0\n",
      "5\n",
      "nan\n"
     ]
    }
   ],
   "source": [
    "# iterate through the keys and values and print them\n",
    "\n",
    "for key, value in series_1.items():\n",
    "  print(key)\n",
    "  print(value)"
   ]
  },
  {
   "attachments": {},
   "cell_type": "markdown",
   "metadata": {},
   "source": [
    "\n",
    "---\n",
    "[next](./09-pandas-dataframes.ipynb)"
   ]
  }
 ],
 "metadata": {
  "interpreter": {
   "hash": "0b4484ae063bf9ef0d5115063857dd0e382a2c73ed49a11a000ca56af03302b6"
  },
  "kernelspec": {
   "display_name": "Python 3.9.7 ('base')",
   "language": "python",
   "name": "python3"
  },
  "language_info": {
   "codemirror_mode": {
    "name": "ipython",
    "version": 3
   },
   "file_extension": ".py",
   "mimetype": "text/x-python",
   "name": "python",
   "nbconvert_exporter": "python",
   "pygments_lexer": "ipython3",
   "version": "3.9.7"
  },
  "orig_nbformat": 4
 },
 "nbformat": 4,
 "nbformat_minor": 2
}
