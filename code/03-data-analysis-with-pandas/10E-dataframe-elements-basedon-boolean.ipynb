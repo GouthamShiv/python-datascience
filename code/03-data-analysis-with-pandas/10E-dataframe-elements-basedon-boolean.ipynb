{
 "cells": [
  {
   "cell_type": "markdown",
   "metadata": {},
   "source": [
    "[back](./10D-slicing-dataframes.ipynb)\n",
    "\n",
    "---\n",
    "### `Getting DataFrame elements based on boolean`\n"
   ]
  },
  {
   "cell_type": "code",
   "execution_count": 1,
   "metadata": {},
   "outputs": [],
   "source": [
    "# Importing pandas\n",
    "\n",
    "import pandas as pd\n"
   ]
  },
  {
   "cell_type": "code",
   "execution_count": 2,
   "metadata": {},
   "outputs": [
    {
     "name": "stdout",
     "output_type": "stream",
     "text": [
      "      col1  col2  col3\n",
      "row1   1.0   2.0   3.0\n",
      "row2   4.0   NaN   6.0\n",
      "row3   7.0   5.0   NaN\n",
      "row4   NaN   8.0   9.0\n",
      "--------------------------------------------------------------------------------\n"
     ]
    }
   ],
   "source": [
    "# Creating data-set\n",
    "\n",
    "df = pd.DataFrame({'col1': {'row1': 1, 'row2': 4, 'row3': 7},\n",
    "                  'col2': {'row1': 2, 'row3': 5, 'row4': 8},\n",
    "                   'col3': {'row1': 3, 'row2': 6, 'row4': 9}})\n",
    "\n",
    "def divider():\n",
    "  print('-'*80)\n",
    "\n",
    "def print_df():\n",
    "  print(df)\n",
    "  divider()\n",
    "\n",
    "print_df()\n"
   ]
  },
  {
   "cell_type": "code",
   "execution_count": 3,
   "metadata": {},
   "outputs": [
    {
     "name": "stdout",
     "output_type": "stream",
     "text": [
      "Original DataFrame:\n",
      "      col1  col2  col3\n",
      "row1   1.0   2.0   3.0\n",
      "row2   4.0   NaN   6.0\n",
      "row3   7.0   5.0   NaN\n",
      "row4   NaN   8.0   9.0\n",
      "--------------------------------------------------------------------------------\n",
      "DataFrame filtered as col1 > 1:\n",
      "      col1  col2  col3\n",
      "row2   4.0   NaN   6.0\n",
      "row3   7.0   5.0   NaN\n",
      "--------------------------------------------------------------------------------\n"
     ]
    }
   ],
   "source": [
    "# Items from a specific column that is greater than a specific value\n",
    "\n",
    "print('Original DataFrame:')\n",
    "print_df()\n",
    "\n",
    "df_filtered = df[df['col1'] > 1]\n",
    "print('DataFrame filtered as col1 > 1:')\n",
    "print(df_filtered)\n",
    "divider()"
   ]
  },
  {
   "cell_type": "code",
   "execution_count": 4,
   "metadata": {},
   "outputs": [
    {
     "name": "stdout",
     "output_type": "stream",
     "text": [
      "Original DataFrame:\n",
      "      col1  col2  col3\n",
      "row1   1.0   2.0   3.0\n",
      "row2   4.0   NaN   6.0\n",
      "row3   7.0   5.0   NaN\n",
      "row4   NaN   8.0   9.0\n",
      "--------------------------------------------------------------------------------\n",
      "DataFrame filtered as col2 <= 5:\n",
      "      col1  col2  col3\n",
      "row1   1.0   2.0   3.0\n",
      "row3   7.0   5.0   NaN\n",
      "--------------------------------------------------------------------------------\n"
     ]
    }
   ],
   "source": [
    "# DataFrame, filtered where the data in column 2 is less than or equal to 5\n",
    "\n",
    "print('Original DataFrame:')\n",
    "print_df()\n",
    "\n",
    "df_filtered = df[df['col2'] <= 5]\n",
    "print('DataFrame filtered as col2 <= 5:')\n",
    "print(df_filtered)\n",
    "divider()\n",
    "\n",
    "# NOTE: Similar check cannot be applied to ROWS with .loc or .iloc\n"
   ]
  },
  {
   "cell_type": "code",
   "execution_count": 5,
   "metadata": {},
   "outputs": [
    {
     "name": "stdout",
     "output_type": "stream",
     "text": [
      "First two rows of a DataFrame using .head():\n",
      "      col1  col2  col3\n",
      "row1   1.0   2.0   3.0\n",
      "row2   4.0   NaN   6.0\n",
      "--------------------------------------------------------------------------------\n"
     ]
    }
   ],
   "source": [
    "# Functions that help to retrieve first N or last N rows of a DataFrame\n",
    "\n",
    "# Head - First N rows\n",
    "# Returns first 5 by default\n",
    "n_rows = df.head(2)\n",
    "print('First two rows of a DataFrame using .head():')\n",
    "print(n_rows)\n",
    "divider()\n"
   ]
  },
  {
   "cell_type": "code",
   "execution_count": 6,
   "metadata": {},
   "outputs": [
    {
     "name": "stdout",
     "output_type": "stream",
     "text": [
      "Last two rows of a DataFrame using .tail():\n",
      "      col1  col2  col3\n",
      "row3   7.0   5.0   NaN\n",
      "row4   NaN   8.0   9.0\n",
      "--------------------------------------------------------------------------------\n"
     ]
    }
   ],
   "source": [
    "# Tail - Last N rows\n",
    "# Returns last 5 by default\n",
    "n_rows = df.tail(2)\n",
    "print('Last two rows of a DataFrame using .tail():')\n",
    "print(n_rows)\n",
    "divider()\n"
   ]
  },
  {
   "cell_type": "markdown",
   "metadata": {},
   "source": [
    "\n",
    "---\n",
    "[next]()"
   ]
  }
 ],
 "metadata": {
  "interpreter": {
   "hash": "0b4484ae063bf9ef0d5115063857dd0e382a2c73ed49a11a000ca56af03302b6"
  },
  "kernelspec": {
   "display_name": "Python 3.9.7 ('base')",
   "language": "python",
   "name": "python3"
  },
  "language_info": {
   "codemirror_mode": {
    "name": "ipython",
    "version": 3
   },
   "file_extension": ".py",
   "mimetype": "text/x-python",
   "name": "python",
   "nbconvert_exporter": "python",
   "pygments_lexer": "ipython3",
   "version": "3.9.7"
  },
  "orig_nbformat": 4
 },
 "nbformat": 4,
 "nbformat_minor": 2
}
