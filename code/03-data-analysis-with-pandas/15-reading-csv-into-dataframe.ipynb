{
 "cells": [
  {
   "cell_type": "markdown",
   "metadata": {},
   "source": [
    "[back](./14-dataframe-comparisons-and-iterations.ipynb)\n",
    "\n",
    "---\n",
    "## `Reading CSVs`\n",
    "\n",
    "- [Importing CSVs into Google CoLab](#importing-csvs-into-google-colab)\n",
    "- [Importing and read CSV in Jupyter Notebook, locally](#import-and-read-csv-with-pandas)\n",
    "- [Specifying how to format CSV when reading](#format-csv-when-reading)"
   ]
  },
  {
   "cell_type": "markdown",
   "metadata": {},
   "source": [
    "### `Importing CSVs into Google CoLab`"
   ]
  },
  {
   "cell_type": "markdown",
   "metadata": {},
   "source": [
    "To import files in GoogleColab\n",
    "\n",
    "```python\n",
    "import pandas as pd\n",
    "from google.colab import files\n",
    "import io\n",
    "uploaded = files.upload()\n",
    "uploaded = uploaded['file_name.csv'].decode('utf-8')\n",
    "\n",
    "df = pd.read_csv(io.StringIO(uploaded))\n",
    "print(df)\n",
    "```"
   ]
  },
  {
   "cell_type": "markdown",
   "metadata": {},
   "source": [
    "### `Import and read CSV with Pandas`"
   ]
  },
  {
   "cell_type": "code",
   "execution_count": 1,
   "metadata": {},
   "outputs": [
    {
     "name": "stdout",
     "output_type": "stream",
     "text": [
      "   col1  col2  col3\n",
      "0     1     2     3\n",
      "1     4     5     6\n",
      "2     7     8     9\n",
      "3    10    11    12\n",
      "4    13    14    15\n"
     ]
    }
   ],
   "source": [
    "import pandas as pd\n",
    "\n",
    "df = pd.read_csv(r'../../assets/pandasPracticeCSV.csv')\n",
    "print(df)\n"
   ]
  },
  {
   "cell_type": "markdown",
   "metadata": {},
   "source": [
    "### `Format CSV when reading`"
   ]
  },
  {
   "cell_type": "markdown",
   "metadata": {},
   "source": [
    "Some of the parameters that `pd.read_csv()` takes in as it's arguments\n",
    "\n",
    "- `filepath_or_buffer`: Path to the file if available locally / a link to the file\n",
    "- `sep`: This is the separator used in the file, defaults to `,`_`comma`_\n",
    "- `header`: default set to `infer`, meaning it'll pickup the first row of the csv and use it as a label\n",
    "- `names`: can be used to pass the header labels if there isn't one in the CSV\n",
    "- `index_col`: is the row labels, defaults to `None` and index it based on it's position\n",
    "- `skiprows`: it is going to take a list of indexes that we might want to skip, defaults to `None`\n",
    "- `nrows`: defaults to `None` and reads every row of data that it finds, if a value is specified, it'll read that number of rows\n",
    "- `skip_blank_lines`: defaults to `True`, will skip blank line instead of reading it as **NaN**\n",
    "\n",
    "There are many more parameters that the `read_csv()` takes, but the above ones might be the frequently used"
   ]
  },
  {
   "cell_type": "markdown",
   "metadata": {},
   "source": [
    "\n",
    "---\n",
    "[next]()"
   ]
  }
 ],
 "metadata": {
  "interpreter": {
   "hash": "0b4484ae063bf9ef0d5115063857dd0e382a2c73ed49a11a000ca56af03302b6"
  },
  "kernelspec": {
   "display_name": "Python 3.9.7 64-bit ('base': conda)",
   "language": "python",
   "name": "python3"
  },
  "language_info": {
   "codemirror_mode": {
    "name": "ipython",
    "version": 3
   },
   "file_extension": ".py",
   "mimetype": "text/x-python",
   "name": "python",
   "nbconvert_exporter": "python",
   "pygments_lexer": "ipython3",
   "version": "3.9.7"
  },
  "orig_nbformat": 4
 },
 "nbformat": 4,
 "nbformat_minor": 2
}
