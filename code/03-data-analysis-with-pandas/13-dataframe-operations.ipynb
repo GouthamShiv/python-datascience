{
 "cells": [
  {
   "cell_type": "markdown",
   "metadata": {},
   "source": [
    "[back](./12-dataframe-modification.ipynb)\n",
    "\n",
    "---\n",
    "## `DataFrame Operations`\n",
    "\n",
    "These are similar to operations on Pandas Series, but we have multiple columns to handle.\n",
    "\n",
    "- [Arithmetic operations on DataFrames](#arithmetic-operations-on-dataframes)\n",
    "- [Applying functions to DataFrames _(to change values)_](#applying-functions-to-dataframes)\n",
    "- [Transposing DataFrames _(flips rows and columns)_](#transposing-dataframes)\n",
    "- [Converting DataFrames _(to different types)_](#converting-dataframes)\n",
    "- [Sorting DataFrames](#sorting-dataframes)"
   ]
  },
  {
   "cell_type": "markdown",
   "metadata": {},
   "source": [
    "### `Initial Setup`"
   ]
  },
  {
   "cell_type": "code",
   "execution_count": 1,
   "metadata": {},
   "outputs": [],
   "source": [
    "# Importing Pandas\n",
    "\n",
    "import pandas as pd\n",
    "import numpy as np"
   ]
  },
  {
   "cell_type": "code",
   "execution_count": 2,
   "metadata": {},
   "outputs": [
    {
     "name": "stdout",
     "output_type": "stream",
     "text": [
      "Original DataFrame:\n",
      "      col1  col2  col3\n",
      "row1   1.0   4.0  10.0\n",
      "row2   1.0   NaN   8.0\n",
      "row3   3.0   9.0   NaN\n",
      "row4   NaN   6.0   6.0\n",
      "--------------------------------------------------------------------------------\n"
     ]
    }
   ],
   "source": [
    "# Data set-up\n",
    "\n",
    "df = pd.DataFrame({\n",
    "  'col1': {'row1':1, 'row2':1, 'row3':3},\n",
    "  'col2': {'row1':4, 'row3':9, 'row4':6},\n",
    "  'col3': {'row1':10, 'row2':8, 'row4':6}\n",
    "  })\n",
    "\n",
    "def reset_df():\n",
    "  global df\n",
    "  df = pd.DataFrame({\n",
    "      'col1': {'row1': 1, 'row2': 1, 'row3': 3},\n",
    "      'col2': {'row1': 4, 'row3': 9, 'row4': 6},\n",
    "      'col3': {'row1': 10, 'row2': 8, 'row4': 6}\n",
    "  })\n",
    "  print_df()\n",
    "\n",
    "\n",
    "def print_df():\n",
    "  print('Original DataFrame:')\n",
    "  print(df)\n",
    "  divider()\n",
    "\n",
    "def divider():\n",
    "  print('-'*80)\n",
    "\n",
    "print_df()\n"
   ]
  },
  {
   "cell_type": "markdown",
   "metadata": {},
   "source": [
    "\n",
    "---\n",
    "\n",
    "### `Arithmetic operations on DataFrames`\n",
    "\n",
    "- Simple arithmetic operators like `+`, `-`, `*`, `/`, `**`, `//`, `%`, `^` can be used\n",
    "- Or we can use the functions that are inherited with Pandas"
   ]
  },
  {
   "cell_type": "code",
   "execution_count": 3,
   "metadata": {},
   "outputs": [
    {
     "name": "stdout",
     "output_type": "stream",
     "text": [
      "Original DataFrame:\n",
      "      col1  col2  col3\n",
      "row1   1.0   4.0  10.0\n",
      "row2   1.0   NaN   8.0\n",
      "row3   3.0   9.0   NaN\n",
      "row4   NaN   6.0   6.0\n",
      "--------------------------------------------------------------------------------\n",
      "Add 5 to DataFrame:\n",
      "      col1  col2  col3\n",
      "row1   6.0   9.0  15.0\n",
      "row2   6.0   NaN  13.0\n",
      "row3   8.0  14.0   NaN\n",
      "row4   NaN  11.0  11.0\n",
      "--------------------------------------------------------------------------------\n"
     ]
    }
   ],
   "source": [
    "print_df()\n",
    "# Simple operators\n",
    "# This and almost all of the operators will return a new DataFrame, instead of modifying the original one\n",
    "print('Add 5 to DataFrame:')\n",
    "print(df + 5)\n",
    "divider()"
   ]
  },
  {
   "cell_type": "code",
   "execution_count": 4,
   "metadata": {},
   "outputs": [
    {
     "name": "stdout",
     "output_type": "stream",
     "text": [
      "Original DataFrame:\n",
      "      col1  col2  col3\n",
      "row1   1.0   4.0  10.0\n",
      "row2   1.0   NaN   8.0\n",
      "row3   3.0   9.0   NaN\n",
      "row4   NaN   6.0   6.0\n",
      "--------------------------------------------------------------------------------\n",
      "Square all the values in the DataFrame:\n",
      "      col1  col2   col3\n",
      "row1   1.0  16.0  100.0\n",
      "row2   1.0   NaN   64.0\n",
      "row3   9.0  81.0    NaN\n",
      "row4   NaN  36.0   36.0\n",
      "--------------------------------------------------------------------------------\n"
     ]
    }
   ],
   "source": [
    "print_df()\n",
    "# Simple operators\n",
    "# This and almost all of the operators will return a new DataFrame, instead of modifying the original one\n",
    "print('Square all the values in the DataFrame:')\n",
    "print(df ** 2)\n",
    "divider()\n"
   ]
  },
  {
   "cell_type": "code",
   "execution_count": 5,
   "metadata": {},
   "outputs": [
    {
     "name": "stdout",
     "output_type": "stream",
     "text": [
      "Original DataFrame:\n",
      "      col1  col2  col3\n",
      "row1   1.0   4.0  10.0\n",
      "row2   1.0   NaN   8.0\n",
      "row3   3.0   9.0   NaN\n",
      "row4   NaN   6.0   6.0\n",
      "--------------------------------------------------------------------------------\n",
      "Convert all NaN to 0 and then add 5 to DataFrame:\n",
      "      col1  col2  col3\n",
      "row1   6.0   9.0  15.0\n",
      "row2   6.0   5.0  13.0\n",
      "row3   8.0  14.0   5.0\n",
      "row4   5.0  11.0  11.0\n"
     ]
    }
   ],
   "source": [
    "print_df()\n",
    "\n",
    "# Another alternative and better way to do it is using the inbuilt functions\n",
    "print('Convert all NaN to 0 and then add 5 to DataFrame:')\n",
    "# Can pass in axis (column labels to specify which specific columns should be operated on)\n",
    "# Also can use fill_value to override NaN\n",
    "\n",
    "# Covert All the NaN to 0 and then add 5\n",
    "print(df.add(5, fill_value=0))"
   ]
  },
  {
   "cell_type": "markdown",
   "metadata": {},
   "source": [
    "### `Applying functions to DataFrames`"
   ]
  },
  {
   "cell_type": "code",
   "execution_count": 6,
   "metadata": {},
   "outputs": [
    {
     "name": "stdout",
     "output_type": "stream",
     "text": [
      "Original DataFrame:\n",
      "      col1  col2  col3\n",
      "row1   1.0   4.0  10.0\n",
      "row2   1.0   NaN   8.0\n",
      "row3   3.0   9.0   NaN\n",
      "row4   NaN   6.0   6.0\n",
      "--------------------------------------------------------------------------------\n",
      "      col1  col2  col3\n",
      "row1   7.0  13.0  25.0\n",
      "row2   7.0   NaN  21.0\n",
      "row3  11.0  23.0   NaN\n",
      "row4   NaN  17.0  17.0\n"
     ]
    }
   ],
   "source": [
    "print_df()\n",
    "\n",
    "# Custom function\n",
    "def func(x):\n",
    "  return (2*x) + 5\n",
    "\n",
    "# Applying custom function to DataFrame\n",
    "print(df.apply(func))"
   ]
  },
  {
   "cell_type": "markdown",
   "metadata": {},
   "source": [
    "\n",
    "---\n",
    "We can also use the `transform` function, but this function is better suited to built in functions which are part of the NumPy or the Pandas libraries specifically.\n",
    "\n",
    "There is no real noticeable benefits if we are going to apply a `custom function` v/s using the `transform function`"
   ]
  },
  {
   "cell_type": "code",
   "execution_count": 7,
   "metadata": {},
   "outputs": [
    {
     "name": "stdout",
     "output_type": "stream",
     "text": [
      "Original DataFrame:\n",
      "      col1  col2  col3\n",
      "row1   1.0   4.0  10.0\n",
      "row2   1.0   NaN   8.0\n",
      "row3   3.0   9.0   NaN\n",
      "row4   NaN   6.0   6.0\n",
      "--------------------------------------------------------------------------------\n",
      "Transform DataFrame with numpy square function:\n",
      "      col1  col2   col3\n",
      "row1   1.0  16.0  100.0\n",
      "row2   1.0   NaN   64.0\n",
      "row3   9.0  81.0    NaN\n",
      "row4   NaN  36.0   36.0\n"
     ]
    }
   ],
   "source": [
    "print_df()\n",
    "\n",
    "# Transform function\n",
    "\n",
    "print('Transform DataFrame with numpy square function:')\n",
    "print(df.transform(np.square))\n"
   ]
  },
  {
   "cell_type": "code",
   "execution_count": 8,
   "metadata": {},
   "outputs": [
    {
     "name": "stdout",
     "output_type": "stream",
     "text": [
      "Original DataFrame:\n",
      "      col1  col2  col3\n",
      "row1   1.0   4.0  10.0\n",
      "row2   1.0   NaN   8.0\n",
      "row3   3.0   9.0   NaN\n",
      "row4   NaN   6.0   6.0\n",
      "--------------------------------------------------------------------------------\n",
      "Transform DataFrame with custom function:\n",
      "      col1  col2  col3\n",
      "row1   7.0  13.0  25.0\n",
      "row2   7.0   NaN  21.0\n",
      "row3  11.0  23.0   NaN\n",
      "row4   NaN  17.0  17.0\n"
     ]
    }
   ],
   "source": [
    "print_df()\n",
    "\n",
    "# Custom function\n",
    "\n",
    "\n",
    "def func(x):\n",
    "  return (2*x) + 5\n",
    "\n",
    "# Transform function\n",
    "\n",
    "print('Transform DataFrame with custom function:')\n",
    "print(df.transform(func))\n"
   ]
  },
  {
   "cell_type": "code",
   "execution_count": 9,
   "metadata": {},
   "outputs": [
    {
     "name": "stdout",
     "output_type": "stream",
     "text": [
      "Original DataFrame:\n",
      "      col1  col2  col3\n",
      "row1   1.0   4.0  10.0\n",
      "row2   1.0   NaN   8.0\n",
      "row3   3.0   9.0   NaN\n",
      "row4   NaN   6.0   6.0\n",
      "--------------------------------------------------------------------------------\n",
      "Transform DataFrame using string function name:\n",
      "      col1  col2   col3\n",
      "row1   1.0  16.0  100.0\n",
      "row2   1.0   NaN   64.0\n",
      "row3   9.0  81.0    NaN\n",
      "row4   NaN  36.0   36.0\n"
     ]
    }
   ],
   "source": [
    "print_df()\n",
    "\n",
    "# We can also pass functions as string\n",
    "print('Transform DataFrame using string function name:')\n",
    "print(df.transform('square'))"
   ]
  },
  {
   "cell_type": "code",
   "execution_count": 10,
   "metadata": {},
   "outputs": [
    {
     "name": "stdout",
     "output_type": "stream",
     "text": [
      "Original DataFrame:\n",
      "      col1  col2  col3\n",
      "row1   1.0   4.0  10.0\n",
      "row2   1.0   NaN   8.0\n",
      "row3   3.0   9.0   NaN\n",
      "row4   NaN   6.0   6.0\n",
      "--------------------------------------------------------------------------------\n",
      "Square the values in a DataFrame using lambda function:\n",
      "      col1  col2   col3\n",
      "row1   1.0  16.0  100.0\n",
      "row2   1.0   NaN   64.0\n",
      "row3   9.0  81.0    NaN\n",
      "row4   NaN  36.0   36.0\n"
     ]
    }
   ],
   "source": [
    "print_df()\n",
    "\n",
    "# Alternatively, we can pass in a lambda function to transform function\n",
    "print('Square the values in a DataFrame using lambda function:')\n",
    "print(df.transform(lambda x: x**2))"
   ]
  },
  {
   "cell_type": "markdown",
   "metadata": {},
   "source": [
    "---\n",
    "\n",
    "The main advantage of using `transform` is because we can apply multiple functions simultaneously"
   ]
  },
  {
   "cell_type": "code",
   "execution_count": 11,
   "metadata": {},
   "outputs": [
    {
     "name": "stdout",
     "output_type": "stream",
     "text": [
      "Original DataFrame:\n",
      "      col1  col2  col3\n",
      "row1   1.0   4.0  10.0\n",
      "row2   1.0   NaN   8.0\n",
      "row3   3.0   9.0   NaN\n",
      "row4   NaN   6.0   6.0\n",
      "--------------------------------------------------------------------------------\n",
      "Perform square and log the values in a DataFrame:\n",
      "       col1             col2             col3          \n",
      "     square       log square       log square       log\n",
      "row1    1.0  0.000000   16.0  1.386294  100.0  2.302585\n",
      "row2    1.0  0.000000    NaN       NaN   64.0  2.079442\n",
      "row3    9.0  1.098612   81.0  2.197225    NaN       NaN\n",
      "row4    NaN       NaN   36.0  1.791759   36.0  1.791759\n"
     ]
    }
   ],
   "source": [
    "print_df()\n",
    "\n",
    "# Example where we wanted to square everything and then we wanted to take the log of everything\n",
    "print('Perform square and log the values in a DataFrame:')\n",
    "print(df.transform([np.square, np.log]))"
   ]
  },
  {
   "cell_type": "markdown",
   "metadata": {},
   "source": [
    "We see with the above result that, the is a sub-column created for holding the result of both the operations performed using the `transform` function\n",
    "\n",
    "The `transform` function did not perform the square and then do a log on the squared values,<br>\n",
    "instead this these operations individually and created new sub-columns for each operations applied\n",
    "\n",
    "---"
   ]
  },
  {
   "cell_type": "markdown",
   "metadata": {},
   "source": [
    "We can apply the `transform` function to specific columns using a dictionary "
   ]
  },
  {
   "cell_type": "code",
   "execution_count": 12,
   "metadata": {},
   "outputs": [
    {
     "name": "stdout",
     "output_type": "stream",
     "text": [
      "Original DataFrame:\n",
      "      col1  col2  col3\n",
      "row1   1.0   4.0  10.0\n",
      "row2   1.0   NaN   8.0\n",
      "row3   3.0   9.0   NaN\n",
      "row4   NaN   6.0   6.0\n",
      "--------------------------------------------------------------------------------\n",
      "      col1      col2\n",
      "row1   1.0  1.386294\n",
      "row2   1.0       NaN\n",
      "row3   9.0  2.197225\n",
      "row4   NaN  1.791759\n"
     ]
    }
   ],
   "source": [
    "print_df()\n",
    "\n",
    "# Applying transform function to specific column\n",
    "print(df.transform({'col1': np.square, 'col2': np.log}))"
   ]
  },
  {
   "cell_type": "markdown",
   "metadata": {},
   "source": [
    "### `Transposing DataFrames`"
   ]
  },
  {
   "cell_type": "code",
   "execution_count": 13,
   "metadata": {},
   "outputs": [
    {
     "name": "stdout",
     "output_type": "stream",
     "text": [
      "Original DataFrame:\n",
      "      col1  col2  col3\n",
      "row1   1.0   4.0  10.0\n",
      "row2   1.0   NaN   8.0\n",
      "row3   3.0   9.0   NaN\n",
      "row4   NaN   6.0   6.0\n",
      "--------------------------------------------------------------------------------\n",
      "DataFrame Transposed:\n",
      "      row1  row2  row3  row4\n",
      "col1   1.0   1.0   3.0   NaN\n",
      "col2   4.0   NaN   9.0   6.0\n",
      "col3  10.0   8.0   NaN   6.0\n"
     ]
    }
   ],
   "source": [
    "print_df()\n",
    "\n",
    "# Transpose the DataFrame\n",
    "print('DataFrame Transposed:')\n",
    "print(df.transpose())"
   ]
  },
  {
   "cell_type": "markdown",
   "metadata": {},
   "source": [
    "#### `Converting DataFrames`"
   ]
  },
  {
   "cell_type": "code",
   "execution_count": 14,
   "metadata": {},
   "outputs": [
    {
     "name": "stdout",
     "output_type": "stream",
     "text": [
      "Original DataFrame:\n",
      "      col1  col2  col3\n",
      "row1   1.0   4.0  10.0\n",
      "row2   1.0   NaN   8.0\n",
      "row3   3.0   9.0   NaN\n",
      "row4   NaN   6.0   6.0\n",
      "--------------------------------------------------------------------------------\n",
      "Covert DataFrame elements to objects:\n",
      "     col1 col2  col3\n",
      "row1  1.0  4.0  10.0\n",
      "row2  1.0  NaN   8.0\n",
      "row3  3.0  9.0   NaN\n",
      "row4  NaN  6.0   6.0\n"
     ]
    }
   ],
   "source": [
    "print_df()\n",
    "\n",
    "# This is similar to Series\n",
    "print('Covert DataFrame elements to objects:')\n",
    "print(df.astype('object'))"
   ]
  },
  {
   "cell_type": "code",
   "execution_count": 15,
   "metadata": {},
   "outputs": [
    {
     "name": "stdout",
     "output_type": "stream",
     "text": [
      "Original DataFrame:\n",
      "      col1  col2  col3\n",
      "row1   1.0   4.0  10.0\n",
      "row2   1.0   NaN   8.0\n",
      "row3   3.0   9.0   NaN\n",
      "row4   NaN   6.0   6.0\n",
      "--------------------------------------------------------------------------------\n",
      "Covert DataFrame elements to np.float16:\n",
      "      col1  col2  col3\n",
      "row1   1.0   4.0  10.0\n",
      "row2   1.0   NaN   8.0\n",
      "row3   3.0   9.0   NaN\n",
      "row4   NaN   6.0   6.0\n"
     ]
    }
   ],
   "source": [
    "print_df()\n",
    "\n",
    "# This is similar to Series\n",
    "print('Covert DataFrame elements to np.float16:')\n",
    "print(df.astype(np.float16))\n"
   ]
  },
  {
   "cell_type": "markdown",
   "metadata": {},
   "source": [
    "#### `Sorting DataFrames`\n",
    "\n",
    "We can sort by index or by values"
   ]
  },
  {
   "cell_type": "markdown",
   "metadata": {},
   "source": [
    "##### `01 - By index`\n",
    "\n",
    "> axis : {0 or 'index', 1 or 'columns'}, default 0\n",
    ">\n",
    ">    The axis along which to sort. The value 0 identifies the rows, and 1 identifies the columns.\n",
    ">\n",
    "> ascending : bool or list-like of bools, default True\n",
    ">\n",
    ">    Sort ascending vs. descending. When the index is a MultiIndex the sort direction can be controlled for each level individually."
   ]
  },
  {
   "cell_type": "code",
   "execution_count": 16,
   "metadata": {},
   "outputs": [
    {
     "name": "stdout",
     "output_type": "stream",
     "text": [
      "Original DataFrame:\n",
      "      col2  col3  col1\n",
      "row1   1.0   4.0  10.0\n",
      "row2   1.0   NaN   8.0\n",
      "row3   3.0   9.0   NaN\n",
      "row4   NaN   6.0   6.0\n",
      "--------------------------------------------------------------------------------\n",
      "Sort by rows:\n",
      "      col2  col3  col1\n",
      "row4   NaN   6.0   6.0\n",
      "row3   3.0   9.0   NaN\n",
      "row2   1.0   NaN   8.0\n",
      "row1   1.0   4.0  10.0\n",
      "Sort by columns:\n",
      "      col1  col2  col3\n",
      "row1  10.0   1.0   4.0\n",
      "row2   8.0   1.0   NaN\n",
      "row3   NaN   3.0   9.0\n",
      "row4   6.0   NaN   6.0\n"
     ]
    }
   ],
   "source": [
    "new_df = pd.DataFrame({\n",
    "    'col2': {'row1': 1, 'row2': 1, 'row3': 3},\n",
    "    'col3': {'row1': 4, 'row3': 9, 'row4': 6},\n",
    "    'col1': {'row1': 10, 'row2': 8, 'row4': 6}\n",
    "})\n",
    "\n",
    "print('Original DataFrame:')\n",
    "print(new_df)\n",
    "divider()\n",
    "\n",
    "print('Sort by rows:')\n",
    "print(new_df.sort_index(axis=0, ascending=False))\n",
    "\n",
    "print('Sort by columns:')\n",
    "print(new_df.sort_index(axis=1, ascending=True))\n"
   ]
  },
  {
   "cell_type": "markdown",
   "metadata": {},
   "source": [
    "##### `02 - By values`\n",
    "\n",
    "This works a bit differently, as we need to specify how we need to sort things\n",
    "\n",
    "The reason we need to do this is that different rows and columns might have largest and smallest values in completely different indexes\n",
    "\n",
    ">         by : str or list of str\n",
    ">            Name or list of names to sort by.\n",
    ">\n",
    ">  - if `axis` is 0 or `'index'` then `by` may contain index\n",
    ">\n",
    "> levels and/or column labels. - if `axis` is 1 or `'columns'` then `by` may contain column levels and/or index labels. axis : {0 or 'index', 1 or 'columns'}, default 0 Axis to be sorted. ascending : bool or list of bool, default True Sort ascending vs. descending. Specify list for multiple sort orders. If this is a list of bools, must match the length of the by. inplace : bool, default False If True, perform operation in-place. kind : {'quicksort', 'mergesort', 'heapsort', 'stable'}, default 'quicksort' Choice of sorting algorithm. See also `numpy.sort` for more information. `mergesort` and `stable` are the only stable algorithms. For DataFrames, this option is only applied when sorting on a single column or label. na_position : {'first', 'last'}, default 'last' Puts NaNs at the beginning if `first`; `last` puts NaNs at the end. ignore_index : bool, default False If True, the resulting axis will be labeled 0, 1, …, n - 1.\n",
    ">\n",
    "> key : callable, optional\n",
    ">    Apply the key function to the values before sorting. This is similar to the `key` argument in the builtin `sorted` function, with the notable difference that this `key` function should be *vectorized*. It should expect a `Series` and return a Series with the same shape as the input. It will be applied to each column in `by` independently.\n"
   ]
  },
  {
   "cell_type": "code",
   "execution_count": 17,
   "metadata": {},
   "outputs": [
    {
     "name": "stdout",
     "output_type": "stream",
     "text": [
      "Original DataFrame:\n",
      "      col2  col3  col1\n",
      "row1   1.0   4.0  10.0\n",
      "row2   1.0   NaN   8.0\n",
      "row3   3.0   9.0   NaN\n",
      "row4   NaN   6.0   6.0\n",
      "--------------------------------------------------------------------------------\n",
      "Sort DataFrame using column values:\n",
      "      col2  col3  col1\n",
      "row3   3.0   9.0   NaN\n",
      "row4   NaN   6.0   6.0\n",
      "row1   1.0   4.0  10.0\n",
      "row2   1.0   NaN   8.0\n",
      "--------------------------------------------------------------------------------\n",
      "Sort DataFrame using row values:\n",
      "      col2  col1  col3\n",
      "row1   1.0  10.0   4.0\n",
      "row2   1.0   8.0   NaN\n",
      "row3   3.0   NaN   9.0\n",
      "row4   NaN   6.0   6.0\n"
     ]
    }
   ],
   "source": [
    "new_df = pd.DataFrame({\n",
    "    'col2': {'row1': 1, 'row2': 1, 'row3': 3},\n",
    "    'col3': {'row1': 4, 'row3': 9, 'row4': 6},\n",
    "    'col1': {'row1': 10, 'row2': 8, 'row4': 6}\n",
    "})\n",
    "\n",
    "print('Original DataFrame:')\n",
    "print(new_df)\n",
    "divider()\n",
    "\n",
    "\n",
    "print('Sort DataFrame using column values:')\n",
    "# Sorting by columns, and by axis 0\n",
    "print(new_df.sort_values('col3', axis=0, ascending=False))\n",
    "divider()\n",
    "\n",
    "print('Sort DataFrame using row values:')\n",
    "# Sorting by row, and by axis 1\n",
    "# This will not shuffle the rows, but the column based on the row label\n",
    "print(new_df.sort_values('row2', axis=1, ascending=True))"
   ]
  },
  {
   "cell_type": "markdown",
   "metadata": {},
   "source": [
    "\n",
    "---\n",
    "[next]()"
   ]
  }
 ],
 "metadata": {
  "interpreter": {
   "hash": "0b4484ae063bf9ef0d5115063857dd0e382a2c73ed49a11a000ca56af03302b6"
  },
  "kernelspec": {
   "display_name": "Python 3.9.7 64-bit ('base': conda)",
   "language": "python",
   "name": "python3"
  },
  "language_info": {
   "codemirror_mode": {
    "name": "ipython",
    "version": 3
   },
   "file_extension": ".py",
   "mimetype": "text/x-python",
   "name": "python",
   "nbconvert_exporter": "python",
   "pygments_lexer": "ipython3",
   "version": "3.9.7"
  },
  "orig_nbformat": 4
 },
 "nbformat": 4,
 "nbformat_minor": 2
}
