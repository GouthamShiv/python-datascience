{
 "cells": [
  {
   "cell_type": "markdown",
   "metadata": {},
   "source": [
    "[back](./10E-dataframe-elements-basedon-boolean.ipynb)\n",
    "\n",
    "---\n",
    "## `Properties of a DataFrame`\n",
    "\n",
    "- [Getting numerical properties such as min, max, count, etc](#numerical-properties-of-dataframe)\n",
    "- [Getting indexes of max, min](#getting-max-and-min)\n",
    "- [Mode, Mean, Median](#mode-mean-and-median)\n",
    "- [Getting distribution of values](#distributions-of-dataframe)\n",
    "- [Indexes of Max and Min values](#max-index-min-index)\n",
    "- [Indexes of a DataFrame](#dataframe-indexes)\n",
    "- [DataTypes in a DataFrame](#dataframe-dtypes)\n",
    "- [Histogram of a DataFrame](#dataframe-histograms)"
   ]
  },
  {
   "cell_type": "code",
   "execution_count": 1,
   "metadata": {},
   "outputs": [],
   "source": [
    "# Importing pandas\n",
    "\n",
    "import pandas as pd\n"
   ]
  },
  {
   "cell_type": "code",
   "execution_count": 2,
   "metadata": {},
   "outputs": [
    {
     "name": "stdout",
     "output_type": "stream",
     "text": [
      "Original DataFrame:\n",
      "      col1  col2  col3\n",
      "row1   1.0   2.0   3.0\n",
      "row2   4.0   NaN   6.0\n",
      "row3   7.0   5.0   NaN\n",
      "row4   NaN   8.0   9.0\n",
      "--------------------------------------------------------------------------------\n"
     ]
    }
   ],
   "source": [
    "# Creating data-set\n",
    "\n",
    "df = pd.DataFrame({'col1': {'row1': 1, 'row2': 4, 'row3': 7},\n",
    "                  'col2': {'row1': 2, 'row3': 5, 'row4': 8},\n",
    "                   'col3': {'row1': 3, 'row2': 6, 'row4': 9}})\n",
    "\n",
    "\n",
    "def divider():\n",
    "  print('-'*80)\n",
    "\n",
    "\n",
    "def print_df():\n",
    "  print('Original DataFrame:')\n",
    "  print(df)\n",
    "  divider()\n",
    "\n",
    "\n",
    "print_df()\n"
   ]
  },
  {
   "cell_type": "markdown",
   "metadata": {},
   "source": [
    "### `Numerical Properties of DataFrame`"
   ]
  },
  {
   "cell_type": "code",
   "execution_count": 3,
   "metadata": {},
   "outputs": [
    {
     "name": "stdout",
     "output_type": "stream",
     "text": [
      "Original DataFrame:\n",
      "      col1  col2  col3\n",
      "row1   1.0   2.0   3.0\n",
      "row2   4.0   NaN   6.0\n",
      "row3   7.0   5.0   NaN\n",
      "row4   NaN   8.0   9.0\n",
      "--------------------------------------------------------------------------------\n",
      "Count - column wise, excludes NaN values:\n",
      "col1    3\n",
      "col2    3\n",
      "col3    3\n",
      "dtype: int64\n",
      "--------------------------------------------------------------------------------\n",
      "Count - row wise, excludes NaN values:\n",
      "row1    3\n",
      "row2    2\n",
      "row3    2\n",
      "row4    2\n",
      "dtype: int64\n",
      "--------------------------------------------------------------------------------\n"
     ]
    }
   ],
   "source": [
    "# Numerical Properties\n",
    "\n",
    "print_df()\n",
    "\n",
    "# Count - Column wise by default\n",
    "print('Count - column wise, excludes NaN values:')\n",
    "print(df.count())\n",
    "divider()\n",
    "\n",
    "# Count - update for row wise\n",
    "# axis : {0 or 'index', 1 or 'columns'}, default 0\n",
    "# If 0 or 'index' counts are generated for each column. If 1 or 'columns' counts are generated for each row.\n",
    "print('Count - row wise, excludes NaN values:')\n",
    "print(df.count(axis=1))\n",
    "divider()\n"
   ]
  },
  {
   "cell_type": "markdown",
   "metadata": {},
   "source": [
    "### `Getting Max and Min`"
   ]
  },
  {
   "cell_type": "code",
   "execution_count": 4,
   "metadata": {},
   "outputs": [
    {
     "name": "stdout",
     "output_type": "stream",
     "text": [
      "Original DataFrame:\n",
      "      col1  col2  col3\n",
      "row1   1.0   2.0   3.0\n",
      "row2   4.0   NaN   6.0\n",
      "row3   7.0   5.0   NaN\n",
      "row4   NaN   8.0   9.0\n",
      "--------------------------------------------------------------------------------\n",
      "Max:\n",
      "col1    7.0\n",
      "col2    8.0\n",
      "col3    9.0\n",
      "dtype: float64\n",
      "--------------------------------------------------------------------------------\n",
      "Min:\n",
      "col1    1.0\n",
      "col2    2.0\n",
      "col3    3.0\n",
      "dtype: float64\n",
      "--------------------------------------------------------------------------------\n"
     ]
    }
   ],
   "source": [
    "print_df()\n",
    "\n",
    "# Axis works for these as well\n",
    "# Max\n",
    "print('Max:')\n",
    "print(df.max())\n",
    "divider()\n",
    "\n",
    "# Min\n",
    "print('Min:')\n",
    "print(df.min())\n",
    "divider()"
   ]
  },
  {
   "cell_type": "markdown",
   "metadata": {},
   "source": [
    "### `Mode, Mean and Median`"
   ]
  },
  {
   "cell_type": "code",
   "execution_count": 5,
   "metadata": {},
   "outputs": [
    {
     "name": "stdout",
     "output_type": "stream",
     "text": [
      "Mode:\n",
      "   col1  col2  col3\n",
      "0   1.0   2.0   3.0\n",
      "1   4.0   5.0   6.0\n",
      "2   7.0   8.0   9.0\n",
      "--------------------------------------------------------------------------------\n",
      "Mean:\n",
      "col1    4.0\n",
      "col2    5.0\n",
      "col3    6.0\n",
      "dtype: float64\n",
      "--------------------------------------------------------------------------------\n",
      "Median:\n",
      "col1    4.0\n",
      "col2    5.0\n",
      "col3    6.0\n",
      "dtype: float64\n",
      "--------------------------------------------------------------------------------\n"
     ]
    }
   ],
   "source": [
    "# Axis works for these as well\n",
    "\n",
    "# Mode\n",
    "print('Mode:')\n",
    "print(df.mode())\n",
    "divider()\n",
    "\n",
    "# Mean\n",
    "print('Mean:')\n",
    "print(df.mean())\n",
    "divider()\n",
    "\n",
    "# Median\n",
    "print('Median:')\n",
    "print(df.median())\n",
    "divider()\n"
   ]
  },
  {
   "cell_type": "markdown",
   "metadata": {},
   "source": [
    "### `Distributions of DataFrame`"
   ]
  },
  {
   "cell_type": "code",
   "execution_count": 6,
   "metadata": {},
   "outputs": [
    {
     "name": "stdout",
     "output_type": "stream",
     "text": [
      "Original DataFrame:\n",
      "      col1  col2  col3\n",
      "row1   1.0   2.0   3.0\n",
      "row2   4.0   NaN   6.0\n",
      "row3   7.0   5.0   NaN\n",
      "row4   NaN   8.0   9.0\n",
      "--------------------------------------------------------------------------------\n",
      "DataFrame .describe():\n",
      "       col1  col2  col3\n",
      "count   3.0   3.0   3.0\n",
      "mean    4.0   5.0   6.0\n",
      "std     3.0   3.0   3.0\n",
      "min     1.0   2.0   3.0\n",
      "25%     2.5   3.5   4.5\n",
      "50%     4.0   5.0   6.0\n",
      "75%     5.5   6.5   7.5\n",
      "max     7.0   8.0   9.0\n"
     ]
    }
   ],
   "source": [
    "# We can use .describe() on DataFrames as well similar to Series\n",
    "\n",
    "print_df()\n",
    "\n",
    "print('DataFrame .describe():')\n",
    "print(df.describe())\n"
   ]
  },
  {
   "cell_type": "code",
   "execution_count": 7,
   "metadata": {},
   "outputs": [
    {
     "name": "stdout",
     "output_type": "stream",
     "text": [
      "Original DataFrame:\n",
      "      col1  col2  col3\n",
      "row1   1.0   2.0   3.0\n",
      "row2   4.0   NaN   6.0\n",
      "row3   7.0   5.0   NaN\n",
      "row4   NaN   8.0   9.0\n",
      "--------------------------------------------------------------------------------\n",
      "N-Largest:\n",
      "      col1  col2  col3\n",
      "row4   NaN   8.0   9.0\n",
      "row3   7.0   5.0   NaN\n",
      "--------------------------------------------------------------------------------\n",
      "N-Largest:\n",
      "      col1  col2  col3\n",
      "row3   7.0   5.0   NaN\n",
      "row2   4.0   NaN   6.0\n",
      "--------------------------------------------------------------------------------\n"
     ]
    }
   ],
   "source": [
    "# n-largest, n-smallest\n",
    "\n",
    "print_df()\n",
    "\n",
    "# nlargest\n",
    "\"\"\"\n",
    "Return the first n rows ordered by columns in descending order.\n",
    "Return the first n rows with the largest values in columns, in descending order.\n",
    "The columns that are not specified are returned as well, but not used for ordering.\n",
    "\"\"\"\n",
    "print('N-Largest:')\n",
    "print(df.nlargest(2,['col2']))\n",
    "divider()\n",
    "\n",
    "# Keep an eye on the order of the row\n",
    "print('N-Largest:')\n",
    "print(df.nlargest(2, ['col1']))\n",
    "divider()\n"
   ]
  },
  {
   "cell_type": "code",
   "execution_count": 8,
   "metadata": {},
   "outputs": [
    {
     "name": "stdout",
     "output_type": "stream",
     "text": [
      "Original DataFrame:\n",
      "      col1  col2  col3\n",
      "row1   1.0   2.0   3.0\n",
      "row2   4.0   NaN   6.0\n",
      "row3   7.0   5.0   NaN\n",
      "row4   NaN   8.0   9.0\n",
      "--------------------------------------------------------------------------------\n",
      "N-smallest:\n",
      "      col1  col2  col3\n",
      "row1   1.0   2.0   3.0\n",
      "row3   7.0   5.0   NaN\n",
      "--------------------------------------------------------------------------------\n",
      "N-smallest:\n",
      "      col1  col2  col3\n",
      "row1   1.0   2.0   3.0\n",
      "row2   4.0   NaN   6.0\n",
      "--------------------------------------------------------------------------------\n"
     ]
    }
   ],
   "source": [
    "print_df()\n",
    "\n",
    "# nsmallest\n",
    "\"\"\"\n",
    " Return the first n rows ordered by columns in ascending order.\n",
    " Return the first n rows with the smallest values in columns, in ascending order.\n",
    " The columns that are not specified are returned as well, but not used for ordering. \n",
    "\"\"\"\n",
    "print('N-smallest:')\n",
    "print(df.nsmallest(2, ['col2']))\n",
    "divider()\n",
    "\n",
    "# Keep an eye on the order of the row\n",
    "print('N-smallest:')\n",
    "print(df.nsmallest(2, ['col1']))\n",
    "divider()\n"
   ]
  },
  {
   "cell_type": "markdown",
   "metadata": {},
   "source": [
    "### `Max Index, Min Index`"
   ]
  },
  {
   "cell_type": "code",
   "execution_count": 9,
   "metadata": {},
   "outputs": [
    {
     "name": "stdout",
     "output_type": "stream",
     "text": [
      "Original DataFrame:\n",
      "      col1  col2  col3\n",
      "row1   1.0   2.0   3.0\n",
      "row2   4.0   NaN   6.0\n",
      "row3   7.0   5.0   NaN\n",
      "row4   NaN   8.0   9.0\n",
      "--------------------------------------------------------------------------------\n",
      "Index of max value in the DataFrame:\n",
      "col1    row3\n",
      "col2    row4\n",
      "col3    row4\n",
      "dtype: object\n",
      "Index of max value in the DataFrame, row wise:\n",
      "row1    col3\n",
      "row2    col3\n",
      "row3    col1\n",
      "row4    col3\n",
      "dtype: object\n"
     ]
    }
   ],
   "source": [
    "# Max Index, Min Index\n",
    "\n",
    "print_df()\n",
    "\n",
    "# Index maximum\n",
    "print('Index of max value in the DataFrame:')\n",
    "print(df.idxmax())\n",
    "\n",
    "# Index maximum, row wise\n",
    "print('Index of max value in the DataFrame, row wise:')\n",
    "print(df.idxmax(axis=1))\n",
    "\n"
   ]
  },
  {
   "cell_type": "code",
   "execution_count": 10,
   "metadata": {},
   "outputs": [
    {
     "name": "stdout",
     "output_type": "stream",
     "text": [
      "Original DataFrame:\n",
      "      col1  col2  col3\n",
      "row1   1.0   2.0   3.0\n",
      "row2   4.0   NaN   6.0\n",
      "row3   7.0   5.0   NaN\n",
      "row4   NaN   8.0   9.0\n",
      "--------------------------------------------------------------------------------\n",
      "Index of min value in the DataFrame:\n",
      "col1    row1\n",
      "col2    row1\n",
      "col3    row1\n",
      "dtype: object\n",
      "Index of min value in the DataFrame, row wise:\n",
      "row1    col1\n",
      "row2    col1\n",
      "row3    col2\n",
      "row4    col2\n",
      "dtype: object\n"
     ]
    }
   ],
   "source": [
    "print_df()\n",
    "\n",
    "# Index minimum\n",
    "print('Index of min value in the DataFrame:')\n",
    "print(df.idxmin())\n",
    "\n",
    "# Index minimum, row wise\n",
    "print('Index of min value in the DataFrame, row wise:')\n",
    "print(df.idxmin(axis=1))\n"
   ]
  },
  {
   "cell_type": "markdown",
   "metadata": {},
   "source": [
    "### `DataFrame Indexes`"
   ]
  },
  {
   "cell_type": "code",
   "execution_count": 11,
   "metadata": {},
   "outputs": [
    {
     "name": "stdout",
     "output_type": "stream",
     "text": [
      "Original DataFrame:\n",
      "      col1  col2  col3\n",
      "row1   1.0   2.0   3.0\n",
      "row2   4.0   NaN   6.0\n",
      "row3   7.0   5.0   NaN\n",
      "row4   NaN   8.0   9.0\n",
      "--------------------------------------------------------------------------------\n",
      "Indexes in DataFrame:\n",
      "Index(['row1', 'row2', 'row3', 'row4'], dtype='object')\n",
      "Columns in DataFrame:\n",
      "Index(['col1', 'col2', 'col3'], dtype='object')\n"
     ]
    }
   ],
   "source": [
    "print_df()\n",
    "\n",
    "# Indexes and Columns in DataFrame\n",
    "print('Indexes in DataFrame:')\n",
    "print(df.index)\n",
    "\n",
    "print('Columns in DataFrame:')\n",
    "print(df.columns)"
   ]
  },
  {
   "cell_type": "markdown",
   "metadata": {},
   "source": [
    "### `DataFrame dtypes`"
   ]
  },
  {
   "cell_type": "code",
   "execution_count": 12,
   "metadata": {},
   "outputs": [
    {
     "name": "stdout",
     "output_type": "stream",
     "text": [
      "Original DataFrame:\n",
      "      col1  col2  col3\n",
      "row1   1.0   2.0   3.0\n",
      "row2   4.0   NaN   6.0\n",
      "row3   7.0   5.0   NaN\n",
      "row4   NaN   8.0   9.0\n",
      "--------------------------------------------------------------------------------\n",
      "Breakdown of data types, column wise:\n",
      "col1    float64\n",
      "col2    float64\n",
      "col3    float64\n",
      "dtype: object\n"
     ]
    }
   ],
   "source": [
    "print_df()\n",
    "\n",
    "# DataType breakdown\n",
    "print('Breakdown of data types, column wise:')\n",
    "print(df.dtypes)"
   ]
  },
  {
   "cell_type": "markdown",
   "metadata": {},
   "source": [
    "### `DataFrame Histograms`"
   ]
  },
  {
   "cell_type": "code",
   "execution_count": 13,
   "metadata": {},
   "outputs": [
    {
     "name": "stdout",
     "output_type": "stream",
     "text": [
      "Original DataFrame:\n",
      "      col1  col2  col3\n",
      "row1   1.0   2.0   3.0\n",
      "row2   4.0   NaN   6.0\n",
      "row3   7.0   5.0   NaN\n",
      "row4   NaN   8.0   9.0\n",
      "--------------------------------------------------------------------------------\n",
      "[[<AxesSubplot:title={'center':'col1'}>\n",
      "  <AxesSubplot:title={'center':'col2'}>]\n",
      " [<AxesSubplot:title={'center':'col3'}> <AxesSubplot:>]]\n"
     ]
    },
    {
     "data": {
      "image/png": "[encoded data removed]",
      "text/plain": [
       "<Figure size 432x288 with 4 Axes>"
      ]
     },
     "metadata": {
      "needs_background": "light"
     },
     "output_type": "display_data"
    }
   ],
   "source": [
    "print_df()\n",
    "\n",
    "# Histogram\n",
    "print(df.hist())\n"
   ]
  },
  {
   "cell_type": "code",
   "execution_count": 14,
   "metadata": {},
   "outputs": [
    {
     "name": "stdout",
     "output_type": "stream",
     "text": [
      "Original DataFrame:\n",
      "      col1  col2  col3\n",
      "row1   1.0   2.0   3.0\n",
      "row2   4.0   NaN   6.0\n",
      "row3   7.0   5.0   NaN\n",
      "row4   NaN   8.0   9.0\n",
      "--------------------------------------------------------------------------------\n",
      "[[<AxesSubplot:title={'center':'col1'}>\n",
      "  <AxesSubplot:title={'center':'col2'}>]]\n"
     ]
    },
    {
     "data": {
      "image/png": "[encoded data removed]",
      "text/plain": [
       "<Figure size 432x288 with 2 Axes>"
      ]
     },
     "metadata": {
      "needs_background": "light"
     },
     "output_type": "display_data"
    }
   ],
   "source": [
    "print_df()\n",
    "\n",
    "# Histogram Customization\n",
    "print(df.hist(column=['col1', 'col2']))"
   ]
  },
  {
   "cell_type": "markdown",
   "metadata": {},
   "source": [
    "\n",
    "---\n",
    "[next](./12-dataframe-modification.ipynb)"
   ]
  }
 ],
 "metadata": {
  "interpreter": {
   "hash": "0b4484ae063bf9ef0d5115063857dd0e382a2c73ed49a11a000ca56af03302b6"
  },
  "kernelspec": {
   "display_name": "Python 3.9.7 ('base')",
   "language": "python",
   "name": "python3"
  },
  "language_info": {
   "codemirror_mode": {
    "name": "ipython",
    "version": 3
   },
   "file_extension": ".py",
   "mimetype": "text/x-python",
   "name": "python",
   "nbconvert_exporter": "python",
   "pygments_lexer": "ipython3",
   "version": "3.9.7"
  },
  "orig_nbformat": 4
 },
 "nbformat": 4,
 "nbformat_minor": 2
}
