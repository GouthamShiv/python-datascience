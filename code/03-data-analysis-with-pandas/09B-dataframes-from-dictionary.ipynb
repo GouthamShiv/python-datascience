{
 "cells": [
  {
   "cell_type": "markdown",
   "metadata": {},
   "source": [
    "[back](./09A-dataframes-from-lists.ipynb)\n",
    "\n",
    "---\n",
    "### `Creating DataFrames from dictionary`"
   ]
  },
  {
   "cell_type": "code",
   "execution_count": 1,
   "metadata": {},
   "outputs": [],
   "source": [
    "# Importing pandas and numpy\n",
    "\n",
    "import pandas as pd\n",
    "import numpy as np\n"
   ]
  },
  {
   "cell_type": "code",
   "execution_count": 2,
   "metadata": {},
   "outputs": [
    {
     "name": "stdout",
     "output_type": "stream",
     "text": [
      "   col1  col2\n",
      "0     1     4\n",
      "1     2     5\n",
      "2     3     6\n"
     ]
    }
   ],
   "source": [
    "# Creating pandas DataFrame with Dictionary\n",
    "\n",
    "# The key of dictionary will be the column name, and it's values will be the column data\n",
    "df = pd.DataFrame({'col1': [1, 2, 3], 'col2': [4, 5, 6]})\n",
    "print(df)\n",
    "\n",
    "# This is not allowed,\n",
    "# df = pd.DataFrame({'col1': [1, 2, 3], 'col2': [4, 5, 6, 7]})"
   ]
  },
  {
   "cell_type": "code",
   "execution_count": 3,
   "metadata": {},
   "outputs": [
    {
     "name": "stdout",
     "output_type": "stream",
     "text": [
      "      col1  col2\n",
      "row1     1     4\n",
      "row3     2     5\n",
      "row3     3     6\n"
     ]
    }
   ],
   "source": [
    "# Creating DataFrame with dictionary and explicitly provide labels\n",
    "\n",
    "df = pd.DataFrame( {'col1': [1, 2, 3], 'col2': [4, 5, 6]}, index=['row1', 'row3', 'row3'] )\n",
    "print(df)"
   ]
  },
  {
   "cell_type": "code",
   "execution_count": 4,
   "metadata": {},
   "outputs": [
    {
     "name": "stdout",
     "output_type": "stream",
     "text": [
      "      col1  col2\n",
      "row1     1     4\n",
      "row2     2     5\n",
      "row3     3     6\n"
     ]
    }
   ],
   "source": [
    "# 01 Alternative way for creating DataFrame with dictionary and explicitly provide labels\n",
    "\n",
    "df = pd.DataFrame({'col1': {'row1': 1, 'row2': 2, 'row3': 3},\n",
    "                  'col2': {'row1': 4, 'row2': 5, 'row3': 6}})\n",
    "print(df)\n"
   ]
  },
  {
   "cell_type": "code",
   "execution_count": 5,
   "metadata": {},
   "outputs": [
    {
     "name": "stdout",
     "output_type": "stream",
     "text": [
      "      col1  col2\n",
      "row1   1.0   4.0\n",
      "row2   2.0   NaN\n",
      "row3   3.0   5.0\n",
      "row4   NaN   6.0\n"
     ]
    }
   ],
   "source": [
    "# 02 Alternative way for creating DataFrame with dictionary and explicitly provide labels\n",
    "\n",
    "df = pd.DataFrame({'col1': {'row1': 1, 'row2': 2, 'row3': 3},\n",
    "                  'col2': {'row1': 4, 'row3': 5, 'row4': 6}})\n",
    "print(df)\n"
   ]
  },
  {
   "cell_type": "markdown",
   "metadata": {},
   "source": [
    "\n",
    "---\n",
    "[next]()"
   ]
  }
 ],
 "metadata": {
  "interpreter": {
   "hash": "0b4484ae063bf9ef0d5115063857dd0e382a2c73ed49a11a000ca56af03302b6"
  },
  "kernelspec": {
   "display_name": "Python 3.9.7 ('base')",
   "language": "python",
   "name": "python3"
  },
  "language_info": {
   "codemirror_mode": {
    "name": "ipython",
    "version": 3
   },
   "file_extension": ".py",
   "mimetype": "text/x-python",
   "name": "python",
   "nbconvert_exporter": "python",
   "pygments_lexer": "ipython3",
   "version": "3.9.7"
  },
  "orig_nbformat": 4
 },
 "nbformat": 4,
 "nbformat_minor": 2
}
