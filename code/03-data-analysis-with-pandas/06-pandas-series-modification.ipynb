{
 "cells": [
  {
   "cell_type": "markdown",
   "metadata": {},
   "source": [
    "[back](./05-getting-properties-from-series.ipynb)\n",
    "\n",
    "---\n",
    "## `Modifying Pandas Series`\n",
    "\n",
    "- [Adding elements to Series](#adding-elements-to-series)\n",
    "- [Removing elements from Series](#removing-elements-from-series)\n",
    "- [Modifying Series elements](#modifying-series-elements)\n",
    "- [Shuffling and relabelling Series](#shuffling-and-relabelling-series)"
   ]
  },
  {
   "cell_type": "code",
   "execution_count": 1,
   "metadata": {},
   "outputs": [],
   "source": [
    "# Import pandas\n",
    "\n",
    "import pandas as pd"
   ]
  },
  {
   "cell_type": "code",
   "execution_count": 2,
   "metadata": {},
   "outputs": [
    {
     "name": "stdout",
     "output_type": "stream",
     "text": [
      "a    1\n",
      "b    2\n",
      "c    3\n",
      "d    4\n",
      "e    5\n",
      "dtype: int64\n"
     ]
    }
   ],
   "source": [
    "# Creating data-set\n",
    "\n",
    "series = pd.Series({'a': 1, 'b': 2, 'c': 3, 'd': 4, 'e': 5})\n",
    "print(series)\n"
   ]
  },
  {
   "cell_type": "markdown",
   "metadata": {},
   "source": [
    "### `Adding elements to Series`"
   ]
  },
  {
   "cell_type": "code",
   "execution_count": 3,
   "metadata": {},
   "outputs": [
    {
     "name": "stdout",
     "output_type": "stream",
     "text": [
      "a    1\n",
      "b    2\n",
      "c    3\n",
      "d    4\n",
      "e    5\n",
      "f    6\n",
      "dtype: int64\n"
     ]
    }
   ],
   "source": [
    "# Adding value to Series\n",
    "\n",
    "series['f'] = 6\n",
    "print(series)"
   ]
  },
  {
   "cell_type": "code",
   "execution_count": 4,
   "metadata": {},
   "outputs": [
    {
     "name": "stdout",
     "output_type": "stream",
     "text": [
      "Original Series:\n",
      "a    1\n",
      "b    2\n",
      "c    3\n",
      "d    4\n",
      "e    5\n",
      "f    6\n",
      "dtype: int64\n",
      "\n",
      "New Series:\n",
      "a    1\n",
      "b    2\n",
      "c    3\n",
      "d    4\n",
      "e    5\n",
      "f    6\n",
      "g    7\n",
      "h    8\n",
      "i    9\n",
      "dtype: int64\n"
     ]
    }
   ],
   "source": [
    "# Adding multiple values to Series\n",
    "\n",
    "new_series = series.append(pd.Series({'g':7, 'h':8, 'i':9}))\n",
    "print('Original Series:')\n",
    "print(series)\n",
    "print('\\nNew Series:')\n",
    "print(new_series)"
   ]
  },
  {
   "cell_type": "markdown",
   "metadata": {},
   "source": [
    "### `Removing elements from Series`"
   ]
  },
  {
   "cell_type": "code",
   "execution_count": 5,
   "metadata": {},
   "outputs": [
    {
     "name": "stdout",
     "output_type": "stream",
     "text": [
      "b    2\n",
      "c    3\n",
      "d    4\n",
      "e    5\n",
      "f    6\n",
      "dtype: int64\n"
     ]
    }
   ],
   "source": [
    "# Removing elements from Series\n",
    "\n",
    "# Method 1\n",
    "del series['a'] # this will modify the actual series\n",
    "print(series)"
   ]
  },
  {
   "cell_type": "code",
   "execution_count": 6,
   "metadata": {},
   "outputs": [
    {
     "name": "stdout",
     "output_type": "stream",
     "text": [
      "Series before any modifications:\n",
      "a    1\n",
      "b    2\n",
      "c    3\n",
      "d    4\n",
      "e    5\n",
      "f    6\n",
      "g    7\n",
      "dtype: int64\n",
      "\n",
      "Series after modification:\n",
      "a    1\n",
      "b    2\n",
      "c    3\n",
      "d    4\n",
      "e    5\n",
      "f    6\n",
      "g    7\n",
      "dtype: int64\n",
      "\n",
      "New Series with modifications:\n",
      "a    1\n",
      "b    2\n",
      "c    3\n",
      "d    4\n",
      "g    7\n",
      "dtype: int64\n"
     ]
    }
   ],
   "source": [
    "# Removing elements from Series\n",
    "# Method 2\n",
    "\n",
    "series = pd.Series({'a': 1, 'b': 2, 'c': 3, 'd': 4, 'e': 5, 'f': 6, 'g': 7})\n",
    "print('Series before any modifications:')\n",
    "print(series)\n",
    "\n",
    "# Removing elements using drop()\n",
    "new_series = series.drop(['e', 'f'])\n",
    "\n",
    "# The original series will remain the same\n",
    "print('\\nSeries after modification:')\n",
    "print(series)\n",
    "\n",
    "# Modifications are only applied to the new Series that is created\n",
    "print('\\nNew Series with modifications:')\n",
    "print(new_series)\n"
   ]
  },
  {
   "cell_type": "markdown",
   "metadata": {},
   "source": [
    "### `Modifying Series elements`"
   ]
  },
  {
   "cell_type": "code",
   "execution_count": 7,
   "metadata": {},
   "outputs": [
    {
     "name": "stdout",
     "output_type": "stream",
     "text": [
      "a    0\n",
      "b    2\n",
      "c    3\n",
      "d    4\n",
      "e    6\n",
      "dtype: int64\n"
     ]
    }
   ],
   "source": [
    "# Modifying elements in Series\n",
    "\n",
    "# Instantiate the Series\n",
    "series = pd.Series({'a': 1, 'b': 2, 'c': 3, 'd': 4, 'e': 5})\n",
    "\n",
    "# Modify / update a value\n",
    "# this is similar to adding elements, and will update the original series\n",
    "series[0] = 0\n",
    "series['e'] = 6\n",
    "print(series)\n"
   ]
  },
  {
   "cell_type": "code",
   "execution_count": 8,
   "metadata": {},
   "outputs": [
    {
     "name": "stdout",
     "output_type": "stream",
     "text": [
      "a    10\n",
      "b    10\n",
      "c    10\n",
      "d     4\n",
      "e     6\n",
      "dtype: int64\n",
      "a    0\n",
      "b    1\n",
      "c    2\n",
      "d    4\n",
      "e    6\n",
      "dtype: int64\n"
     ]
    }
   ],
   "source": [
    "# Updating / Modifying multiple values at once\n",
    "\n",
    "# Eg1: Modifying first three values to 10\n",
    "series[:3] = 10\n",
    "print(series)\n",
    "\n",
    "# Eg2: Modifying first three values to three unique values\n",
    "# NOTE: Length of the assigning list should be the same length as the slice, three in this case\n",
    "series[:3] = [0, 1, 2]\n",
    "print(series)"
   ]
  },
  {
   "cell_type": "markdown",
   "metadata": {},
   "source": [
    "### `Shuffling and relabelling Series`"
   ]
  },
  {
   "cell_type": "code",
   "execution_count": 9,
   "metadata": {},
   "outputs": [
    {
     "name": "stdout",
     "output_type": "stream",
     "text": [
      "a    1\n",
      "b    2\n",
      "c    3\n",
      "d    4\n",
      "e    5\n",
      "Name: Series 1, dtype: int64\n",
      "A    1\n",
      "B    2\n",
      "C    3\n",
      "D    4\n",
      "E    5\n",
      "Name: Series 1, dtype: int64\n"
     ]
    }
   ],
   "source": [
    "# Naming a Series\n",
    "# Instantiate the Series\n",
    "series = pd.Series({'a': 1, 'b': 2, 'c': 3, 'd': 4, 'e': 5})\n",
    "\n",
    "# Changes will reflect only on the new, returned series\n",
    "series = series.rename('Series 1')\n",
    "print(series)\n",
    "\n",
    "# Passing a function to rename(), will update each of the labels (indexes)\n",
    "series = series.rename(str.upper)\n",
    "print(series)"
   ]
  },
  {
   "cell_type": "code",
   "execution_count": 10,
   "metadata": {},
   "outputs": [
    {
     "name": "stdout",
     "output_type": "stream",
     "text": [
      "Series after reindex:\n",
      "b    2\n",
      "a    1\n",
      "e    5\n",
      "c    3\n",
      "d    4\n",
      "dtype: int64\n",
      "\n",
      "Series after adding new indexes:\n",
      "b    2.0\n",
      "a    1.0\n",
      "e    5.0\n",
      "c    3.0\n",
      "d    4.0\n",
      "f    NaN\n",
      "g    NaN\n",
      "dtype: float64\n",
      "\n",
      "Series after adding new indexes:\n",
      "b       2.0\n",
      "a    String\n",
      "e       5.0\n",
      "c       3.0\n",
      "d       4.0\n",
      "f       NaN\n",
      "g       NaN\n",
      "dtype: object\n"
     ]
    }
   ],
   "source": [
    "# Reindex the Series, add new indexes\n",
    "\n",
    "# Instantiate the Series\n",
    "series = pd.Series({'a': 1, 'b': 2, 'c': 3, 'd': 4, 'e': 5})\n",
    "\n",
    "# reindex, will return back with a new series and retain the original series as it is\n",
    "series = series.reindex(['b', 'a', 'e', 'c', 'd'])\n",
    "print('Series after reindex:')\n",
    "print(series)\n",
    "\n",
    "# adding new indexes, adds NaN as value for new indexes\n",
    "series = series.reindex(['b', 'a', 'e', 'c', 'd', 'f', 'g'])\n",
    "print('\\nSeries after adding new indexes:')\n",
    "print(series)\n",
    "\n",
    "# adding new indexes, adds NaN as value for new indexes even for Series with mixed types\n",
    "series['a'] = 'String'\n",
    "series = series.reindex(['b', 'a', 'e', 'c', 'd', 'f', 'g'])\n",
    "print('\\nSeries after adding new indexes:')\n",
    "print(series)\n"
   ]
  },
  {
   "cell_type": "markdown",
   "metadata": {},
   "source": [
    "\n",
    "---\n",
    "[next]()"
   ]
  }
 ],
 "metadata": {
  "interpreter": {
   "hash": "0b4484ae063bf9ef0d5115063857dd0e382a2c73ed49a11a000ca56af03302b6"
  },
  "kernelspec": {
   "display_name": "Python 3.9.7 ('base')",
   "language": "python",
   "name": "python3"
  },
  "language_info": {
   "codemirror_mode": {
    "name": "ipython",
    "version": 3
   },
   "file_extension": ".py",
   "mimetype": "text/x-python",
   "name": "python",
   "nbconvert_exporter": "python",
   "pygments_lexer": "ipython3",
   "version": "3.9.7"
  },
  "orig_nbformat": 4
 },
 "nbformat": 4,
 "nbformat_minor": 2
}
