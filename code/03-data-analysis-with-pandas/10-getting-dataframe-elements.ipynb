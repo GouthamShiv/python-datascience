{
 "cells": [
  {
   "cell_type": "markdown",
   "metadata": {},
   "source": [
    "[back](./09C-dataframes-with-series.ipynb)\n",
    "\n",
    "---\n",
    "## `Getting Elements from DataFrames`\n",
    "\n",
    "- [Getting DataFrames elements based on columns](./10A-column-elements-from-dataframe.ipynb)\n",
    "- [Getting DataFrames elements based on rows](./10B-row-elements-from-dataframe.ipynb)\n",
    "- [Getting individual elements from DataFrames](./10C-getting-individual-elements-dataframes.ipynb)\n",
    "- [Slicing DataFrame columns and rows](./10D-slicing-dataframes.ipynb)\n",
    "- [Getting DataFrame elements based on booleans](./10E-dataframe-elements-basedon-boolean.ipynb)"
   ]
  },
  {
   "cell_type": "markdown",
   "metadata": {},
   "source": [
    "\n",
    "---\n",
    "[next](./10A-column-elements-from-dataframe.ipynb)"
   ]
  }
 ],
 "metadata": {
  "interpreter": {
   "hash": "0b4484ae063bf9ef0d5115063857dd0e382a2c73ed49a11a000ca56af03302b6"
  },
  "kernelspec": {
   "display_name": "Python 3.9.7 ('base')",
   "language": "python",
   "name": "python3"
  },
  "language_info": {
   "name": "python",
   "version": "3.9.7"
  },
  "orig_nbformat": 4
 },
 "nbformat": 4,
 "nbformat_minor": 2
}
