{
 "cells": [
  {
   "cell_type": "markdown",
   "metadata": {},
   "source": [
    "[back](./02-installing-pandas.ipynb)\n",
    "\n",
    "---\n",
    "\n",
    "### `Pandas Series - with list`\n"
   ]
  },
  {
   "cell_type": "code",
   "execution_count": 1,
   "metadata": {},
   "outputs": [],
   "source": [
    "# Importing pandas and numpy\n",
    "\n",
    "import pandas as pd\n",
    "import numpy as np\n"
   ]
  },
  {
   "cell_type": "code",
   "execution_count": 2,
   "metadata": {},
   "outputs": [
    {
     "name": "stdout",
     "output_type": "stream",
     "text": [
      "0    4\n",
      "1    2\n",
      "2    9\n",
      "dtype: int64\n",
      "0    1.1\n",
      "1    4.3\n",
      "2    8.3\n",
      "dtype: float64\n",
      "0     True\n",
      "1    False\n",
      "2     True\n",
      "dtype: bool\n",
      "0      One\n",
      "1      Two\n",
      "2    Three\n",
      "dtype: object\n"
     ]
    }
   ],
   "source": [
    "# Creating Series\n",
    "\n",
    "# int64\n",
    "int_series = pd.Series([4, 2, 9])\n",
    "\n",
    "# float64\n",
    "float_series = pd.Series([1.1, 4.3, 8.3])\n",
    "\n",
    "# bool\n",
    "bool_series = pd.Series([True, False, True])\n",
    "\n",
    "# object\n",
    "str_series = pd.Series(['One', 'Two', 'Three'])\n",
    "\n",
    "print(int_series)\n",
    "print(float_series)\n",
    "print(bool_series)\n",
    "print(str_series)"
   ]
  },
  {
   "cell_type": "code",
   "execution_count": 3,
   "metadata": {},
   "outputs": [
    {
     "name": "stdout",
     "output_type": "stream",
     "text": [
      "0    1.0\n",
      "1    1.4\n",
      "dtype: float64\n",
      "0         1\n",
      "1       1.4\n",
      "2    String\n",
      "dtype: object\n",
      "0    1.0\n",
      "1    3.4\n",
      "2    NaN\n",
      "dtype: float64\n",
      "0    1.0\n",
      "1    3.4\n",
      "2    NaN\n",
      "3    NaN\n",
      "dtype: float64\n",
      "0         1\n",
      "1       3.4\n",
      "2      None\n",
      "3       NaN\n",
      "4    String\n",
      "dtype: object\n"
     ]
    }
   ],
   "source": [
    "# Series represents the type to the highest level representation\n",
    "\n",
    "# float64\n",
    "mix_series = pd.Series([1, 1.4])\n",
    "print(mix_series)\n",
    "\n",
    "# object - because of string\n",
    "mix_series = pd.Series([1, 1.4, 'String'])\n",
    "print(mix_series)\n",
    "\n",
    "# float64 - None becomes NaN because of the float\n",
    "mix_series = pd.Series([1, 3.4, None])\n",
    "print(mix_series)\n",
    "\n",
    "# float64 - None becomes NaN because of the float\n",
    "mix_series = pd.Series([1, 3.4, None, np.nan])\n",
    "print(mix_series)\n",
    "\n",
    "# object - because because of the string\n",
    "mix_series = pd.Series([1, 3.4, None, np.nan, 'String'])\n",
    "print(mix_series)\n"
   ]
  },
  {
   "cell_type": "code",
   "execution_count": 4,
   "metadata": {},
   "outputs": [
    {
     "name": "stdout",
     "output_type": "stream",
     "text": [
      "0    1.0\n",
      "1    2.0\n",
      "2    4.0\n",
      "3    6.0\n",
      "dtype: float32\n"
     ]
    }
   ],
   "source": [
    "# Explicitly setting the type\n",
    "\n",
    "# float32 - explicitly setting and converting to float32\n",
    "series = pd.Series([1, 2, 4, 6], dtype=np.float32)\n",
    "print(series)"
   ]
  },
  {
   "cell_type": "markdown",
   "metadata": {},
   "source": [
    "\n",
    "---\n",
    "[next]()"
   ]
  }
 ],
 "metadata": {
  "interpreter": {
   "hash": "0b4484ae063bf9ef0d5115063857dd0e382a2c73ed49a11a000ca56af03302b6"
  },
  "kernelspec": {
   "display_name": "Python 3.9.7 ('base')",
   "language": "python",
   "name": "python3"
  },
  "language_info": {
   "codemirror_mode": {
    "name": "ipython",
    "version": 3
   },
   "file_extension": ".py",
   "mimetype": "text/x-python",
   "name": "python",
   "nbconvert_exporter": "python",
   "pygments_lexer": "ipython3",
   "version": "3.9.7"
  },
  "orig_nbformat": 4
 },
 "nbformat": 4,
 "nbformat_minor": 2
}
