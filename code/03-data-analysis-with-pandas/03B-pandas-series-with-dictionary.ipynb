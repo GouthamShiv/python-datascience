{
 "cells": [
  {
   "cell_type": "markdown",
   "metadata": {},
   "source": [
    "[back](./03A-pandas-series-with-list.ipynb)\n",
    "\n",
    "---\n",
    "\n",
    "### `Pandas Series - with dictionary`\n"
   ]
  },
  {
   "cell_type": "code",
   "execution_count": 1,
   "metadata": {},
   "outputs": [],
   "source": [
    "# Importing pandas and numpy\n",
    "\n",
    "import pandas as pd\n",
    "import numpy as np\n"
   ]
  },
  {
   "cell_type": "code",
   "execution_count": 2,
   "metadata": {},
   "outputs": [
    {
     "name": "stdout",
     "output_type": "stream",
     "text": [
      "a    1\n",
      "b    2\n",
      "c    3\n",
      "dtype: int64\n",
      "a    1.1\n",
      "b    2.6\n",
      "c    NaN\n",
      "dtype: float64\n",
      "a     True\n",
      "b    False\n",
      "c    False\n",
      "dtype: bool\n",
      "a    Apple\n",
      "b     Ball\n",
      "c      Cat\n",
      "dtype: object\n"
     ]
    }
   ],
   "source": [
    "# Creating pandas Series with dictionary\n",
    "\n",
    "# int64\n",
    "dict_series = pd.Series( {'a':1, 'b':2, 'c':3} )\n",
    "print(dict_series)\n",
    "\n",
    "# float64\n",
    "dict_series = pd.Series( {'a':1.1, 'b':2.6, 'c':np.nan} )\n",
    "print(dict_series)\n",
    "\n",
    "# bool\n",
    "dict_series = pd.Series( {'a':True, 'b':False, 'c':False} )\n",
    "print(dict_series)\n",
    "\n",
    "# str\n",
    "dict_series = pd.Series( {'a':'Apple', 'b':'Ball', 'c':'Cat'} )\n",
    "print(dict_series)\n"
   ]
  },
  {
   "cell_type": "code",
   "execution_count": 3,
   "metadata": {},
   "outputs": [
    {
     "name": "stdout",
     "output_type": "stream",
     "text": [
      "a    1\n",
      "b    2\n",
      "c    3\n",
      "dtype: int64\n",
      "0    10\n",
      "1    10\n",
      "2    10\n",
      "3    10\n",
      "4    10\n",
      "dtype: int64\n",
      "a    10\n",
      "b    10\n",
      "c    10\n",
      "d    10\n",
      "dtype: int64\n",
      "0    Apple\n",
      "1    Apple\n",
      "2    Apple\n",
      "3    Apple\n",
      "4    Apple\n",
      "dtype: object\n"
     ]
    }
   ],
   "source": [
    "# Dictionary alternative\n",
    "\n",
    "# Alternative 1\n",
    "dict_series = pd.Series([1, 2, 3], index=['a', 'b', 'c'])\n",
    "print(dict_series)\n",
    "\n",
    "# To repeat values over certain index\n",
    "# Alternative 2\n",
    "dict_series = pd.Series(10, index=[0, 1, 2, 3, 4])\n",
    "print(dict_series)\n",
    "\n",
    "# Alternative 3\n",
    "dict_series = pd.Series(10, index=['a', 'b', 'c', 'd'])\n",
    "print(dict_series)\n",
    "\n",
    "# Alternative 4\n",
    "dict_series = pd.Series('Apple', index=[0, 1, 2, 3, 4])\n",
    "print(dict_series)\n"
   ]
  },
  {
   "cell_type": "markdown",
   "metadata": {},
   "source": [
    "\n",
    "---\n",
    "[next](./03C-pandas-series-with-numpy-arrays.ipynb)"
   ]
  }
 ],
 "metadata": {
  "interpreter": {
   "hash": "0b4484ae063bf9ef0d5115063857dd0e382a2c73ed49a11a000ca56af03302b6"
  },
  "kernelspec": {
   "display_name": "Python 3.9.7 ('base')",
   "language": "python",
   "name": "python3"
  },
  "language_info": {
   "codemirror_mode": {
    "name": "ipython",
    "version": 3
   },
   "file_extension": ".py",
   "mimetype": "text/x-python",
   "name": "python",
   "nbconvert_exporter": "python",
   "pygments_lexer": "ipython3",
   "version": "3.9.7"
  },
  "orig_nbformat": 4
 },
 "nbformat": 4,
 "nbformat_minor": 2
}
