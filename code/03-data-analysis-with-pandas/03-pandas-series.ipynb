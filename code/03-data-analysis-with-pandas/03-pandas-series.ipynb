{
 "cells": [
  {
   "cell_type": "markdown",
   "metadata": {},
   "source": [
    "[back](../02-data-visualization-with-python-and-matplotlib/06-3d-graphs.ipynb)\n",
    "\n",
    "---\n",
    "## `Pandas Series`\n",
    "\n",
    "- [Pandas Series with list](./03A-pandas-series-with-lists.ipynb)\n",
    "- [Pandas Series with dictionary]()\n",
    "- [Pandas Series with NumPy arrays]()\n",
    "\n",
    "---\n",
    "[next](./03A-pandas-series-with-lists.ipynb)"
   ]
  }
 ],
 "metadata": {
  "language_info": {
   "name": "python"
  },
  "orig_nbformat": 4
 },
 "nbformat": 4,
 "nbformat_minor": 2
}
