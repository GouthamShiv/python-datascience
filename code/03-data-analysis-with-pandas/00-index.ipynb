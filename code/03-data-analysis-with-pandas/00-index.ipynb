{
 "cells": [
  {
   "cell_type": "markdown",
   "metadata": {},
   "source": [
    "[back](../02-data-visualization-with-python-and-matplotlib/06-3d-graphs.ipynb)\n",
    "\n",
    "---\n",
    "# Data Analysis with `Pandas`\n",
    "\n",
    "## `What is covered?`\n",
    "\n",
    "- [Why Pandas](./01-intro-to-pandas.ipynb)\n",
    "- [How to use Pandas Series](./03-pandas-series.ipynb)\n",
    "- [How to use Pandas Date Ranges]()\n",
    "- [How to use Pandas DataFrames]()\n",
    "- [How to read CSVs with Pandas]()\n",
    "\n",
    "## `Topics`\n",
    "\n",
    "- [Intro to Pandas](./01-intro-to-pandas.ipynb)\n",
    "    - [What is Pandas?](./01-intro-to-pandas.ipynb)\n",
    "    - [Pandas Data Structures](./01-intro-to-pandas.ipynb)\n",
    "    - [What are some of the applications of Pandas?](./01-intro-to-pandas.ipynb)\n",
    "    - [Why learn Pandas?](./01-intro-to-pandas.ipynb)\n",
    "- [Installing and importing Pandas](./02-installing-pandas.ipynb)\n",
    "\n",
    "> **Series**\n",
    "\n",
    "-   [Creating Pandas Series](./03-pandas-series.ipynb)\n",
    "    - [Creating Pandas Series - With list](./03-pandas-series-with-list.ipynb)\n",
    "    - [Creating Pandas Series - With dictionary](./03B-pandas-series-with-dictionary.ipynb)\n",
    "    - [Creating Pandas Series - with NumPy arrays](./03C-pandas-series-with-numpy-arrays.ipynb)\n",
    "    - [Creating Pandas Series - Date Ranges](./03D-pandas-series-date-ranges.ipynb)\n",
    "-   [Getting elements from Series](./04-getting-elements-from-series.ipynb)\n",
    "-   [Getting properties from Series]()\n",
    "-   [Modifying Series]()\n",
    "-   [Series operations]()\n",
    "-   [Series comparisons and iteration]()\n",
    "\n",
    "> **DataFrames**\n",
    "\n",
    "- [Creating Pandas DataFrames]()\n",
    "- [Getting elements from DataFrames]()\n",
    "- [Getting properties from DataFrames]()\n",
    "- [Modifying DataFrames]()\n",
    "- [DataFrames operations]()\n",
    "- [DataFrames comparisons and iteration]()\n",
    "- [Reading CSVs into DataFrames]()\n",
    "\n",
    "---\n",
    "[next](./01-intro-to-pandas.ipynb)"
   ]
  }
 ],
 "metadata": {
  "interpreter": {
   "hash": "0b4484ae063bf9ef0d5115063857dd0e382a2c73ed49a11a000ca56af03302b6"
  },
  "kernelspec": {
   "display_name": "Python 3.9.7 ('base')",
   "language": "python",
   "name": "python3"
  },
  "language_info": {
   "name": "python",
   "version": "3.9.7"
  },
  "orig_nbformat": 4
 },
 "nbformat": 4,
 "nbformat_minor": 2
}
