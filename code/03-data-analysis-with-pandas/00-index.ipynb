{
 "cells": [
  {
   "cell_type": "markdown",
   "metadata": {},
   "source": [
    "[back](../02-data-visualization-with-python-and-matplotlib/06-3d-graphs.ipynb)\n",
    "\n",
    "---\n",
    "# Data Analysis with `Pandas`\n",
    "\n",
    "## `What is covered?`\n",
    "\n",
    "- [Why Pandas](./01-intro-to-pandas.ipynb)\n",
    "- [How to use Pandas Series](./03-pandas-series.ipynb)\n",
    "- [How to use Pandas Date Ranges](./03D-pandas-series-date-ranges.ipynb)\n",
    "- [How to use Pandas DataFrames](./09-pandas-dataframes.ipynb)\n",
    "- [How to read CSVs with Pandas]()\n",
    "\n",
    "## `Topics`\n",
    "\n",
    "- [Intro to Pandas](./01-intro-to-pandas.ipynb)\n",
    "    - [What is Pandas?](./01-intro-to-pandas.ipynb)\n",
    "    - [Pandas Data Structures](./01-intro-to-pandas.ipynb)\n",
    "    - [What are some of the applications of Pandas?](./01-intro-to-pandas.ipynb)\n",
    "    - [Why learn Pandas?](./01-intro-to-pandas.ipynb)\n",
    "- [Installing and importing Pandas](./02-installing-pandas.ipynb)\n",
    "\n",
    "> **Series**\n",
    "\n",
    "-  [Creating Pandas Series](./03-pandas-series.ipynb)\n",
    "  - [Creating Pandas Series - With list](./03-pandas-series-with-list.ipynb)\n",
    "  - [Creating Pandas Series - With dictionary](./03B-pandas-series-with-dictionary.ipynb)\n",
    "  - [Creating Pandas Series - with NumPy arrays](./03C-pandas-series-with-numpy-arrays.ipynb)\n",
    "  - [Creating Pandas Series - Date Ranges](./03D-pandas-series-date-ranges.ipynb)\n",
    "-  [Getting elements from Series](./04-getting-elements-from-series.ipynb)\n",
    "-  [Getting properties from Series](./05-getting-properties-from-series.ipynb)\n",
    "-  [Modifying Series](./06-pandas-series-modification.ipynb)\n",
    "-  [Series operations](./07-pandas-series-operations.ipynb)\n",
    "-  [Series comparisons and iteration](./08-compare-and-iterate-series.ipynb)\n",
    "\n",
    "> **DataFrames**\n",
    "\n",
    "- [Creating Pandas DataFrames](./09-pandas-dataframes.ipynb)\n",
    "  - [Creating DataFrames from Python lists](./09A-dataframes-from-lists.ipynb)\n",
    "  - [Creating DataFrames from Dictionaries](./09B-dataframes-from-dictionary.ipynb)\n",
    "  - [Creating DataFrames from Pandas Series](./09C-dataframes-with-series.ipynb)\n",
    "- [Getting elements from DataFrames](./10-getting-dataframe-elements.ipynb)\n",
    "  - [Getting DataFrames elements based on columns](./10A-column-elements-from-dataframe.ipynb)\n",
    "  - [Getting DataFrames elements based on rows](./10B-row-elements-from-dataframe.ipynb)\n",
    "  - [Getting individual elements from DataFrames](./10C-getting-individual-elements-dataframes.ipynb)\n",
    "  - [Slicing DataFrame columns and rows]()\n",
    "  - [Getting DataFrame elements based on booleans]()\n",
    "- [Getting properties from DataFrames]()\n",
    "- [Modifying DataFrames]()\n",
    "- [DataFrames operations]()\n",
    "- [DataFrames comparisons and iteration]()\n",
    "- [Reading CSVs into DataFrames]()\n",
    "\n",
    "---\n",
    "[next](./01-intro-to-pandas.ipynb)"
   ]
  }
 ],
 "metadata": {
  "interpreter": {
   "hash": "0b4484ae063bf9ef0d5115063857dd0e382a2c73ed49a11a000ca56af03302b6"
  },
  "kernelspec": {
   "display_name": "Python 3.9.7 ('base')",
   "language": "python",
   "name": "python3"
  },
  "language_info": {
   "name": "python",
   "version": "3.9.7"
  },
  "orig_nbformat": 4
 },
 "nbformat": 4,
 "nbformat_minor": 2
}
