{
 "cells": [
  {
   "cell_type": "markdown",
   "metadata": {},
   "source": [
    "[back](./03C-pandas-series-with-numpy-arrays.ipynb)\n",
    "\n",
    "---\n",
    "### `Pandas Series - Date Ranges`\n",
    "\n",
    "- Creating Date Ranges\n",
    "- Getting date values from Date Ranges\n",
    "- Getting components of Date Ranges"
   ]
  },
  {
   "cell_type": "code",
   "execution_count": 1,
   "metadata": {},
   "outputs": [],
   "source": [
    "# Import pandas\n",
    "\n",
    "import pandas as pd"
   ]
  },
  {
   "cell_type": "code",
   "execution_count": 2,
   "metadata": {},
   "outputs": [
    {
     "name": "stdout",
     "output_type": "stream",
     "text": [
      "DatetimeIndex(['2022-08-01', '2022-08-02', '2022-08-03', '2022-08-04',\n",
      "               '2022-08-05', '2022-08-06', '2022-08-07', '2022-08-08',\n",
      "               '2022-08-09', '2022-08-10', '2022-08-11', '2022-08-12',\n",
      "               '2022-08-13', '2022-08-14', '2022-08-15'],\n",
      "              dtype='datetime64[ns]', freq='D')\n",
      "<class 'pandas.core.indexes.datetimes.DatetimeIndex'>\n"
     ]
    }
   ],
   "source": [
    "# Creating date ranges\n",
    "# Default frequency is Days\n",
    "\n",
    "dates = pd.date_range('20220801', periods=15)\n",
    "print(dates)\n",
    "print(type(dates))"
   ]
  },
  {
   "cell_type": "code",
   "execution_count": 3,
   "metadata": {},
   "outputs": [
    {
     "name": "stdout",
     "output_type": "stream",
     "text": [
      "DatetimeIndex(['2022-01-01 00:00:00', '2022-01-01 01:00:00',\n",
      "               '2022-01-01 02:00:00', '2022-01-01 03:00:00',\n",
      "               '2022-01-01 04:00:00', '2022-01-01 05:00:00',\n",
      "               '2022-01-01 06:00:00', '2022-01-01 07:00:00',\n",
      "               '2022-01-01 08:00:00', '2022-01-01 09:00:00',\n",
      "               '2022-01-01 10:00:00', '2022-01-01 11:00:00',\n",
      "               '2022-01-01 12:00:00', '2022-01-01 13:00:00',\n",
      "               '2022-01-01 14:00:00', '2022-01-01 15:00:00',\n",
      "               '2022-01-01 16:00:00', '2022-01-01 17:00:00',\n",
      "               '2022-01-01 18:00:00', '2022-01-01 19:00:00',\n",
      "               '2022-01-01 20:00:00', '2022-01-01 21:00:00',\n",
      "               '2022-01-01 22:00:00', '2022-01-01 23:00:00'],\n",
      "              dtype='datetime64[ns]', freq='H')\n",
      "<class 'pandas.core.indexes.datetimes.DatetimeIndex'>\n"
     ]
    }
   ],
   "source": [
    "# Creating date ranges, with frequency as Hours\n",
    "\n",
    "dates = pd.date_range('20220101', periods=24, freq='H')\n",
    "print(dates)\n",
    "print(type(dates))"
   ]
  },
  {
   "cell_type": "code",
   "execution_count": 4,
   "metadata": {},
   "outputs": [
    {
     "name": "stdout",
     "output_type": "stream",
     "text": [
      "DatetimeIndex(['2022-01-31', '2022-02-28', '2022-03-31', '2022-04-30',\n",
      "               '2022-05-31', '2022-06-30', '2022-07-31', '2022-08-31',\n",
      "               '2022-09-30', '2022-10-31', '2022-11-30', '2022-12-31'],\n",
      "              dtype='datetime64[ns]', freq='M')\n",
      "<class 'pandas.core.indexes.datetimes.DatetimeIndex'>\n"
     ]
    }
   ],
   "source": [
    "# Creating date ranges, with frequency as Months\n",
    "\n",
    "dates = pd.date_range('20220101', periods=12, freq='M')\n",
    "print(dates)\n",
    "print(type(dates))"
   ]
  },
  {
   "cell_type": "code",
   "execution_count": 5,
   "metadata": {},
   "outputs": [
    {
     "name": "stdout",
     "output_type": "stream",
     "text": [
      "DatetimeIndex(['2022-01-01 00:00:00', '2022-01-01 04:00:00',\n",
      "               '2022-01-01 08:00:00', '2022-01-01 12:00:00',\n",
      "               '2022-01-01 16:00:00', '2022-01-01 20:00:00',\n",
      "               '2022-01-02 00:00:00', '2022-01-02 04:00:00',\n",
      "               '2022-01-02 08:00:00', '2022-01-02 12:00:00',\n",
      "               '2022-01-02 16:00:00', '2022-01-02 20:00:00'],\n",
      "              dtype='datetime64[ns]', freq='4H')\n",
      "<class 'pandas.core.indexes.datetimes.DatetimeIndex'>\n"
     ]
    }
   ],
   "source": [
    "# Creating date ranges, with frequency as specific Hours\n",
    "# can apply to other frequencies as well\n",
    "\n",
    "dates = pd.date_range('20220101', periods=12, freq='4H')\n",
    "print(dates)\n",
    "print(type(dates))\n"
   ]
  },
  {
   "cell_type": "code",
   "execution_count": 6,
   "metadata": {},
   "outputs": [
    {
     "name": "stdout",
     "output_type": "stream",
     "text": [
      "DatetimeIndex(['2022-08-01', '2022-08-02', '2022-08-03', '2022-08-04',\n",
      "               '2022-08-05', '2022-08-06', '2022-08-07', '2022-08-08',\n",
      "               '2022-08-09', '2022-08-10', '2022-08-11', '2022-08-12',\n",
      "               '2022-08-13', '2022-08-14', '2022-08-15'],\n",
      "              dtype='datetime64[ns]', freq='D')\n",
      "<class 'pandas.core.indexes.datetimes.DatetimeIndex'>\n"
     ]
    }
   ],
   "source": [
    "# Creating date ranges with start and end dates\n",
    "\n",
    "dates = pd.date_range('20220801', '20220815')\n",
    "print(dates)\n",
    "print(type(dates))\n"
   ]
  },
  {
   "cell_type": "code",
   "execution_count": 7,
   "metadata": {},
   "outputs": [
    {
     "name": "stdout",
     "output_type": "stream",
     "text": [
      "DatetimeIndex(['2022-08-01 00:00:00', '2022-08-01 12:00:00',\n",
      "               '2022-08-02 00:00:00', '2022-08-02 12:00:00',\n",
      "               '2022-08-03 00:00:00', '2022-08-03 12:00:00',\n",
      "               '2022-08-04 00:00:00', '2022-08-04 12:00:00',\n",
      "               '2022-08-05 00:00:00', '2022-08-05 12:00:00',\n",
      "               '2022-08-06 00:00:00', '2022-08-06 12:00:00',\n",
      "               '2022-08-07 00:00:00', '2022-08-07 12:00:00',\n",
      "               '2022-08-08 00:00:00', '2022-08-08 12:00:00',\n",
      "               '2022-08-09 00:00:00', '2022-08-09 12:00:00',\n",
      "               '2022-08-10 00:00:00', '2022-08-10 12:00:00',\n",
      "               '2022-08-11 00:00:00', '2022-08-11 12:00:00',\n",
      "               '2022-08-12 00:00:00', '2022-08-12 12:00:00',\n",
      "               '2022-08-13 00:00:00', '2022-08-13 12:00:00',\n",
      "               '2022-08-14 00:00:00', '2022-08-14 12:00:00',\n",
      "               '2022-08-15 00:00:00'],\n",
      "              dtype='datetime64[ns]', freq='12H')\n",
      "<class 'pandas.core.indexes.datetimes.DatetimeIndex'>\n"
     ]
    }
   ],
   "source": [
    "# Creating date ranges with start and end dates, with frequency\n",
    "\n",
    "dates = pd.date_range('20220801', '20220815', freq='12h')\n",
    "print(dates)\n",
    "print(type(dates))\n"
   ]
  },
  {
   "cell_type": "code",
   "execution_count": 8,
   "metadata": {},
   "outputs": [
    {
     "name": "stdout",
     "output_type": "stream",
     "text": [
      "DatetimeIndex([          '2022-08-01 00:00:00',\n",
      "               '2022-08-03 05:08:34.285714285',\n",
      "               '2022-08-05 10:17:08.571428571',\n",
      "               '2022-08-07 15:25:42.857142857',\n",
      "               '2022-08-09 20:34:17.142857142',\n",
      "               '2022-08-12 01:42:51.428571428',\n",
      "               '2022-08-14 06:51:25.714285714',\n",
      "                         '2022-08-16 12:00:00',\n",
      "               '2022-08-18 17:08:34.285714285',\n",
      "               '2022-08-20 22:17:08.571428571',\n",
      "               '2022-08-23 03:25:42.857142857',\n",
      "               '2022-08-25 08:34:17.142857143',\n",
      "               '2022-08-27 13:42:51.428571428',\n",
      "               '2022-08-29 18:51:25.714285714',\n",
      "                         '2022-09-01 00:00:00'],\n",
      "              dtype='datetime64[ns]', freq=None)\n",
      "<class 'pandas.core.indexes.datetimes.DatetimeIndex'>\n"
     ]
    }
   ],
   "source": [
    "# Creating date ranges with start and end dates, with period\n",
    "\n",
    "dates = pd.date_range('20220801', '20220901', periods=15)\n",
    "print(dates)\n",
    "print(type(dates))\n"
   ]
  },
  {
   "cell_type": "code",
   "execution_count": 9,
   "metadata": {},
   "outputs": [
    {
     "name": "stdout",
     "output_type": "stream",
     "text": [
      "2022-08-01     1\n",
      "2022-08-02     2\n",
      "2022-08-03     3\n",
      "2022-08-04     4\n",
      "2022-08-05     5\n",
      "2022-08-06     6\n",
      "2022-08-07     7\n",
      "2022-08-08     8\n",
      "2022-08-09     9\n",
      "2022-08-10    10\n",
      "2022-08-11    11\n",
      "2022-08-12    12\n",
      "2022-08-13    13\n",
      "2022-08-14    14\n",
      "2022-08-15    15\n",
      "Freq: D, dtype: int64\n"
     ]
    }
   ],
   "source": [
    "# Example of series with date ranges\n",
    "\n",
    "dates = pd.date_range('20220801', periods=15)\n",
    "series = pd.Series(range(1,16), index=dates)\n",
    "print(series)\n"
   ]
  },
  {
   "cell_type": "code",
   "execution_count": 10,
   "metadata": {},
   "outputs": [
    {
     "name": "stdout",
     "output_type": "stream",
     "text": [
      "0    2022-08-01\n",
      "1    2022-08-02\n",
      "2    2022-08-03\n",
      "3    2022-08-04\n",
      "4    2022-08-05\n",
      "5    2022-08-06\n",
      "6    2022-08-07\n",
      "7    2022-08-08\n",
      "8    2022-08-09\n",
      "9    2022-08-10\n",
      "10   2022-08-11\n",
      "11   2022-08-12\n",
      "12   2022-08-13\n",
      "13   2022-08-14\n",
      "14   2022-08-15\n",
      "dtype: datetime64[ns]\n"
     ]
    }
   ],
   "source": [
    "# Example of series with date ranges, the actual Pandas Series\n",
    "\n",
    "dates = pd.date_range('20220801', periods=15)\n",
    "\n",
    "# This is more like a date-range\n",
    "series = pd.Series(range(1, 16), index=dates)\n",
    "\n",
    "# While, this is a pd.Series of dates, with data-type as 'datetime64'\n",
    "date_series = pd.Series(dates)\n",
    "print(date_series)\n"
   ]
  },
  {
   "cell_type": "code",
   "execution_count": 11,
   "metadata": {},
   "outputs": [
    {
     "name": "stdout",
     "output_type": "stream",
     "text": [
      "Days:\n",
      "\n",
      "0      1\n",
      "1      2\n",
      "2      3\n",
      "3      4\n",
      "4      5\n",
      "5      6\n",
      "6      7\n",
      "7      8\n",
      "8      9\n",
      "9     10\n",
      "10    11\n",
      "11    12\n",
      "12    13\n",
      "13    14\n",
      "14    15\n",
      "dtype: int64\n"
     ]
    }
   ],
   "source": [
    "# Accessing different values from a datetime series\n",
    "\n",
    "dates = pd.date_range('20220801', periods=15)\n",
    "date_series = pd.Series(dates)\n",
    "\n",
    "days = date_series.dt.day\n",
    "print('Days:\\n')\n",
    "print(days)\n"
   ]
  },
  {
   "cell_type": "code",
   "execution_count": 12,
   "metadata": {},
   "outputs": [
    {
     "name": "stdout",
     "output_type": "stream",
     "text": [
      "Months:\n",
      " 0     8\n",
      "1     8\n",
      "2     8\n",
      "3     8\n",
      "4     8\n",
      "5     8\n",
      "6     8\n",
      "7     8\n",
      "8     8\n",
      "9     8\n",
      "10    8\n",
      "11    8\n",
      "12    8\n",
      "13    8\n",
      "14    8\n",
      "dtype: int64\n"
     ]
    }
   ],
   "source": [
    "months = date_series.dt.month\n",
    "print('Months:\\n', months)"
   ]
  },
  {
   "cell_type": "markdown",
   "metadata": {},
   "source": [
    "\n",
    "---\n",
    "[next]()"
   ]
  }
 ],
 "metadata": {
  "interpreter": {
   "hash": "0b4484ae063bf9ef0d5115063857dd0e382a2c73ed49a11a000ca56af03302b6"
  },
  "kernelspec": {
   "display_name": "Python 3.9.7 ('base')",
   "language": "python",
   "name": "python3"
  },
  "language_info": {
   "codemirror_mode": {
    "name": "ipython",
    "version": 3
   },
   "file_extension": ".py",
   "mimetype": "text/x-python",
   "name": "python",
   "nbconvert_exporter": "python",
   "pygments_lexer": "ipython3",
   "version": "3.9.7"
  },
  "orig_nbformat": 4
 },
 "nbformat": 4,
 "nbformat_minor": 2
}
