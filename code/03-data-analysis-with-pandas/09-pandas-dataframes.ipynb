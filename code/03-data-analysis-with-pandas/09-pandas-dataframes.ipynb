{
 "cells": [
  {
   "cell_type": "markdown",
   "metadata": {},
   "source": [
    "[back](./08-compare-and-iterate-series.ipynb)\n",
    "\n",
    "---\n",
    "## `Pandas DataFrames`\n",
    "\n",
    "- [Creating DataFrames from Python lists](./09A-dataframes-from-lists.ipynb)\n",
    "- [Creating DataFrames from Dictionaries](./09B-dataframes-from-dictionary.ipynb)\n",
    "- [Creating DataFrames from Pandas Series](./09C-dataframes-with-series.ipynb)\n",
    "\n",
    "---\n",
    "[next](./09A-dataframes-from-lists.ipynb)"
   ]
  }
 ],
 "metadata": {
  "interpreter": {
   "hash": "0b4484ae063bf9ef0d5115063857dd0e382a2c73ed49a11a000ca56af03302b6"
  },
  "kernelspec": {
   "display_name": "Python 3.9.7 ('base')",
   "language": "python",
   "name": "python3"
  },
  "language_info": {
   "name": "python",
   "version": "3.9.7"
  },
  "orig_nbformat": 4
 },
 "nbformat": 4,
 "nbformat_minor": 2
}
