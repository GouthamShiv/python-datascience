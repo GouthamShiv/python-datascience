{
 "cells": [
  {
   "cell_type": "markdown",
   "metadata": {},
   "source": [
    "[back](./10D-slicing-dataframes.ipynb)\n",
    "\n",
    "---\n",
    "### `Slicing DataFrame`\n"
   ]
  },
  {
   "cell_type": "code",
   "execution_count": 1,
   "metadata": {},
   "outputs": [],
   "source": [
    "# Importing pandas\n",
    "\n",
    "import pandas as pd\n"
   ]
  },
  {
   "cell_type": "code",
   "execution_count": 2,
   "metadata": {},
   "outputs": [
    {
     "name": "stdout",
     "output_type": "stream",
     "text": [
      "      col1  col2  col3\n",
      "row1   1.0   2.0   3.0\n",
      "row2   4.0   NaN   6.0\n",
      "row3   7.0   5.0   NaN\n",
      "row4   NaN   8.0   9.0\n",
      "--------------------------------------------------------------------------------\n"
     ]
    }
   ],
   "source": [
    "# Creating data-set\n",
    "\n",
    "df = pd.DataFrame({'col1': {'row1': 1, 'row2': 4, 'row3': 7},\n",
    "                  'col2': {'row1': 2, 'row3': 5, 'row4': 8},\n",
    "                   'col3': {'row1': 3, 'row2': 6, 'row4': 9}})\n",
    "\n",
    "\n",
    "def divider():\n",
    "  print('-'*80)\n",
    "\n",
    "\n",
    "def print_df():\n",
    "  print(df)\n",
    "  divider()\n",
    "\n",
    "\n",
    "print_df()\n"
   ]
  },
  {
   "cell_type": "code",
   "execution_count": 3,
   "metadata": {},
   "outputs": [
    {
     "name": "stdout",
     "output_type": "stream",
     "text": [
      "First two columns:\n",
      "      col1  col2\n",
      "row1   1.0   2.0\n",
      "row2   4.0   NaN\n",
      "row3   7.0   5.0\n",
      "row4   NaN   8.0\n",
      "--------------------------------------------------------------------------------\n",
      "Rearranged columns:\n",
      "      col3  col1  col2\n",
      "row1   3.0   1.0   2.0\n",
      "row2   6.0   4.0   NaN\n",
      "row3   NaN   7.0   5.0\n",
      "row4   9.0   NaN   8.0\n",
      "--------------------------------------------------------------------------------\n"
     ]
    }
   ],
   "source": [
    "# Getting columns based on slicing (but not using : as previously)\n",
    "\n",
    "cols = df[['col1', 'col2']]\n",
    "print('First two columns:')\n",
    "print(cols)\n",
    "divider()\n",
    "\n",
    "# Rearranged columns\n",
    "cols = df [['col3', 'col1', 'col2']]\n",
    "print('Rearranged columns:')\n",
    "print(cols)\n",
    "divider()"
   ]
  },
  {
   "cell_type": "code",
   "execution_count": 4,
   "metadata": {},
   "outputs": [
    {
     "name": "stdout",
     "output_type": "stream",
     "text": [
      "First two rows:\n",
      "      col1  col2  col3\n",
      "row1   1.0   2.0   3.0\n",
      "row2   4.0   NaN   6.0\n",
      "--------------------------------------------------------------------------------\n",
      "First two rows based on .loc:\n",
      "      col1  col2  col3\n",
      "row1   1.0   2.0   3.0\n",
      "row2   4.0   NaN   6.0\n",
      "--------------------------------------------------------------------------------\n"
     ]
    }
   ],
   "source": [
    "# Row slicing\n",
    "\n",
    "# Method 1\n",
    "rows = df.iloc[[0, 1]]\n",
    "print('First two rows:')\n",
    "print(rows) # This is still a DataFrame and not series (as it is 2D)\n",
    "divider()\n",
    "\n",
    "rows = df.loc[['row1', 'row2']]\n",
    "print('First two rows based on .loc:')\n",
    "print(rows)\n",
    "divider()"
   ]
  },
  {
   "cell_type": "code",
   "execution_count": 5,
   "metadata": {},
   "outputs": [
    {
     "name": "stdout",
     "output_type": "stream",
     "text": [
      "DataFrame with shuffled rows using .iloc:\n",
      "      col1  col2  col3\n",
      "row3   7.0   5.0   NaN\n",
      "row4   NaN   8.0   9.0\n",
      "row2   4.0   NaN   6.0\n",
      "row1   1.0   2.0   3.0\n",
      "--------------------------------------------------------------------------------\n",
      "DataFrame with shuffled rows using .loc:\n",
      "      col1  col2  col3\n",
      "row2   4.0   NaN   6.0\n",
      "row4   NaN   8.0   9.0\n",
      "row1   1.0   2.0   3.0\n",
      "row3   7.0   5.0   NaN\n",
      "--------------------------------------------------------------------------------\n"
     ]
    }
   ],
   "source": [
    "# Shuffling the row order\n",
    "\n",
    "# Using .iloc\n",
    "rows = df.iloc[[2, 3, 1, 0]]\n",
    "print('DataFrame with shuffled rows using .iloc:')\n",
    "print(rows)\n",
    "divider()\n",
    "\n",
    "# Using .loc\n",
    "rows = df.loc[['row2', 'row4', 'row1', 'row3']]\n",
    "print('DataFrame with shuffled rows using .loc:')\n",
    "print(rows)\n",
    "divider()\n"
   ]
  },
  {
   "cell_type": "code",
   "execution_count": 6,
   "metadata": {},
   "outputs": [
    {
     "name": "stdout",
     "output_type": "stream",
     "text": [
      "Slicing first two rows from DataFrame with : using .iloc\n",
      "      col1  col2  col3\n",
      "row1   1.0   2.0   3.0\n",
      "row2   4.0   NaN   6.0\n",
      "--------------------------------------------------------------------------------\n",
      "Slicing middle two rows from DataFrame with : using .iloc\n",
      "      col1  col2  col3\n",
      "row2   4.0   NaN   6.0\n",
      "row3   7.0   5.0   NaN\n",
      "--------------------------------------------------------------------------------\n",
      "Slicing last two rows from DataFrame with : using .iloc\n",
      "      col1  col2  col3\n",
      "row3   7.0   5.0   NaN\n",
      "row4   NaN   8.0   9.0\n",
      "--------------------------------------------------------------------------------\n"
     ]
    }
   ],
   "source": [
    "# Python style slicing using .iloc\n",
    "\n",
    "# First two rows\n",
    "rows = df.iloc[:2]\n",
    "print('Slicing first two rows from DataFrame with : using .iloc')\n",
    "print(rows)\n",
    "divider()\n",
    "\n",
    "# Middle two rows\n",
    "rows = df.iloc[1:3]\n",
    "print('Slicing middle two rows from DataFrame with : using .iloc')\n",
    "print(rows)\n",
    "divider()\n",
    "\n",
    "# Last two rows\n",
    "rows = df.iloc[-2:]\n",
    "print('Slicing last two rows from DataFrame with : using .iloc')\n",
    "print(rows)\n",
    "divider()\n"
   ]
  },
  {
   "cell_type": "code",
   "execution_count": 7,
   "metadata": {},
   "outputs": [
    {
     "name": "stdout",
     "output_type": "stream",
     "text": [
      "Print all columns, but stepping over rows by 2:\n",
      "      col1  col2  col3\n",
      "row1   1.0   2.0   3.0\n",
      "row3   7.0   5.0   NaN\n",
      "--------------------------------------------------------------------------------\n"
     ]
    }
   ],
   "source": [
    "# Skipping elements - rows\n",
    "\n",
    "rows = df.iloc[::2]\n",
    "print('Print all columns, but stepping over rows by 2:')\n",
    "print(rows)\n",
    "divider()"
   ]
  },
  {
   "cell_type": "code",
   "execution_count": 8,
   "metadata": {},
   "outputs": [
    {
     "name": "stdout",
     "output_type": "stream",
     "text": [
      "Print all rows, but first two columns:\n",
      "      col1  col2\n",
      "row1   1.0   2.0\n",
      "row2   4.0   NaN\n",
      "row3   7.0   5.0\n",
      "row4   NaN   8.0\n",
      "--------------------------------------------------------------------------------\n"
     ]
    }
   ],
   "source": [
    "# Skipping elements - columns\n",
    "\n",
    "rows = df.iloc[:,:2]\n",
    "print('Print all rows, but first two columns:')\n",
    "print(rows)\n",
    "divider()\n"
   ]
  },
  {
   "cell_type": "code",
   "execution_count": 9,
   "metadata": {},
   "outputs": [
    {
     "name": "stdout",
     "output_type": "stream",
     "text": [
      "Print first two rows and columns:\n",
      "      col1  col2\n",
      "row1   1.0   2.0\n",
      "row2   4.0   NaN\n",
      "--------------------------------------------------------------------------------\n"
     ]
    }
   ],
   "source": [
    "# Skipping elements - row and columns\n",
    "\n",
    "rows = df.iloc[:2, :2]\n",
    "print('Print first two rows and columns:')\n",
    "print(rows)\n",
    "divider()\n"
   ]
  },
  {
   "cell_type": "markdown",
   "metadata": {},
   "source": [
    "\n",
    "---\n",
    "[next]()"
   ]
  }
 ],
 "metadata": {
  "interpreter": {
   "hash": "0b4484ae063bf9ef0d5115063857dd0e382a2c73ed49a11a000ca56af03302b6"
  },
  "kernelspec": {
   "display_name": "Python 3.9.7 ('base')",
   "language": "python",
   "name": "python3"
  },
  "language_info": {
   "codemirror_mode": {
    "name": "ipython",
    "version": 3
   },
   "file_extension": ".py",
   "mimetype": "text/x-python",
   "name": "python",
   "nbconvert_exporter": "python",
   "pygments_lexer": "ipython3",
   "version": "3.9.7"
  },
  "orig_nbformat": 4
 },
 "nbformat": 4,
 "nbformat_minor": 2
}
