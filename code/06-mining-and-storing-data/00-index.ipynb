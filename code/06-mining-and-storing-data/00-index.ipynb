{
 "cells": [
  {
   "cell_type": "markdown",
   "metadata": {},
   "source": [
    "[back](../05-big-data-with-spark/03-spark-ml-intro.ipynb)\n",
    "\n",
    "---\n",
    "## `Mining and Storing Data`\n",
    "\n",
    "- [Text Mining]()\n",
    "- [Network Mining]()\n",
    "- [Python Matrix library]()\n",
    "- [Mining a SQL-database]()"
   ]
  },
  {
   "cell_type": "markdown",
   "metadata": {},
   "source": [
    "\n",
    "---\n",
    "[next]()"
   ]
  }
 ],
 "metadata": {
  "language_info": {
   "name": "python"
  },
  "orig_nbformat": 4
 },
 "nbformat": 4,
 "nbformat_minor": 2
}
