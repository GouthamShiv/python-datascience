{
 "cells": [
  {
   "cell_type": "markdown",
   "metadata": {},
   "source": [
    "[back](./01-text-mining.ipynb)\n",
    "\n",
    "---\n",
    "## `Network Mining`"
   ]
  },
  {
   "cell_type": "markdown",
   "metadata": {},
   "source": [
    "### `Making graphs in Python`"
   ]
  },
  {
   "cell_type": "markdown",
   "metadata": {},
   "source": [
    "There are many different libraries for creating, visualizing, and analyzing graphs in Python.  We will be using `networkx`, which visualizes graphs using the **matplotlib** engine. To start, let's re-create our directed graph from the last section."
   ]
  },
  {
   "cell_type": "code",
   "execution_count": 1,
   "metadata": {},
   "outputs": [],
   "source": [
    "import numpy as np\n",
    "import pandas as pd\n",
    "import scipy\n",
    "import sklearn\n",
    "import matplotlib.pyplot as plt\n",
    "import seaborn as sns\n",
    "import networkx as nx\n",
    "\n",
    "%matplotlib inline\n"
   ]
  },
  {
   "cell_type": "code",
   "execution_count": 2,
   "metadata": {},
   "outputs": [
    {
     "data": {
      "image/png": "[encoded data removed]",
      "text/plain": [
       "<Figure size 432x288 with 1 Axes>"
      ]
     },
     "metadata": {},
     "output_type": "display_data"
    }
   ],
   "source": [
    "# Creating a directed graph\n",
    "G = nx.DiGraph()\n",
    "\n",
    "# Adding nodes. We could have added them all in one list using .add_nodes_from()\n",
    "G.add_node('You')\n",
    "G.add_node('Mom')\n",
    "G.add_node('Aunt')\n",
    "G.add_node('Fiancee')\n",
    "\n",
    "# Adding edges. We can also add them individually using .add_edge()\n",
    "G.add_edges_from([('You', 'Mom'),('You', 'Fiancee')])\n",
    "G.add_edges_from([('Mom', 'You'),('Mom', 'Aunt')])\n",
    "G.add_edges_from([('Aunt', 'Mom'),('Aunt', 'You')])\n",
    "\n",
    "# Drawing the graph\n",
    "nx.draw_networkx(G,\n",
    "pos=nx.circular_layout(G), # Position the nodes relative to each other\n",
    "node_size=1600,\n",
    "cmap=plt.cm.Oranges, # The color palette to use to color the nodes.\n",
    "node_color=range(len(G)) # The number of shades of color to use\n",
    ")\n",
    "\n",
    "plt.axis('off')\n",
    "plt.show()"
   ]
  },
  {
   "cell_type": "code",
   "execution_count": 3,
   "metadata": {},
   "outputs": [
    {
     "data": {
      "image/png": "[encoded data removed]",
      "text/plain": [
       "<Figure size 432x288 with 1 Axes>"
      ]
     },
     "metadata": {},
     "output_type": "display_data"
    }
   ],
   "source": [
    "# Drawing the graph\n",
    "nx.draw_networkx(G,\n",
    "                 # Position the nodes relative to each other\n",
    "                 pos=nx.spring_layout(G),\n",
    "                 node_size=1600,\n",
    "                 # The color palette to use to color the nodes.\n",
    "                 cmap=plt.cm.Pastel1,\n",
    "                 # The number of shades of color to use\n",
    "                 node_color=range(len(G))\n",
    "                 )\n",
    "\n",
    "plt.axis('off')\n",
    "plt.show()\n"
   ]
  },
  {
   "cell_type": "markdown",
   "metadata": {},
   "source": [
    "### `Explore functions from networkx`"
   ]
  },
  {
   "cell_type": "code",
   "execution_count": 4,
   "metadata": {},
   "outputs": [
    {
     "name": "stdout",
     "output_type": "stream",
     "text": [
      "This graph has 4 nodes and 6 edges.\n",
      "The \"Aunt\" node has an in-degree of 1 and an out-degree of 2.\n",
      "The nodes are ['You', 'Mom', 'Aunt', 'Fiancee'].\n",
      "The edges are [('You', 'Mom'), ('You', 'Fiancee'), ('Mom', 'You'), ('Mom', 'Aunt'), ('Aunt', 'Mom'), ('Aunt', 'You')].\n",
      "The betweenness centrality scores are {'You': 0.3333333333333333, 'Mom': 0.16666666666666666, 'Aunt': 0.0, 'Fiancee': 0.0}\n",
      "The node degrees are [('You', 4), ('Mom', 4), ('Aunt', 3), ('Fiancee', 1)].\n"
     ]
    }
   ],
   "source": [
    "print(\"This graph has {} nodes and {} edges.\".format(G.number_of_nodes(), G.number_of_edges()))\n",
    "\n",
    "print('The \"Aunt\" node has an in-degree of {} and an out-degree of {}.'.format(G.in_degree('Aunt'), G.out_degree('Aunt')))\n",
    "\n",
    "print(\"The nodes are {}.\".format(G.nodes()))\n",
    "\n",
    "print(\"The edges are {}.\".format(G.edges()))\n",
    "\n",
    "# Compute the shortest-path betweenness centrality for nodes.\n",
    "print(\"The betweenness centrality scores are {}\".format(nx.betweenness_centrality(G)))\n",
    "\n",
    "# The node degree is the number of edges adjacent to that node.\n",
    "print('The node degrees are {}.'.format(G.degree()))\n"
   ]
  },
  {
   "cell_type": "markdown",
   "metadata": {},
   "source": [
    "### `Conclusion`"
   ]
  },
  {
   "cell_type": "markdown",
   "metadata": {},
   "source": [
    "\n",
    "---\n",
    "[next]()"
   ]
  }
 ],
 "metadata": {
  "kernelspec": {
   "display_name": "Python 3.9.7 ('base')",
   "language": "python",
   "name": "python3"
  },
  "language_info": {
   "codemirror_mode": {
    "name": "ipython",
    "version": 3
   },
   "file_extension": ".py",
   "mimetype": "text/x-python",
   "name": "python",
   "nbconvert_exporter": "python",
   "pygments_lexer": "ipython3",
   "version": "3.9.7"
  },
  "orig_nbformat": 4,
  "vscode": {
   "interpreter": {
    "hash": "0b4484ae063bf9ef0d5115063857dd0e382a2c73ed49a11a000ca56af03302b6"
   }
  }
 },
 "nbformat": 4,
 "nbformat_minor": 2
}
