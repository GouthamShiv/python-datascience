{
 "cells": [
  {
   "cell_type": "markdown",
   "metadata": {},
   "source": [
    "[back](../04-python-data-mining/03D-dimensionality-reduction.ipynb)\n",
    "\n",
    "---\n",
    "## `Big Data with Apache Spark`\n",
    "\n",
    "- [Apache Spark - Framework Overview](./01-spark-overview.ipynb)\n",
    "- [Apache Spark - Key Functions](./02-spark-key-functions.ipynb)\n",
    "- [Apache Spark - Machine Learning](./03-spark-ml-intro.ipynb)\n",
    "- [Examples - Using Machine Learning Pipelines](./03-spark-ml-intro.ipynb)"
   ]
  },
  {
   "cell_type": "markdown",
   "metadata": {},
   "source": [
    "\n",
    "---\n",
    "[next](./01-spark-overview.ipynb)"
   ]
  }
 ],
 "metadata": {
  "language_info": {
   "name": "python"
  },
  "orig_nbformat": 4
 },
 "nbformat": 4,
 "nbformat_minor": 2
}
