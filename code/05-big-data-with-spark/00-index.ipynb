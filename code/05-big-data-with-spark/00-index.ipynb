{
 "cells": [
  {
   "cell_type": "markdown",
   "metadata": {},
   "source": [
    "[back](../04-python-data-mining/03D-dimensionality-reduction.ipynb)\n",
    "\n",
    "---\n",
    "## `Big Data with Apache Spark`\n",
    "\n",
    "- [Apache Spark - Framework Overview](./01-spark-overview.ipynb)\n",
    "- [Apache Spark - Key Functions]()\n",
    "- [Apache Spark - Machine Learning]()\n",
    "- [Examples - Using Machine Learning Pipelines]()"
   ]
  },
  {
   "cell_type": "markdown",
   "metadata": {},
   "source": [
    "\n",
    "---\n",
    "[next]()"
   ]
  }
 ],
 "metadata": {
  "language_info": {
   "name": "python"
  },
  "orig_nbformat": 4
 },
 "nbformat": 4,
 "nbformat_minor": 2
}
