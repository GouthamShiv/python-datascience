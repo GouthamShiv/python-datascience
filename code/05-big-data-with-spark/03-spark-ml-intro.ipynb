{
 "cells": [
  {
   "cell_type": "markdown",
   "metadata": {},
   "source": [
    "[back](./02-spark-key-functions.ipynb)\n",
    "\n",
    "---\n",
    "## `Spark ML Intro`\n"
   ]
  },
  {
   "cell_type": "markdown",
   "metadata": {},
   "source": [
    "https://spark.apache.org/docs/latest/ml-features.html"
   ]
  },
  {
   "cell_type": "markdown",
   "metadata": {},
   "source": [
    "### `Spark-ML Objective`"
   ]
  },
  {
   "cell_type": "markdown",
   "metadata": {},
   "source": [
    "The objective is to cover\n",
    "\n",
    "1.  Chain spark DataFrame methods together to do **data munging**.\n",
    "1.  Be able to describe the **Spark-ML** API, and recognize differences to **sk-learn**.\n",
    "1.  Chain **Spark-ML** Transformations and Estimators together to compose ML pipelines."
   ]
  },
  {
   "cell_type": "markdown",
   "metadata": {},
   "source": [
    "### `Chaining Transformations together!`"
   ]
  },
  {
   "cell_type": "code",
   "execution_count": 1,
   "metadata": {},
   "outputs": [
    {
     "name": "stderr",
     "output_type": "stream",
     "text": [
      "WARNING: An illegal reflective access operation has occurred\n",
      "WARNING: Illegal reflective access by org.apache.spark.unsafe.Platform (file:/Users/goutham/opt/anaconda3/lib/python3.9/site-packages/pyspark/jars/spark-unsafe_2.12-3.1.2.jar) to constructor java.nio.DirectByteBuffer(long,int)\n",
      "WARNING: Please consider reporting this to the maintainers of org.apache.spark.unsafe.Platform\n",
      "WARNING: Use --illegal-access=warn to enable warnings of further illegal reflective access operations\n",
      "WARNING: All illegal access operations will be denied in a future release\n",
      "22/06/14 14:43:47 WARN NativeCodeLoader: Unable to load native-hadoop library for your platform... using builtin-java classes where applicable\n",
      "Using Spark's default log4j profile: org/apache/spark/log4j-defaults.properties\n",
      "Setting default log level to \"WARN\".\n",
      "To adjust logging level use sc.setLogLevel(newLevel). For SparkR, use setLogLevel(newLevel).\n"
     ]
    }
   ],
   "source": [
    "import pyspark as ps\n",
    "import pyspark.sql.functions as F\n",
    "from pyspark import SQLContext\n",
    "\n",
    "spark = ps.sql.SparkSession.builder\\\n",
    "  .master('local[*]')\\\n",
    "  .appName('spark-ml')\\\n",
    "  .getOrCreate()\n",
    "\n",
    "sc = spark.sparkContext"
   ]
  },
  {
   "cell_type": "code",
   "execution_count": 2,
   "metadata": {},
   "outputs": [],
   "source": [
    "sqlContext = SQLContext(sc)"
   ]
  },
  {
   "cell_type": "markdown",
   "metadata": {},
   "source": [
    "#### Find the data on which AAPL's closing stock price was the highest\n",
    "\n",
    "- Input DataFrame"
   ]
  },
  {
   "cell_type": "code",
   "execution_count": 3,
   "metadata": {},
   "outputs": [
    {
     "name": "stdout",
     "output_type": "stream",
     "text": [
      "+----------+----------+----------+----------+----------+----------+--------+\n",
      "|      Date|      Open|      High|       Low|     Close| Adj Close|  Volume|\n",
      "+----------+----------+----------+----------+----------+----------+--------+\n",
      "|2018-05-09|186.550003|187.399994|185.220001|187.360001|186.640305|23211200|\n",
      "|2018-05-10|187.740005|190.369995|187.649994|190.039993|189.309998|27989300|\n",
      "|2018-05-11|189.490005|190.059998|187.449997|188.589996|188.589996|26212200|\n",
      "|2018-05-14|189.009995|189.529999|187.860001|188.149994|188.149994|20778800|\n",
      "|2018-05-15|186.779999|187.070007|185.100006|186.440002|186.440002|23695200|\n",
      "+----------+----------+----------+----------+----------+----------+--------+\n",
      "only showing top 5 rows\n",
      "\n"
     ]
    }
   ],
   "source": [
    "# read CSV\n",
    "df_aapl = sqlContext.read.csv('../../assets/AAPL.csv',\n",
    "header=True,        # use headers or not\n",
    "quote='\"',          # char used for quotes\n",
    "sep=',',            # char used for separation\n",
    "inferSchema=True)   # do we infer schema or not?\n",
    "\n",
    "df_aapl.show(5)"
   ]
  },
  {
   "cell_type": "code",
   "execution_count": 4,
   "metadata": {},
   "outputs": [
    {
     "data": {
      "text/plain": [
       "StructType(List(StructField(Date,StringType,true),StructField(Open,DoubleType,true),StructField(High,DoubleType,true),StructField(Low,DoubleType,true),StructField(Close,DoubleType,true),StructField(Adj Close,DoubleType,true),StructField(Volume,IntegerType,true)))"
      ]
     },
     "execution_count": 4,
     "metadata": {},
     "output_type": "execute_result"
    }
   ],
   "source": [
    "df_aapl.schema"
   ]
  },
  {
   "cell_type": "markdown",
   "metadata": {},
   "source": [
    "Now, we'll design a pipeline that will\n",
    "\n",
    "1.  Keep only fields for Data and Close\n",
    "1.  Order by Close in descending order"
   ]
  },
  {
   "cell_type": "code",
   "execution_count": 5,
   "metadata": {},
   "outputs": [
    {
     "name": "stdout",
     "output_type": "stream",
     "text": [
      "+----------+----------+\n",
      "|      Date|     Close|\n",
      "+----------+----------+\n",
      "|2018-06-06|193.979996|\n",
      "|2018-06-07|193.460007|\n",
      "|2018-06-05|193.309998|\n",
      "|2018-06-04|191.830002|\n",
      "|2018-06-08|191.699997|\n",
      "+----------+----------+\n",
      "only showing top 5 rows\n",
      "\n"
     ]
    }
   ],
   "source": [
    "df_out = df_aapl.select('Date', 'Close').orderBy('Close', ascending=False)\n",
    "df_out.show(5)"
   ]
  },
  {
   "cell_type": "markdown",
   "metadata": {},
   "source": [
    "### `Supervised Machine Learning on DataFrames`"
   ]
  },
  {
   "cell_type": "markdown",
   "metadata": {},
   "source": [
    "####  What is the difference between df_aapl and df_vector after running the code below?"
   ]
  },
  {
   "cell_type": "code",
   "execution_count": 6,
   "metadata": {},
   "outputs": [
    {
     "name": "stdout",
     "output_type": "stream",
     "text": [
      "+----------+----------+----------+----------+----------+----------+--------+\n",
      "|      Date|      Open|      High|       Low|     Close| Adj Close|  Volume|\n",
      "+----------+----------+----------+----------+----------+----------+--------+\n",
      "|2018-05-09|186.550003|187.399994|185.220001|187.360001|186.640305|23211200|\n",
      "|2018-05-10|187.740005|190.369995|187.649994|190.039993|189.309998|27989300|\n",
      "|2018-05-11|189.490005|190.059998|187.449997|188.589996|188.589996|26212200|\n",
      "|2018-05-14|189.009995|189.529999|187.860001|188.149994|188.149994|20778800|\n",
      "|2018-05-15|186.779999|187.070007|185.100006|186.440002|186.440002|23695200|\n",
      "+----------+----------+----------+----------+----------+----------+--------+\n",
      "only showing top 5 rows\n",
      "\n",
      "+----------+----------+----------+----------+----------+----------+--------+------------+\n",
      "|      Date|      Open|      High|       Low|     Close| Adj Close|  Volume|    Features|\n",
      "+----------+----------+----------+----------+----------+----------+--------+------------+\n",
      "|2018-05-09|186.550003|187.399994|185.220001|187.360001|186.640305|23211200|[187.360001]|\n",
      "|2018-05-10|187.740005|190.369995|187.649994|190.039993|189.309998|27989300|[190.039993]|\n",
      "|2018-05-11|189.490005|190.059998|187.449997|188.589996|188.589996|26212200|[188.589996]|\n",
      "|2018-05-14|189.009995|189.529999|187.860001|188.149994|188.149994|20778800|[188.149994]|\n",
      "|2018-05-15|186.779999|187.070007|185.100006|186.440002|186.440002|23695200|[186.440002]|\n",
      "+----------+----------+----------+----------+----------+----------+--------+------------+\n",
      "only showing top 5 rows\n",
      "\n"
     ]
    }
   ],
   "source": [
    "from pyspark.ml.feature import MinMaxScaler, VectorAssembler\n",
    "\n",
    "# Assemble values in a vector\n",
    "vectorAssembler = VectorAssembler(inputCols=['Close'], outputCol='Features')\n",
    "\n",
    "df_vector = vectorAssembler.transform(df_aapl)\n",
    "df_aapl.show(5)\n",
    "df_vector.show(5)"
   ]
  },
  {
   "cell_type": "markdown",
   "metadata": {},
   "source": [
    "- Making the column a vector"
   ]
  },
  {
   "cell_type": "code",
   "execution_count": 7,
   "metadata": {},
   "outputs": [
    {
     "name": "stdout",
     "output_type": "stream",
     "text": [
      "+------------+--------------------+\n",
      "|    Features|     Scaled Features|\n",
      "+------------+--------------------+\n",
      "|[187.360001]|[0.13689742813492...|\n",
      "|[190.039993]|[0.48630977478742...|\n",
      "|[188.589996]|[0.2972618767306078]|\n",
      "|[188.149994]|[0.23989523856459...|\n",
      "|[186.440002]|[0.01694967847449...|\n",
      "+------------+--------------------+\n",
      "only showing top 5 rows\n",
      "\n"
     ]
    }
   ],
   "source": [
    "scaler = MinMaxScaler(inputCol='Features', outputCol='Scaled Features')\n",
    "\n",
    "# Compute summary statistics and generate MinMaxScalerModel\n",
    "scaler_model = scaler.fit(df_vector)\n",
    "\n",
    "# Rescale each feature tp range [min, max]\n",
    "scaled_data = scaler_model.transform(df_vector)\n",
    "scaled_data.select('Features', 'Scaled Features').show(5)"
   ]
  },
  {
   "cell_type": "code",
   "execution_count": 8,
   "metadata": {},
   "outputs": [
    {
     "name": "stdout",
     "output_type": "stream",
     "text": [
      "+------------+--------------------+\n",
      "|    Features|     Scaled Features|\n",
      "+------------+--------------------+\n",
      "|[187.360001]|[0.13689742813492...|\n",
      "|[190.039993]|[0.48630977478742...|\n",
      "|[188.589996]|[0.2972618767306078]|\n",
      "|[188.149994]|[0.23989523856459...|\n",
      "|[186.440002]|[0.01694967847449...|\n",
      "|[188.179993]|[0.24380645210076...|\n",
      "|[186.990005]|[0.08865804137106...|\n",
      "|[186.309998]|               [0.0]|\n",
      "|[187.630005]|[0.17210004487615...|\n",
      "|[187.160004]|[0.11082219317397...|\n",
      "+------------+--------------------+\n",
      "only showing top 10 rows\n",
      "\n"
     ]
    }
   ],
   "source": [
    "scaled_data.select('Features', 'Scaled Features').show(10)"
   ]
  },
  {
   "cell_type": "markdown",
   "metadata": {},
   "source": [
    "### `Transformers`\n",
    "\n",
    "The `VectorAssembler` class above is an example of a generic type is `Spark`, called as a `Transformer`. Important things to know about the type:\n",
    "\n",
    "- They implement a `transform` method.\n",
    "- They convert one **DataFrame** into another, usually by adding columns.\n",
    "\n",
    "Examples of `Transformers:` VectorAssembler, Tokenizer, StopWordsRemover, and many more."
   ]
  },
  {
   "cell_type": "markdown",
   "metadata": {},
   "source": [
    "### `Estimators`\n",
    "\n",
    "According to the docs: \"An Estimator abstracts the concept of a learning algorithm or any algorithm that fits or trains on data\". Important things to know about this type are:\n",
    "\n",
    "- They implement a `fit` method whose argument is a `DataFrame`.\n",
    "- The output of `fit` is another type called `Model`, which is a `Transformer`.\n",
    "\n",
    "Example of `Estimators:` LogisticRegression, DecisionTreeRegressor, and many more."
   ]
  },
  {
   "cell_type": "markdown",
   "metadata": {},
   "source": [
    "### `Conclusion`"
   ]
  },
  {
   "cell_type": "code",
   "execution_count": 9,
   "metadata": {},
   "outputs": [],
   "source": [
    "sc.stop()"
   ]
  },
  {
   "cell_type": "markdown",
   "metadata": {},
   "source": [
    "\n",
    "---\n",
    "[next]()"
   ]
  }
 ],
 "metadata": {
  "kernelspec": {
   "display_name": "Python 3.9.7 ('base')",
   "language": "python",
   "name": "python3"
  },
  "language_info": {
   "codemirror_mode": {
    "name": "ipython",
    "version": 3
   },
   "file_extension": ".py",
   "mimetype": "text/x-python",
   "name": "python",
   "nbconvert_exporter": "python",
   "pygments_lexer": "ipython3",
   "version": "3.9.7"
  },
  "orig_nbformat": 4,
  "vscode": {
   "interpreter": {
    "hash": "0b4484ae063bf9ef0d5115063857dd0e382a2c73ed49a11a000ca56af03302b6"
   }
  }
 },
 "nbformat": 4,
 "nbformat_minor": 2
}
