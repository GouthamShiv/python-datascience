{
 "cells": [
  {
   "cell_type": "markdown",
   "metadata": {},
   "source": [
    "[back](./03-collections.ipynb)\n",
    "\n",
    "---\n",
    "## `What is covered`\n",
    "\n",
    "- [What are conditionals](#what-are-conditionals)\n",
    "- [If statements](#01-if-statements)\n",
    "- [Elif statements](#02-elif-statements)\n",
    "- [Else statements](#03-else-statements)\n",
    "- [If statement variants](#04-if-statement-variants)"
   ]
  },
  {
   "cell_type": "markdown",
   "metadata": {},
   "source": [
    "### `What are conditionals?`\n",
    "\n",
    "- Conditionals allow us to add logic to the code (control flow)\n",
    "- We can choose which parts of the code to execute based on the outcome of certain tests\n",
    "- Tests are typically comparing variables, or testing the value of a single variable and always return `True` or `False`"
   ]
  },
  {
   "cell_type": "markdown",
   "metadata": {},
   "source": [
    "### `01 If Statements`\n",
    "\n",
    "- Execute some statements if a test evaluates to `True`\n",
    "- Do nothing if the test evaluates to `False`\n",
    "- The test could check the value of a boolean variable or test equality between values"
   ]
  },
  {
   "cell_type": "code",
   "execution_count": 1,
   "metadata": {},
   "outputs": [
    {
     "name": "stdout",
     "output_type": "stream",
     "text": [
      "Move right\n"
     ]
    }
   ],
   "source": [
    "key_press = 'r'\n",
    "if key_press == 'r':\n",
    "  print('Move right')"
   ]
  },
  {
   "cell_type": "markdown",
   "metadata": {},
   "source": [
    "### `02 Elif Statements`\n",
    "\n",
    "- Provide additional `if` statements\n",
    "- These come only after the initial `if` statement\n",
    "- Only executed if previous test(s) fail\n",
    "- Can chain together as many `elif` statements as you want"
   ]
  },
  {
   "cell_type": "code",
   "execution_count": 2,
   "metadata": {},
   "outputs": [
    {
     "name": "stdout",
     "output_type": "stream",
     "text": [
      "Move left\n"
     ]
    }
   ],
   "source": [
    "key_press = 'l'\n",
    "if key_press == 'r':\n",
    "  print('Move right')\n",
    "elif key_press == 'l':\n",
    "  print('Move left')"
   ]
  },
  {
   "cell_type": "markdown",
   "metadata": {},
   "source": [
    "### `03 Else Statements`\n",
    "\n",
    "- Provides a failsafe\n",
    "- Only executed if the previous test(s) fail\n",
    "- Can only come after `if` statement or `elif` statement\n",
    "- Doesn't actually test anything, just executes code"
   ]
  },
  {
   "cell_type": "code",
   "execution_count": 3,
   "metadata": {},
   "outputs": [
    {
     "name": "stdout",
     "output_type": "stream",
     "text": [
      "Invalid key\n"
     ]
    }
   ],
   "source": [
    "key_press = 'asdf'\n",
    "if key_press == 'r':\n",
    "  print('Move right')\n",
    "elif key_press == 'l':\n",
    "  print('Move left')\n",
    "else:\n",
    "  print('Invalid key')"
   ]
  },
  {
   "cell_type": "code",
   "execution_count": 4,
   "metadata": {},
   "outputs": [
    {
     "name": "stdout",
     "output_type": "stream",
     "text": [
      "Can only move right\n"
     ]
    }
   ],
   "source": [
    "key_press = 'l'\n",
    "if key_press == 'r':\n",
    "  print('Move right')\n",
    "else:\n",
    "  print('Can only move right')"
   ]
  },
  {
   "cell_type": "code",
   "execution_count": 5,
   "metadata": {},
   "outputs": [
    {
     "name": "stdout",
     "output_type": "stream",
     "text": [
      "Can only move left\n"
     ]
    }
   ],
   "source": [
    "# Ternary Operation - A forced if-else\n",
    "key_press = 'a'\n",
    "command = 'Move left' if key_press == 'l' else 'Can only move left'\n",
    "print(command)"
   ]
  },
  {
   "cell_type": "markdown",
   "metadata": {},
   "source": [
    "### `04 If statement variants`\n",
    "\n",
    "- Can nest `if` statements to add subsequent tests\n",
    "- Can add multiple testing conditions in `if` statement with `or`/`and` operators to test multiple conditions at once\n",
    "- Can add multiple `if` statements in a row without `elif` to perform all of the tests"
   ]
  },
  {
   "cell_type": "code",
   "execution_count": 6,
   "metadata": {},
   "outputs": [
    {
     "name": "stdout",
     "output_type": "stream",
     "text": [
      "Warning, less than 50% health!\n"
     ]
    }
   ],
   "source": [
    "# Consecutive if statements\n",
    "num_lives = 3\n",
    "health = 30\n",
    "\n",
    "if health <= 0:\n",
    "  print('Player died!')\n",
    "elif health < 10:\n",
    "  print('Warning, less than 10% health!')\n",
    "elif health < 50:\n",
    "  print('Warning, less than 50% health!')"
   ]
  },
  {
   "cell_type": "code",
   "execution_count": 7,
   "metadata": {},
   "outputs": [
    {
     "name": "stdout",
     "output_type": "stream",
     "text": [
      "Player died!\n",
      "Warning, less than 10% health!\n",
      "Warning, less than 50% health!\n"
     ]
    }
   ],
   "source": [
    "# Consecutive if statements - Wrong scenario\n",
    "num_lives = 3\n",
    "health = 0\n",
    "\n",
    "if health <= 0:\n",
    "  print('Player died!')\n",
    "if health < 10:\n",
    "  print('Warning, less than 10% health!')\n",
    "if health < 50:\n",
    "  print('Warning, less than 50% health!')\n"
   ]
  },
  {
   "cell_type": "code",
   "execution_count": 8,
   "metadata": {},
   "outputs": [
    {
     "name": "stdout",
     "output_type": "stream",
     "text": [
      "Player lost a life!\n"
     ]
    }
   ],
   "source": [
    "# Nested if statements\n",
    "num_lives = 1\n",
    "health = 0\n",
    "\n",
    "if health <= 0:\n",
    "  if num_lives <= 0:\n",
    "    print('Player died!')\n",
    "  else:\n",
    "    num_lives -= 1\n",
    "    print('Player lost a life!')\n",
    "elif health < 10:\n",
    "  print('Warning, less than 10% health!')\n",
    "elif health < 50:\n",
    "  print('Warning, less than 50% health!')\n"
   ]
  },
  {
   "cell_type": "code",
   "execution_count": 9,
   "metadata": {},
   "outputs": [
    {
     "name": "stdout",
     "output_type": "stream",
     "text": [
      "Player died!\n"
     ]
    }
   ],
   "source": [
    "# Adding multiple test cases in one if statement\n",
    "health_kits = 0\n",
    "num_lives = 0\n",
    "health = 0\n",
    "\n",
    "if health <= 0 and health_kits <= 0:\n",
    "  if num_lives <= 0:\n",
    "    print('Player died!')\n",
    "  else:\n",
    "    num_lives -= 1\n",
    "    print('Player lost a life!')\n",
    "elif health < 10:\n",
    "  print('Warning, less than 10% health!')\n",
    "elif health < 50:\n",
    "  print('Warning, less than 50% health!')"
   ]
  },
  {
   "cell_type": "markdown",
   "metadata": {},
   "source": [
    "\n",
    "---\n",
    "[next](./05-loops.ipynb)"
   ]
  }
 ],
 "metadata": {
  "interpreter": {
   "hash": "0b4484ae063bf9ef0d5115063857dd0e382a2c73ed49a11a000ca56af03302b6"
  },
  "kernelspec": {
   "display_name": "Python 3.9.7 ('base')",
   "language": "python",
   "name": "python3"
  },
  "language_info": {
   "codemirror_mode": {
    "name": "ipython",
    "version": 3
   },
   "file_extension": ".py",
   "mimetype": "text/x-python",
   "name": "python",
   "nbconvert_exporter": "python",
   "pygments_lexer": "ipython3",
   "version": "3.9.7"
  },
  "orig_nbformat": 4
 },
 "nbformat": 4,
 "nbformat_minor": 2
}
