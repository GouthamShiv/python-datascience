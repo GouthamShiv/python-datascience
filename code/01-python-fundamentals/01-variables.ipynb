{
 "cells": [
  {
   "cell_type": "markdown",
   "metadata": {},
   "source": [
    "[back](./00-index.ipynb)\n",
    "\n",
    "---\n",
    "## `What are variables?`\n",
    "\n",
    "- Variables act as placeholders for data\n",
    "- Store values that can change\n",
    "- Have name, type and value\n",
    "- Takes a `none` value if no value is assigned\n",
    "\n",
    "## `Variable types`\n",
    "\n",
    "- Types dictate the kind of data that a variable can hold\n",
    "- Types are flexible in Python as it is dynamically typed language\n",
    "- We can create custom types (class and objects)\n",
    "- We can convert between most types\n",
    "- Standard library types are:\n",
    "    - `Booleans` (bool)\n",
    "    - `Floats` (float)\n",
    "    - `Integers` (int)\n",
    "    - `Strings` (str)\n",
    "\n",
    "### `01 Booleans`\n",
    "\n",
    "- Represent `true` or `false` data\n",
    "- Basically binary, something is either 1 or 0\n",
    "- Used when variable can only take on one of two states, such as an on/off switch\n",
    "- Often stores the result of some comparison operation\n",
    "\n",
    "### `02 Integers and Floats`\n",
    "\n",
    "- Represent numerical data\n",
    "- Integers are whole numbers\n",
    "- Floats are decimal numbers\n",
    "- No native `Double` type in Python\n",
    "\n",
    "### `03 Strings`\n",
    "\n",
    "- Represent text data\n",
    "- Anything between \"\" or ''\n",
    "- Used for names, messages, text, etc.\n",
    "- Can even contain text representation of numbers or true/false values"
   ]
  },
  {
   "cell_type": "code",
   "execution_count": 1,
   "metadata": {},
   "outputs": [
    {
     "name": "stdout",
     "output_type": "stream",
     "text": [
      "False\n",
      "True\n",
      "False\n"
     ]
    }
   ],
   "source": [
    "# Boolean\n",
    "is_game_over = False\n",
    "print(is_game_over)\n",
    "is_game_over = True\n",
    "print(is_game_over)\n",
    "is_game_over = 5 > 6\n",
    "print(is_game_over)"
   ]
  },
  {
   "cell_type": "code",
   "execution_count": 2,
   "metadata": {},
   "outputs": [
    {
     "name": "stdout",
     "output_type": "stream",
     "text": [
      "5\n",
      "0.5\n"
     ]
    }
   ],
   "source": [
    "# Numbers\n",
    "num_lives = 5\n",
    "print(num_lives)\n",
    "percent_health = 0.5\n",
    "print(percent_health)"
   ]
  },
  {
   "cell_type": "code",
   "execution_count": 3,
   "metadata": {},
   "outputs": [
    {
     "name": "stdout",
     "output_type": "stream",
     "text": [
      "Shiv\n",
      "Goutham\n"
     ]
    }
   ],
   "source": [
    "# Strings\n",
    "player_name = \"Shiv\"\n",
    "print(player_name)\n",
    "player_name = 'Goutham'\n",
    "print(player_name)"
   ]
  },
  {
   "cell_type": "code",
   "execution_count": 4,
   "metadata": {},
   "outputs": [
    {
     "name": "stdout",
     "output_type": "stream",
     "text": [
      "<class 'bool'>\n",
      "<class 'int'>\n",
      "<class 'float'>\n",
      "<class 'str'>\n"
     ]
    }
   ],
   "source": [
    "# Knowing the variable type\n",
    "print(type(is_game_over))\n",
    "print(type(num_lives))\n",
    "print(type(percent_health))\n",
    "print(type(player_name))"
   ]
  },
  {
   "cell_type": "markdown",
   "metadata": {},
   "source": [
    "## `Converting Types`\n",
    "\n",
    "- Converting between different variable types\n",
    "- What is and isn't allowed\n",
    "- Interesting tricks"
   ]
  },
  {
   "cell_type": "code",
   "execution_count": 5,
   "metadata": {},
   "outputs": [
    {
     "name": "stdout",
     "output_type": "stream",
     "text": [
      "<class 'str'>\n"
     ]
    }
   ],
   "source": [
    "num_lives = '5'\n",
    "print(type(num_lives))"
   ]
  },
  {
   "cell_type": "code",
   "execution_count": 6,
   "metadata": {},
   "outputs": [
    {
     "name": "stdout",
     "output_type": "stream",
     "text": [
      "<class 'int'>\n",
      "<class 'str'>\n"
     ]
    }
   ],
   "source": [
    "num_lives = 5\n",
    "str_num_lives = str(num_lives)\n",
    "print(type(num_lives))\n",
    "print(type(str_num_lives))"
   ]
  },
  {
   "cell_type": "code",
   "execution_count": 7,
   "metadata": {},
   "outputs": [
    {
     "name": "stdout",
     "output_type": "stream",
     "text": [
      "False\n",
      "True\n",
      "True\n",
      "True\n",
      "True\n",
      "True\n"
     ]
    }
   ],
   "source": [
    "print(bool(0))\n",
    "print(bool(1))\n",
    "print(bool(2))\n",
    "print(bool(0.1))\n",
    "print(bool('some string value'))\n",
    "print(bool('False'))"
   ]
  },
  {
   "cell_type": "code",
   "execution_count": 8,
   "metadata": {},
   "outputs": [
    {
     "name": "stdout",
     "output_type": "stream",
     "text": [
      "1\n",
      "0\n",
      "0\n",
      "0\n",
      "1\n"
     ]
    }
   ],
   "source": [
    "# Below line will throw an error as it cannot convert non-integer string to integer\n",
    "# print(int('some string'))\n",
    "print(int('1'))\n",
    "print(int(0.5))\n",
    "print(int(0.8))\n",
    "print(int(False))\n",
    "print(int(True))"
   ]
  },
  {
   "cell_type": "code",
   "execution_count": 9,
   "metadata": {},
   "outputs": [
    {
     "name": "stdout",
     "output_type": "stream",
     "text": [
      "1.0\n",
      "5.0\n",
      "0.0\n",
      "1.0\n"
     ]
    }
   ],
   "source": [
    "print(float('1'))\n",
    "print(float(5))\n",
    "print(float(False))\n",
    "print(float(True))"
   ]
  },
  {
   "cell_type": "markdown",
   "metadata": {},
   "source": [
    "\n",
    "---\n",
    "[next](./02-operators.ipynb)"
   ]
  }
 ],
 "metadata": {
  "interpreter": {
   "hash": "0b4484ae063bf9ef0d5115063857dd0e382a2c73ed49a11a000ca56af03302b6"
  },
  "kernelspec": {
   "display_name": "Python 3.9.7 ('base')",
   "language": "python",
   "name": "python3"
  },
  "language_info": {
   "codemirror_mode": {
    "name": "ipython",
    "version": 3
   },
   "file_extension": ".py",
   "mimetype": "text/x-python",
   "name": "python",
   "nbconvert_exporter": "python",
   "pygments_lexer": "ipython3",
   "version": "3.9.7"
  },
  "orig_nbformat": 4
 },
 "nbformat": 4,
 "nbformat_minor": 2
}
