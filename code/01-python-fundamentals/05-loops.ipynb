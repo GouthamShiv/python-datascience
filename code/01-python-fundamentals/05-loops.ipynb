{
 "cells": [
  {
   "cell_type": "markdown",
   "metadata": {},
   "source": [
    "[back](./04-conditions.ipynb)\n",
    "\n",
    "---\n",
    "## `What is covered`\n",
    "\n",
    "- [What are loops?](#what-are-loops)\n",
    "- [`While` loops](#01-while-loops)\n",
    "- [`For` loops](#02-for-loops)"
   ]
  },
  {
   "cell_type": "markdown",
   "metadata": {},
   "source": [
    "### `What are loops?`\n",
    "\n",
    "- Loops provide a way to automate code to run multiple times\n",
    "- We place statements in a loop and they are executed as continuously until some break-condition is met\n",
    "- We cab put whatever logic we want in the loop body, but all code within will be executed each time the loop runs"
   ]
  },
  {
   "cell_type": "markdown",
   "metadata": {},
   "source": [
    "#### `01 While Loops`\n",
    "\n",
    "- `While` loops function similar to if statements but run the code continuously rather than just once\n",
    "- Break out of `while` loop once the test condition evaluates to `False`\n",
    "- Very useful for when we don't know exactly how many times the loop should run\n",
    "- Can run infinitely if we're not careful"
   ]
  },
  {
   "cell_type": "code",
   "execution_count": 1,
   "metadata": {},
   "outputs": [
    {
     "name": "stdout",
     "output_type": "stream",
     "text": [
      "1\n",
      "2\n",
      "3\n",
      "4\n",
      "5\n",
      "You've reached the end of the while loop\n"
     ]
    }
   ],
   "source": [
    "# Creating and running a while loop\n",
    "x_pos = 0\n",
    "end_pos = 5\n",
    "while x_pos < end_pos:\n",
    "  x_pos += 1\n",
    "  print(x_pos)\n",
    "print('You\\'ve reached the end of the while loop')"
   ]
  },
  {
   "cell_type": "code",
   "execution_count": 2,
   "metadata": {},
   "outputs": [
    {
     "name": "stdout",
     "output_type": "stream",
     "text": [
      "1\n",
      "2\n",
      "3\n",
      "You've collided with the enemy\n",
      "Game over\n"
     ]
    }
   ],
   "source": [
    "# Breaking out of a while loop\n",
    "x_pos = 0\n",
    "end_pos = 5\n",
    "enemy_pos = 3\n",
    "while x_pos < end_pos:\n",
    "  x_pos += 1\n",
    "  print(x_pos)\n",
    "  if x_pos == enemy_pos:\n",
    "    print('You\\'ve collided with the enemy')\n",
    "    break;\n",
    "print('Game over')"
   ]
  },
  {
   "cell_type": "code",
   "execution_count": 3,
   "metadata": {},
   "outputs": [
    {
     "name": "stdout",
     "output_type": "stream",
     "text": [
      "1\n",
      "2\n",
      "3\n",
      "4\n",
      "5\n",
      "Game over\n"
     ]
    }
   ],
   "source": [
    "# Continue in a while loop\n",
    "x_pos = 0\n",
    "y_pos = 1\n",
    "end_pos = 5\n",
    "enemy_pos = 3\n",
    "while x_pos < end_pos:\n",
    "  x_pos += 1\n",
    "  print(x_pos)\n",
    "  if y_pos >= 1:\n",
    "    continue\n",
    "  if x_pos == enemy_pos:\n",
    "    print('You\\'ve collided with the enemy')\n",
    "    break\n",
    "print('Game over')\n"
   ]
  },
  {
   "cell_type": "markdown",
   "metadata": {},
   "source": [
    "#### `02 For Loops`\n",
    "\n",
    "- Often referred to as `for-in` loops in Python\n",
    "- Run a set number of times with specific start and end points\n",
    "- Visits every element in some `range` or `list`, starting at the beginning and finishing at the end"
   ]
  },
  {
   "cell_type": "code",
   "execution_count": 4,
   "metadata": {},
   "outputs": [
    {
     "name": "stdout",
     "output_type": "stream",
     "text": [
      "1 to 5 in loop\n",
      "1\n",
      "2\n",
      "3\n",
      "4\n",
      "5\n",
      "0 to 10 in loop, with steps of 2\n",
      "0\n",
      "2\n",
      "4\n",
      "6\n",
      "8\n",
      "10\n",
      "1 to 5 in reverse\n",
      "5\n",
      "4\n",
      "3\n",
      "2\n",
      "1\n"
     ]
    }
   ],
   "source": [
    "# Creating and running a for loop\n",
    "# Working with ranges and lists coupled with for-in loops\n",
    "\n",
    "print('1 to 5 in loop')\n",
    "for i in range(1,6):\n",
    "  print(i)\n",
    "\n",
    "print('0 to 10 in loop, with steps of 2')\n",
    "for i in range(0,11,2):\n",
    "  print(i)\n",
    "\n",
    "print('1 to 5 in reverse')\n",
    "for i in reversed(range(1,6)):\n",
    "  print(i)"
   ]
  },
  {
   "cell_type": "code",
   "execution_count": 5,
   "metadata": {},
   "outputs": [
    {
     "name": "stdout",
     "output_type": "stream",
     "text": [
      "Boots\n",
      "Arrows\n",
      "Bow\n",
      "Sword\n",
      "Coins\n"
     ]
    }
   ],
   "source": [
    "# For in loop with list\n",
    "inventory = ['Boots', 'Arrows', 'Bow', 'Sword', 'Coins']\n",
    "\n",
    "for item in inventory:\n",
    "  print(item)"
   ]
  },
  {
   "cell_type": "code",
   "execution_count": 6,
   "metadata": {},
   "outputs": [
    {
     "name": "stdout",
     "output_type": "stream",
     "text": [
      "inventory[0]: Boots\n",
      "inventory[1]: Arrows\n",
      "inventory[2]: Bow\n",
      "inventory[3]: Sword\n",
      "inventory[4]: Coins\n"
     ]
    }
   ],
   "source": [
    "# Other variations\n",
    "for i in range(0,len(inventory)):\n",
    "  print('inventory[' + str(i) + ']: ' + inventory[i])\n"
   ]
  },
  {
   "cell_type": "code",
   "execution_count": 7,
   "metadata": {},
   "outputs": [
    {
     "name": "stdout",
     "output_type": "stream",
     "text": [
      "inventory[0]: Boots\n",
      "inventory[1]: Arrows\n"
     ]
    }
   ],
   "source": [
    "# Control flows within for loops\n",
    "limit_to = 1\n",
    "for i in range(0, len(inventory)):\n",
    "  print('inventory[' + str(i) + ']: ' + inventory[i])\n",
    "  if i == limit_to:\n",
    "    break\n"
   ]
  },
  {
   "cell_type": "code",
   "execution_count": 8,
   "metadata": {},
   "outputs": [
    {
     "name": "stdout",
     "output_type": "stream",
     "text": [
      "inventory[0]: Boots\n",
      "inventory[2]: Bow\n",
      "inventory[3]: Sword\n",
      "inventory[4]: Coins\n"
     ]
    }
   ],
   "source": [
    "# Control flows within for loops\n",
    "skip_item = 1\n",
    "for i in range(0, len(inventory)):\n",
    "  if i == skip_item:\n",
    "    continue\n",
    "  print('inventory[' + str(i) + ']: ' + inventory[i])\n"
   ]
  },
  {
   "cell_type": "code",
   "execution_count": 9,
   "metadata": {},
   "outputs": [
    {
     "name": "stdout",
     "output_type": "stream",
     "text": [
      "inventory[0]: Boots\n",
      "inventory[1]: Arrows\n",
      "inventory[2]: Bow\n",
      "inventory[3]: Sword\n",
      "inventory[4]: Coins\n"
     ]
    }
   ],
   "source": [
    "idx = 0\n",
    "while idx < len(inventory):\n",
    "  print('inventory[' + str(idx) + ']: ' + inventory[idx])\n",
    "  idx += 1"
   ]
  },
  {
   "cell_type": "markdown",
   "metadata": {},
   "source": [
    "\n",
    "---\n",
    "[next](./06-functions.ipynb)"
   ]
  }
 ],
 "metadata": {
  "interpreter": {
   "hash": "0b4484ae063bf9ef0d5115063857dd0e382a2c73ed49a11a000ca56af03302b6"
  },
  "kernelspec": {
   "display_name": "Python 3.9.7 ('base')",
   "language": "python",
   "name": "python3"
  },
  "language_info": {
   "codemirror_mode": {
    "name": "ipython",
    "version": 3
   },
   "file_extension": ".py",
   "mimetype": "text/x-python",
   "name": "python",
   "nbconvert_exporter": "python",
   "pygments_lexer": "ipython3",
   "version": "3.9.7"
  },
  "orig_nbformat": 4
 },
 "nbformat": 4,
 "nbformat_minor": 2
}
