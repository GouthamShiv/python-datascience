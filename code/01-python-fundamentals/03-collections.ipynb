{
 "cells": [
  {
   "cell_type": "markdown",
   "metadata": {},
   "source": [
    "[back](./02-operators.ipynb)\n",
    "\n",
    "---\n",
    "## `What collections are?`\n",
    "\n",
    "- `Collections` provide a way to store multiple values in a single variable\n",
    "- Items in a collection are considered as elements\n",
    "- Elements can also be collections\n",
    "- Usually come with additional functionality\n",
    "- Types of collections\n",
    "    - [`Lists`](#01-lists)\n",
    "    - [`Tuples`](#02-tuples)\n",
    "    - [`Dictionaries`](#03-dictionaries)\n",
    "    - [`Ranges`](#04-ranges)"
   ]
  },
  {
   "cell_type": "markdown",
   "metadata": {},
   "source": [
    "### `01 Lists`\n",
    "\n",
    "- Lists store 0 or more items at specific indexes\n",
    "- Access elements based on their index\n",
    "- Cannot access items at indexes that don't exist\n",
    "- Lists can contain multiple types of variables in Python\n",
    "- Mutable"
   ]
  },
  {
   "cell_type": "code",
   "execution_count": 1,
   "metadata": {},
   "outputs": [
    {
     "name": "stdout",
     "output_type": "stream",
     "text": [
      "['Sword', 'Bread', 'Boots']\n",
      "<class 'list'>\n"
     ]
    }
   ],
   "source": [
    "# Creating lists\n",
    "inventory = ['Sword', 'Bread', 'Boots']\n",
    "print(inventory)\n",
    "print(type(inventory))"
   ]
  },
  {
   "cell_type": "code",
   "execution_count": 2,
   "metadata": {},
   "outputs": [
    {
     "name": "stdout",
     "output_type": "stream",
     "text": [
      "Sword\n",
      "<class 'str'>\n",
      "Coins\n",
      "['Coins', 'Bread', 'Boots']\n"
     ]
    }
   ],
   "source": [
    "# Accessing / modifying list elements\n",
    "print(inventory[0])\n",
    "print(type(inventory[0]))\n",
    "inventory[0] = 'Coins'\n",
    "print(inventory[0])\n",
    "print(inventory)"
   ]
  },
  {
   "cell_type": "code",
   "execution_count": 3,
   "metadata": {},
   "outputs": [
    {
     "name": "stdout",
     "output_type": "stream",
     "text": [
      "3\n",
      "Coins\n",
      "Boots\n",
      "['Coins', 'Bread', 'Boots', 'Hat']\n",
      "['Knife', 'Coins', 'Bread', 'Boots', 'Hat']\n",
      "['Knife', 'Coins', 'Bread', 'Boots']\n",
      "['Knife', 'Bread', 'Boots']\n",
      "[]\n"
     ]
    }
   ],
   "source": [
    "# Common list operations\n",
    "print(len(inventory))\n",
    "print(max(inventory))\n",
    "print(min(inventory))\n",
    "\n",
    "inventory.append('Hat')\n",
    "print(inventory)\n",
    "\n",
    "inventory.insert(0, 'Knife')\n",
    "print(inventory)\n",
    "\n",
    "inventory.pop()\n",
    "print(inventory)\n",
    "\n",
    "inventory.remove('Coins')\n",
    "print(inventory)\n",
    "\n",
    "inventory.clear()\n",
    "print(inventory)"
   ]
  },
  {
   "cell_type": "code",
   "execution_count": 4,
   "metadata": {},
   "outputs": [
    {
     "name": "stdout",
     "output_type": "stream",
     "text": [
      "[[1, 2, 3], [1, 2, 3, 4], [1, 2], [1, 2, 3]]\n",
      "<class 'list'>\n",
      "2\n",
      "5\n",
      "[[1, 2, 3], [1, 2, 3, 4], [1, 2], [1, 2, 3]]\n",
      "[[1, 2, 3], [1, 2, 3, 4], [1, 2], [1, 2, 3], [1, 2, 3, 4, 5]]\n",
      "[[1, 2, 3], [1, 2, 3, 4, 5], [1, 2], [1, 2, 3], [1, 2, 3, 4, 5]]\n"
     ]
    }
   ],
   "source": [
    "# Multidimensional List\n",
    "\n",
    "universe = [[1, 2, 3],\n",
    "            [1, 2, 3, 4],\n",
    "            [1, 2],\n",
    "            [1, 2, 3]]\n",
    "print(universe)\n",
    "print(type(universe))\n",
    "\n",
    "ninth_world = universe[2][1]\n",
    "print(ninth_world)\n",
    "\n",
    "ninth_world = 5\n",
    "print(ninth_world)\n",
    "print(universe)\n",
    "\n",
    "universe.append([1, 2, 3, 4, 5])\n",
    "print(universe)\n",
    "\n",
    "universe[1].append(5)\n",
    "print(universe)\n"
   ]
  },
  {
   "cell_type": "markdown",
   "metadata": {},
   "source": [
    "### `02 Tuples`\n",
    "\n",
    "- Similar to lists\n",
    "- Access elements based on their index\n",
    "- Immutable"
   ]
  },
  {
   "cell_type": "code",
   "execution_count": 5,
   "metadata": {},
   "outputs": [
    {
     "name": "stdout",
     "output_type": "stream",
     "text": [
      "('Health Kit', 4)\n",
      "<class 'tuple'>\n"
     ]
    }
   ],
   "source": [
    "# Creating Tuples\n",
    "item = ('Health Kit', 4)\n",
    "print(item)\n",
    "print(type(item))"
   ]
  },
  {
   "cell_type": "code",
   "execution_count": 6,
   "metadata": {},
   "outputs": [
    {
     "name": "stdout",
     "output_type": "stream",
     "text": [
      "Health Kit\n",
      "<class 'str'>\n",
      "('Knife', 1)\n"
     ]
    }
   ],
   "source": [
    "# Accessing Tuple elements\n",
    "name = item[0]\n",
    "print(name)\n",
    "print(type(name))\n",
    "\n",
    "# Error -> TypeError: 'tuple' object does not support item assignment\n",
    "# item[1] = 10\n",
    "item = ('Knife', 1)\n",
    "print(item)\n"
   ]
  },
  {
   "cell_type": "code",
   "execution_count": 7,
   "metadata": {},
   "outputs": [
    {
     "name": "stdout",
     "output_type": "stream",
     "text": [
      "1\n",
      "1\n",
      "3\n",
      "4\n",
      "2\n"
     ]
    }
   ],
   "source": [
    "# Common Tuple operations\n",
    "print(item.count('Knife'))\n",
    "print(item.index(1))\n",
    "\n",
    "item = (2, 3, 4)\n",
    "print(len(item))\n",
    "print(max(item))\n",
    "print(min(item))\n"
   ]
  },
  {
   "cell_type": "markdown",
   "metadata": {},
   "source": [
    "### `03 Dictionaries`\n",
    "\n",
    "- Store key-value pairs at each index\n",
    "- Each element is a tuple of key-value pair\n",
    "- Access values based on key, not index\n",
    "- Can also retrieve list of just keys or just values\n",
    "- Mutable"
   ]
  },
  {
   "cell_type": "code",
   "execution_count": 8,
   "metadata": {},
   "outputs": [
    {
     "name": "stdout",
     "output_type": "stream",
     "text": [
      "{'Knife': 1, 'Health Kit': 3, 'Coins': 5}\n",
      "<class 'dict'>\n"
     ]
    }
   ],
   "source": [
    "# Creating Dictionaries\n",
    "player_inventory = {'Knife': 1, 'Health Kit': 3, 'Coins': 5}\n",
    "print(player_inventory)\n",
    "print(type(player_inventory))"
   ]
  },
  {
   "cell_type": "code",
   "execution_count": 9,
   "metadata": {},
   "outputs": [
    {
     "name": "stdout",
     "output_type": "stream",
     "text": [
      "3\n",
      "{'Knife': 2, 'Health Kit': 3, 'Coins': 5}\n",
      "{'Knife': 2, 'Health Kit': 3, 'Coins': 5, 'Gold': 50}\n"
     ]
    }
   ],
   "source": [
    "# Accessing / modifying dictionary elements\n",
    "print(player_inventory['Health Kit'])\n",
    "\n",
    "player_inventory['Knife'] = 2\n",
    "print(player_inventory)\n",
    "\n",
    "player_inventory['Gold'] = 50\n",
    "print(player_inventory)"
   ]
  },
  {
   "cell_type": "code",
   "execution_count": 10,
   "metadata": {},
   "outputs": [
    {
     "name": "stdout",
     "output_type": "stream",
     "text": [
      "None\n",
      "dict_keys(['Knife', 'Health Kit', 'Coins'])\n",
      "<class 'dict_keys'>\n",
      "dict_values([1, 3, 5])\n",
      "<class 'dict_values'>\n",
      "3\n",
      "Knife\n",
      "Coins\n",
      "1\n",
      "{'Health Kit': 3, 'Coins': 5}\n",
      "{}\n"
     ]
    }
   ],
   "source": [
    "# Common dictionary operations\n",
    "player_inventory = {'Knife': 1, 'Health Kit': 3, 'Coins': 5}\n",
    "\n",
    "# Below line of code would give an error -> KeyError: 'Gold'\n",
    "# print(player_inventory['Gold'])\n",
    "print(player_inventory.get('Gold'))\n",
    "\n",
    "print(player_inventory.keys())\n",
    "print(type(player_inventory.keys()))\n",
    "print(player_inventory.values())\n",
    "print(type(player_inventory.values()))\n",
    "\n",
    "print(len(player_inventory))\n",
    "print(max(player_inventory))\n",
    "print(min(player_inventory))\n",
    "\n",
    "print(player_inventory.pop('Knife'))\n",
    "print(player_inventory)\n",
    "\n",
    "player_inventory.clear()\n",
    "print(player_inventory)\n"
   ]
  },
  {
   "cell_type": "markdown",
   "metadata": {},
   "source": [
    "### `04 Ranges`\n",
    "\n",
    "- Ranges represent lists of consecutive whole numbers but don't have the functionality of lists\n",
    "- Specify start and end values\n",
    "- Can also specify step values\n",
    "- Wrap in `reversed()` function to count backwards"
   ]
  },
  {
   "cell_type": "code",
   "execution_count": 11,
   "metadata": {},
   "outputs": [
    {
     "name": "stdout",
     "output_type": "stream",
     "text": [
      "<class 'range'>\n",
      "0\n",
      "9\n",
      "1\n",
      "10\n",
      "[1, 2, 3, 4, 5, 6, 7, 8, 9, 10]\n",
      "[0, 2, 4, 6, 8, 10]\n",
      "<class 'range_iterator'>\n",
      "[10, 9, 8, 7, 6, 5, 4, 3, 2, 1]\n",
      "True\n",
      "False\n",
      "True\n"
     ]
    }
   ],
   "source": [
    "# Creating a range with start and end parameters\n",
    "first_ten = range(10)\n",
    "print(type(first_ten))\n",
    "print(first_ten[0])\n",
    "print(first_ten[9])\n",
    "\n",
    "first_ten = range(1, 11)\n",
    "print(first_ten[0])\n",
    "print(first_ten[9])\n",
    "print(list(first_ten))\n",
    "\n",
    "# Add step parameter\n",
    "even_numbers = range(0, 11, 2)\n",
    "print(list(even_numbers))\n",
    "\n",
    "# Reverse a range\n",
    "reversed_ten = reversed(first_ten)\n",
    "print(type(reversed_ten))\n",
    "reversed_ten = list(reversed_ten)\n",
    "print(reversed_ten)\n",
    "\n",
    "# `in`, `not in` operators\n",
    "print(5 in first_ten)\n",
    "print(6 not in first_ten)\n",
    "print(15 not in first_ten)"
   ]
  },
  {
   "cell_type": "markdown",
   "metadata": {},
   "source": [
    "\n",
    "---\n",
    "[next](./04-conditions.ipynb)"
   ]
  }
 ],
 "metadata": {
  "interpreter": {
   "hash": "0b4484ae063bf9ef0d5115063857dd0e382a2c73ed49a11a000ca56af03302b6"
  },
  "kernelspec": {
   "display_name": "Python 3.9.7 ('base')",
   "language": "python",
   "name": "python3"
  },
  "language_info": {
   "codemirror_mode": {
    "name": "ipython",
    "version": 3
   },
   "file_extension": ".py",
   "mimetype": "text/x-python",
   "name": "python",
   "nbconvert_exporter": "python",
   "pygments_lexer": "ipython3",
   "version": "3.9.7"
  },
  "orig_nbformat": 4
 },
 "nbformat": 4,
 "nbformat_minor": 2
}
