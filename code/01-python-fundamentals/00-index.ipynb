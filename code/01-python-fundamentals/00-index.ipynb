{
 "cells": [
  {
   "cell_type": "markdown",
   "metadata": {},
   "source": [
    "[back](../index.ipynb)\n",
    "\n",
    "---\n",
    "# `Python` basics\n",
    "\n",
    "- [Variables](./01-variables.ipynb)\n",
    "- [Operators](./02-operators.ipynb)\n",
    "- [Collections](./03-collections.ipynb)\n",
    "- [Conditions](./04-conditions.ipynb)\n",
    "- [Loops](./05-loops.ipynb)\n",
    "- [Functions](./06-functions.ipynb)\n",
    "- [Classes and Objects](./07-classes-and-objects.ipynb)\n",
    "---\n",
    "[next](./01-variables.ipynb)"
   ]
  }
 ],
 "metadata": {
  "language_info": {
   "name": "python"
  },
  "orig_nbformat": 4
 },
 "nbformat": 4,
 "nbformat_minor": 2
}
