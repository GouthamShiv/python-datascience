{
 "cells": [
  {
   "cell_type": "markdown",
   "metadata": {},
   "source": [
    "[back](./06-functions.ipynb)\n",
    "\n",
    "---\n",
    "## `Classes and Objects - Topics covered`\n",
    "\n",
    "- [What are objects?](#01-what-are-objects)\n",
    "- [What are classes?](#02-what-are-classes)\n",
    "- [How do we use classes and objects?](#03-how-do-we-use-classes-and-objects)\n",
    "- [Inheritance](#04-inheritance)\n",
    "- [Static variables and functions](#05-static-members)"
   ]
  },
  {
   "cell_type": "markdown",
   "metadata": {},
   "source": [
    "### `01 What are objects?`\n",
    "\n",
    "- `Objects` are entities with state / properties and behavior\n",
    "    - `State` is a mix of all of the values of an object\n",
    "    - `Behavior` typically modifies the state\n",
    "- Modelled after real life entities"
   ]
  },
  {
   "cell_type": "markdown",
   "metadata": {},
   "source": [
    "### `02 What are classes?`\n",
    "\n",
    "- `Classes` are implementations of `objects`\n",
    "- `State` is represented with variables (`fields`)\n",
    "- `Behavior` is represented with functions (`methods`)\n",
    "- Special initializer function helps to set-up the initial state (set variable values)\n",
    "- Use the initializer to create instance of classes (objects)"
   ]
  },
  {
   "cell_type": "markdown",
   "metadata": {},
   "source": [
    "#### `Class example`\n",
    "1.  Create custom class to represent an object\n",
    "1.  Add some fields\n",
    "1.  Add an initializer\n",
    "1.  Add some methods"
   ]
  },
  {
   "cell_type": "code",
   "execution_count": 1,
   "metadata": {},
   "outputs": [],
   "source": [
    "class GameCharacter:\n",
    "  # Static variable\n",
    "  speed = 1.0\n",
    "  # Constructor is used to both declare and initialize the variables\n",
    "  def __init__(self, name, x_pos, health):\n",
    "    self.name = name\n",
    "    self.x_pos = x_pos\n",
    "    self.health = health\n",
    "  \n",
    "  def move(self, num_of_steps):\n",
    "    self.x_pos += num_of_steps\n",
    "  \n",
    "  def take_damage(self, amount_of_damage):\n",
    "    self.health -= amount_of_damage\n",
    "    if self.health < 0:\n",
    "      self.health = 0\n",
    "  \n",
    "  def check_if_dead(self):\n",
    "    return self.health <= 0\n",
    "  \n",
    "  # Static method\n",
    "  def change_speed(new_speed):\n",
    "    GameCharacter.speed = new_speed"
   ]
  },
  {
   "cell_type": "markdown",
   "metadata": {},
   "source": [
    "### `03 How do we use classes and objects?`\n",
    "\n",
    "- Class simply acts as a `blueprint` for an object\n",
    "- Use the initializer to create instances of classes (objects)\n",
    "- An object's initial state is set upon instantiation\n",
    "- We can use the object to access its fields or execute methods"
   ]
  },
  {
   "cell_type": "markdown",
   "metadata": {},
   "source": [
    "#### `Objects example`\n",
    "1.  Create an object from the above class\n",
    "1.  Accessing the object fields\n",
    "1.  Execute the object's methods"
   ]
  },
  {
   "cell_type": "code",
   "execution_count": 2,
   "metadata": {},
   "outputs": [
    {
     "name": "stdout",
     "output_type": "stream",
     "text": [
      "<class '__main__.GameCharacter'>\n",
      "Game character name:  Goutham\n",
      "New character name:  Shiv\n",
      "New character name after change:  Shivanna\n",
      "game_character after moving 8 steps from initial position:  13\n",
      "game_character after moving back 2 steps from current position:  11\n",
      "game_character after taking damage:  0\n",
      "Is game_character dead?:  True\n"
     ]
    }
   ],
   "source": [
    "# Calling the constructor\n",
    "game_character = GameCharacter('Goutham', 5, 100)\n",
    "new_character = GameCharacter('Shiv', 3, 100)\n",
    "print(type(game_character))\n",
    "\n",
    "print('Game character name: ', game_character.name)\n",
    "print('New character name: ', new_character.name)\n",
    "\n",
    "# Ideally should not change the variables directly, and instead use methods - like getters and setters\n",
    "new_character.name = 'Shivanna'\n",
    "print('New character name after change: ', new_character.name)\n",
    "\n",
    "game_character.move(8)\n",
    "print('game_character after moving 8 steps from initial position: ', game_character.x_pos)\n",
    "\n",
    "game_character.move(-2)\n",
    "print('game_character after moving back 2 steps from current position: ', game_character.x_pos)\n",
    "\n",
    "game_character.take_damage(200)\n",
    "print('game_character after taking damage: ', game_character.health)\n",
    "print('Is game_character dead?: ', game_character.check_if_dead())"
   ]
  },
  {
   "cell_type": "markdown",
   "metadata": {},
   "source": [
    "### `04 Inheritance`\n",
    "\n",
    "- Sometimes classes need to be **similar** but have **some unique fields or methods**\n",
    "- For these we use `inheritance` where **one class can inherit everything from another** but also **add its own stuff**\n",
    "- A `subclass` will inherit from a `superclass`\n",
    "- Sometimes we `override` a superclass implementation of a variable or function to provide a new one"
   ]
  },
  {
   "cell_type": "markdown",
   "metadata": {},
   "source": [
    "#### `Inheritance example`\n",
    "1.  Create a `subclass`\n",
    "1.  Compare it to the `superclass`\n",
    "1.  Difference in usage between the two"
   ]
  },
  {
   "cell_type": "code",
   "execution_count": 3,
   "metadata": {},
   "outputs": [],
   "source": [
    "# PlayerCharacter is subclass of GameCharacter (which becomes the superclass)\n",
    "class PlayerCharacter(GameCharacter):\n",
    "  def __init__(self, name, x_pos, health, num_lives):\n",
    "    super().__init__(name, x_pos, health)\n",
    "    self.max_health = health\n",
    "    self.num_lives = num_lives\n",
    "\n",
    "  def take_damage(self, amount_of_damage):\n",
    "    self.health -= amount_of_damage\n",
    "    if self.health <= 0:\n",
    "      self.num_lives -= 1\n",
    "      self.health = self.max_health\n",
    "\n",
    "  def check_if_dead(self):\n",
    "    return self.health <= 0 and self.num_lives <= 0\n"
   ]
  },
  {
   "cell_type": "code",
   "execution_count": 4,
   "metadata": {},
   "outputs": [
    {
     "name": "stdout",
     "output_type": "stream",
     "text": [
      "Player character health:  100\n",
      "Move player character by 2 steps:  2\n",
      "Move game character by 2 steps:  2\n",
      "Player character after taking 150 damage:  100\n",
      "Game character after taking 150 damage:  0\n",
      "Is player character dead?:  False\n",
      "Is game character dead?:  True\n"
     ]
    }
   ],
   "source": [
    "player_char = PlayerCharacter('Goutham', 0, 100, 3)\n",
    "game_char = GameCharacter('Wolf', 0, 100)\n",
    "\n",
    "print('Player character health: ', player_char.max_health)\n",
    "# The superclass GameCharacter doesn't have access to max_health\n",
    "# so, print(game_char.max_health) will throw an error\n",
    "\n",
    "player_char.move(2)\n",
    "print('Move player character by 2 steps: ', player_char.x_pos)\n",
    "\n",
    "game_char.move(2)\n",
    "print('Move game character by 2 steps: ', game_char.x_pos)\n",
    "\n",
    "# Makes calls to their own implementation of take_damage()\n",
    "player_char.take_damage(150)\n",
    "game_char.take_damage(150)\n",
    "\n",
    "print('Player character after taking 150 damage: ', player_char.health)\n",
    "print('Game character after taking 150 damage: ', game_char.health)\n",
    "\n",
    "# Makes calls to their own implementation of check_if_dead()\n",
    "print('Is player character dead?: ', player_char.check_if_dead())\n",
    "print('Is game character dead?: ', game_char.check_if_dead())\n"
   ]
  },
  {
   "cell_type": "markdown",
   "metadata": {},
   "source": [
    "### `05 Static Members`\n",
    "\n",
    "- Static variables and functions **belong to a whole class** rather then just an instance\n",
    "- Static variables **hold their values across all instances** of the class\n",
    "- Don't have to create an instance of the class to get the value _(as it belongs to the class)_\n",
    "- Static functions follow a similar concept to static variables"
   ]
  },
  {
   "cell_type": "markdown",
   "metadata": {},
   "source": [
    "#### `Static Members example`\n",
    "1.  Create some `static variables`\n",
    "1.  Create some `static functions`\n",
    "1.  Access and use static members"
   ]
  },
  {
   "cell_type": "code",
   "execution_count": 5,
   "metadata": {},
   "outputs": [
    {
     "name": "stdout",
     "output_type": "stream",
     "text": [
      "Speed for wolf:  1.0\n",
      "Speed for lion:  1.0\n",
      "Speed of GameCharacter:  1.0\n",
      "\n",
      "Updated GameCharacter speed to:  2.0\n",
      "Speed for wolf:  2.0\n",
      "Speed for lion:  2.0\n",
      "\n",
      "Updated GameCharacter speed to:  3.0\n",
      "Speed for wolf:  3.0\n",
      "Speed for lion:  3.0\n",
      "\n",
      "Updated GameCharacter speed to:  3.0\n",
      "Speed for wolf:  6.0\n",
      "Speed for lion:  3.0\n"
     ]
    }
   ],
   "source": [
    "# Static variable and method are added to GameCharacter class\n",
    "\n",
    "game_char_1 = GameCharacter('Wolf', 0, 100)\n",
    "game_char_2 = GameCharacter('Lion', 2, 150)\n",
    "\n",
    "# Accessing it via the object\n",
    "print('Speed for wolf: ', game_char_1.speed)\n",
    "print('Speed for lion: ', game_char_2.speed)\n",
    "\n",
    "# Static variable can be accessed via Class name\n",
    "print('Speed of GameCharacter: ', GameCharacter.speed)\n",
    "\n",
    "# Updating value of static variable\n",
    "GameCharacter.speed = 2.0\n",
    "print('\\nUpdated GameCharacter speed to: ', GameCharacter.speed)\n",
    "\n",
    "print('Speed for wolf: ', game_char_1.speed)\n",
    "print('Speed for lion: ', game_char_2.speed)\n",
    "\n",
    "# Accessing static method\n",
    "GameCharacter.change_speed(3.0)\n",
    "print('\\nUpdated GameCharacter speed to: ', GameCharacter.speed)\n",
    "\n",
    "print('Speed for wolf: ', game_char_1.speed)\n",
    "print('Speed for lion: ', game_char_2.speed)\n",
    "\n",
    "# Python allows to change the static variable's value of a class via one of it's object\n",
    "# But, this is a bad practice and should not be done.\n",
    "game_char_1.speed = 6.0\n",
    "print('\\nUpdated GameCharacter speed to: ', GameCharacter.speed)\n",
    "\n",
    "print('Speed for wolf: ', game_char_1.speed)\n",
    "print('Speed for lion: ', game_char_2.speed)\n"
   ]
  },
  {
   "cell_type": "markdown",
   "metadata": {},
   "source": [
    "\n",
    "---\n",
    "[next](../02-data-visualization-with-python-and-matplotlib/00-index.ipynb)"
   ]
  }
 ],
 "metadata": {
  "interpreter": {
   "hash": "0b4484ae063bf9ef0d5115063857dd0e382a2c73ed49a11a000ca56af03302b6"
  },
  "kernelspec": {
   "display_name": "Python 3.9.7 ('base')",
   "language": "python",
   "name": "python3"
  },
  "language_info": {
   "codemirror_mode": {
    "name": "ipython",
    "version": 3
   },
   "file_extension": ".py",
   "mimetype": "text/x-python",
   "name": "python",
   "nbconvert_exporter": "python",
   "pygments_lexer": "ipython3",
   "version": "3.9.7"
  },
  "orig_nbformat": 4
 },
 "nbformat": 4,
 "nbformat_minor": 2
}
