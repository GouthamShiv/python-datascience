{
 "cells": [
  {
   "cell_type": "markdown",
   "metadata": {},
   "source": [
    "[back](./03C-association-and-correlation.ipynb)\n",
    "\n",
    "---\n",
    "## `Dimensionality Reduction`\n",
    "\n",
    "A very common issue with **dimensionality** is with having a lot of **dimensions** is called as _curse of dimensionality_\n",
    "\n",
    "> _curse of dimensionality:_\n",
    ">\n",
    "> As a number of features or dimensions grows, the amount of data that we need to generalize accurately grows exponentially\n",
    "\n",
    "So, if we have more features, meaning we have more columns in our DataFrame then we'll need a lot more rules, data-points to counter this sparsity that you get from the growth of the feature.\n",
    "\n",
    "That's why we want to do our best to reduce the features and for that, `PCA` - **Principal Component Analysis** is the No.1 technique that people use in data-science to accomplish this, to reduce the number of features.\n",
    "\n",
    "The implementation of it via the code is easy, but behind the scenes, we can think about `PCA` like it is a **compressor**.\n",
    "\n",
    "So say, at the start we are having originally about 100 features and we are trying to compress them so that in the end, we get 10 new features. But the 10 new features are made up with some percentage of the _original feature one_, some percentage of the _original feature two_ and some percentage of _original feature three and so forth_.\n",
    "\n",
    "So, what we will be loosing there is that we will not be able to interpret the features as before, like the previous example, _number of bedrooms_ is a pretty easy to understand what it means as a feature, likely number of bathrooms or squareFootage etc.\n",
    "\n",
    "But, if we are saying that 20% is coming from bathrooms, 30% from bedrooms, the rest is coming from squareFootage and this is our _new feature number one_ then this is not so easy to understand what that it means. Rather on the flip-side, we can really avoid this _curse of dimensionality_ and really compress our feature space."
   ]
  },
  {
   "cell_type": "markdown",
   "metadata": {},
   "source": [
    "### `Initial Setup`"
   ]
  },
  {
   "cell_type": "code",
   "execution_count": 1,
   "metadata": {},
   "outputs": [],
   "source": [
    "# Imports\n",
    "import seaborn as sns\n",
    "import pandas as pd\n",
    "import numpy as np\n",
    "import seaborn as sns  # Library used to print nicer charts and visualizations\n",
    "import matplotlib.pyplot as plt\n",
    "\n",
    "%matplotlib inline\n",
    "\n",
    "from sklearn.decomposition import PCA\n",
    "from sklearn.preprocessing import StandardScaler\n"
   ]
  },
  {
   "cell_type": "code",
   "execution_count": 2,
   "metadata": {},
   "outputs": [],
   "source": [
    "from sklearn.linear_model import LinearRegression\n",
    "from sklearn.model_selection import train_test_split\n"
   ]
  },
  {
   "cell_type": "code",
   "execution_count": 3,
   "metadata": {},
   "outputs": [
    {
     "data": {
      "text/html": [
       "<div>\n",
       "<style scoped>\n",
       "    .dataframe tbody tr th:only-of-type {\n",
       "        vertical-align: middle;\n",
       "    }\n",
       "\n",
       "    .dataframe tbody tr th {\n",
       "        vertical-align: top;\n",
       "    }\n",
       "\n",
       "    .dataframe thead th {\n",
       "        text-align: right;\n",
       "    }\n",
       "</style>\n",
       "<table border=\"1\" class=\"dataframe\">\n",
       "  <thead>\n",
       "    <tr style=\"text-align: right;\">\n",
       "      <th></th>\n",
       "      <th>id</th>\n",
       "      <th>address</th>\n",
       "      <th>city</th>\n",
       "      <th>state</th>\n",
       "      <th>zipcode</th>\n",
       "      <th>latitude</th>\n",
       "      <th>longitude</th>\n",
       "      <th>bedrooms</th>\n",
       "      <th>bathrooms</th>\n",
       "      <th>rooms</th>\n",
       "      <th>squareFootage</th>\n",
       "      <th>lotSize</th>\n",
       "      <th>yearBuilt</th>\n",
       "      <th>lastSaleDate</th>\n",
       "      <th>lastSaleAmount</th>\n",
       "      <th>priorSaleDate</th>\n",
       "      <th>priorSaleAmount</th>\n",
       "      <th>estimated_value</th>\n",
       "    </tr>\n",
       "  </thead>\n",
       "  <tbody>\n",
       "    <tr>\n",
       "      <th>0</th>\n",
       "      <td>39525749</td>\n",
       "      <td>8171 E 84th Ave</td>\n",
       "      <td>Denver</td>\n",
       "      <td>CO</td>\n",
       "      <td>80022</td>\n",
       "      <td>39.84916</td>\n",
       "      <td>-104.893468</td>\n",
       "      <td>3</td>\n",
       "      <td>2.0</td>\n",
       "      <td>6</td>\n",
       "      <td>1378</td>\n",
       "      <td>9968</td>\n",
       "      <td>2003.0</td>\n",
       "      <td>2009-12-17</td>\n",
       "      <td>75000</td>\n",
       "      <td>2004-05-13</td>\n",
       "      <td>165700.0</td>\n",
       "      <td>239753</td>\n",
       "    </tr>\n",
       "    <tr>\n",
       "      <th>1</th>\n",
       "      <td>184578398</td>\n",
       "      <td>10556 Wheeling St</td>\n",
       "      <td>Denver</td>\n",
       "      <td>CO</td>\n",
       "      <td>80022</td>\n",
       "      <td>39.88802</td>\n",
       "      <td>-104.830930</td>\n",
       "      <td>2</td>\n",
       "      <td>2.0</td>\n",
       "      <td>6</td>\n",
       "      <td>1653</td>\n",
       "      <td>6970</td>\n",
       "      <td>2004.0</td>\n",
       "      <td>2004-09-23</td>\n",
       "      <td>216935</td>\n",
       "      <td>NaN</td>\n",
       "      <td>NaN</td>\n",
       "      <td>343963</td>\n",
       "    </tr>\n",
       "    <tr>\n",
       "      <th>2</th>\n",
       "      <td>184430015</td>\n",
       "      <td>3190 Wadsworth Blvd</td>\n",
       "      <td>Denver</td>\n",
       "      <td>CO</td>\n",
       "      <td>80033</td>\n",
       "      <td>39.76171</td>\n",
       "      <td>-105.081070</td>\n",
       "      <td>3</td>\n",
       "      <td>1.0</td>\n",
       "      <td>0</td>\n",
       "      <td>1882</td>\n",
       "      <td>23875</td>\n",
       "      <td>1917.0</td>\n",
       "      <td>2008-04-03</td>\n",
       "      <td>330000</td>\n",
       "      <td>NaN</td>\n",
       "      <td>NaN</td>\n",
       "      <td>488840</td>\n",
       "    </tr>\n",
       "    <tr>\n",
       "      <th>3</th>\n",
       "      <td>155129946</td>\n",
       "      <td>3040 Wadsworth Blvd</td>\n",
       "      <td>Denver</td>\n",
       "      <td>CO</td>\n",
       "      <td>80033</td>\n",
       "      <td>39.76078</td>\n",
       "      <td>-105.081060</td>\n",
       "      <td>4</td>\n",
       "      <td>3.0</td>\n",
       "      <td>0</td>\n",
       "      <td>2400</td>\n",
       "      <td>11500</td>\n",
       "      <td>1956.0</td>\n",
       "      <td>2008-12-02</td>\n",
       "      <td>185000</td>\n",
       "      <td>2008-06-27</td>\n",
       "      <td>0.0</td>\n",
       "      <td>494073</td>\n",
       "    </tr>\n",
       "  </tbody>\n",
       "</table>\n",
       "</div>"
      ],
      "text/plain": [
       "          id              address    city state  zipcode  latitude  \\\n",
       "0   39525749      8171 E 84th Ave  Denver    CO    80022  39.84916   \n",
       "1  184578398    10556 Wheeling St  Denver    CO    80022  39.88802   \n",
       "2  184430015  3190 Wadsworth Blvd  Denver    CO    80033  39.76171   \n",
       "3  155129946  3040 Wadsworth Blvd  Denver    CO    80033  39.76078   \n",
       "\n",
       "    longitude  bedrooms  bathrooms  rooms  squareFootage  lotSize  yearBuilt  \\\n",
       "0 -104.893468         3        2.0      6           1378     9968     2003.0   \n",
       "1 -104.830930         2        2.0      6           1653     6970     2004.0   \n",
       "2 -105.081070         3        1.0      0           1882    23875     1917.0   \n",
       "3 -105.081060         4        3.0      0           2400    11500     1956.0   \n",
       "\n",
       "  lastSaleDate  lastSaleAmount priorSaleDate  priorSaleAmount  estimated_value  \n",
       "0   2009-12-17           75000    2004-05-13         165700.0           239753  \n",
       "1   2004-09-23          216935           NaN              NaN           343963  \n",
       "2   2008-04-03          330000           NaN              NaN           488840  \n",
       "3   2008-12-02          185000    2008-06-27              0.0           494073  "
      ]
     },
     "execution_count": 3,
     "metadata": {},
     "output_type": "execute_result"
    }
   ],
   "source": [
    "df = pd.read_csv(r'../../assets/single_family_home_values.csv')\n",
    "df.head(4)\n"
   ]
  },
  {
   "cell_type": "code",
   "execution_count": 4,
   "metadata": {},
   "outputs": [
    {
     "data": {
      "text/html": [
       "<div>\n",
       "<style scoped>\n",
       "    .dataframe tbody tr th:only-of-type {\n",
       "        vertical-align: middle;\n",
       "    }\n",
       "\n",
       "    .dataframe tbody tr th {\n",
       "        vertical-align: top;\n",
       "    }\n",
       "\n",
       "    .dataframe thead th {\n",
       "        text-align: right;\n",
       "    }\n",
       "</style>\n",
       "<table border=\"1\" class=\"dataframe\">\n",
       "  <thead>\n",
       "    <tr style=\"text-align: right;\">\n",
       "      <th></th>\n",
       "      <th>bedrooms</th>\n",
       "      <th>bathrooms</th>\n",
       "      <th>rooms</th>\n",
       "      <th>squareFootage</th>\n",
       "      <th>lotSize</th>\n",
       "      <th>yearBuilt</th>\n",
       "      <th>priorSaleAmount</th>\n",
       "    </tr>\n",
       "  </thead>\n",
       "  <tbody>\n",
       "    <tr>\n",
       "      <th>0</th>\n",
       "      <td>3</td>\n",
       "      <td>2.0</td>\n",
       "      <td>6</td>\n",
       "      <td>1378</td>\n",
       "      <td>9968</td>\n",
       "      <td>2003.0</td>\n",
       "      <td>165700.0</td>\n",
       "    </tr>\n",
       "    <tr>\n",
       "      <th>1</th>\n",
       "      <td>2</td>\n",
       "      <td>2.0</td>\n",
       "      <td>6</td>\n",
       "      <td>1653</td>\n",
       "      <td>6970</td>\n",
       "      <td>2004.0</td>\n",
       "      <td>0.0</td>\n",
       "    </tr>\n",
       "    <tr>\n",
       "      <th>2</th>\n",
       "      <td>3</td>\n",
       "      <td>1.0</td>\n",
       "      <td>0</td>\n",
       "      <td>1882</td>\n",
       "      <td>23875</td>\n",
       "      <td>1917.0</td>\n",
       "      <td>0.0</td>\n",
       "    </tr>\n",
       "    <tr>\n",
       "      <th>3</th>\n",
       "      <td>4</td>\n",
       "      <td>3.0</td>\n",
       "      <td>0</td>\n",
       "      <td>2400</td>\n",
       "      <td>11500</td>\n",
       "      <td>1956.0</td>\n",
       "      <td>0.0</td>\n",
       "    </tr>\n",
       "    <tr>\n",
       "      <th>4</th>\n",
       "      <td>3</td>\n",
       "      <td>4.0</td>\n",
       "      <td>8</td>\n",
       "      <td>2305</td>\n",
       "      <td>5600</td>\n",
       "      <td>1998.0</td>\n",
       "      <td>0.0</td>\n",
       "    </tr>\n",
       "  </tbody>\n",
       "</table>\n",
       "</div>"
      ],
      "text/plain": [
       "   bedrooms  bathrooms  rooms  squareFootage  lotSize  yearBuilt  \\\n",
       "0         3        2.0      6           1378     9968     2003.0   \n",
       "1         2        2.0      6           1653     6970     2004.0   \n",
       "2         3        1.0      0           1882    23875     1917.0   \n",
       "3         4        3.0      0           2400    11500     1956.0   \n",
       "4         3        4.0      8           2305     5600     1998.0   \n",
       "\n",
       "   priorSaleAmount  \n",
       "0         165700.0  \n",
       "1              0.0  \n",
       "2              0.0  \n",
       "3              0.0  \n",
       "4              0.0  "
      ]
     },
     "execution_count": 4,
     "metadata": {},
     "output_type": "execute_result"
    }
   ],
   "source": [
    "# X will be all the columns, without estimated_value\n",
    "X = df.drop('estimated_value', axis=1)\n",
    "X = X[['bedrooms', 'bathrooms', 'rooms', 'squareFootage',\n",
    "       'lotSize', 'yearBuilt', 'priorSaleAmount']]\n",
    "X.fillna(0, inplace=True)\n",
    "X.head()\n"
   ]
  },
  {
   "cell_type": "code",
   "execution_count": 5,
   "metadata": {},
   "outputs": [
    {
     "data": {
      "text/plain": [
       "0         239753\n",
       "1         343963\n",
       "2         488840\n",
       "3         494073\n",
       "4         513676\n",
       "          ...   \n",
       "14995    1080081\n",
       "14996     807306\n",
       "14997    1737156\n",
       "14998    2008794\n",
       "14999    1421401\n",
       "Name: estimated_value, Length: 15000, dtype: int64"
      ]
     },
     "execution_count": 5,
     "metadata": {},
     "output_type": "execute_result"
    }
   ],
   "source": [
    "y = df.estimated_value\n",
    "y"
   ]
  },
  {
   "cell_type": "markdown",
   "metadata": {},
   "source": [
    "### `PCA - Principal Component Analysis`"
   ]
  },
  {
   "cell_type": "code",
   "execution_count": 6,
   "metadata": {},
   "outputs": [],
   "source": [
    "from sklearn.decomposition import PCA\n"
   ]
  },
  {
   "cell_type": "code",
   "execution_count": 7,
   "metadata": {},
   "outputs": [],
   "source": [
    "pca = PCA(4)"
   ]
  },
  {
   "cell_type": "markdown",
   "metadata": {},
   "source": [
    "We are declaring that we need **4 components**. We surely might not know this at the beginning so we might have to do some analysis or use elbow approach to determine where we need to stop and use that value.\n",
    "\n",
    "Finally, we need to have the new feature set lower than the original feature set. So, sometime we need to do a lot of trial and errors and other times we can look at Elbow plots to see what is the drop in the explained variance by adding a new feature _(increasing the count)_.\n",
    "\n",
    "So, that where we can customize and decide what number is best.\n",
    "\n",
    "Now, we have our `X`, our initial feature set, with 15000 rows and 7 columns and we'll take look at how we can use `PCA` to compress our feature set and get the new feature set."
   ]
  },
  {
   "cell_type": "code",
   "execution_count": 8,
   "metadata": {},
   "outputs": [
    {
     "data": {
      "text/plain": [
       "(15000, 7)"
      ]
     },
     "execution_count": 8,
     "metadata": {},
     "output_type": "execute_result"
    }
   ],
   "source": [
    "X.shape"
   ]
  },
  {
   "cell_type": "code",
   "execution_count": 9,
   "metadata": {},
   "outputs": [],
   "source": [
    "X_transformed = pca.fit_transform(X) # This will fit and transform"
   ]
  },
  {
   "cell_type": "code",
   "execution_count": 10,
   "metadata": {},
   "outputs": [
    {
     "data": {
      "text/plain": [
       "(15000, 4)"
      ]
     },
     "execution_count": 10,
     "metadata": {},
     "output_type": "execute_result"
    }
   ],
   "source": [
    "X_transformed.shape"
   ]
  },
  {
   "cell_type": "markdown",
   "metadata": {},
   "source": [
    "We can see that we keep the same number of rows, but we have the columns _(features)_ reduced to 4.\n",
    "\n",
    "And now we can use a very useful function in `PCA`, **.components_**, will give the components."
   ]
  },
  {
   "cell_type": "code",
   "execution_count": 11,
   "metadata": {},
   "outputs": [
    {
     "data": {
      "text/plain": [
       "array([[ 4.34835866e-07,  1.39033126e-06,  1.76645671e-06,\n",
       "         9.91884229e-04,  1.22556479e-03,  8.13159056e-06,\n",
       "         9.99998757e-01],\n",
       "       [ 4.59899754e-05,  8.88602690e-05,  1.02614970e-04,\n",
       "         9.51591022e-02,  9.95457158e-01,  2.83604230e-03,\n",
       "        -1.31440908e-03],\n",
       "       [-7.41279240e-04, -1.10361769e-03, -1.93477104e-03,\n",
       "        -9.95458475e-01,  9.51576074e-02,  1.08902953e-03,\n",
       "         8.70755249e-04],\n",
       "       [ 2.87494377e-03, -3.44585965e-03,  6.23055904e-03,\n",
       "        -8.24565322e-04,  2.92725018e-03, -9.99965895e-01,\n",
       "         5.35419321e-06]])"
      ]
     },
     "execution_count": 11,
     "metadata": {},
     "output_type": "execute_result"
    }
   ],
   "source": [
    "pca.components_"
   ]
  },
  {
   "cell_type": "code",
   "execution_count": 12,
   "metadata": {},
   "outputs": [
    {
     "data": {
      "text/plain": [
       "(4, 7)"
      ]
     },
     "execution_count": 12,
     "metadata": {},
     "output_type": "execute_result"
    }
   ],
   "source": [
    "# The shape of .components\n",
    "pca.components_.shape"
   ]
  },
  {
   "cell_type": "markdown",
   "metadata": {},
   "source": [
    "The shape of **.components_** says 4x7, meaning we have 4 components and each of these components is made up by the original 7 components.\n",
    "\n",
    "Let's look at the first component, the first new feature that we have after the transformation."
   ]
  },
  {
   "cell_type": "code",
   "execution_count": 13,
   "metadata": {},
   "outputs": [
    {
     "data": {
      "text/plain": [
       "array([4.34835866e-07, 1.39033126e-06, 1.76645671e-06, 9.91884229e-04,\n",
       "       1.22556479e-03, 8.13159056e-06, 9.99998757e-01])"
      ]
     },
     "execution_count": 13,
     "metadata": {},
     "output_type": "execute_result"
    }
   ],
   "source": [
    "# The first new feature\n",
    "pca.components_[0]"
   ]
  },
  {
   "cell_type": "markdown",
   "metadata": {},
   "source": [
    "We see that this new component has **seven members**, meaning these are the weights that we assigned to the original feature.\n",
    "\n",
    "That is, 0 element is the weight assigned to the original feature 0 etc"
   ]
  },
  {
   "cell_type": "code",
   "execution_count": 14,
   "metadata": {},
   "outputs": [],
   "source": [
    "lg = LinearRegression()"
   ]
  },
  {
   "cell_type": "code",
   "execution_count": 15,
   "metadata": {},
   "outputs": [],
   "source": [
    "X_train, X_test, y_train, y_test = train_test_split(X_transformed, y)"
   ]
  },
  {
   "cell_type": "code",
   "execution_count": 16,
   "metadata": {},
   "outputs": [
    {
     "data": {
      "text/plain": [
       "LinearRegression()"
      ]
     },
     "execution_count": 16,
     "metadata": {},
     "output_type": "execute_result"
    }
   ],
   "source": [
    "lg.fit(X_train, y_train)"
   ]
  },
  {
   "cell_type": "code",
   "execution_count": 17,
   "metadata": {},
   "outputs": [
    {
     "data": {
      "text/plain": [
       "0.7526938605656514"
      ]
     },
     "execution_count": 17,
     "metadata": {},
     "output_type": "execute_result"
    }
   ],
   "source": [
    "lg.score(X_test, y_test)"
   ]
  },
  {
   "cell_type": "markdown",
   "metadata": {},
   "source": [
    "So, comparing to the previous result using the LinearRegression value **0.7580178906271744**, we see that this is almost the same compared to this **transformed feature-set**.\n",
    "\n",
    "We can say that we actually did not need `PCA` as in fact we only have 7 features and it's really not a lot of features.\n",
    "\n",
    "But, if in case we were using our original dataset, which had a lot of fields (excluding the prediction variable), then may be `PCA` could have been a better choice."
   ]
  },
  {
   "cell_type": "markdown",
   "metadata": {},
   "source": [
    "#### `What is Principal Components Analysis (PCA)?`\n",
    "\n",
    "`PCA` is a complexity-reduction technique that tries to reduce a set of variables down to a smaller set of components that represent most of the information in the variables.\n",
    "\n",
    "At a conceptual level, `PCA` works by identifying sets of variables that share variance, and creating a component to represent that variance.\n",
    "\n",
    "For example, the two images below represent the two different ways of sharing variance across three variables.  In each, overlapping areas represent shared variance.  \n",
    "\n",
    "<p align=\"center\">\n",
    "  <img src=\"../../assets/pca_pic.png\" alt=\"PCA Example\">\n",
    "</p>\n",
    "\n",
    "A `PCA` of set A would probably result in one component representing the variance shared by all three, discarding the rest of the information in the circles.\n",
    "\n",
    "A `PCA` of set B, on the other hand, would probably result in two components, one representing the overlapping area shared by magenta and cyan, and one representing the variance in yellow not already included in the magenta/cyan component.  In both cases, some variance is lost.\n",
    "\n",
    "#### Why `PCA`?\n",
    "\n",
    "Losing variance in exchange for a smaller set of features can be worthwhile. Some model types (such as regression) assume that features will be uncorrelated with each other, and high levels of inter-feature correlation create unstable solutions.\n",
    "\n",
    "Solutions with fewer features are easier to understand and are more computationally efficient. Solutions with fewer features are also less vulnerable to over-fitting.\n",
    "\n",
    "**Curse of dimensionality:**\n",
    "Working with data becomes more demanding as the number of dimensions increases.\n",
    "\n",
    "<p align=\"center\">\n",
    "  <img src=\"../../assets/curse_of_dimensionality.png\" alt=\"Curse of Dimensionality\">\n",
    "</p>\n",
    "\n",
    "With n = 1, there are only 5 boxes to search. With n = 2, there are now 25 boxes; and with n = 3, there are 125 boxes to search. As n gets bigger, it becomes difficult to sample all the boxes. This makes the treasure harder to find — especially as many of the boxes are likely to be empty!\n",
    "\n",
    "In general, with n dimensions each allowing for m states, we will have m^n possible combinations. Try plugging in a few different values and you will be convinced that this presents a workload-versus-sampling challenge to machines tasked with repeatedly sampling different combinations of variables.\n",
    "\n",
    "With high-dimensional data, we simply cannot comprehensively sample all the possible combinations, leaving vast regions of feature space in the dark."
   ]
  },
  {
   "cell_type": "code",
   "execution_count": 18,
   "metadata": {},
   "outputs": [
    {
     "name": "stdout",
     "output_type": "stream",
     "text": [
      "  cntry  idno  year  tvtot  ppltrst  pplfair  pplhlp  happy  sclmeet  sclact  \\\n",
      "0    CH   5.0     6    3.0      3.0     10.0     5.0    8.0      5.0     4.0   \n",
      "1    CH  25.0     6    6.0      5.0      7.0     5.0    9.0      3.0     2.0   \n",
      "\n",
      "   gndr  agea  partner  \n",
      "0   2.0  60.0      1.0  \n",
      "1   2.0  59.0      1.0  \n"
     ]
    },
    {
     "name": "stderr",
     "output_type": "stream",
     "text": [
      "/Users/goutham/opt/anaconda3/lib/python3.9/site-packages/seaborn/_decorators.py:36: FutureWarning: Pass the following variables as keyword args: x, y, data. From version 0.12, the only valid positional argument will be `data`, and passing other arguments without an explicit keyword will result in an error or misinterpretation.\n",
      "  warnings.warn(\n"
     ]
    },
    {
     "data": {
      "image/png": "[encoded data removed]",
      "text/plain": [
       "<Figure size 432x288 with 1 Axes>"
      ]
     },
     "metadata": {},
     "output_type": "display_data"
    },
    {
     "data": {
      "image/png": "[encoded data removed]",
      "text/plain": [
       "<Figure size 432x288 with 1 Axes>"
      ]
     },
     "metadata": {},
     "output_type": "display_data"
    }
   ],
   "source": [
    "# Make the scatterplot matrix.\n",
    "\n",
    "# Setting the default plot aesthetics to be prettier.\n",
    "sns.set_style(\"dark\")\n",
    "\n",
    "df = pd.read_csv('../../assets/ESSdata.csv')\n",
    "\n",
    "print(df.head(2))\n",
    "\n",
    "# Take a subset of the data for PCA. This limits to Swiss and Czech data from 2012\n",
    "# and keeps only specific columns.\n",
    "df_pca = df.loc[\n",
    "    ((df['cntry'] == 'CZ') | (df['cntry'] == 'CH')) & (df['year'] == 6),\n",
    "    ['tvtot','ppltrst','pplfair','pplhlp']\n",
    "].dropna()\n",
    "\n",
    "t = sns.regplot(\n",
    "    'ppltrst',\n",
    "    'pplfair',\n",
    "    df_pca,\n",
    "    x_jitter=.49,\n",
    "    y_jitter=.49,\n",
    "    fit_reg=False\n",
    ")\n",
    "t.set(xlim=(-1, 11), ylim=(-1, 11))\n",
    "t.axhline(0, color='k', linestyle='-', linewidth=2)\n",
    "t.axvline(0, color='k', linestyle='-', linewidth=2)\n",
    "t.axes.set_title('Raw data')\n",
    "plt.show()\n",
    "\n",
    "# Standardizing variables by subtracting the mean and dividing by the standard\n",
    "# deviation. Now both variables are on the same scale.\n",
    "df_pca['ppltrst_z'] = (df_pca['ppltrst'] - df_pca['ppltrst'].mean()) / df_pca['ppltrst'].std()\n",
    "df_pca['pplfair_z'] = (df_pca['pplfair'] - df_pca['pplfair'].mean()) / df_pca['pplfair'].std()\n",
    "\n",
    "t = sns.regplot(\n",
    "    'ppltrst_z',\n",
    "    'pplfair_z',\n",
    "    df_pca,\n",
    "    x_jitter=.49,\n",
    "    y_jitter=.49,\n",
    "    fit_reg=False\n",
    ")\n",
    "t.axhline(0, color='k', linestyle='-', linewidth=2)\n",
    "t.axvline(0, color='k', linestyle='-', linewidth=2)\n",
    "t.axes.set_title('Standardized data')\n",
    "plt.show()\n"
   ]
  },
  {
   "cell_type": "markdown",
   "metadata": {},
   "source": [
    "In the plot above, both axes describe equal variance- they both run from about -3 to 2.5.  If we were to drop one of the axes and describe the data using only the information from the other axis, we would lose roughly 50% of our information. \n",
    "\n",
    "However, if we fit a line through the origin that minimizes the distance between the line and each point and then rotate the data, our axes and their information value will change.\n",
    "\n",
    "<p align=\"center\">\n",
    "  <img src='../../assets/pca_vector.png' alt=\"PCA Vector\">\n",
    "<p>\n"
   ]
  },
  {
   "cell_type": "markdown",
   "metadata": {},
   "source": [
    "#### `The Math Behind PCA`\n",
    "The \"rotation\" pictured above is based on calculating the covariance matrix of the data and applying a linear transformation (rotation) and deriving from that the eigenvalues and eigenvectors that express the amount of variance in the data explained by the new axes.  To explore this further, let's delve into some linear algebra.\n",
    "\n",
    "#### `Covariance matrix`\n",
    "A correlation matrix, which we have discussed before, is a covariance matrix where the covariances have been divided by the variances.  This standardizes the covariances so that they are all on the same scale (-1 to 1) and can be compared.  Covariance matrices, like correlation matrices, contain information about the amount of variance shared between pairs of variables.\n",
    "\n",
    "The variance of x is the sum of the squared differences between each value in x ($x_i$) and the mean of x ($\\bar{x}$), divided by the sample size (*n*).\n",
    "\n",
    "$$var(x)=\\frac{\\sum(x_i-\\bar{x})^2}n$$\n",
    "\n",
    "(Note that the standard deviation is $\\sqrt{var(x)}$)\n",
    "\n",
    "The covariance between two variables x and y is the product of the differences of each variable value and its mean, divided by the sample size.\n",
    "\n",
    "$$cov(A)=\\sum\\frac{(x_i-\\bar{x})(y_i-\\bar{y})}n$$\n",
    "\n",
    "Here is the covariance matrix for the ESS data:"
   ]
  },
  {
   "cell_type": "code",
   "execution_count": 19,
   "metadata": {},
   "outputs": [
    {
     "name": "stdout",
     "output_type": "stream",
     "text": [
      "Covariance Matrix:\n",
      " [[ 1.00071174 -0.24535312 -0.23531159 -0.17820482]\n",
      " [-0.24535312  1.00071174  0.60528939  0.49609931]\n",
      " [-0.23531159  0.60528939  1.00071174  0.53193085]\n",
      " [-0.17820482  0.49609931  0.53193085  1.00071174]]\n"
     ]
    }
   ],
   "source": [
    "# Take a subset of the data for PCA and drop missing values because PCA cannot\n",
    "# handle them. We could also impute, but missingness is quite low so dropping\n",
    "# missing rows is unlikely to create bias.\n",
    "df_pca = df.loc[\n",
    "    ((df['cntry'] == 'CZ') | (df['cntry'] == 'CH')) & (df['year'] == 6),\n",
    "    ['tvtot', 'ppltrst', 'pplfair', 'pplhlp']\n",
    "].dropna()\n",
    "\n",
    "# Normalize the data so that all variables have a mean of 0 and standard deviation\n",
    "# of 1.\n",
    "X = StandardScaler().fit_transform(df_pca)\n",
    "\n",
    "# The NumPy covariance function assumes that variables are represented by rows,\n",
    "# not columns, so we transpose X.\n",
    "Xt = X.T\n",
    "Cx = np.cov(Xt)\n",
    "print('Covariance Matrix:\\n', Cx)\n"
   ]
  },
  {
   "cell_type": "markdown",
   "metadata": {},
   "source": [
    "### `Eigenvectors and Eigenvalues`"
   ]
  },
  {
   "cell_type": "markdown",
   "metadata": {},
   "source": [
    "#### `Eigenvectors`\n",
    "\n",
    "- An **Eigenvector** is the directional aspect of a component – it is the red line in the graph earlier.\n",
    "- During `PCA`, the **eigenvectors** are chosen to be orthogonal, that is, to have a correlation of 0 with one another.\n",
    "- In fact, this is done sequentially. First, a vector is found that minimizes the distance between that vector and the data-points. This vector is the first component.\n",
    "- Next, a second vector is found that also minimizes the distance between that vector and the data-points, the catch being that this second vector must be **perpendicular** to the first in one of the n dimensions of the space.\n",
    "- This procedure continues until there are n vectors.\n",
    "\n",
    "#### `Eigenvalues`\n",
    "\n",
    "- **Eigenvalues** represent the length of the Eigenvectors – each eigenvector has an eigenvalue.\n",
    "- The length of the eigenvector encodes the proportion of total variance explained by a component.\n",
    "- The total variance is equal to the number of variables in the PCA. Thus, an Eigenvalue of 1 means that the component explains the same amount of variance as one variable.\n",
    "- An eigenvalue greater than 1 is desirable, since a component with an eigenvalue of 1 adds no value beyond the information contained in any individual variable, and an eigenvalue of less than 1 is actually less efficient at conveying information than a variable by itself.\n",
    "- An eigenvalue of 2 means that the component contains an amount of information equal to that of two variables. Of course, it doesn’t mean that only two variables load on that component.\n",
    "\n"
   ]
  },
  {
   "cell_type": "code",
   "execution_count": 20,
   "metadata": {},
   "outputs": [
    {
     "name": "stdout",
     "output_type": "stream",
     "text": [
      "Eigenvector 1: \n",
      "[[-0.30084526]\n",
      " [ 0.55945823]\n",
      " [ 0.5681188 ]\n",
      " [ 0.52320135]]\n",
      "Eigenvalue 1: 2.211256863199823\n",
      "----------------------------------------\n",
      "Eigenvector 2: \n",
      "[[0.94786152]\n",
      " [0.11600843]\n",
      " [0.15403897]\n",
      " [0.25371751]]\n",
      "Eigenvalue 2: 0.8847413570711696\n",
      "----------------------------------------\n",
      "Eigenvector 3: \n",
      "[[ 0.10491426]\n",
      " [ 0.51597659]\n",
      " [ 0.28505945]\n",
      " [-0.80093836]]\n",
      "Eigenvalue 3: 0.5151421389236897\n",
      "----------------------------------------\n",
      "Eigenvector 4: \n",
      "[[ 0.00660771]\n",
      " [ 0.63821367]\n",
      " [-0.75647481]\n",
      " [ 0.14277786]]\n",
      "Eigenvalue 4: 0.3917066158942843\n",
      "----------------------------------------\n",
      "The percentage of total variance in the dataset explained by each component calculated by hand \n",
      " [0.55242103 0.22102802 0.12869394 0.097857  ]\n"
     ]
    }
   ],
   "source": [
    "# Calculating eigenvalues and eigenvectors.\n",
    "eig_val_cov, eig_vec_cov = np.linalg.eig(Cx)\n",
    "\n",
    "# Inspecting the eigenvalues and eigenvectors.\n",
    "for i in range(len(eig_val_cov)):\n",
    "    eigvec_cov = eig_vec_cov[:, i].reshape(1, 4).T\n",
    "    print('Eigenvector {}: \\n{}'.format(i + 1, eigvec_cov))\n",
    "    print('Eigenvalue {}: {}'.format(i + 1, eig_val_cov[i]))\n",
    "    print(40 * '-')\n",
    "\n",
    "print('The percentage of total variance in the dataset explained by each component calculated by hand \\n',  eig_val_cov / sum(eig_val_cov))\n"
   ]
  },
  {
   "cell_type": "markdown",
   "metadata": {},
   "source": [
    "### `How many components?`\n",
    "\n",
    "The biggest decision to make when running a `PCA` is how many components to keep.  PCA will actually give us back as many components as there are variables in the correlation matrix.\n",
    "\n",
    "If we have n variables and choose to keep n components, we will be able to reproduce 100% of the information in the original data. On the other hand, we wouldn’t have simplified our situation at all – we’ll still be dealing with the same number of separate pieces of information, just expressed as components instead of as variables.\n",
    "\n",
    "There are a number of rules to guide us in choosing the number of components to keep. The most straightforward is to keep components with eigenvalues greater than 1, as they add value (because they contain more information than a single variable). This rule tends to keep more components than is ideal.\n",
    "\n",
    "Another rule is to visualize the eigenvalues in order from highest to lowest, connecting them with a line. This is called a \"scree\" plot because it supposedly resembles the loose rock that accumulates at the foot of a mountain.  Upon visual inspection, the analyst will keep all the components whose eigenvalue falls above the point where the slope of the line changes the most drastically, also called the \"elbow\".  \n",
    "\n",
    "Many other rules also exist, including variance cutoffs where we only keep components that explain at least x% of the variance in the data, and programmatic ones involving simulating the PCA solution on equivalent randomized data.  Ultimately, the choice of how many components to keep comes down to your reasons for doing PCA.\n",
    "\n",
    "Let's see how many "
   ]
  },
  {
   "cell_type": "code",
   "execution_count": 21,
   "metadata": {},
   "outputs": [
    {
     "data": {
      "image/png": "[encoded data removed]",
      "text/plain": [
       "<Figure size 432x288 with 1 Axes>"
      ]
     },
     "metadata": {},
     "output_type": "display_data"
    }
   ],
   "source": [
    "plt.plot(eig_val_cov)\n",
    "plt.show()\n"
   ]
  },
  {
   "cell_type": "markdown",
   "metadata": {},
   "source": [
    "The scree plot and the eigenvalues >1 rule agree that we should keep only the first component. "
   ]
  },
  {
   "cell_type": "markdown",
   "metadata": {},
   "source": [
    "### `Conclusion`\n",
    "\n",
    "`PCA` is a series of linear transformations applied to a data frame to yield a smaller number of columns that explain a large proportion of the total variance contained in the data frame.\n",
    "\n",
    "---\n",
    "[next](../05-big-data-with-spark/00-index.ipynb)"
   ]
  }
 ],
 "metadata": {
  "kernelspec": {
   "display_name": "Python 3.9.7 ('base')",
   "language": "python",
   "name": "python3"
  },
  "language_info": {
   "codemirror_mode": {
    "name": "ipython",
    "version": 3
   },
   "file_extension": ".py",
   "mimetype": "text/x-python",
   "name": "python",
   "nbconvert_exporter": "python",
   "pygments_lexer": "ipython3",
   "version": "3.9.7"
  },
  "orig_nbformat": 4,
  "vscode": {
   "interpreter": {
    "hash": "0b4484ae063bf9ef0d5115063857dd0e382a2c73ed49a11a000ca56af03302b6"
   }
  }
 },
 "nbformat": 4,
 "nbformat_minor": 2
}
