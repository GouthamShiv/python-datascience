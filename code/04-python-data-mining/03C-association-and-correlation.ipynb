{
 "cells": [
  {
   "attachments": {},
   "cell_type": "markdown",
   "metadata": {},
   "source": [
    "[back](./03B-classification-and-regression.ipynb)\n",
    "\n",
    "---\n",
    "## `Association and Correlation`\n",
    "\n",
    "Association, Correlation and Covariance are all important topics out of which, we have already seen how to obtain correlation from a DataFrame"
   ]
  },
  {
   "attachments": {},
   "cell_type": "markdown",
   "metadata": {},
   "source": [
    "### `Initial Setup`"
   ]
  },
  {
   "cell_type": "code",
   "execution_count": 1,
   "metadata": {},
   "outputs": [],
   "source": [
    "# Imports\n",
    "import pandas as pd\n",
    "import numpy as np\n",
    "import seaborn as sns  # Library used to print nicer charts and visualizations\n",
    "import matplotlib.pyplot as plt\n",
    "\n",
    "%matplotlib inline\n"
   ]
  },
  {
   "cell_type": "code",
   "execution_count": 2,
   "metadata": {},
   "outputs": [
    {
     "data": {
      "text/html": [
       "<div>\n",
       "<style scoped>\n",
       "    .dataframe tbody tr th:only-of-type {\n",
       "        vertical-align: middle;\n",
       "    }\n",
       "\n",
       "    .dataframe tbody tr th {\n",
       "        vertical-align: top;\n",
       "    }\n",
       "\n",
       "    .dataframe thead th {\n",
       "        text-align: right;\n",
       "    }\n",
       "</style>\n",
       "<table border=\"1\" class=\"dataframe\">\n",
       "  <thead>\n",
       "    <tr style=\"text-align: right;\">\n",
       "      <th></th>\n",
       "      <th>id</th>\n",
       "      <th>address</th>\n",
       "      <th>city</th>\n",
       "      <th>state</th>\n",
       "      <th>zipcode</th>\n",
       "      <th>latitude</th>\n",
       "      <th>longitude</th>\n",
       "      <th>bedrooms</th>\n",
       "      <th>bathrooms</th>\n",
       "      <th>rooms</th>\n",
       "      <th>squareFootage</th>\n",
       "      <th>lotSize</th>\n",
       "      <th>yearBuilt</th>\n",
       "      <th>lastSaleDate</th>\n",
       "      <th>lastSaleAmount</th>\n",
       "      <th>priorSaleDate</th>\n",
       "      <th>priorSaleAmount</th>\n",
       "      <th>estimated_value</th>\n",
       "    </tr>\n",
       "  </thead>\n",
       "  <tbody>\n",
       "    <tr>\n",
       "      <th>0</th>\n",
       "      <td>39525749</td>\n",
       "      <td>8171 E 84th Ave</td>\n",
       "      <td>Denver</td>\n",
       "      <td>CO</td>\n",
       "      <td>80022</td>\n",
       "      <td>39.84916</td>\n",
       "      <td>-104.893468</td>\n",
       "      <td>3</td>\n",
       "      <td>2.0</td>\n",
       "      <td>6</td>\n",
       "      <td>1378</td>\n",
       "      <td>9968</td>\n",
       "      <td>2003.0</td>\n",
       "      <td>2009-12-17</td>\n",
       "      <td>75000</td>\n",
       "      <td>2004-05-13</td>\n",
       "      <td>165700.0</td>\n",
       "      <td>239753</td>\n",
       "    </tr>\n",
       "    <tr>\n",
       "      <th>1</th>\n",
       "      <td>184578398</td>\n",
       "      <td>10556 Wheeling St</td>\n",
       "      <td>Denver</td>\n",
       "      <td>CO</td>\n",
       "      <td>80022</td>\n",
       "      <td>39.88802</td>\n",
       "      <td>-104.830930</td>\n",
       "      <td>2</td>\n",
       "      <td>2.0</td>\n",
       "      <td>6</td>\n",
       "      <td>1653</td>\n",
       "      <td>6970</td>\n",
       "      <td>2004.0</td>\n",
       "      <td>2004-09-23</td>\n",
       "      <td>216935</td>\n",
       "      <td>NaN</td>\n",
       "      <td>NaN</td>\n",
       "      <td>343963</td>\n",
       "    </tr>\n",
       "    <tr>\n",
       "      <th>2</th>\n",
       "      <td>184430015</td>\n",
       "      <td>3190 Wadsworth Blvd</td>\n",
       "      <td>Denver</td>\n",
       "      <td>CO</td>\n",
       "      <td>80033</td>\n",
       "      <td>39.76171</td>\n",
       "      <td>-105.081070</td>\n",
       "      <td>3</td>\n",
       "      <td>1.0</td>\n",
       "      <td>0</td>\n",
       "      <td>1882</td>\n",
       "      <td>23875</td>\n",
       "      <td>1917.0</td>\n",
       "      <td>2008-04-03</td>\n",
       "      <td>330000</td>\n",
       "      <td>NaN</td>\n",
       "      <td>NaN</td>\n",
       "      <td>488840</td>\n",
       "    </tr>\n",
       "    <tr>\n",
       "      <th>3</th>\n",
       "      <td>155129946</td>\n",
       "      <td>3040 Wadsworth Blvd</td>\n",
       "      <td>Denver</td>\n",
       "      <td>CO</td>\n",
       "      <td>80033</td>\n",
       "      <td>39.76078</td>\n",
       "      <td>-105.081060</td>\n",
       "      <td>4</td>\n",
       "      <td>3.0</td>\n",
       "      <td>0</td>\n",
       "      <td>2400</td>\n",
       "      <td>11500</td>\n",
       "      <td>1956.0</td>\n",
       "      <td>2008-12-02</td>\n",
       "      <td>185000</td>\n",
       "      <td>2008-06-27</td>\n",
       "      <td>0.0</td>\n",
       "      <td>494073</td>\n",
       "    </tr>\n",
       "  </tbody>\n",
       "</table>\n",
       "</div>"
      ],
      "text/plain": [
       "          id              address    city state  zipcode  latitude  \\\n",
       "0   39525749      8171 E 84th Ave  Denver    CO    80022  39.84916   \n",
       "1  184578398    10556 Wheeling St  Denver    CO    80022  39.88802   \n",
       "2  184430015  3190 Wadsworth Blvd  Denver    CO    80033  39.76171   \n",
       "3  155129946  3040 Wadsworth Blvd  Denver    CO    80033  39.76078   \n",
       "\n",
       "    longitude  bedrooms  bathrooms  rooms  squareFootage  lotSize  yearBuilt  \\\n",
       "0 -104.893468         3        2.0      6           1378     9968     2003.0   \n",
       "1 -104.830930         2        2.0      6           1653     6970     2004.0   \n",
       "2 -105.081070         3        1.0      0           1882    23875     1917.0   \n",
       "3 -105.081060         4        3.0      0           2400    11500     1956.0   \n",
       "\n",
       "  lastSaleDate  lastSaleAmount priorSaleDate  priorSaleAmount  estimated_value  \n",
       "0   2009-12-17           75000    2004-05-13         165700.0           239753  \n",
       "1   2004-09-23          216935           NaN              NaN           343963  \n",
       "2   2008-04-03          330000           NaN              NaN           488840  \n",
       "3   2008-12-02          185000    2008-06-27              0.0           494073  "
      ]
     },
     "execution_count": 2,
     "metadata": {},
     "output_type": "execute_result"
    }
   ],
   "source": [
    "df = pd.read_csv(r'../../assets/single_family_home_values.csv')\n",
    "df.head(4)\n"
   ]
  },
  {
   "cell_type": "code",
   "execution_count": 3,
   "metadata": {},
   "outputs": [
    {
     "data": {
      "text/html": [
       "<div>\n",
       "<style scoped>\n",
       "    .dataframe tbody tr th:only-of-type {\n",
       "        vertical-align: middle;\n",
       "    }\n",
       "\n",
       "    .dataframe tbody tr th {\n",
       "        vertical-align: top;\n",
       "    }\n",
       "\n",
       "    .dataframe thead th {\n",
       "        text-align: right;\n",
       "    }\n",
       "</style>\n",
       "<table border=\"1\" class=\"dataframe\">\n",
       "  <thead>\n",
       "    <tr style=\"text-align: right;\">\n",
       "      <th></th>\n",
       "      <th>bedrooms</th>\n",
       "      <th>bathrooms</th>\n",
       "      <th>rooms</th>\n",
       "      <th>squareFootage</th>\n",
       "      <th>lotSize</th>\n",
       "      <th>yearBuilt</th>\n",
       "      <th>priorSaleAmount</th>\n",
       "    </tr>\n",
       "  </thead>\n",
       "  <tbody>\n",
       "    <tr>\n",
       "      <th>0</th>\n",
       "      <td>3</td>\n",
       "      <td>2.0</td>\n",
       "      <td>6</td>\n",
       "      <td>1378</td>\n",
       "      <td>9968</td>\n",
       "      <td>2003.0</td>\n",
       "      <td>165700.0</td>\n",
       "    </tr>\n",
       "    <tr>\n",
       "      <th>1</th>\n",
       "      <td>2</td>\n",
       "      <td>2.0</td>\n",
       "      <td>6</td>\n",
       "      <td>1653</td>\n",
       "      <td>6970</td>\n",
       "      <td>2004.0</td>\n",
       "      <td>0.0</td>\n",
       "    </tr>\n",
       "    <tr>\n",
       "      <th>2</th>\n",
       "      <td>3</td>\n",
       "      <td>1.0</td>\n",
       "      <td>0</td>\n",
       "      <td>1882</td>\n",
       "      <td>23875</td>\n",
       "      <td>1917.0</td>\n",
       "      <td>0.0</td>\n",
       "    </tr>\n",
       "    <tr>\n",
       "      <th>3</th>\n",
       "      <td>4</td>\n",
       "      <td>3.0</td>\n",
       "      <td>0</td>\n",
       "      <td>2400</td>\n",
       "      <td>11500</td>\n",
       "      <td>1956.0</td>\n",
       "      <td>0.0</td>\n",
       "    </tr>\n",
       "    <tr>\n",
       "      <th>4</th>\n",
       "      <td>3</td>\n",
       "      <td>4.0</td>\n",
       "      <td>8</td>\n",
       "      <td>2305</td>\n",
       "      <td>5600</td>\n",
       "      <td>1998.0</td>\n",
       "      <td>0.0</td>\n",
       "    </tr>\n",
       "  </tbody>\n",
       "</table>\n",
       "</div>"
      ],
      "text/plain": [
       "   bedrooms  bathrooms  rooms  squareFootage  lotSize  yearBuilt  \\\n",
       "0         3        2.0      6           1378     9968     2003.0   \n",
       "1         2        2.0      6           1653     6970     2004.0   \n",
       "2         3        1.0      0           1882    23875     1917.0   \n",
       "3         4        3.0      0           2400    11500     1956.0   \n",
       "4         3        4.0      8           2305     5600     1998.0   \n",
       "\n",
       "   priorSaleAmount  \n",
       "0         165700.0  \n",
       "1              0.0  \n",
       "2              0.0  \n",
       "3              0.0  \n",
       "4              0.0  "
      ]
     },
     "execution_count": 3,
     "metadata": {},
     "output_type": "execute_result"
    }
   ],
   "source": [
    "# X will be all the columns, without estimated_value\n",
    "X = df.drop('estimated_value', axis=1)\n",
    "X = X[['bedrooms', 'bathrooms', 'rooms', 'squareFootage',\n",
    "       'lotSize', 'yearBuilt', 'priorSaleAmount']]\n",
    "X.fillna(0, inplace=True)\n",
    "X.head()\n"
   ]
  },
  {
   "cell_type": "code",
   "execution_count": 4,
   "metadata": {},
   "outputs": [],
   "source": [
    "y = df.estimated_value\n"
   ]
  },
  {
   "attachments": {},
   "cell_type": "markdown",
   "metadata": {},
   "source": [
    "### `Correlation`\n",
    "\n",
    "If the correlation coefficient is greater than zero, it is a positive relationship. Conversely, if the value is less than zero, it is a negative relationship.\n",
    "\n",
    "We can generate correlation for a dataset using `.corr()` function\n",
    "\n",
    "- This is a **square matrix**\n",
    "- Having all the **numerical fields** that we have in the dataset\n",
    "- Correlation is going to range from **-1 to 1**"
   ]
  },
  {
   "cell_type": "code",
   "execution_count": 5,
   "metadata": {},
   "outputs": [
    {
     "data": {
      "text/html": [
       "<div>\n",
       "<style scoped>\n",
       "    .dataframe tbody tr th:only-of-type {\n",
       "        vertical-align: middle;\n",
       "    }\n",
       "\n",
       "    .dataframe tbody tr th {\n",
       "        vertical-align: top;\n",
       "    }\n",
       "\n",
       "    .dataframe thead th {\n",
       "        text-align: right;\n",
       "    }\n",
       "</style>\n",
       "<table border=\"1\" class=\"dataframe\">\n",
       "  <thead>\n",
       "    <tr style=\"text-align: right;\">\n",
       "      <th></th>\n",
       "      <th>id</th>\n",
       "      <th>zipcode</th>\n",
       "      <th>latitude</th>\n",
       "      <th>longitude</th>\n",
       "      <th>bedrooms</th>\n",
       "      <th>bathrooms</th>\n",
       "      <th>rooms</th>\n",
       "      <th>squareFootage</th>\n",
       "      <th>lotSize</th>\n",
       "      <th>yearBuilt</th>\n",
       "      <th>lastSaleAmount</th>\n",
       "      <th>priorSaleAmount</th>\n",
       "      <th>estimated_value</th>\n",
       "    </tr>\n",
       "  </thead>\n",
       "  <tbody>\n",
       "    <tr>\n",
       "      <th>id</th>\n",
       "      <td>1.000000</td>\n",
       "      <td>-0.007972</td>\n",
       "      <td>-0.092638</td>\n",
       "      <td>0.039591</td>\n",
       "      <td>0.076366</td>\n",
       "      <td>0.128491</td>\n",
       "      <td>0.094063</td>\n",
       "      <td>0.143069</td>\n",
       "      <td>0.045336</td>\n",
       "      <td>0.041342</td>\n",
       "      <td>0.069275</td>\n",
       "      <td>0.012363</td>\n",
       "      <td>0.126193</td>\n",
       "    </tr>\n",
       "    <tr>\n",
       "      <th>zipcode</th>\n",
       "      <td>-0.007972</td>\n",
       "      <td>1.000000</td>\n",
       "      <td>0.461953</td>\n",
       "      <td>0.394500</td>\n",
       "      <td>-0.018420</td>\n",
       "      <td>-0.007543</td>\n",
       "      <td>0.031346</td>\n",
       "      <td>0.000812</td>\n",
       "      <td>-0.037696</td>\n",
       "      <td>-0.174142</td>\n",
       "      <td>0.032898</td>\n",
       "      <td>0.033123</td>\n",
       "      <td>0.089104</td>\n",
       "    </tr>\n",
       "    <tr>\n",
       "      <th>latitude</th>\n",
       "      <td>-0.092638</td>\n",
       "      <td>0.461953</td>\n",
       "      <td>1.000000</td>\n",
       "      <td>0.499432</td>\n",
       "      <td>-0.083083</td>\n",
       "      <td>-0.237716</td>\n",
       "      <td>-0.213634</td>\n",
       "      <td>-0.256475</td>\n",
       "      <td>-0.092881</td>\n",
       "      <td>-0.105518</td>\n",
       "      <td>-0.126800</td>\n",
       "      <td>-0.225513</td>\n",
       "      <td>-0.266116</td>\n",
       "    </tr>\n",
       "    <tr>\n",
       "      <th>longitude</th>\n",
       "      <td>0.039591</td>\n",
       "      <td>0.394500</td>\n",
       "      <td>0.499432</td>\n",
       "      <td>1.000000</td>\n",
       "      <td>0.022375</td>\n",
       "      <td>0.107666</td>\n",
       "      <td>0.026108</td>\n",
       "      <td>0.067845</td>\n",
       "      <td>0.066228</td>\n",
       "      <td>0.060827</td>\n",
       "      <td>0.036747</td>\n",
       "      <td>0.097487</td>\n",
       "      <td>0.121984</td>\n",
       "    </tr>\n",
       "    <tr>\n",
       "      <th>bedrooms</th>\n",
       "      <td>0.076366</td>\n",
       "      <td>-0.018420</td>\n",
       "      <td>-0.083083</td>\n",
       "      <td>0.022375</td>\n",
       "      <td>1.000000</td>\n",
       "      <td>0.505931</td>\n",
       "      <td>0.712343</td>\n",
       "      <td>0.620965</td>\n",
       "      <td>0.158497</td>\n",
       "      <td>-0.061681</td>\n",
       "      <td>0.135036</td>\n",
       "      <td>0.211982</td>\n",
       "      <td>0.369125</td>\n",
       "    </tr>\n",
       "    <tr>\n",
       "      <th>bathrooms</th>\n",
       "      <td>0.128491</td>\n",
       "      <td>-0.007543</td>\n",
       "      <td>-0.237716</td>\n",
       "      <td>0.107666</td>\n",
       "      <td>0.505931</td>\n",
       "      <td>1.000000</td>\n",
       "      <td>0.686296</td>\n",
       "      <td>0.804179</td>\n",
       "      <td>0.259073</td>\n",
       "      <td>0.194597</td>\n",
       "      <td>0.296577</td>\n",
       "      <td>0.453678</td>\n",
       "      <td>0.715926</td>\n",
       "    </tr>\n",
       "    <tr>\n",
       "      <th>rooms</th>\n",
       "      <td>0.094063</td>\n",
       "      <td>0.031346</td>\n",
       "      <td>-0.213634</td>\n",
       "      <td>0.026108</td>\n",
       "      <td>0.712343</td>\n",
       "      <td>0.686296</td>\n",
       "      <td>1.000000</td>\n",
       "      <td>0.771194</td>\n",
       "      <td>0.175949</td>\n",
       "      <td>-0.047720</td>\n",
       "      <td>0.230537</td>\n",
       "      <td>0.370929</td>\n",
       "      <td>0.581023</td>\n",
       "    </tr>\n",
       "    <tr>\n",
       "      <th>squareFootage</th>\n",
       "      <td>0.143069</td>\n",
       "      <td>0.000812</td>\n",
       "      <td>-0.256475</td>\n",
       "      <td>0.067845</td>\n",
       "      <td>0.620965</td>\n",
       "      <td>0.804179</td>\n",
       "      <td>0.771194</td>\n",
       "      <td>1.000000</td>\n",
       "      <td>0.369244</td>\n",
       "      <td>0.115298</td>\n",
       "      <td>0.334441</td>\n",
       "      <td>0.506272</td>\n",
       "      <td>0.824506</td>\n",
       "    </tr>\n",
       "    <tr>\n",
       "      <th>lotSize</th>\n",
       "      <td>0.045336</td>\n",
       "      <td>-0.037696</td>\n",
       "      <td>-0.092881</td>\n",
       "      <td>0.066228</td>\n",
       "      <td>0.158497</td>\n",
       "      <td>0.259073</td>\n",
       "      <td>0.175949</td>\n",
       "      <td>0.369244</td>\n",
       "      <td>1.000000</td>\n",
       "      <td>0.285517</td>\n",
       "      <td>0.193421</td>\n",
       "      <td>0.226043</td>\n",
       "      <td>0.456539</td>\n",
       "    </tr>\n",
       "    <tr>\n",
       "      <th>yearBuilt</th>\n",
       "      <td>0.041342</td>\n",
       "      <td>-0.174142</td>\n",
       "      <td>-0.105518</td>\n",
       "      <td>0.060827</td>\n",
       "      <td>-0.061681</td>\n",
       "      <td>0.194597</td>\n",
       "      <td>-0.047720</td>\n",
       "      <td>0.115298</td>\n",
       "      <td>0.285517</td>\n",
       "      <td>1.000000</td>\n",
       "      <td>0.077553</td>\n",
       "      <td>0.113356</td>\n",
       "      <td>0.174430</td>\n",
       "    </tr>\n",
       "    <tr>\n",
       "      <th>lastSaleAmount</th>\n",
       "      <td>0.069275</td>\n",
       "      <td>0.032898</td>\n",
       "      <td>-0.126800</td>\n",
       "      <td>0.036747</td>\n",
       "      <td>0.135036</td>\n",
       "      <td>0.296577</td>\n",
       "      <td>0.230537</td>\n",
       "      <td>0.334441</td>\n",
       "      <td>0.193421</td>\n",
       "      <td>0.077553</td>\n",
       "      <td>1.000000</td>\n",
       "      <td>0.381526</td>\n",
       "      <td>0.418460</td>\n",
       "    </tr>\n",
       "    <tr>\n",
       "      <th>priorSaleAmount</th>\n",
       "      <td>0.012363</td>\n",
       "      <td>0.033123</td>\n",
       "      <td>-0.225513</td>\n",
       "      <td>0.097487</td>\n",
       "      <td>0.211982</td>\n",
       "      <td>0.453678</td>\n",
       "      <td>0.370929</td>\n",
       "      <td>0.506272</td>\n",
       "      <td>0.226043</td>\n",
       "      <td>0.113356</td>\n",
       "      <td>0.381526</td>\n",
       "      <td>1.000000</td>\n",
       "      <td>0.590177</td>\n",
       "    </tr>\n",
       "    <tr>\n",
       "      <th>estimated_value</th>\n",
       "      <td>0.126193</td>\n",
       "      <td>0.089104</td>\n",
       "      <td>-0.266116</td>\n",
       "      <td>0.121984</td>\n",
       "      <td>0.369125</td>\n",
       "      <td>0.715926</td>\n",
       "      <td>0.581023</td>\n",
       "      <td>0.824506</td>\n",
       "      <td>0.456539</td>\n",
       "      <td>0.174430</td>\n",
       "      <td>0.418460</td>\n",
       "      <td>0.590177</td>\n",
       "      <td>1.000000</td>\n",
       "    </tr>\n",
       "  </tbody>\n",
       "</table>\n",
       "</div>"
      ],
      "text/plain": [
       "                       id   zipcode  latitude  longitude  bedrooms  bathrooms  \\\n",
       "id               1.000000 -0.007972 -0.092638   0.039591  0.076366   0.128491   \n",
       "zipcode         -0.007972  1.000000  0.461953   0.394500 -0.018420  -0.007543   \n",
       "latitude        -0.092638  0.461953  1.000000   0.499432 -0.083083  -0.237716   \n",
       "longitude        0.039591  0.394500  0.499432   1.000000  0.022375   0.107666   \n",
       "bedrooms         0.076366 -0.018420 -0.083083   0.022375  1.000000   0.505931   \n",
       "bathrooms        0.128491 -0.007543 -0.237716   0.107666  0.505931   1.000000   \n",
       "rooms            0.094063  0.031346 -0.213634   0.026108  0.712343   0.686296   \n",
       "squareFootage    0.143069  0.000812 -0.256475   0.067845  0.620965   0.804179   \n",
       "lotSize          0.045336 -0.037696 -0.092881   0.066228  0.158497   0.259073   \n",
       "yearBuilt        0.041342 -0.174142 -0.105518   0.060827 -0.061681   0.194597   \n",
       "lastSaleAmount   0.069275  0.032898 -0.126800   0.036747  0.135036   0.296577   \n",
       "priorSaleAmount  0.012363  0.033123 -0.225513   0.097487  0.211982   0.453678   \n",
       "estimated_value  0.126193  0.089104 -0.266116   0.121984  0.369125   0.715926   \n",
       "\n",
       "                    rooms  squareFootage   lotSize  yearBuilt  lastSaleAmount  \\\n",
       "id               0.094063       0.143069  0.045336   0.041342        0.069275   \n",
       "zipcode          0.031346       0.000812 -0.037696  -0.174142        0.032898   \n",
       "latitude        -0.213634      -0.256475 -0.092881  -0.105518       -0.126800   \n",
       "longitude        0.026108       0.067845  0.066228   0.060827        0.036747   \n",
       "bedrooms         0.712343       0.620965  0.158497  -0.061681        0.135036   \n",
       "bathrooms        0.686296       0.804179  0.259073   0.194597        0.296577   \n",
       "rooms            1.000000       0.771194  0.175949  -0.047720        0.230537   \n",
       "squareFootage    0.771194       1.000000  0.369244   0.115298        0.334441   \n",
       "lotSize          0.175949       0.369244  1.000000   0.285517        0.193421   \n",
       "yearBuilt       -0.047720       0.115298  0.285517   1.000000        0.077553   \n",
       "lastSaleAmount   0.230537       0.334441  0.193421   0.077553        1.000000   \n",
       "priorSaleAmount  0.370929       0.506272  0.226043   0.113356        0.381526   \n",
       "estimated_value  0.581023       0.824506  0.456539   0.174430        0.418460   \n",
       "\n",
       "                 priorSaleAmount  estimated_value  \n",
       "id                      0.012363         0.126193  \n",
       "zipcode                 0.033123         0.089104  \n",
       "latitude               -0.225513        -0.266116  \n",
       "longitude               0.097487         0.121984  \n",
       "bedrooms                0.211982         0.369125  \n",
       "bathrooms               0.453678         0.715926  \n",
       "rooms                   0.370929         0.581023  \n",
       "squareFootage           0.506272         0.824506  \n",
       "lotSize                 0.226043         0.456539  \n",
       "yearBuilt               0.113356         0.174430  \n",
       "lastSaleAmount          0.381526         0.418460  \n",
       "priorSaleAmount         1.000000         0.590177  \n",
       "estimated_value         0.590177         1.000000  "
      ]
     },
     "execution_count": 5,
     "metadata": {},
     "output_type": "execute_result"
    }
   ],
   "source": [
    "df.corr()"
   ]
  },
  {
   "attachments": {},
   "cell_type": "markdown",
   "metadata": {},
   "source": [
    "We can actually convert this into a `heatmap` for visualization using `seaborn`"
   ]
  },
  {
   "cell_type": "code",
   "execution_count": 6,
   "metadata": {},
   "outputs": [
    {
     "data": {
      "text/plain": [
       "<AxesSubplot:>"
      ]
     },
     "execution_count": 6,
     "metadata": {},
     "output_type": "execute_result"
    },
    {
     "data": {
      "image/png": "[encoded data removed]",
      "text/plain": [
       "<Figure size 432x288 with 2 Axes>"
      ]
     },
     "metadata": {
      "needs_background": "light"
     },
     "output_type": "display_data"
    }
   ],
   "source": [
    "sns.heatmap(df.corr())"
   ]
  },
  {
   "attachments": {},
   "cell_type": "markdown",
   "metadata": {},
   "source": [
    "We can see that in the diagonal, it is `light` where the correlation is on itself\n",
    "\n",
    "And some of the `darker` points where there is very less correlation"
   ]
  },
  {
   "attachments": {},
   "cell_type": "markdown",
   "metadata": {},
   "source": [
    "### `Covariance`\n",
    "\n",
    "> What is covariance and what is the difference between correlation and covariance?\n",
    "\n",
    "- Covariance is the **non-standardized** form of correlation, so correlation is derived from covariance.\n",
    "- We usually get the covariance first and then **standardize** it to become -1 to 1\n",
    "- However, covariance can be any value, but it captures the `variance` of what the relationship is between one feature to another feature"
   ]
  },
  {
   "cell_type": "code",
   "execution_count": 7,
   "metadata": {},
   "outputs": [
    {
     "data": {
      "text/html": [
       "<div>\n",
       "<style scoped>\n",
       "    .dataframe tbody tr th:only-of-type {\n",
       "        vertical-align: middle;\n",
       "    }\n",
       "\n",
       "    .dataframe tbody tr th {\n",
       "        vertical-align: top;\n",
       "    }\n",
       "\n",
       "    .dataframe thead th {\n",
       "        text-align: right;\n",
       "    }\n",
       "</style>\n",
       "<table border=\"1\" class=\"dataframe\">\n",
       "  <thead>\n",
       "    <tr style=\"text-align: right;\">\n",
       "      <th></th>\n",
       "      <th>id</th>\n",
       "      <th>zipcode</th>\n",
       "      <th>latitude</th>\n",
       "      <th>longitude</th>\n",
       "      <th>bedrooms</th>\n",
       "      <th>bathrooms</th>\n",
       "      <th>rooms</th>\n",
       "      <th>squareFootage</th>\n",
       "      <th>lotSize</th>\n",
       "      <th>yearBuilt</th>\n",
       "      <th>lastSaleAmount</th>\n",
       "      <th>priorSaleAmount</th>\n",
       "      <th>estimated_value</th>\n",
       "    </tr>\n",
       "  </thead>\n",
       "  <tbody>\n",
       "    <tr>\n",
       "      <th>id</th>\n",
       "      <td>3.832695e+15</td>\n",
       "      <td>-4.794798e+06</td>\n",
       "      <td>-134755.796294</td>\n",
       "      <td>97277.793396</td>\n",
       "      <td>4.241855e+06</td>\n",
       "      <td>9.277448e+06</td>\n",
       "      <td>1.140562e+07</td>\n",
       "      <td>7.357116e+09</td>\n",
       "      <td>8.457335e+09</td>\n",
       "      <td>7.661356e+07</td>\n",
       "      <td>3.326786e+12</td>\n",
       "      <td>2.403030e+11</td>\n",
       "      <td>3.940756e+12</td>\n",
       "    </tr>\n",
       "    <tr>\n",
       "      <th>zipcode</th>\n",
       "      <td>-4.794798e+06</td>\n",
       "      <td>9.438634e+01</td>\n",
       "      <td>0.105769</td>\n",
       "      <td>0.152571</td>\n",
       "      <td>-1.605609e-01</td>\n",
       "      <td>-8.546300e-02</td>\n",
       "      <td>5.964580e-01</td>\n",
       "      <td>6.549458e+00</td>\n",
       "      <td>-1.103540e+03</td>\n",
       "      <td>-5.065034e+01</td>\n",
       "      <td>2.479246e+05</td>\n",
       "      <td>1.030079e+05</td>\n",
       "      <td>4.366604e+05</td>\n",
       "    </tr>\n",
       "    <tr>\n",
       "      <th>latitude</th>\n",
       "      <td>-1.347558e+05</td>\n",
       "      <td>1.057691e-01</td>\n",
       "      <td>0.000555</td>\n",
       "      <td>0.000468</td>\n",
       "      <td>-1.754563e-03</td>\n",
       "      <td>-6.524595e-03</td>\n",
       "      <td>-9.848155e-03</td>\n",
       "      <td>-5.015548e+00</td>\n",
       "      <td>-6.593470e+00</td>\n",
       "      <td>-7.428908e-02</td>\n",
       "      <td>-2.317704e+03</td>\n",
       "      <td>-1.773170e+03</td>\n",
       "      <td>-3.163364e+03</td>\n",
       "    </tr>\n",
       "    <tr>\n",
       "      <th>longitude</th>\n",
       "      <td>9.727779e+04</td>\n",
       "      <td>1.525709e-01</td>\n",
       "      <td>0.000468</td>\n",
       "      <td>0.001583</td>\n",
       "      <td>7.981594e-04</td>\n",
       "      <td>4.991539e-03</td>\n",
       "      <td>2.032934e-03</td>\n",
       "      <td>2.241057e+00</td>\n",
       "      <td>7.941290e+00</td>\n",
       "      <td>7.233661e-02</td>\n",
       "      <td>1.134553e+03</td>\n",
       "      <td>1.306180e+03</td>\n",
       "      <td>2.449320e+03</td>\n",
       "    </tr>\n",
       "    <tr>\n",
       "      <th>bedrooms</th>\n",
       "      <td>4.241855e+06</td>\n",
       "      <td>-1.605609e-01</td>\n",
       "      <td>-0.001755</td>\n",
       "      <td>0.000798</td>\n",
       "      <td>8.050231e-01</td>\n",
       "      <td>5.294167e-01</td>\n",
       "      <td>1.251811e+00</td>\n",
       "      <td>4.627877e+02</td>\n",
       "      <td>4.285138e+02</td>\n",
       "      <td>-1.656479e+00</td>\n",
       "      <td>9.398271e+04</td>\n",
       "      <td>6.326439e+04</td>\n",
       "      <td>1.670586e+05</td>\n",
       "    </tr>\n",
       "    <tr>\n",
       "      <th>bathrooms</th>\n",
       "      <td>9.277448e+06</td>\n",
       "      <td>-8.546300e-02</td>\n",
       "      <td>-0.006525</td>\n",
       "      <td>0.004992</td>\n",
       "      <td>5.294167e-01</td>\n",
       "      <td>1.360206e+00</td>\n",
       "      <td>1.567688e+00</td>\n",
       "      <td>7.790507e+02</td>\n",
       "      <td>9.104679e+02</td>\n",
       "      <td>6.793260e+00</td>\n",
       "      <td>2.683082e+05</td>\n",
       "      <td>1.783968e+05</td>\n",
       "      <td>4.211742e+05</td>\n",
       "    </tr>\n",
       "    <tr>\n",
       "      <th>rooms</th>\n",
       "      <td>1.140562e+07</td>\n",
       "      <td>5.964580e-01</td>\n",
       "      <td>-0.009848</td>\n",
       "      <td>0.002033</td>\n",
       "      <td>1.251811e+00</td>\n",
       "      <td>1.567688e+00</td>\n",
       "      <td>3.836116e+00</td>\n",
       "      <td>1.254643e+03</td>\n",
       "      <td>1.038417e+03</td>\n",
       "      <td>-2.797016e+00</td>\n",
       "      <td>3.502513e+05</td>\n",
       "      <td>2.430849e+05</td>\n",
       "      <td>5.740237e+05</td>\n",
       "    </tr>\n",
       "    <tr>\n",
       "      <th>squareFootage</th>\n",
       "      <td>7.357116e+09</td>\n",
       "      <td>6.549458e+00</td>\n",
       "      <td>-5.015548</td>\n",
       "      <td>2.241057</td>\n",
       "      <td>4.627877e+02</td>\n",
       "      <td>7.790507e+02</td>\n",
       "      <td>1.254643e+03</td>\n",
       "      <td>6.899562e+05</td>\n",
       "      <td>9.241945e+05</td>\n",
       "      <td>2.866840e+03</td>\n",
       "      <td>2.154884e+08</td>\n",
       "      <td>1.377630e+08</td>\n",
       "      <td>3.454582e+08</td>\n",
       "    </tr>\n",
       "    <tr>\n",
       "      <th>lotSize</th>\n",
       "      <td>8.457335e+09</td>\n",
       "      <td>-1.103540e+03</td>\n",
       "      <td>-6.593470</td>\n",
       "      <td>7.941290</td>\n",
       "      <td>4.285138e+02</td>\n",
       "      <td>9.104679e+02</td>\n",
       "      <td>1.038417e+03</td>\n",
       "      <td>9.241945e+05</td>\n",
       "      <td>9.079853e+06</td>\n",
       "      <td>2.575406e+04</td>\n",
       "      <td>4.521032e+08</td>\n",
       "      <td>1.919438e+08</td>\n",
       "      <td>6.939180e+08</td>\n",
       "    </tr>\n",
       "    <tr>\n",
       "      <th>yearBuilt</th>\n",
       "      <td>7.661356e+07</td>\n",
       "      <td>-5.065034e+01</td>\n",
       "      <td>-0.074289</td>\n",
       "      <td>0.072337</td>\n",
       "      <td>-1.656479e+00</td>\n",
       "      <td>6.793260e+00</td>\n",
       "      <td>-2.797016e+00</td>\n",
       "      <td>2.866840e+03</td>\n",
       "      <td>2.575406e+04</td>\n",
       "      <td>8.962271e+02</td>\n",
       "      <td>1.801012e+06</td>\n",
       "      <td>1.141169e+06</td>\n",
       "      <td>2.634072e+06</td>\n",
       "    </tr>\n",
       "    <tr>\n",
       "      <th>lastSaleAmount</th>\n",
       "      <td>3.326786e+12</td>\n",
       "      <td>2.479246e+05</td>\n",
       "      <td>-2317.703724</td>\n",
       "      <td>1134.552961</td>\n",
       "      <td>9.398271e+04</td>\n",
       "      <td>2.683082e+05</td>\n",
       "      <td>3.502513e+05</td>\n",
       "      <td>2.154884e+08</td>\n",
       "      <td>4.521032e+08</td>\n",
       "      <td>1.801012e+06</td>\n",
       "      <td>6.017103e+11</td>\n",
       "      <td>7.543743e+10</td>\n",
       "      <td>1.637338e+11</td>\n",
       "    </tr>\n",
       "    <tr>\n",
       "      <th>priorSaleAmount</th>\n",
       "      <td>2.403030e+11</td>\n",
       "      <td>1.030079e+05</td>\n",
       "      <td>-1773.169570</td>\n",
       "      <td>1306.179672</td>\n",
       "      <td>6.326439e+04</td>\n",
       "      <td>1.783968e+05</td>\n",
       "      <td>2.430849e+05</td>\n",
       "      <td>1.377630e+08</td>\n",
       "      <td>1.919438e+08</td>\n",
       "      <td>1.141169e+06</td>\n",
       "      <td>7.543743e+10</td>\n",
       "      <td>1.142026e+11</td>\n",
       "      <td>9.951301e+10</td>\n",
       "    </tr>\n",
       "    <tr>\n",
       "      <th>estimated_value</th>\n",
       "      <td>3.940756e+12</td>\n",
       "      <td>4.366604e+05</td>\n",
       "      <td>-3163.363716</td>\n",
       "      <td>2449.320289</td>\n",
       "      <td>1.670586e+05</td>\n",
       "      <td>4.211742e+05</td>\n",
       "      <td>5.740237e+05</td>\n",
       "      <td>3.454582e+08</td>\n",
       "      <td>6.939180e+08</td>\n",
       "      <td>2.634072e+06</td>\n",
       "      <td>1.637338e+11</td>\n",
       "      <td>9.951301e+10</td>\n",
       "      <td>2.544380e+11</td>\n",
       "    </tr>\n",
       "  </tbody>\n",
       "</table>\n",
       "</div>"
      ],
      "text/plain": [
       "                           id       zipcode       latitude     longitude  \\\n",
       "id               3.832695e+15 -4.794798e+06 -134755.796294  97277.793396   \n",
       "zipcode         -4.794798e+06  9.438634e+01       0.105769      0.152571   \n",
       "latitude        -1.347558e+05  1.057691e-01       0.000555      0.000468   \n",
       "longitude        9.727779e+04  1.525709e-01       0.000468      0.001583   \n",
       "bedrooms         4.241855e+06 -1.605609e-01      -0.001755      0.000798   \n",
       "bathrooms        9.277448e+06 -8.546300e-02      -0.006525      0.004992   \n",
       "rooms            1.140562e+07  5.964580e-01      -0.009848      0.002033   \n",
       "squareFootage    7.357116e+09  6.549458e+00      -5.015548      2.241057   \n",
       "lotSize          8.457335e+09 -1.103540e+03      -6.593470      7.941290   \n",
       "yearBuilt        7.661356e+07 -5.065034e+01      -0.074289      0.072337   \n",
       "lastSaleAmount   3.326786e+12  2.479246e+05   -2317.703724   1134.552961   \n",
       "priorSaleAmount  2.403030e+11  1.030079e+05   -1773.169570   1306.179672   \n",
       "estimated_value  3.940756e+12  4.366604e+05   -3163.363716   2449.320289   \n",
       "\n",
       "                     bedrooms     bathrooms         rooms  squareFootage  \\\n",
       "id               4.241855e+06  9.277448e+06  1.140562e+07   7.357116e+09   \n",
       "zipcode         -1.605609e-01 -8.546300e-02  5.964580e-01   6.549458e+00   \n",
       "latitude        -1.754563e-03 -6.524595e-03 -9.848155e-03  -5.015548e+00   \n",
       "longitude        7.981594e-04  4.991539e-03  2.032934e-03   2.241057e+00   \n",
       "bedrooms         8.050231e-01  5.294167e-01  1.251811e+00   4.627877e+02   \n",
       "bathrooms        5.294167e-01  1.360206e+00  1.567688e+00   7.790507e+02   \n",
       "rooms            1.251811e+00  1.567688e+00  3.836116e+00   1.254643e+03   \n",
       "squareFootage    4.627877e+02  7.790507e+02  1.254643e+03   6.899562e+05   \n",
       "lotSize          4.285138e+02  9.104679e+02  1.038417e+03   9.241945e+05   \n",
       "yearBuilt       -1.656479e+00  6.793260e+00 -2.797016e+00   2.866840e+03   \n",
       "lastSaleAmount   9.398271e+04  2.683082e+05  3.502513e+05   2.154884e+08   \n",
       "priorSaleAmount  6.326439e+04  1.783968e+05  2.430849e+05   1.377630e+08   \n",
       "estimated_value  1.670586e+05  4.211742e+05  5.740237e+05   3.454582e+08   \n",
       "\n",
       "                      lotSize     yearBuilt  lastSaleAmount  priorSaleAmount  \\\n",
       "id               8.457335e+09  7.661356e+07    3.326786e+12     2.403030e+11   \n",
       "zipcode         -1.103540e+03 -5.065034e+01    2.479246e+05     1.030079e+05   \n",
       "latitude        -6.593470e+00 -7.428908e-02   -2.317704e+03    -1.773170e+03   \n",
       "longitude        7.941290e+00  7.233661e-02    1.134553e+03     1.306180e+03   \n",
       "bedrooms         4.285138e+02 -1.656479e+00    9.398271e+04     6.326439e+04   \n",
       "bathrooms        9.104679e+02  6.793260e+00    2.683082e+05     1.783968e+05   \n",
       "rooms            1.038417e+03 -2.797016e+00    3.502513e+05     2.430849e+05   \n",
       "squareFootage    9.241945e+05  2.866840e+03    2.154884e+08     1.377630e+08   \n",
       "lotSize          9.079853e+06  2.575406e+04    4.521032e+08     1.919438e+08   \n",
       "yearBuilt        2.575406e+04  8.962271e+02    1.801012e+06     1.141169e+06   \n",
       "lastSaleAmount   4.521032e+08  1.801012e+06    6.017103e+11     7.543743e+10   \n",
       "priorSaleAmount  1.919438e+08  1.141169e+06    7.543743e+10     1.142026e+11   \n",
       "estimated_value  6.939180e+08  2.634072e+06    1.637338e+11     9.951301e+10   \n",
       "\n",
       "                 estimated_value  \n",
       "id                  3.940756e+12  \n",
       "zipcode             4.366604e+05  \n",
       "latitude           -3.163364e+03  \n",
       "longitude           2.449320e+03  \n",
       "bedrooms            1.670586e+05  \n",
       "bathrooms           4.211742e+05  \n",
       "rooms               5.740237e+05  \n",
       "squareFootage       3.454582e+08  \n",
       "lotSize             6.939180e+08  \n",
       "yearBuilt           2.634072e+06  \n",
       "lastSaleAmount      1.637338e+11  \n",
       "priorSaleAmount     9.951301e+10  \n",
       "estimated_value     2.544380e+11  "
      ]
     },
     "execution_count": 7,
     "metadata": {},
     "output_type": "execute_result"
    }
   ],
   "source": [
    "df.cov()"
   ]
  },
  {
   "attachments": {},
   "cell_type": "markdown",
   "metadata": {},
   "source": [
    "Whenever we have to pick the features, we can use this to understand the correlation and decide the best features.\n",
    "\n",
    "For example, if we consider **estimated_value**, we can see that the best set of features would be _bathrooms, squareFootage, rooms and priorSaleAmount_\n",
    "\n",
    "Another reason for using this is for detecting the **outliers**. "
   ]
  },
  {
   "attachments": {},
   "cell_type": "markdown",
   "metadata": {},
   "source": [
    "### `Understanding and Removing Outliers`"
   ]
  },
  {
   "attachments": {},
   "cell_type": "markdown",
   "metadata": {},
   "source": [
    "So, when we are looking at a new dataset, we want to have a good understanding of what the outliers are.\n",
    "\n",
    "In the previous chapter, the linear regression model which could have been very distorted just because of a few outliers because we are trying to fit a line into a dataset and if there are few outliers which are very far away from majority of the data points, then it is very likely that this line we're trying to fit gets lifted by these outliers.\n",
    "\n",
    "So, it is very important to know the outliers and either drop / remove these outliers or impute them using mean or median.\n",
    "\n",
    "So now, we'll take a look at how we detect these outliers and remove them"
   ]
  },
  {
   "cell_type": "code",
   "execution_count": 8,
   "metadata": {},
   "outputs": [
    {
     "data": {
      "text/html": [
       "<div>\n",
       "<style scoped>\n",
       "    .dataframe tbody tr th:only-of-type {\n",
       "        vertical-align: middle;\n",
       "    }\n",
       "\n",
       "    .dataframe tbody tr th {\n",
       "        vertical-align: top;\n",
       "    }\n",
       "\n",
       "    .dataframe thead th {\n",
       "        text-align: right;\n",
       "    }\n",
       "</style>\n",
       "<table border=\"1\" class=\"dataframe\">\n",
       "  <thead>\n",
       "    <tr style=\"text-align: right;\">\n",
       "      <th></th>\n",
       "      <th>bedrooms</th>\n",
       "      <th>bathrooms</th>\n",
       "      <th>rooms</th>\n",
       "      <th>squareFootage</th>\n",
       "      <th>lotSize</th>\n",
       "      <th>yearBuilt</th>\n",
       "      <th>priorSaleAmount</th>\n",
       "    </tr>\n",
       "  </thead>\n",
       "  <tbody>\n",
       "    <tr>\n",
       "      <th>0</th>\n",
       "      <td>3</td>\n",
       "      <td>2.0</td>\n",
       "      <td>6</td>\n",
       "      <td>1378</td>\n",
       "      <td>9968</td>\n",
       "      <td>2003.0</td>\n",
       "      <td>165700.0</td>\n",
       "    </tr>\n",
       "    <tr>\n",
       "      <th>1</th>\n",
       "      <td>2</td>\n",
       "      <td>2.0</td>\n",
       "      <td>6</td>\n",
       "      <td>1653</td>\n",
       "      <td>6970</td>\n",
       "      <td>2004.0</td>\n",
       "      <td>0.0</td>\n",
       "    </tr>\n",
       "    <tr>\n",
       "      <th>2</th>\n",
       "      <td>3</td>\n",
       "      <td>1.0</td>\n",
       "      <td>0</td>\n",
       "      <td>1882</td>\n",
       "      <td>23875</td>\n",
       "      <td>1917.0</td>\n",
       "      <td>0.0</td>\n",
       "    </tr>\n",
       "    <tr>\n",
       "      <th>3</th>\n",
       "      <td>4</td>\n",
       "      <td>3.0</td>\n",
       "      <td>0</td>\n",
       "      <td>2400</td>\n",
       "      <td>11500</td>\n",
       "      <td>1956.0</td>\n",
       "      <td>0.0</td>\n",
       "    </tr>\n",
       "    <tr>\n",
       "      <th>4</th>\n",
       "      <td>3</td>\n",
       "      <td>4.0</td>\n",
       "      <td>8</td>\n",
       "      <td>2305</td>\n",
       "      <td>5600</td>\n",
       "      <td>1998.0</td>\n",
       "      <td>0.0</td>\n",
       "    </tr>\n",
       "    <tr>\n",
       "      <th>...</th>\n",
       "      <td>...</td>\n",
       "      <td>...</td>\n",
       "      <td>...</td>\n",
       "      <td>...</td>\n",
       "      <td>...</td>\n",
       "      <td>...</td>\n",
       "      <td>...</td>\n",
       "    </tr>\n",
       "    <tr>\n",
       "      <th>14995</th>\n",
       "      <td>4</td>\n",
       "      <td>4.0</td>\n",
       "      <td>8</td>\n",
       "      <td>2169</td>\n",
       "      <td>4950</td>\n",
       "      <td>1922.0</td>\n",
       "      <td>0.0</td>\n",
       "    </tr>\n",
       "    <tr>\n",
       "      <th>14996</th>\n",
       "      <td>3</td>\n",
       "      <td>3.0</td>\n",
       "      <td>11</td>\n",
       "      <td>2937</td>\n",
       "      <td>4500</td>\n",
       "      <td>1890.0</td>\n",
       "      <td>557500.0</td>\n",
       "    </tr>\n",
       "    <tr>\n",
       "      <th>14997</th>\n",
       "      <td>3</td>\n",
       "      <td>5.0</td>\n",
       "      <td>7</td>\n",
       "      <td>2937</td>\n",
       "      <td>4680</td>\n",
       "      <td>2007.0</td>\n",
       "      <td>1208214.0</td>\n",
       "    </tr>\n",
       "    <tr>\n",
       "      <th>14998</th>\n",
       "      <td>3</td>\n",
       "      <td>4.0</td>\n",
       "      <td>10</td>\n",
       "      <td>3193</td>\n",
       "      <td>4970</td>\n",
       "      <td>2005.0</td>\n",
       "      <td>405000.0</td>\n",
       "    </tr>\n",
       "    <tr>\n",
       "      <th>14999</th>\n",
       "      <td>3</td>\n",
       "      <td>5.0</td>\n",
       "      <td>9</td>\n",
       "      <td>3193</td>\n",
       "      <td>4364</td>\n",
       "      <td>2001.0</td>\n",
       "      <td>925000.0</td>\n",
       "    </tr>\n",
       "  </tbody>\n",
       "</table>\n",
       "<p>15000 rows × 7 columns</p>\n",
       "</div>"
      ],
      "text/plain": [
       "       bedrooms  bathrooms  rooms  squareFootage  lotSize  yearBuilt  \\\n",
       "0             3        2.0      6           1378     9968     2003.0   \n",
       "1             2        2.0      6           1653     6970     2004.0   \n",
       "2             3        1.0      0           1882    23875     1917.0   \n",
       "3             4        3.0      0           2400    11500     1956.0   \n",
       "4             3        4.0      8           2305     5600     1998.0   \n",
       "...         ...        ...    ...            ...      ...        ...   \n",
       "14995         4        4.0      8           2169     4950     1922.0   \n",
       "14996         3        3.0     11           2937     4500     1890.0   \n",
       "14997         3        5.0      7           2937     4680     2007.0   \n",
       "14998         3        4.0     10           3193     4970     2005.0   \n",
       "14999         3        5.0      9           3193     4364     2001.0   \n",
       "\n",
       "       priorSaleAmount  \n",
       "0             165700.0  \n",
       "1                  0.0  \n",
       "2                  0.0  \n",
       "3                  0.0  \n",
       "4                  0.0  \n",
       "...                ...  \n",
       "14995              0.0  \n",
       "14996         557500.0  \n",
       "14997        1208214.0  \n",
       "14998         405000.0  \n",
       "14999         925000.0  \n",
       "\n",
       "[15000 rows x 7 columns]"
      ]
     },
     "execution_count": 8,
     "metadata": {},
     "output_type": "execute_result"
    }
   ],
   "source": [
    "# We have our X, which is the feature set\n",
    "X"
   ]
  },
  {
   "cell_type": "code",
   "execution_count": 9,
   "metadata": {},
   "outputs": [
    {
     "data": {
      "text/plain": [
       "0         239753\n",
       "1         343963\n",
       "2         488840\n",
       "3         494073\n",
       "4         513676\n",
       "          ...   \n",
       "14995    1080081\n",
       "14996     807306\n",
       "14997    1737156\n",
       "14998    2008794\n",
       "14999    1421401\n",
       "Name: estimated_value, Length: 15000, dtype: int64"
      ]
     },
     "execution_count": 9,
     "metadata": {},
     "output_type": "execute_result"
    }
   ],
   "source": [
    "# y which is the estimated_value of a property\n",
    "y\n"
   ]
  },
  {
   "cell_type": "code",
   "execution_count": 10,
   "metadata": {},
   "outputs": [
    {
     "data": {
      "text/plain": [
       "Index(['bedrooms', 'bathrooms', 'rooms', 'squareFootage', 'lotSize',\n",
       "       'yearBuilt', 'priorSaleAmount'],\n",
       "      dtype='object')"
      ]
     },
     "execution_count": 10,
     "metadata": {},
     "output_type": "execute_result"
    }
   ],
   "source": [
    "X.columns"
   ]
  },
  {
   "attachments": {},
   "cell_type": "markdown",
   "metadata": {},
   "source": [
    "Now, for all of the column headers in our feature set, we'll loop through it and try to build a histogram along with that print the mean and standard deviation\n",
    "\n",
    "And based on these histograms, we can see where most of the values lie for a particular feature and try to set our limit to eliminate the outliers"
   ]
  },
  {
   "cell_type": "code",
   "execution_count": 11,
   "metadata": {},
   "outputs": [
    {
     "name": "stdout",
     "output_type": "stream",
     "text": [
      "================================================================================\n",
      "bedrooms\n",
      "mean:  2.7084\n",
      "std:  0.8972307998543382\n"
     ]
    },
    {
     "data": {
      "image/png": "[encoded data removed]",
      "text/plain": [
       "<Figure size 432x288 with 1 Axes>"
      ]
     },
     "metadata": {
      "needs_background": "light"
     },
     "output_type": "display_data"
    },
    {
     "name": "stdout",
     "output_type": "stream",
     "text": [
      "================================================================================\n",
      "bathrooms\n",
      "mean:  2.1950666666666665\n",
      "std:  1.1662788442928953\n"
     ]
    },
    {
     "data": {
      "image/png": "[encoded data removed]",
      "text/plain": [
       "<Figure size 432x288 with 1 Axes>"
      ]
     },
     "metadata": {
      "needs_background": "light"
     },
     "output_type": "display_data"
    },
    {
     "name": "stdout",
     "output_type": "stream",
     "text": [
      "================================================================================\n",
      "rooms\n",
      "mean:  6.164133333333333\n",
      "std:  1.958600518215801\n"
     ]
    },
    {
     "data": {
      "image/png": "[encoded data removed]",
      "text/plain": [
       "<Figure size 432x288 with 1 Axes>"
      ]
     },
     "metadata": {
      "needs_background": "light"
     },
     "output_type": "display_data"
    },
    {
     "name": "stdout",
     "output_type": "stream",
     "text": [
      "================================================================================\n",
      "squareFootage\n",
      "mean:  1514.5044\n",
      "std:  830.6359987331762\n"
     ]
    },
    {
     "data": {
      "image/png": "[encoded data removed]",
      "text/plain": [
       "<Figure size 432x288 with 1 Axes>"
      ]
     },
     "metadata": {
      "needs_background": "light"
     },
     "output_type": "display_data"
    },
    {
     "name": "stdout",
     "output_type": "stream",
     "text": [
      "================================================================================\n",
      "lotSize\n",
      "mean:  5820.7662\n",
      "std:  3013.279470369183\n"
     ]
    },
    {
     "data": {
      "image/png": "[encoded data removed]",
      "text/plain": [
       "<Figure size 432x288 with 1 Axes>"
      ]
     },
     "metadata": {
      "needs_background": "light"
     },
     "output_type": "display_data"
    },
    {
     "name": "stdout",
     "output_type": "stream",
     "text": [
      "================================================================================\n",
      "yearBuilt\n",
      "mean:  1929.3885333333333\n",
      "std:  33.82853430411162\n"
     ]
    },
    {
     "data": {
      "image/png": "[encoded data removed]",
      "text/plain": [
       "<Figure size 432x288 with 1 Axes>"
      ]
     },
     "metadata": {
      "needs_background": "light"
     },
     "output_type": "display_data"
    },
    {
     "name": "stdout",
     "output_type": "stream",
     "text": [
      "================================================================================\n",
      "priorSaleAmount\n",
      "mean:  195216.20066666667\n",
      "std:  313797.90664518543\n"
     ]
    },
    {
     "data": {
      "image/png": "[encoded data removed]",
      "text/plain": [
       "<Figure size 432x288 with 1 Axes>"
      ]
     },
     "metadata": {
      "needs_background": "light"
     },
     "output_type": "display_data"
    }
   ],
   "source": [
    "for col in X.columns:\n",
    "  print('='*80)\n",
    "  print(col)\n",
    "  X.loc[:, col].hist() # for all the rows, and current column in the iteration, get the histogram\n",
    "  print('mean: ', X.loc[:, col].mean())\n",
    "  print('std: ', X.loc[:, col].std())\n",
    "  plt.show()\n"
   ]
  },
  {
   "attachments": {},
   "cell_type": "markdown",
   "metadata": {},
   "source": [
    "Now, we'll work towards removing the outliers"
   ]
  },
  {
   "cell_type": "code",
   "execution_count": 12,
   "metadata": {},
   "outputs": [],
   "source": [
    "# remove or drop outliers (by filtering the records we need) based on conditions\n",
    "X2 = X[X.bedrooms < 7]\n"
   ]
  },
  {
   "cell_type": "code",
   "execution_count": 13,
   "metadata": {},
   "outputs": [
    {
     "data": {
      "text/plain": [
       "<AxesSubplot:>"
      ]
     },
     "execution_count": 13,
     "metadata": {},
     "output_type": "execute_result"
    },
    {
     "data": {
      "image/png": "[encoded data removed]",
      "text/plain": [
       "<Figure size 432x288 with 1 Axes>"
      ]
     },
     "metadata": {
      "needs_background": "light"
     },
     "output_type": "display_data"
    }
   ],
   "source": [
    "X2.bedrooms.hist()"
   ]
  },
  {
   "cell_type": "code",
   "execution_count": 14,
   "metadata": {},
   "outputs": [],
   "source": [
    "# Removing outliers (by filtering the records we need) from multiple features at once\n",
    "X3 = X[(X.bedrooms < 7) & (X.bathrooms < 7)]"
   ]
  },
  {
   "cell_type": "code",
   "execution_count": 15,
   "metadata": {},
   "outputs": [
    {
     "data": {
      "text/plain": [
       "<AxesSubplot:>"
      ]
     },
     "execution_count": 15,
     "metadata": {},
     "output_type": "execute_result"
    },
    {
     "data": {
      "image/png": "[encoded data removed]",
      "text/plain": [
       "<Figure size 432x288 with 1 Axes>"
      ]
     },
     "metadata": {
      "needs_background": "light"
     },
     "output_type": "display_data"
    }
   ],
   "source": [
    "X3.bathrooms.hist()"
   ]
  },
  {
   "attachments": {},
   "cell_type": "markdown",
   "metadata": {},
   "source": [
    "#### `Alternate ways to identify and remove outliers`"
   ]
  },
  {
   "cell_type": "code",
   "execution_count": 16,
   "metadata": {},
   "outputs": [
    {
     "data": {
      "text/plain": [
       "<AxesSubplot:>"
      ]
     },
     "execution_count": 16,
     "metadata": {},
     "output_type": "execute_result"
    },
    {
     "data": {
      "image/png": "[encoded data removed]",
      "text/plain": [
       "<Figure size 432x288 with 1 Axes>"
      ]
     },
     "metadata": {
      "needs_background": "light"
     },
     "output_type": "display_data"
    }
   ],
   "source": [
    "# Seaborn - Boxplot\n",
    "\n",
    "sns.boxplot(data=X)"
   ]
  },
  {
   "attachments": {},
   "cell_type": "markdown",
   "metadata": {},
   "source": [
    "We see that **priorSaleAmount** is skewing the result, so we'll remove that and check the boxplot again"
   ]
  },
  {
   "cell_type": "code",
   "execution_count": 17,
   "metadata": {},
   "outputs": [
    {
     "data": {
      "text/plain": [
       "<AxesSubplot:>"
      ]
     },
     "execution_count": 17,
     "metadata": {},
     "output_type": "execute_result"
    },
    {
     "data": {
      "image/png": "[encoded data removed]",
      "text/plain": [
       "<Figure size 432x288 with 1 Axes>"
      ]
     },
     "metadata": {
      "needs_background": "light"
     },
     "output_type": "display_data"
    }
   ],
   "source": [
    "sns.boxplot(data=X[['bedrooms', 'bathrooms', 'rooms',\n",
    "            'squareFootage', 'lotSize', 'yearBuilt']])\n"
   ]
  },
  {
   "attachments": {},
   "cell_type": "markdown",
   "metadata": {},
   "source": [
    "We see that now **lotSize** is still somewhat skewing the result, so we'll remove that and see the boxplot"
   ]
  },
  {
   "cell_type": "code",
   "execution_count": 18,
   "metadata": {},
   "outputs": [
    {
     "data": {
      "text/plain": [
       "<AxesSubplot:>"
      ]
     },
     "execution_count": 18,
     "metadata": {},
     "output_type": "execute_result"
    },
    {
     "data": {
      "image/png": "[encoded data removed]",
      "text/plain": [
       "<Figure size 432x288 with 1 Axes>"
      ]
     },
     "metadata": {
      "needs_background": "light"
     },
     "output_type": "display_data"
    }
   ],
   "source": [
    "sns.boxplot(data=X[['bedrooms', 'bathrooms', 'rooms',\n",
    "            'squareFootage', 'yearBuilt']])\n"
   ]
  },
  {
   "attachments": {},
   "cell_type": "markdown",
   "metadata": {},
   "source": [
    "Same is with **squareFootage**"
   ]
  },
  {
   "cell_type": "code",
   "execution_count": 19,
   "metadata": {},
   "outputs": [
    {
     "data": {
      "text/plain": [
       "<AxesSubplot:>"
      ]
     },
     "execution_count": 19,
     "metadata": {},
     "output_type": "execute_result"
    },
    {
     "data": {
      "image/png": "[encoded data removed]",
      "text/plain": [
       "<Figure size 432x288 with 1 Axes>"
      ]
     },
     "metadata": {
      "needs_background": "light"
     },
     "output_type": "display_data"
    }
   ],
   "source": [
    "sns.boxplot(data=X[['bedrooms', 'bathrooms', 'rooms', 'yearBuilt']])\n"
   ]
  },
  {
   "attachments": {},
   "cell_type": "markdown",
   "metadata": {},
   "source": [
    "and with **yearBuilt** removed"
   ]
  },
  {
   "cell_type": "code",
   "execution_count": 20,
   "metadata": {},
   "outputs": [
    {
     "data": {
      "text/plain": [
       "<AxesSubplot:>"
      ]
     },
     "execution_count": 20,
     "metadata": {},
     "output_type": "execute_result"
    },
    {
     "data": {
      "image/png": "[encoded data removed]",
      "text/plain": [
       "<Figure size 432x288 with 1 Axes>"
      ]
     },
     "metadata": {
      "needs_background": "light"
     },
     "output_type": "display_data"
    }
   ],
   "source": [
    "sns.boxplot(data=X[['bedrooms', 'bathrooms', 'rooms']])\n"
   ]
  },
  {
   "attachments": {},
   "cell_type": "markdown",
   "metadata": {},
   "source": [
    "We now see that in rooms, anything above 20 or 25 may be considered as outliers.\n",
    "\n",
    "Typically what people do is, they will use somewhere from 25pctl to 75pctl, so that we can include the data points that belong to that range. But we can surely be flexible at picking it.\n",
    "\n",
    "So, comparing the value we've picked for bathroom and bedroom i.e., 7 seems to be a good cutoff based on the above chart and for rooms, may be 20 will be a good cutoff value.\n",
    "\n",
    "So, now, we'll go back and see the other features we didn't include."
   ]
  },
  {
   "cell_type": "code",
   "execution_count": 21,
   "metadata": {},
   "outputs": [
    {
     "data": {
      "text/plain": [
       "<AxesSubplot:>"
      ]
     },
     "execution_count": 21,
     "metadata": {},
     "output_type": "execute_result"
    },
    {
     "data": {
      "image/png": "[encoded data removed]",
      "text/plain": [
       "<Figure size 432x288 with 1 Axes>"
      ]
     },
     "metadata": {
      "needs_background": "light"
     },
     "output_type": "display_data"
    }
   ],
   "source": [
    "sns.boxplot(data=X[['squareFootage', 'lotSize']])\n"
   ]
  },
  {
   "attachments": {},
   "cell_type": "markdown",
   "metadata": {},
   "source": [
    "Definitely there are many outliers in **lotSize**, may be anything more than 50k would be an outlier. So first, lets just look at the **squareFootage**"
   ]
  },
  {
   "cell_type": "code",
   "execution_count": 22,
   "metadata": {},
   "outputs": [
    {
     "data": {
      "text/plain": [
       "<AxesSubplot:>"
      ]
     },
     "execution_count": 22,
     "metadata": {},
     "output_type": "execute_result"
    },
    {
     "data": {
      "image/png": "[encoded data removed]",
      "text/plain": [
       "<Figure size 432x288 with 1 Axes>"
      ]
     },
     "metadata": {
      "needs_background": "light"
     },
     "output_type": "display_data"
    }
   ],
   "source": [
    "sns.boxplot(data=X[['squareFootage']])\n"
   ]
  },
  {
   "attachments": {},
   "cell_type": "markdown",
   "metadata": {},
   "source": [
    "And seeing this, we can consider 4k as the cutoff, and now see the **lotSize**"
   ]
  },
  {
   "cell_type": "code",
   "execution_count": 23,
   "metadata": {},
   "outputs": [
    {
     "data": {
      "text/plain": [
       "<AxesSubplot:>"
      ]
     },
     "execution_count": 23,
     "metadata": {},
     "output_type": "execute_result"
    },
    {
     "data": {
      "image/png": "[encoded data removed]",
      "text/plain": [
       "<Figure size 432x288 with 1 Axes>"
      ]
     },
     "metadata": {
      "needs_background": "light"
     },
     "output_type": "display_data"
    }
   ],
   "source": [
    "sns.boxplot(data=X[['lotSize']])"
   ]
  },
  {
   "attachments": {},
   "cell_type": "markdown",
   "metadata": {},
   "source": [
    "And here, anything above 40k should be a good cutoff.\n",
    "\n",
    "We can definitely go on and check the features individually and decide the cutoff or we can also have a combined view of more than one variable test where to draw the line to cutoff the outliers."
   ]
  },
  {
   "attachments": {},
   "cell_type": "markdown",
   "metadata": {},
   "source": [
    "### `Conclusion`\n",
    "\n",
    "At some scenario, if there are too many outliers, it could be just that we need to reposition the problem into **outlier** or **anomaly detection** and perhaps we can have two models.\n",
    "\n",
    "One is the model that we will be going to use for major data points or major scenarios and another one for the outliers. So we can have two models and each will have it's own purpose.\n",
    "\n",
    "---\n",
    "[next](./03D-dimensionality-reduction.ipynb)"
   ]
  }
 ],
 "metadata": {
  "kernelspec": {
   "display_name": "Python 3.9.7 ('base')",
   "language": "python",
   "name": "python3"
  },
  "language_info": {
   "codemirror_mode": {
    "name": "ipython",
    "version": 3
   },
   "file_extension": ".py",
   "mimetype": "text/x-python",
   "name": "python",
   "nbconvert_exporter": "python",
   "pygments_lexer": "ipython3",
   "version": "3.9.7"
  },
  "orig_nbformat": 4,
  "vscode": {
   "interpreter": {
    "hash": "0b4484ae063bf9ef0d5115063857dd0e382a2c73ed49a11a000ca56af03302b6"
   }
  }
 },
 "nbformat": 4,
 "nbformat_minor": 2
}
