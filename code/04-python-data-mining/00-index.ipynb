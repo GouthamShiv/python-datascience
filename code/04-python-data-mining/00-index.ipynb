{
 "cells": [
  {
   "cell_type": "markdown",
   "metadata": {},
   "source": [
    "[back](../03-data-analysis-with-pandas/15-reading-csv-into-dataframe.ipynb)\n",
    "\n",
    "---\n",
    "## `Data Mining with Python`\n",
    "\n",
    "### `Data Wrangling`\n",
    "\n",
    "- [Cleaning Data](./01-cleaning-data.ipynb)\n",
    "  - Filtering out noise\n",
    "  - Making data available for analysis\n",
    "- [Statistics](./01-cleaning-data.ipynb)\n",
    "  - Simple Statistics\n",
    "- [Practical example of **data mining**](./02-practical-datamining-example.ipynb)\n",
    "- [Dataset Examples](./02-practical-datamining-example.ipynb)\n",
    "\n",
    "### `Data Mining - Fundamentals`\n",
    "\n",
    "- [Cluster Analysis](./03A-cluster-analysis.ipynb)\n",
    "- [Classification and Regression](./03B-classification-and-regression.ipynb)\n",
    "  - LinearRegression and LogisticRegression\n",
    "  - Support Vector Classifier and Support Vector Regressor\n",
    "  - KNeighborsClassifier and KNeighborsRegressor\n",
    "- [Association and Correlation](./03C-association-and-correlation.ipynb)\n",
    "- [Dimensionality Reduction](./03D-dimensionality-reduction.ipynb)"
   ]
  },
  {
   "cell_type": "markdown",
   "metadata": {},
   "source": [
    "\n",
    "---\n",
    "[next](./01-cleaning-data.ipynb)"
   ]
  }
 ],
 "metadata": {
  "interpreter": {
   "hash": "0b4484ae063bf9ef0d5115063857dd0e382a2c73ed49a11a000ca56af03302b6"
  },
  "kernelspec": {
   "display_name": "Python 3.9.7 ('base')",
   "language": "python",
   "name": "python3"
  },
  "language_info": {
   "name": "python",
   "version": "3.9.7"
  },
  "orig_nbformat": 4
 },
 "nbformat": 4,
 "nbformat_minor": 2
}
