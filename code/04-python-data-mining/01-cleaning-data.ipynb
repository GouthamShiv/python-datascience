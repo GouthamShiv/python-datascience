{
 "cells": [
  {
   "cell_type": "markdown",
   "metadata": {},
   "source": [
    "[back](./00-index.ipynb)\n",
    "\n",
    "---"
   ]
  },
  {
   "cell_type": "markdown",
   "metadata": {},
   "source": [
    "### `Initial Setup`"
   ]
  },
  {
   "cell_type": "code",
   "execution_count": 1,
   "metadata": {},
   "outputs": [],
   "source": [
    "# Importing required libraries\n",
    "\n",
    "import pandas as pd\n",
    "import numpy as np\n",
    "import seaborn as sns  # Library used to print nicer charts and visualizations\n",
    "import matplotlib.pyplot as plt\n",
    "\n",
    "%matplotlib inline\n"
   ]
  },
  {
   "cell_type": "markdown",
   "metadata": {},
   "source": [
    "refer [here](https://stackoverflow.com/questions/43027980/purpose-of-matplotlib-inline) to know about `%matplotlib inline`"
   ]
  },
  {
   "cell_type": "code",
   "execution_count": 2,
   "metadata": {},
   "outputs": [
    {
     "data": {
      "text/html": [
       "<div>\n",
       "<style scoped>\n",
       "    .dataframe tbody tr th:only-of-type {\n",
       "        vertical-align: middle;\n",
       "    }\n",
       "\n",
       "    .dataframe tbody tr th {\n",
       "        vertical-align: top;\n",
       "    }\n",
       "\n",
       "    .dataframe thead th {\n",
       "        text-align: right;\n",
       "    }\n",
       "</style>\n",
       "<table border=\"1\" class=\"dataframe\">\n",
       "  <thead>\n",
       "    <tr style=\"text-align: right;\">\n",
       "      <th></th>\n",
       "      <th>id</th>\n",
       "      <th>address</th>\n",
       "      <th>city</th>\n",
       "      <th>state</th>\n",
       "      <th>zipcode</th>\n",
       "      <th>latitude</th>\n",
       "      <th>longitude</th>\n",
       "      <th>bedrooms</th>\n",
       "      <th>bathrooms</th>\n",
       "      <th>rooms</th>\n",
       "      <th>squareFootage</th>\n",
       "      <th>lotSize</th>\n",
       "      <th>yearBuilt</th>\n",
       "      <th>lastSaleDate</th>\n",
       "      <th>lastSaleAmount</th>\n",
       "      <th>priorSaleDate</th>\n",
       "      <th>priorSaleAmount</th>\n",
       "      <th>estimated_value</th>\n",
       "    </tr>\n",
       "  </thead>\n",
       "  <tbody>\n",
       "    <tr>\n",
       "      <th>0</th>\n",
       "      <td>39525749</td>\n",
       "      <td>8171 E 84th Ave</td>\n",
       "      <td>Denver</td>\n",
       "      <td>CO</td>\n",
       "      <td>80022</td>\n",
       "      <td>39.84916</td>\n",
       "      <td>-104.893468</td>\n",
       "      <td>3</td>\n",
       "      <td>2.0</td>\n",
       "      <td>6</td>\n",
       "      <td>1378</td>\n",
       "      <td>9968</td>\n",
       "      <td>2003.0</td>\n",
       "      <td>2009-12-17</td>\n",
       "      <td>75000</td>\n",
       "      <td>2004-05-13</td>\n",
       "      <td>165700.0</td>\n",
       "      <td>239753</td>\n",
       "    </tr>\n",
       "    <tr>\n",
       "      <th>1</th>\n",
       "      <td>184578398</td>\n",
       "      <td>10556 Wheeling St</td>\n",
       "      <td>Denver</td>\n",
       "      <td>CO</td>\n",
       "      <td>80022</td>\n",
       "      <td>39.88802</td>\n",
       "      <td>-104.830930</td>\n",
       "      <td>2</td>\n",
       "      <td>2.0</td>\n",
       "      <td>6</td>\n",
       "      <td>1653</td>\n",
       "      <td>6970</td>\n",
       "      <td>2004.0</td>\n",
       "      <td>2004-09-23</td>\n",
       "      <td>216935</td>\n",
       "      <td>NaN</td>\n",
       "      <td>NaN</td>\n",
       "      <td>343963</td>\n",
       "    </tr>\n",
       "    <tr>\n",
       "      <th>2</th>\n",
       "      <td>184430015</td>\n",
       "      <td>3190 Wadsworth Blvd</td>\n",
       "      <td>Denver</td>\n",
       "      <td>CO</td>\n",
       "      <td>80033</td>\n",
       "      <td>39.76171</td>\n",
       "      <td>-105.081070</td>\n",
       "      <td>3</td>\n",
       "      <td>1.0</td>\n",
       "      <td>0</td>\n",
       "      <td>1882</td>\n",
       "      <td>23875</td>\n",
       "      <td>1917.0</td>\n",
       "      <td>2008-04-03</td>\n",
       "      <td>330000</td>\n",
       "      <td>NaN</td>\n",
       "      <td>NaN</td>\n",
       "      <td>488840</td>\n",
       "    </tr>\n",
       "    <tr>\n",
       "      <th>3</th>\n",
       "      <td>155129946</td>\n",
       "      <td>3040 Wadsworth Blvd</td>\n",
       "      <td>Denver</td>\n",
       "      <td>CO</td>\n",
       "      <td>80033</td>\n",
       "      <td>39.76078</td>\n",
       "      <td>-105.081060</td>\n",
       "      <td>4</td>\n",
       "      <td>3.0</td>\n",
       "      <td>0</td>\n",
       "      <td>2400</td>\n",
       "      <td>11500</td>\n",
       "      <td>1956.0</td>\n",
       "      <td>2008-12-02</td>\n",
       "      <td>185000</td>\n",
       "      <td>2008-06-27</td>\n",
       "      <td>0.0</td>\n",
       "      <td>494073</td>\n",
       "    </tr>\n",
       "  </tbody>\n",
       "</table>\n",
       "</div>"
      ],
      "text/plain": [
       "          id              address    city state  zipcode  latitude  \\\n",
       "0   39525749      8171 E 84th Ave  Denver    CO    80022  39.84916   \n",
       "1  184578398    10556 Wheeling St  Denver    CO    80022  39.88802   \n",
       "2  184430015  3190 Wadsworth Blvd  Denver    CO    80033  39.76171   \n",
       "3  155129946  3040 Wadsworth Blvd  Denver    CO    80033  39.76078   \n",
       "\n",
       "    longitude  bedrooms  bathrooms  rooms  squareFootage  lotSize  yearBuilt  \\\n",
       "0 -104.893468         3        2.0      6           1378     9968     2003.0   \n",
       "1 -104.830930         2        2.0      6           1653     6970     2004.0   \n",
       "2 -105.081070         3        1.0      0           1882    23875     1917.0   \n",
       "3 -105.081060         4        3.0      0           2400    11500     1956.0   \n",
       "\n",
       "  lastSaleDate  lastSaleAmount priorSaleDate  priorSaleAmount  estimated_value  \n",
       "0   2009-12-17           75000    2004-05-13         165700.0           239753  \n",
       "1   2004-09-23          216935           NaN              NaN           343963  \n",
       "2   2008-04-03          330000           NaN              NaN           488840  \n",
       "3   2008-12-02          185000    2008-06-27              0.0           494073  "
      ]
     },
     "execution_count": 2,
     "metadata": {},
     "output_type": "execute_result"
    }
   ],
   "source": [
    "df = pd.read_csv(r'../../assets/single_family_home_values.csv')\n",
    "df.head(4)\n"
   ]
  },
  {
   "cell_type": "markdown",
   "metadata": {},
   "source": [
    "### `Cleaning Data`"
   ]
  },
  {
   "cell_type": "markdown",
   "metadata": {},
   "source": [
    "#### `Understanding the DataFrame`"
   ]
  },
  {
   "cell_type": "code",
   "execution_count": 3,
   "metadata": {},
   "outputs": [
    {
     "data": {
      "text/plain": [
       "pandas.core.frame.DataFrame"
      ]
     },
     "execution_count": 3,
     "metadata": {},
     "output_type": "execute_result"
    }
   ],
   "source": [
    "type(df)"
   ]
  },
  {
   "cell_type": "code",
   "execution_count": 4,
   "metadata": {},
   "outputs": [
    {
     "data": {
      "text/plain": [
       "(15000, 18)"
      ]
     },
     "execution_count": 4,
     "metadata": {},
     "output_type": "execute_result"
    }
   ],
   "source": [
    "# Shape of the DataFrame\n",
    "# Prints the number of rows and columns\n",
    "df.shape"
   ]
  },
  {
   "cell_type": "code",
   "execution_count": 5,
   "metadata": {},
   "outputs": [
    {
     "name": "stdout",
     "output_type": "stream",
     "text": [
      "<class 'pandas.core.frame.DataFrame'>\n",
      "RangeIndex: 15000 entries, 0 to 14999\n",
      "Data columns (total 18 columns):\n",
      " #   Column           Non-Null Count  Dtype  \n",
      "---  ------           --------------  -----  \n",
      " 0   id               15000 non-null  int64  \n",
      " 1   address          15000 non-null  object \n",
      " 2   city             15000 non-null  object \n",
      " 3   state            15000 non-null  object \n",
      " 4   zipcode          15000 non-null  int64  \n",
      " 5   latitude         14985 non-null  float64\n",
      " 6   longitude        14985 non-null  float64\n",
      " 7   bedrooms         15000 non-null  int64  \n",
      " 8   bathrooms        15000 non-null  float64\n",
      " 9   rooms            15000 non-null  int64  \n",
      " 10  squareFootage    15000 non-null  int64  \n",
      " 11  lotSize          15000 non-null  int64  \n",
      " 12  yearBuilt        14999 non-null  float64\n",
      " 13  lastSaleDate     15000 non-null  object \n",
      " 14  lastSaleAmount   15000 non-null  int64  \n",
      " 15  priorSaleDate    11173 non-null  object \n",
      " 16  priorSaleAmount  11287 non-null  float64\n",
      " 17  estimated_value  15000 non-null  int64  \n",
      "dtypes: float64(5), int64(8), object(5)\n",
      "memory usage: 2.1+ MB\n"
     ]
    }
   ],
   "source": [
    "# Info of the DataFrame\n",
    "# Can know the number of missing values for each column\n",
    "# Can understand the data-type of the elements in each column\n",
    "df.info()"
   ]
  },
  {
   "cell_type": "code",
   "execution_count": 6,
   "metadata": {},
   "outputs": [
    {
     "data": {
      "text/html": [
       "<div>\n",
       "<style scoped>\n",
       "    .dataframe tbody tr th:only-of-type {\n",
       "        vertical-align: middle;\n",
       "    }\n",
       "\n",
       "    .dataframe tbody tr th {\n",
       "        vertical-align: top;\n",
       "    }\n",
       "\n",
       "    .dataframe thead th {\n",
       "        text-align: right;\n",
       "    }\n",
       "</style>\n",
       "<table border=\"1\" class=\"dataframe\">\n",
       "  <thead>\n",
       "    <tr style=\"text-align: right;\">\n",
       "      <th></th>\n",
       "      <th>id</th>\n",
       "      <th>zipcode</th>\n",
       "      <th>latitude</th>\n",
       "      <th>longitude</th>\n",
       "      <th>bedrooms</th>\n",
       "      <th>bathrooms</th>\n",
       "      <th>rooms</th>\n",
       "      <th>squareFootage</th>\n",
       "      <th>lotSize</th>\n",
       "      <th>yearBuilt</th>\n",
       "      <th>lastSaleAmount</th>\n",
       "      <th>priorSaleAmount</th>\n",
       "      <th>estimated_value</th>\n",
       "    </tr>\n",
       "  </thead>\n",
       "  <tbody>\n",
       "    <tr>\n",
       "      <th>count</th>\n",
       "      <td>1.500000e+04</td>\n",
       "      <td>15000.000000</td>\n",
       "      <td>14985.000000</td>\n",
       "      <td>14985.000000</td>\n",
       "      <td>15000.000000</td>\n",
       "      <td>15000.000000</td>\n",
       "      <td>15000.000000</td>\n",
       "      <td>15000.000000</td>\n",
       "      <td>15000.00000</td>\n",
       "      <td>14999.000000</td>\n",
       "      <td>1.500000e+04</td>\n",
       "      <td>1.128700e+04</td>\n",
       "      <td>1.500000e+04</td>\n",
       "    </tr>\n",
       "    <tr>\n",
       "      <th>mean</th>\n",
       "      <td>5.176229e+07</td>\n",
       "      <td>80204.919467</td>\n",
       "      <td>39.740538</td>\n",
       "      <td>-104.964076</td>\n",
       "      <td>2.708400</td>\n",
       "      <td>2.195067</td>\n",
       "      <td>6.164133</td>\n",
       "      <td>1514.504400</td>\n",
       "      <td>5820.76620</td>\n",
       "      <td>1929.517168</td>\n",
       "      <td>4.053563e+05</td>\n",
       "      <td>2.594350e+05</td>\n",
       "      <td>6.371625e+05</td>\n",
       "    </tr>\n",
       "    <tr>\n",
       "      <th>std</th>\n",
       "      <td>6.190876e+07</td>\n",
       "      <td>9.715263</td>\n",
       "      <td>0.023555</td>\n",
       "      <td>0.039788</td>\n",
       "      <td>0.897231</td>\n",
       "      <td>1.166279</td>\n",
       "      <td>1.958601</td>\n",
       "      <td>830.635999</td>\n",
       "      <td>3013.27947</td>\n",
       "      <td>29.937051</td>\n",
       "      <td>7.756998e+05</td>\n",
       "      <td>3.379387e+05</td>\n",
       "      <td>5.044185e+05</td>\n",
       "    </tr>\n",
       "    <tr>\n",
       "      <th>min</th>\n",
       "      <td>1.433670e+05</td>\n",
       "      <td>80022.000000</td>\n",
       "      <td>39.614531</td>\n",
       "      <td>-105.108440</td>\n",
       "      <td>0.000000</td>\n",
       "      <td>0.000000</td>\n",
       "      <td>0.000000</td>\n",
       "      <td>350.000000</td>\n",
       "      <td>278.00000</td>\n",
       "      <td>1874.000000</td>\n",
       "      <td>2.590000e+02</td>\n",
       "      <td>0.000000e+00</td>\n",
       "      <td>1.477670e+05</td>\n",
       "    </tr>\n",
       "    <tr>\n",
       "      <th>25%</th>\n",
       "      <td>1.004802e+07</td>\n",
       "      <td>80205.000000</td>\n",
       "      <td>39.727634</td>\n",
       "      <td>-104.978737</td>\n",
       "      <td>2.000000</td>\n",
       "      <td>1.000000</td>\n",
       "      <td>5.000000</td>\n",
       "      <td>986.000000</td>\n",
       "      <td>4620.00000</td>\n",
       "      <td>1907.000000</td>\n",
       "      <td>1.940000e+05</td>\n",
       "      <td>1.100000e+05</td>\n",
       "      <td>3.984348e+05</td>\n",
       "    </tr>\n",
       "    <tr>\n",
       "      <th>50%</th>\n",
       "      <td>2.563241e+07</td>\n",
       "      <td>80206.000000</td>\n",
       "      <td>39.748048</td>\n",
       "      <td>-104.957689</td>\n",
       "      <td>3.000000</td>\n",
       "      <td>2.000000</td>\n",
       "      <td>6.000000</td>\n",
       "      <td>1267.500000</td>\n",
       "      <td>5950.00000</td>\n",
       "      <td>1925.000000</td>\n",
       "      <td>3.200000e+05</td>\n",
       "      <td>2.100000e+05</td>\n",
       "      <td>5.183575e+05</td>\n",
       "    </tr>\n",
       "    <tr>\n",
       "      <th>75%</th>\n",
       "      <td>5.114222e+07</td>\n",
       "      <td>80207.000000</td>\n",
       "      <td>39.758214</td>\n",
       "      <td>-104.937522</td>\n",
       "      <td>3.000000</td>\n",
       "      <td>3.000000</td>\n",
       "      <td>7.000000</td>\n",
       "      <td>1766.250000</td>\n",
       "      <td>6270.00000</td>\n",
       "      <td>1949.000000</td>\n",
       "      <td>4.632000e+05</td>\n",
       "      <td>3.302400e+05</td>\n",
       "      <td>6.879692e+05</td>\n",
       "    </tr>\n",
       "    <tr>\n",
       "      <th>max</th>\n",
       "      <td>3.209481e+08</td>\n",
       "      <td>80209.000000</td>\n",
       "      <td>39.888020</td>\n",
       "      <td>-104.830930</td>\n",
       "      <td>15.000000</td>\n",
       "      <td>12.000000</td>\n",
       "      <td>39.000000</td>\n",
       "      <td>10907.000000</td>\n",
       "      <td>122839.00000</td>\n",
       "      <td>2016.000000</td>\n",
       "      <td>4.560000e+07</td>\n",
       "      <td>1.600000e+07</td>\n",
       "      <td>1.014531e+07</td>\n",
       "    </tr>\n",
       "  </tbody>\n",
       "</table>\n",
       "</div>"
      ],
      "text/plain": [
       "                 id       zipcode      latitude     longitude      bedrooms  \\\n",
       "count  1.500000e+04  15000.000000  14985.000000  14985.000000  15000.000000   \n",
       "mean   5.176229e+07  80204.919467     39.740538   -104.964076      2.708400   \n",
       "std    6.190876e+07      9.715263      0.023555      0.039788      0.897231   \n",
       "min    1.433670e+05  80022.000000     39.614531   -105.108440      0.000000   \n",
       "25%    1.004802e+07  80205.000000     39.727634   -104.978737      2.000000   \n",
       "50%    2.563241e+07  80206.000000     39.748048   -104.957689      3.000000   \n",
       "75%    5.114222e+07  80207.000000     39.758214   -104.937522      3.000000   \n",
       "max    3.209481e+08  80209.000000     39.888020   -104.830930     15.000000   \n",
       "\n",
       "          bathrooms         rooms  squareFootage       lotSize     yearBuilt  \\\n",
       "count  15000.000000  15000.000000   15000.000000   15000.00000  14999.000000   \n",
       "mean       2.195067      6.164133    1514.504400    5820.76620   1929.517168   \n",
       "std        1.166279      1.958601     830.635999    3013.27947     29.937051   \n",
       "min        0.000000      0.000000     350.000000     278.00000   1874.000000   \n",
       "25%        1.000000      5.000000     986.000000    4620.00000   1907.000000   \n",
       "50%        2.000000      6.000000    1267.500000    5950.00000   1925.000000   \n",
       "75%        3.000000      7.000000    1766.250000    6270.00000   1949.000000   \n",
       "max       12.000000     39.000000   10907.000000  122839.00000   2016.000000   \n",
       "\n",
       "       lastSaleAmount  priorSaleAmount  estimated_value  \n",
       "count    1.500000e+04     1.128700e+04     1.500000e+04  \n",
       "mean     4.053563e+05     2.594350e+05     6.371625e+05  \n",
       "std      7.756998e+05     3.379387e+05     5.044185e+05  \n",
       "min      2.590000e+02     0.000000e+00     1.477670e+05  \n",
       "25%      1.940000e+05     1.100000e+05     3.984348e+05  \n",
       "50%      3.200000e+05     2.100000e+05     5.183575e+05  \n",
       "75%      4.632000e+05     3.302400e+05     6.879692e+05  \n",
       "max      4.560000e+07     1.600000e+07     1.014531e+07  "
      ]
     },
     "execution_count": 6,
     "metadata": {},
     "output_type": "execute_result"
    }
   ],
   "source": [
    "# Have statistics of the DataFrame\n",
    "df.describe()"
   ]
  },
  {
   "cell_type": "code",
   "execution_count": 7,
   "metadata": {},
   "outputs": [
    {
     "name": "stdout",
     "output_type": "stream",
     "text": [
      "<class 'pandas.core.frame.DataFrame'>\n",
      "RangeIndex: 15000 entries, 0 to 14999\n",
      "Data columns (total 18 columns):\n",
      " #   Column           Non-Null Count  Dtype  \n",
      "---  ------           --------------  -----  \n",
      " 0   id               15000 non-null  int64  \n",
      " 1   address          15000 non-null  object \n",
      " 2   city             15000 non-null  object \n",
      " 3   state            15000 non-null  object \n",
      " 4   zipcode          15000 non-null  int64  \n",
      " 5   latitude         15000 non-null  float64\n",
      " 6   longitude        15000 non-null  float64\n",
      " 7   bedrooms         15000 non-null  int64  \n",
      " 8   bathrooms        15000 non-null  float64\n",
      " 9   rooms            15000 non-null  int64  \n",
      " 10  squareFootage    15000 non-null  int64  \n",
      " 11  lotSize          15000 non-null  int64  \n",
      " 12  yearBuilt        15000 non-null  float64\n",
      " 13  lastSaleDate     15000 non-null  object \n",
      " 14  lastSaleAmount   15000 non-null  int64  \n",
      " 15  priorSaleDate    15000 non-null  object \n",
      " 16  priorSaleAmount  15000 non-null  float64\n",
      " 17  estimated_value  15000 non-null  int64  \n",
      "dtypes: float64(5), int64(8), object(5)\n",
      "memory usage: 2.1+ MB\n"
     ]
    }
   ],
   "source": [
    "# Fill NaN values\n",
    "df2 = df.fillna(0)\n",
    "\n",
    "df2.info()"
   ]
  },
  {
   "cell_type": "code",
   "execution_count": 8,
   "metadata": {},
   "outputs": [
    {
     "name": "stdout",
     "output_type": "stream",
     "text": [
      "<class 'pandas.core.frame.DataFrame'>\n",
      "RangeIndex: 15000 entries, 0 to 14999\n",
      "Data columns (total 18 columns):\n",
      " #   Column           Non-Null Count  Dtype  \n",
      "---  ------           --------------  -----  \n",
      " 0   id               15000 non-null  int64  \n",
      " 1   address          15000 non-null  object \n",
      " 2   city             15000 non-null  object \n",
      " 3   state            15000 non-null  object \n",
      " 4   zipcode          15000 non-null  int64  \n",
      " 5   latitude         15000 non-null  float64\n",
      " 6   longitude        15000 non-null  float64\n",
      " 7   bedrooms         15000 non-null  int64  \n",
      " 8   bathrooms        15000 non-null  float64\n",
      " 9   rooms            15000 non-null  int64  \n",
      " 10  squareFootage    15000 non-null  int64  \n",
      " 11  lotSize          15000 non-null  int64  \n",
      " 12  yearBuilt        15000 non-null  float64\n",
      " 13  lastSaleDate     15000 non-null  object \n",
      " 14  lastSaleAmount   15000 non-null  int64  \n",
      " 15  priorSaleDate    11173 non-null  object \n",
      " 16  priorSaleAmount  15000 non-null  float64\n",
      " 17  estimated_value  15000 non-null  int64  \n",
      "dtypes: float64(5), int64(8), object(5)\n",
      "memory usage: 2.1+ MB\n"
     ]
    },
    {
     "name": "stderr",
     "output_type": "stream",
     "text": [
      "/Users/goutham/opt/anaconda3/envs/learning/lib/python3.7/site-packages/ipykernel_launcher.py:2: FutureWarning: Dropping of nuisance columns in DataFrame reductions (with 'numeric_only=None') is deprecated; in a future version this will raise TypeError.  Select only valid columns before calling the reduction.\n",
      "  \n"
     ]
    }
   ],
   "source": [
    "# Instead of filling with 0, we might want to fill it with the mean of each column\n",
    "df3 = df.fillna(df.mean())\n",
    "df3.info()"
   ]
  },
  {
   "cell_type": "code",
   "execution_count": 9,
   "metadata": {},
   "outputs": [
    {
     "name": "stdout",
     "output_type": "stream",
     "text": [
      "<class 'pandas.core.frame.DataFrame'>\n",
      "Int64Index: 11078 entries, 0 to 14999\n",
      "Data columns (total 18 columns):\n",
      " #   Column           Non-Null Count  Dtype  \n",
      "---  ------           --------------  -----  \n",
      " 0   id               11078 non-null  int64  \n",
      " 1   address          11078 non-null  object \n",
      " 2   city             11078 non-null  object \n",
      " 3   state            11078 non-null  object \n",
      " 4   zipcode          11078 non-null  int64  \n",
      " 5   latitude         11078 non-null  float64\n",
      " 6   longitude        11078 non-null  float64\n",
      " 7   bedrooms         11078 non-null  int64  \n",
      " 8   bathrooms        11078 non-null  float64\n",
      " 9   rooms            11078 non-null  int64  \n",
      " 10  squareFootage    11078 non-null  int64  \n",
      " 11  lotSize          11078 non-null  int64  \n",
      " 12  yearBuilt        11078 non-null  float64\n",
      " 13  lastSaleDate     11078 non-null  object \n",
      " 14  lastSaleAmount   11078 non-null  int64  \n",
      " 15  priorSaleDate    11078 non-null  object \n",
      " 16  priorSaleAmount  11078 non-null  float64\n",
      " 17  estimated_value  11078 non-null  int64  \n",
      "dtypes: float64(5), int64(8), object(5)\n",
      "memory usage: 1.6+ MB\n"
     ]
    }
   ],
   "source": [
    "# Drop all NaN values\n",
    "# df = df.dropna() # Drop NaN values and assign it back to df\n",
    "\n",
    "# Another way of doing the same\n",
    "df.dropna(inplace=True)\n",
    "df.info()"
   ]
  },
  {
   "cell_type": "markdown",
   "metadata": {},
   "source": [
    "#### `Understanding the DataFrame - More`"
   ]
  },
  {
   "cell_type": "code",
   "execution_count": 10,
   "metadata": {},
   "outputs": [
    {
     "data": {
      "text/plain": [
       "<AxesSubplot:xlabel='estimated_value'>"
      ]
     },
     "execution_count": 10,
     "metadata": {},
     "output_type": "execute_result"
    },
    {
     "data": {
      "image/png": "[encoded data removed]",
      "text/plain": [
       "<Figure size 432x288 with 1 Axes>"
      ]
     },
     "metadata": {
      "needs_background": "light"
     },
     "output_type": "display_data"
    }
   ],
   "source": [
    "# Knowing the outliers\n",
    "sns.boxplot(x=df.estimated_value)\n"
   ]
  },
  {
   "cell_type": "markdown",
   "metadata": {},
   "source": [
    "We see that there are some outliers and we can try and remove values those are **> 800000** _(because the value is actually 1e7)_ to remove some of the outliers in the DataFrame"
   ]
  },
  {
   "cell_type": "code",
   "execution_count": 11,
   "metadata": {},
   "outputs": [
    {
     "data": {
      "text/plain": [
       "(9456, 18)"
      ]
     },
     "execution_count": 11,
     "metadata": {},
     "output_type": "execute_result"
    }
   ],
   "source": [
    "# Trying to eliminate the outliers\n",
    "\n",
    "df[df.estimated_value <= 800000].shape"
   ]
  },
  {
   "cell_type": "code",
   "execution_count": 12,
   "metadata": {},
   "outputs": [
    {
     "data": {
      "text/plain": [
       "<AxesSubplot:xlabel='estimated_value'>"
      ]
     },
     "execution_count": 12,
     "metadata": {},
     "output_type": "execute_result"
    },
    {
     "data": {
      "image/png": "[encoded data removed]",
      "text/plain": [
       "<Figure size 432x288 with 1 Axes>"
      ]
     },
     "metadata": {
      "needs_background": "light"
     },
     "output_type": "display_data"
    }
   ],
   "source": [
    "sns.boxplot(x=df[df.estimated_value <= 800000].estimated_value)\n"
   ]
  },
  {
   "cell_type": "markdown",
   "metadata": {},
   "source": [
    "We will set **1000000** as a cutoff and use it as the limit to eliminate the outliers"
   ]
  },
  {
   "cell_type": "code",
   "execution_count": 13,
   "metadata": {},
   "outputs": [
    {
     "data": {
      "text/plain": [
       "(10080, 18)"
      ]
     },
     "execution_count": 13,
     "metadata": {},
     "output_type": "execute_result"
    }
   ],
   "source": [
    "df = df[df.estimated_value <= 1000000]\n",
    "df.shape"
   ]
  },
  {
   "cell_type": "code",
   "execution_count": 14,
   "metadata": {},
   "outputs": [
    {
     "data": {
      "text/plain": [
       "<AxesSubplot:xlabel='estimated_value'>"
      ]
     },
     "execution_count": 14,
     "metadata": {},
     "output_type": "execute_result"
    },
    {
     "data": {
      "image/png": "[encoded data removed]",
      "text/plain": [
       "<Figure size 432x288 with 1 Axes>"
      ]
     },
     "metadata": {
      "needs_background": "light"
     },
     "output_type": "display_data"
    }
   ],
   "source": [
    "sns.boxplot(x=df.estimated_value)"
   ]
  },
  {
   "cell_type": "code",
   "execution_count": 15,
   "metadata": {},
   "outputs": [
    {
     "data": {
      "text/plain": [
       "<AxesSubplot:>"
      ]
     },
     "execution_count": 15,
     "metadata": {},
     "output_type": "execute_result"
    },
    {
     "data": {
      "image/png": "[encoded data removed]",
      "text/plain": [
       "<Figure size 432x288 with 1 Axes>"
      ]
     },
     "metadata": {
      "needs_background": "light"
     },
     "output_type": "display_data"
    }
   ],
   "source": [
    "df.estimated_value.hist()"
   ]
  },
  {
   "cell_type": "markdown",
   "metadata": {},
   "source": [
    "#### `Filtering out noise`"
   ]
  },
  {
   "cell_type": "code",
   "execution_count": 16,
   "metadata": {},
   "outputs": [
    {
     "data": {
      "text/plain": [
       "array([80022, 80033, 80123, 80203, 80204, 80205, 80206, 80207, 80209])"
      ]
     },
     "execution_count": 16,
     "metadata": {},
     "output_type": "execute_result"
    }
   ],
   "source": [
    "# Get data to help using for filtering\n",
    "df.zipcode.unique()"
   ]
  },
  {
   "cell_type": "code",
   "execution_count": 17,
   "metadata": {},
   "outputs": [
    {
     "data": {
      "text/html": [
       "<div>\n",
       "<style scoped>\n",
       "    .dataframe tbody tr th:only-of-type {\n",
       "        vertical-align: middle;\n",
       "    }\n",
       "\n",
       "    .dataframe tbody tr th {\n",
       "        vertical-align: top;\n",
       "    }\n",
       "\n",
       "    .dataframe thead th {\n",
       "        text-align: right;\n",
       "    }\n",
       "</style>\n",
       "<table border=\"1\" class=\"dataframe\">\n",
       "  <thead>\n",
       "    <tr style=\"text-align: right;\">\n",
       "      <th></th>\n",
       "      <th>id</th>\n",
       "      <th>address</th>\n",
       "      <th>city</th>\n",
       "      <th>state</th>\n",
       "      <th>zipcode</th>\n",
       "      <th>latitude</th>\n",
       "      <th>longitude</th>\n",
       "      <th>bedrooms</th>\n",
       "      <th>bathrooms</th>\n",
       "      <th>rooms</th>\n",
       "      <th>squareFootage</th>\n",
       "      <th>lotSize</th>\n",
       "      <th>yearBuilt</th>\n",
       "      <th>lastSaleDate</th>\n",
       "      <th>lastSaleAmount</th>\n",
       "      <th>priorSaleDate</th>\n",
       "      <th>priorSaleAmount</th>\n",
       "      <th>estimated_value</th>\n",
       "    </tr>\n",
       "  </thead>\n",
       "  <tbody>\n",
       "    <tr>\n",
       "      <th>13276</th>\n",
       "      <td>39512040</td>\n",
       "      <td>764 S York St</td>\n",
       "      <td>Denver</td>\n",
       "      <td>CO</td>\n",
       "      <td>80209</td>\n",
       "      <td>39.702607</td>\n",
       "      <td>-104.960243</td>\n",
       "      <td>3</td>\n",
       "      <td>4.0</td>\n",
       "      <td>7</td>\n",
       "      <td>2567</td>\n",
       "      <td>6250</td>\n",
       "      <td>2016.0</td>\n",
       "      <td>2012-07-23</td>\n",
       "      <td>420000</td>\n",
       "      <td>2010-11-29</td>\n",
       "      <td>385000.0</td>\n",
       "      <td>770622</td>\n",
       "    </tr>\n",
       "    <tr>\n",
       "      <th>13316</th>\n",
       "      <td>11586398</td>\n",
       "      <td>450 S Vine St</td>\n",
       "      <td>Denver</td>\n",
       "      <td>CO</td>\n",
       "      <td>80209</td>\n",
       "      <td>39.708351</td>\n",
       "      <td>-104.962546</td>\n",
       "      <td>3</td>\n",
       "      <td>5.0</td>\n",
       "      <td>7</td>\n",
       "      <td>2570</td>\n",
       "      <td>4680</td>\n",
       "      <td>2016.0</td>\n",
       "      <td>2015-02-11</td>\n",
       "      <td>571000</td>\n",
       "      <td>2007-01-03</td>\n",
       "      <td>399000.0</td>\n",
       "      <td>682810</td>\n",
       "    </tr>\n",
       "    <tr>\n",
       "      <th>13428</th>\n",
       "      <td>11586742</td>\n",
       "      <td>636 S Williams St</td>\n",
       "      <td>Denver</td>\n",
       "      <td>CO</td>\n",
       "      <td>80209</td>\n",
       "      <td>39.704969</td>\n",
       "      <td>-104.966025</td>\n",
       "      <td>3</td>\n",
       "      <td>5.0</td>\n",
       "      <td>6</td>\n",
       "      <td>2578</td>\n",
       "      <td>4680</td>\n",
       "      <td>2016.0</td>\n",
       "      <td>2015-07-22</td>\n",
       "      <td>637600</td>\n",
       "      <td>2007-02-02</td>\n",
       "      <td>481900.0</td>\n",
       "      <td>745777</td>\n",
       "    </tr>\n",
       "    <tr>\n",
       "      <th>13431</th>\n",
       "      <td>184305844</td>\n",
       "      <td>456 S High St</td>\n",
       "      <td>Denver</td>\n",
       "      <td>CO</td>\n",
       "      <td>80209</td>\n",
       "      <td>39.708197</td>\n",
       "      <td>-104.964857</td>\n",
       "      <td>3</td>\n",
       "      <td>5.0</td>\n",
       "      <td>10</td>\n",
       "      <td>3346</td>\n",
       "      <td>6240</td>\n",
       "      <td>2016.0</td>\n",
       "      <td>2016-01-11</td>\n",
       "      <td>725000</td>\n",
       "      <td>1993-07-15</td>\n",
       "      <td>124000.0</td>\n",
       "      <td>751361</td>\n",
       "    </tr>\n",
       "    <tr>\n",
       "      <th>13766</th>\n",
       "      <td>7652681</td>\n",
       "      <td>408 S Franklin St</td>\n",
       "      <td>Denver</td>\n",
       "      <td>CO</td>\n",
       "      <td>80209</td>\n",
       "      <td>39.709074</td>\n",
       "      <td>-104.968369</td>\n",
       "      <td>3</td>\n",
       "      <td>5.0</td>\n",
       "      <td>8</td>\n",
       "      <td>3367</td>\n",
       "      <td>5060</td>\n",
       "      <td>2015.0</td>\n",
       "      <td>2014-04-21</td>\n",
       "      <td>513486</td>\n",
       "      <td>2007-08-22</td>\n",
       "      <td>435000.0</td>\n",
       "      <td>709102</td>\n",
       "    </tr>\n",
       "    <tr>\n",
       "      <th>13812</th>\n",
       "      <td>39708952</td>\n",
       "      <td>611 S Washington St</td>\n",
       "      <td>Denver</td>\n",
       "      <td>CO</td>\n",
       "      <td>80209</td>\n",
       "      <td>39.705403</td>\n",
       "      <td>-104.979580</td>\n",
       "      <td>3</td>\n",
       "      <td>4.0</td>\n",
       "      <td>10</td>\n",
       "      <td>2090</td>\n",
       "      <td>4690</td>\n",
       "      <td>2014.0</td>\n",
       "      <td>2015-03-09</td>\n",
       "      <td>825000</td>\n",
       "      <td>2013-07-19</td>\n",
       "      <td>325500.0</td>\n",
       "      <td>994114</td>\n",
       "    </tr>\n",
       "    <tr>\n",
       "      <th>13988</th>\n",
       "      <td>8771845</td>\n",
       "      <td>829 S Sherman St</td>\n",
       "      <td>Denver</td>\n",
       "      <td>CO</td>\n",
       "      <td>80209</td>\n",
       "      <td>39.701362</td>\n",
       "      <td>-104.985420</td>\n",
       "      <td>3</td>\n",
       "      <td>4.0</td>\n",
       "      <td>8</td>\n",
       "      <td>2359</td>\n",
       "      <td>4160</td>\n",
       "      <td>2008.0</td>\n",
       "      <td>2011-12-30</td>\n",
       "      <td>461000</td>\n",
       "      <td>2011-12-15</td>\n",
       "      <td>0.0</td>\n",
       "      <td>814991</td>\n",
       "    </tr>\n",
       "    <tr>\n",
       "      <th>14162</th>\n",
       "      <td>30566405</td>\n",
       "      <td>876 S Williams St</td>\n",
       "      <td>Denver</td>\n",
       "      <td>CO</td>\n",
       "      <td>80209</td>\n",
       "      <td>39.700646</td>\n",
       "      <td>-104.966016</td>\n",
       "      <td>3</td>\n",
       "      <td>1.0</td>\n",
       "      <td>8</td>\n",
       "      <td>3394</td>\n",
       "      <td>6250</td>\n",
       "      <td>2015.0</td>\n",
       "      <td>2014-03-18</td>\n",
       "      <td>675000</td>\n",
       "      <td>2006-05-11</td>\n",
       "      <td>511000.0</td>\n",
       "      <td>869769</td>\n",
       "    </tr>\n",
       "    <tr>\n",
       "      <th>14777</th>\n",
       "      <td>39896461</td>\n",
       "      <td>733 S Logan St</td>\n",
       "      <td>Denver</td>\n",
       "      <td>CO</td>\n",
       "      <td>80209</td>\n",
       "      <td>39.703268</td>\n",
       "      <td>-104.983132</td>\n",
       "      <td>4</td>\n",
       "      <td>4.0</td>\n",
       "      <td>7</td>\n",
       "      <td>2410</td>\n",
       "      <td>5108</td>\n",
       "      <td>2004.0</td>\n",
       "      <td>2012-08-10</td>\n",
       "      <td>600000</td>\n",
       "      <td>2012-01-18</td>\n",
       "      <td>300000.0</td>\n",
       "      <td>820893</td>\n",
       "    </tr>\n",
       "    <tr>\n",
       "      <th>14967</th>\n",
       "      <td>206263485</td>\n",
       "      <td>220 S Pennsylvania St</td>\n",
       "      <td>Denver</td>\n",
       "      <td>CO</td>\n",
       "      <td>80209</td>\n",
       "      <td>39.712480</td>\n",
       "      <td>-104.981430</td>\n",
       "      <td>1</td>\n",
       "      <td>3.0</td>\n",
       "      <td>5</td>\n",
       "      <td>1143</td>\n",
       "      <td>3882</td>\n",
       "      <td>2010.0</td>\n",
       "      <td>2015-09-04</td>\n",
       "      <td>725000</td>\n",
       "      <td>2010-10-20</td>\n",
       "      <td>450000.0</td>\n",
       "      <td>686395</td>\n",
       "    </tr>\n",
       "    <tr>\n",
       "      <th>14970</th>\n",
       "      <td>144446585</td>\n",
       "      <td>232 S Pennsylvania St</td>\n",
       "      <td>Denver</td>\n",
       "      <td>CO</td>\n",
       "      <td>80209</td>\n",
       "      <td>39.712270</td>\n",
       "      <td>-104.981440</td>\n",
       "      <td>1</td>\n",
       "      <td>3.0</td>\n",
       "      <td>7</td>\n",
       "      <td>1143</td>\n",
       "      <td>3880</td>\n",
       "      <td>2008.0</td>\n",
       "      <td>2016-07-15</td>\n",
       "      <td>750000</td>\n",
       "      <td>2009-08-27</td>\n",
       "      <td>434997.0</td>\n",
       "      <td>683866</td>\n",
       "    </tr>\n",
       "    <tr>\n",
       "      <th>14982</th>\n",
       "      <td>43208991</td>\n",
       "      <td>731 S Elizabeth St</td>\n",
       "      <td>Denver</td>\n",
       "      <td>CO</td>\n",
       "      <td>80209</td>\n",
       "      <td>39.703135</td>\n",
       "      <td>-104.956141</td>\n",
       "      <td>2</td>\n",
       "      <td>3.0</td>\n",
       "      <td>6</td>\n",
       "      <td>2680</td>\n",
       "      <td>6160</td>\n",
       "      <td>2016.0</td>\n",
       "      <td>2015-03-31</td>\n",
       "      <td>485000</td>\n",
       "      <td>2003-06-19</td>\n",
       "      <td>357500.0</td>\n",
       "      <td>753935</td>\n",
       "    </tr>\n",
       "  </tbody>\n",
       "</table>\n",
       "</div>"
      ],
      "text/plain": [
       "              id                address    city state  zipcode   latitude  \\\n",
       "13276   39512040          764 S York St  Denver    CO    80209  39.702607   \n",
       "13316   11586398          450 S Vine St  Denver    CO    80209  39.708351   \n",
       "13428   11586742      636 S Williams St  Denver    CO    80209  39.704969   \n",
       "13431  184305844          456 S High St  Denver    CO    80209  39.708197   \n",
       "13766    7652681      408 S Franklin St  Denver    CO    80209  39.709074   \n",
       "13812   39708952    611 S Washington St  Denver    CO    80209  39.705403   \n",
       "13988    8771845       829 S Sherman St  Denver    CO    80209  39.701362   \n",
       "14162   30566405      876 S Williams St  Denver    CO    80209  39.700646   \n",
       "14777   39896461         733 S Logan St  Denver    CO    80209  39.703268   \n",
       "14967  206263485  220 S Pennsylvania St  Denver    CO    80209  39.712480   \n",
       "14970  144446585  232 S Pennsylvania St  Denver    CO    80209  39.712270   \n",
       "14982   43208991     731 S Elizabeth St  Denver    CO    80209  39.703135   \n",
       "\n",
       "        longitude  bedrooms  bathrooms  rooms  squareFootage  lotSize  \\\n",
       "13276 -104.960243         3        4.0      7           2567     6250   \n",
       "13316 -104.962546         3        5.0      7           2570     4680   \n",
       "13428 -104.966025         3        5.0      6           2578     4680   \n",
       "13431 -104.964857         3        5.0     10           3346     6240   \n",
       "13766 -104.968369         3        5.0      8           3367     5060   \n",
       "13812 -104.979580         3        4.0     10           2090     4690   \n",
       "13988 -104.985420         3        4.0      8           2359     4160   \n",
       "14162 -104.966016         3        1.0      8           3394     6250   \n",
       "14777 -104.983132         4        4.0      7           2410     5108   \n",
       "14967 -104.981430         1        3.0      5           1143     3882   \n",
       "14970 -104.981440         1        3.0      7           1143     3880   \n",
       "14982 -104.956141         2        3.0      6           2680     6160   \n",
       "\n",
       "       yearBuilt lastSaleDate  lastSaleAmount priorSaleDate  priorSaleAmount  \\\n",
       "13276     2016.0   2012-07-23          420000    2010-11-29         385000.0   \n",
       "13316     2016.0   2015-02-11          571000    2007-01-03         399000.0   \n",
       "13428     2016.0   2015-07-22          637600    2007-02-02         481900.0   \n",
       "13431     2016.0   2016-01-11          725000    1993-07-15         124000.0   \n",
       "13766     2015.0   2014-04-21          513486    2007-08-22         435000.0   \n",
       "13812     2014.0   2015-03-09          825000    2013-07-19         325500.0   \n",
       "13988     2008.0   2011-12-30          461000    2011-12-15              0.0   \n",
       "14162     2015.0   2014-03-18          675000    2006-05-11         511000.0   \n",
       "14777     2004.0   2012-08-10          600000    2012-01-18         300000.0   \n",
       "14967     2010.0   2015-09-04          725000    2010-10-20         450000.0   \n",
       "14970     2008.0   2016-07-15          750000    2009-08-27         434997.0   \n",
       "14982     2016.0   2015-03-31          485000    2003-06-19         357500.0   \n",
       "\n",
       "       estimated_value  \n",
       "13276           770622  \n",
       "13316           682810  \n",
       "13428           745777  \n",
       "13431           751361  \n",
       "13766           709102  \n",
       "13812           994114  \n",
       "13988           814991  \n",
       "14162           869769  \n",
       "14777           820893  \n",
       "14967           686395  \n",
       "14970           683866  \n",
       "14982           753935  "
      ]
     },
     "execution_count": 17,
     "metadata": {},
     "output_type": "execute_result"
    }
   ],
   "source": [
    "# Format to filter / slice data, with multiple conditions\n",
    "# df[(df.estimated_value<=1000000) & (cond2) & (cond3)]\n",
    "# df[((df.estimated_value <= 1000000) | (df.yearBuilt > 2000)) & (df.zipcode == 80209)]\n",
    "\n",
    "df[(df.estimated_value <= 1000000) & (df.yearBuilt > 2000) & (df.zipcode == 80209)]\n"
   ]
  },
  {
   "cell_type": "markdown",
   "metadata": {},
   "source": [
    "### `Statistics`"
   ]
  },
  {
   "cell_type": "markdown",
   "metadata": {},
   "source": [
    "\n",
    "---\n",
    "[next]()"
   ]
  }
 ],
 "metadata": {
  "interpreter": {
   "hash": "fc6500aa8bafb30ff10a7d5a030fda3fe7670d4c2977425a5cbe899865838ba1"
  },
  "kernelspec": {
   "display_name": "Python 3.7.11 ('learning')",
   "language": "python",
   "name": "python3"
  },
  "language_info": {
   "codemirror_mode": {
    "name": "ipython",
    "version": 3
   },
   "file_extension": ".py",
   "mimetype": "text/x-python",
   "name": "python",
   "nbconvert_exporter": "python",
   "pygments_lexer": "ipython3",
   "version": "3.7.11"
  },
  "orig_nbformat": 4
 },
 "nbformat": 4,
 "nbformat_minor": 2
}
