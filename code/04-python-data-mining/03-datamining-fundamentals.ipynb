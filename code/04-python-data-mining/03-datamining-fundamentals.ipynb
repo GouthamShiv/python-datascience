{
 "cells": [
  {
   "attachments": {},
   "cell_type": "markdown",
   "metadata": {},
   "source": [
    "[back](./02-practical-datamining-example.ipynb)\n",
    "\n",
    "---\n",
    "## **`Data Mining`** ` - Fundamentals`\n",
    "\n",
    "- [Cluster Analysis](./03A-cluster-analysis.ipynb)\n",
    "- [Classification and Regression]()\n",
    "  - Logistic regression, k-nn classifier and SVM\n",
    "- [Association and Correlation]()\n",
    "  - Outlier\n",
    "  - Detecting outliers in univriate, multivariate and high dimensional spaces\n",
    "- [Dimensionality Reduction]()"
   ]
  },
  {
   "attachments": {},
   "cell_type": "markdown",
   "metadata": {},
   "source": [
    "\n",
    "---\n",
    "[next](./03A-cluster-analysis.ipynb)"
   ]
  }
 ],
 "metadata": {
  "language_info": {
   "name": "python"
  },
  "orig_nbformat": 4
 },
 "nbformat": 4,
 "nbformat_minor": 2
}
