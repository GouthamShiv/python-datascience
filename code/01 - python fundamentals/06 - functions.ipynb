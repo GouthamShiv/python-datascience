{
 "cells": [
  {
   "cell_type": "markdown",
   "metadata": {},
   "source": [
    "# `What is covered?`\n",
    "\n",
    "- [What are functions?](#01-what-are-functions)\n",
    "- [What are parameters?](#02-what-are-parameters)\n",
    "- [What are return values?](#03-what-are-return-values)"
   ]
  },
  {
   "cell_type": "markdown",
   "metadata": {},
   "source": [
    "## `01 What are functions?`\n",
    "\n",
    "- Functions contain code to be executed exactly when we choose\n",
    "- Code remains hidden until we run the function\n",
    "- We can write the code once and execute when and where required\n",
    "- Run the code in a function by calling on the function\n",
    "- Can receive inputs (parameters) and produce outputs (return values)"
   ]
  },
  {
   "cell_type": "code",
   "execution_count": 1,
   "metadata": {},
   "outputs": [
    {
     "name": "stdout",
     "output_type": "stream",
     "text": [
      "Before moving\n",
      "0\n",
      "Moving first time\n",
      "1\n",
      "Move another 3 times\n",
      "4\n"
     ]
    }
   ],
   "source": [
    "# Implementing functions, calling function and understanding variable scope\n",
    "x_pos = 0\n",
    "def move():\n",
    "  global x_pos\n",
    "  x_pos += 1\n",
    "\n",
    "print('Before moving')\n",
    "print(x_pos)\n",
    "\n",
    "print('Moving first time')\n",
    "move()\n",
    "print(x_pos)\n",
    "\n",
    "print('Move another 3 times')\n",
    "move()\n",
    "move()\n",
    "move()\n",
    "print(x_pos)"
   ]
  },
  {
   "cell_type": "markdown",
   "metadata": {},
   "source": [
    "## `02 What are parameters?`\n",
    "\n",
    "- Parameters are inputs into a function\n",
    "- Functions can have 0 or more parameters\n",
    "- Parameters can be used like regular variables within a function\n",
    "- Pass these values into the function when calling it\n",
    "- Can use default values if we don't want to pass in a value every time, but need to use the variable in the function body"
   ]
  },
  {
   "cell_type": "markdown",
   "metadata": {},
   "source": [
    "## `03 What are return values?`\n",
    "\n",
    "- Return values are outputs from a function\n",
    "- Specify these in the function body with a return statement\n",
    "- Function breaks and outputs a value (or not) when it reaches this\n",
    "- If no return statement, function breaks after the last statement\n",
    "- Can use the output like a variable when calling the function"
   ]
  }
 ],
 "metadata": {
  "interpreter": {
   "hash": "0b4484ae063bf9ef0d5115063857dd0e382a2c73ed49a11a000ca56af03302b6"
  },
  "kernelspec": {
   "display_name": "Python 3.9.7 ('base')",
   "language": "python",
   "name": "python3"
  },
  "language_info": {
   "codemirror_mode": {
    "name": "ipython",
    "version": 3
   },
   "file_extension": ".py",
   "mimetype": "text/x-python",
   "name": "python",
   "nbconvert_exporter": "python",
   "pygments_lexer": "ipython3",
   "version": "3.9.7"
  },
  "orig_nbformat": 4
 },
 "nbformat": 4,
 "nbformat_minor": 2
}
