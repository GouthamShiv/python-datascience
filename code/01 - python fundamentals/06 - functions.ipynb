{
 "cells": [
  {
   "cell_type": "markdown",
   "metadata": {},
   "source": [
    "# `What is covered?`\n",
    "\n",
    "- [What are functions?](#01-what-are-functions)\n",
    "- [What are parameters?](#02-what-are-parameters)\n",
    "- [What are return values?](#03-what-are-return-values)"
   ]
  },
  {
   "cell_type": "markdown",
   "metadata": {},
   "source": [
    "## `01 What are functions?`\n",
    "\n",
    "- Functions contain code to be executed exactly when we choose\n",
    "- Code remains hidden until we run the function\n",
    "- We can write the code once and execute when and where required\n",
    "- Run the code in a function by calling on the function\n",
    "- Can receive inputs (parameters) and produce outputs (return values)"
   ]
  },
  {
   "cell_type": "markdown",
   "metadata": {},
   "source": [
    "## `02 What are parameters?`\n",
    "\n",
    "- Parameters are inputs into a function\n",
    "- Functions can have 0 or more parameters\n",
    "- Parameters can be used like regular variables within a function\n",
    "- Pass these values into the function when calling it\n",
    "- Can use default values if we don't want to pass in a value every time, but need to use the variable in the function body"
   ]
  },
  {
   "cell_type": "markdown",
   "metadata": {},
   "source": [
    "## `03 What are return values?`\n",
    "\n",
    "- Return values are outputs from a function\n",
    "- Specify these in the function body with a return statement\n",
    "- Function breaks and outputs a value (or not) when it reaches this\n",
    "- If no return statement, function breaks after the last statement\n",
    "- Can use the output like a variable when calling the function"
   ]
  }
 ],
 "metadata": {
  "language_info": {
   "name": "python"
  },
  "orig_nbformat": 4
 },
 "nbformat": 4,
 "nbformat_minor": 2
}
