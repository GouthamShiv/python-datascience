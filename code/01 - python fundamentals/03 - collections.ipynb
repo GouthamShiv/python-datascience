{
 "cells": [
  {
   "cell_type": "markdown",
   "metadata": {},
   "source": [
    "## What collections are?\n",
    "\n",
    "- Collections provide a way to store multiple values in a single variable\n",
    "- Items in a collection are considered as elements\n",
    "- Elements can also be collections\n",
    "- Usually come with additional functionality\n",
    "- Types of collections\n",
    "    - [`Lists`](#01-lists)\n",
    "    - [`Tuples`](#02-tuples)\n",
    "    - [`Dictionaries`](#03-dictionaries)\n",
    "    - [`Ranges`](#04-ranges)"
   ]
  },
  {
   "cell_type": "markdown",
   "metadata": {},
   "source": [
    "### `01 Lists`\n",
    "\n",
    "- Lists store 0 or more items at specific indexes\n",
    "- Access elements based on their index\n",
    "- Cannot access items at indexes that don't exist\n",
    "- Lists can contain multiple types of variables in Python\n",
    "- Mutable"
   ]
  },
  {
   "cell_type": "code",
   "execution_count": 1,
   "metadata": {},
   "outputs": [
    {
     "name": "stdout",
     "output_type": "stream",
     "text": [
      "['Sword', 'Bread', 'Boots']\n",
      "<class 'list'>\n"
     ]
    }
   ],
   "source": [
    "# Creating lists\n",
    "inventory = ['Sword', 'Bread', 'Boots']\n",
    "print(inventory)\n",
    "print(type(inventory))"
   ]
  },
  {
   "cell_type": "code",
   "execution_count": 2,
   "metadata": {},
   "outputs": [
    {
     "name": "stdout",
     "output_type": "stream",
     "text": [
      "Sword\n",
      "<class 'str'>\n",
      "Coins\n",
      "['Coins', 'Bread', 'Boots']\n"
     ]
    }
   ],
   "source": [
    "# Accessing / modifying list elements\n",
    "print(inventory[0])\n",
    "print(type(inventory[0]))\n",
    "inventory[0] = 'Coins'\n",
    "print(inventory[0])\n",
    "print(inventory)"
   ]
  },
  {
   "cell_type": "code",
   "execution_count": 3,
   "metadata": {},
   "outputs": [
    {
     "name": "stdout",
     "output_type": "stream",
     "text": [
      "3\n",
      "Coins\n",
      "Boots\n",
      "['Coins', 'Bread', 'Boots', 'Hat']\n",
      "['Knife', 'Coins', 'Bread', 'Boots', 'Hat']\n",
      "['Knife', 'Coins', 'Bread', 'Boots']\n",
      "['Knife', 'Bread', 'Boots']\n",
      "[]\n"
     ]
    }
   ],
   "source": [
    "# Common list operations\n",
    "print(len(inventory))\n",
    "print(max(inventory))\n",
    "print(min(inventory))\n",
    "\n",
    "inventory.append('Hat')\n",
    "print(inventory)\n",
    "\n",
    "inventory.insert(0, 'Knife')\n",
    "print(inventory)\n",
    "\n",
    "inventory.pop()\n",
    "print(inventory)\n",
    "\n",
    "inventory.remove('Coins')\n",
    "print(inventory)\n",
    "\n",
    "inventory.clear()\n",
    "print(inventory)"
   ]
  },
  {
   "cell_type": "code",
   "execution_count": 8,
   "metadata": {},
   "outputs": [
    {
     "name": "stdout",
     "output_type": "stream",
     "text": [
      "[[1, 2, 3], [1, 2, 3, 4], [1, 2], [1, 2, 3]]\n",
      "<class 'list'>\n",
      "2\n",
      "5\n",
      "[[1, 2, 3], [1, 2, 3, 4], [1, 2], [1, 2, 3]]\n",
      "[[1, 2, 3], [1, 2, 3, 4], [1, 2], [1, 2, 3], [1, 2, 3, 4, 5]]\n",
      "[[1, 2, 3], [1, 2, 3, 4, 5], [1, 2], [1, 2, 3], [1, 2, 3, 4, 5]]\n"
     ]
    }
   ],
   "source": [
    "# Multidimensional List\n",
    "\n",
    "universe = [[1, 2, 3],\n",
    "            [1, 2, 3, 4],\n",
    "            [1, 2],\n",
    "            [1, 2, 3]]\n",
    "print(universe)\n",
    "print(type(universe))\n",
    "\n",
    "ninth_world = universe[2][1]\n",
    "print(ninth_world)\n",
    "\n",
    "ninth_world = 5\n",
    "print(ninth_world)\n",
    "print(universe)\n",
    "\n",
    "universe.append([1, 2, 3, 4, 5])\n",
    "print(universe)\n",
    "\n",
    "universe[1].append(5)\n",
    "print(universe)\n"
   ]
  },
  {
   "cell_type": "markdown",
   "metadata": {},
   "source": [
    "### `02 Tuples`\n",
    "\n",
    "- Similar to lists\n",
    "- Access elements based on their index\n",
    "- Immutable"
   ]
  },
  {
   "cell_type": "markdown",
   "metadata": {},
   "source": [
    "### `03 Dictionaries`\n",
    "\n",
    "- Store key-value pairs at each index\n",
    "- Each element is a tuple of key-value pair\n",
    "- Access values based on key, not index\n",
    "- Can also retrieve list of just keys or just values\n",
    "- Mutable"
   ]
  },
  {
   "cell_type": "markdown",
   "metadata": {},
   "source": [
    "### `04 Ranges`\n",
    "\n",
    "- Ranges represent lists of consecutive whole numbers but don't have the functionality of lists\n",
    "- Specify start and end values\n",
    "- Can also specify step values\n",
    "- Wrap in `reversed()` function to count backwards"
   ]
  }
 ],
 "metadata": {
  "interpreter": {
   "hash": "0b4484ae063bf9ef0d5115063857dd0e382a2c73ed49a11a000ca56af03302b6"
  },
  "kernelspec": {
   "display_name": "Python 3.9.7 ('base')",
   "language": "python",
   "name": "python3"
  },
  "language_info": {
   "codemirror_mode": {
    "name": "ipython",
    "version": 3
   },
   "file_extension": ".py",
   "mimetype": "text/x-python",
   "name": "python",
   "nbconvert_exporter": "python",
   "pygments_lexer": "ipython3",
   "version": "3.9.7"
  },
  "orig_nbformat": 4
 },
 "nbformat": 4,
 "nbformat_minor": 2
}
