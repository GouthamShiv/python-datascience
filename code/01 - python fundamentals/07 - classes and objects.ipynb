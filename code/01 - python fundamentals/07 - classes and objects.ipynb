{
 "cells": [
  {
   "cell_type": "markdown",
   "metadata": {},
   "source": [
    "# `Classes and Objects - Topics covered`\n",
    "\n",
    "- [What are objects?](#01-what-are-objects)\n",
    "- [What are classes?](#02-what-are-classes)\n",
    "- [How do we use classes and objects?](#03-how-do-we-use-classes-and-objects)\n",
    "- [Inheritance](#04-inheritance)\n",
    "- [Static variables and functions](#05-static-members)"
   ]
  },
  {
   "cell_type": "markdown",
   "metadata": {},
   "source": [
    "## `01 What are objects?`\n",
    "\n",
    "- `Objects` are entities with state / properties and behavior\n",
    "    - `State` is a mix of all of the values of an object\n",
    "    - `Behavior` typically modifies the state\n",
    "- Modelled after real life entities"
   ]
  },
  {
   "cell_type": "markdown",
   "metadata": {},
   "source": [
    "## `02 What are classes?`\n",
    "\n",
    "- `Classes` are implementations of `objects`\n",
    "- `State` is represented with variables (`fields`)\n",
    "- `Behavior` is represented with functions (`methods`)\n",
    "- Special initializer function helps to set-up the initial state (set variable values)\n",
    "- Use the initializer to create instance of classes (objects)"
   ]
  },
  {
   "cell_type": "markdown",
   "metadata": {},
   "source": [
    "## `03 How do we use classes and objects?`\n",
    "\n",
    "- Class simply acts as a `blueprint` for an object\n",
    "- Use the initializer to create instances of classes (objects)\n",
    "- An object's initial state is set upon instantiation\n",
    "- We can use the object to access its fields or execute methods"
   ]
  },
  {
   "cell_type": "markdown",
   "metadata": {},
   "source": [
    "## `04 Inheritance`\n",
    "\n",
    "- Sometimes classes need to be **similar** but have **some unique fields or methods**\n",
    "- For these we use `inheritance` where **one class can inherit everything from another** but also **add its own stuff**\n",
    "- A `subclass` will inherit from a `superclass`\n",
    "- Sometimes we `override` a superclass implementation of a variable or function to provide a new one"
   ]
  },
  {
   "cell_type": "markdown",
   "metadata": {},
   "source": [
    "## `05 Static Members`\n",
    "\n",
    "- Static variables and functions **belong to a whole class** rather then just an instance\n",
    "- Static variables **hold their values across all instances** of the class\n",
    "- Don't have to create an instance of the class to get the value _(as it belongs to the class)_\n",
    "- Static functions follow a similar concept to static variables"
   ]
  }
 ],
 "metadata": {
  "interpreter": {
   "hash": "0b4484ae063bf9ef0d5115063857dd0e382a2c73ed49a11a000ca56af03302b6"
  },
  "kernelspec": {
   "display_name": "Python 3.9.7 ('base')",
   "language": "python",
   "name": "python3"
  },
  "language_info": {
   "name": "python",
   "version": "3.9.7"
  },
  "orig_nbformat": 4
 },
 "nbformat": 4,
 "nbformat_minor": 2
}
