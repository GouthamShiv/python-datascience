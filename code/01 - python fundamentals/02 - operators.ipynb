{
 "cells": [
  {
   "cell_type": "markdown",
   "metadata": {},
   "source": [
    "## What are operators?\n",
    "\n",
    "- Operators enable us to perform operations on variables\n",
    "- A few operators modify a variable value\n",
    "- Most operators produce a new result without modifying the inputs\n",
    "- Operators can be strung together but always follow order of operations from left to right\n",
    "    - Better to put operations in brackets to communicate the order to readers to know the order"
   ]
  },
  {
   "cell_type": "markdown",
   "metadata": {},
   "source": [
    "### Arithmetic Operators\n",
    "\n",
    "- Generally used for numerical calculations\n",
    "- Can be used to glue strings together\n",
    "- Produce a new numerical or string result\n",
    "- `+` addition\n",
    "- `-` subtraction\n",
    "- `*` multiplication\n",
    "- `/` division\n",
    "- `%` modulo, remainder of the division\n",
    "- `//` floor division operator, basically performs division and discards any remainder\n",
    "- `**` exponentiation"
   ]
  },
  {
   "cell_type": "code",
   "execution_count": 4,
   "metadata": {},
   "outputs": [
    {
     "name": "stdout",
     "output_type": "stream",
     "text": [
      "50\n",
      "70\n",
      "1\n",
      "2\n",
      "25\n",
      "5\n",
      "Goutham, Shivanna\n"
     ]
    }
   ],
   "source": [
    "health = 50\n",
    "# new health is health + 20, not changing value of health\n",
    "new_health = health + 20\n",
    "print(health)\n",
    "\n",
    "# health is added with value 20, upon existing value\n",
    "health = health + 20\n",
    "print(health)\n",
    "\n",
    "xPos = 5\n",
    "print(xPos % 2)\n",
    "print(xPos // 2)\n",
    "print(xPos ** 2)\n",
    "print(xPos)\n",
    "\n",
    "first_name = 'Goutham'\n",
    "last_name = 'Shivanna'\n",
    "print(first_name + ', ' + last_name)\n"
   ]
  },
  {
   "cell_type": "markdown",
   "metadata": {},
   "source": [
    "### Assignment Operators\n",
    "\n",
    "- Used to assign values to variables\n",
    "- Can be used in combination with arithmetic operators\n",
    "- `=` equal sign\n",
    "- additional operations with arithmetic operators\n",
    "    - `+=`\n",
    "    - `-=`\n",
    "    - `*=`\n",
    "    - `/=`\n",
    "    - `%=`\n",
    "    - `//=`\n",
    "    - `**=`"
   ]
  },
  {
   "cell_type": "code",
   "execution_count": 8,
   "metadata": {},
   "outputs": [
    {
     "name": "stdout",
     "output_type": "stream",
     "text": [
      "70\n",
      "20\n",
      "Goutham, Shivanna\n"
     ]
    }
   ],
   "source": [
    "health = 50\n",
    "health += 20\n",
    "print(health)\n",
    "health -= 50\n",
    "print(health)\n",
    "\n",
    "name = 'Goutham'\n",
    "name += ', Shivanna'\n",
    "print(name)"
   ]
  },
  {
   "cell_type": "markdown",
   "metadata": {},
   "source": [
    "### Comparison Operators\n",
    "\n",
    "- Used to compare two values\n",
    "- Can be numerical, string, or boolean variables\n",
    "- `==` equals to\n",
    "- `!=` not equals to\n",
    "- `>` greater than\n",
    "- `>=` greater than or equal to\n",
    "- `<` less than\n",
    "- `<=` less than or equal to"
   ]
  },
  {
   "cell_type": "markdown",
   "metadata": {},
   "source": [
    "### Logical Operators\n",
    "\n",
    "- Used to test additional conditions\n",
    "- Typically used on booleans\n",
    "- `not`, `or`, `and`"
   ]
  },
  {
   "cell_type": "markdown",
   "metadata": {},
   "source": [
    "### Other Operators\n",
    "\n",
    "- `Ternary`: `if else`\n",
    "    - Conditionally performs an action if true, else will perform a different action\n",
    "- `Identity`: `is`, `is not`\n",
    "    - Test the membership to a particular class\n",
    "- `Membership`: `in`, `not in`\n",
    "    - To test if something is present or not\n",
    "- `Bitwise`: `&`, `|`, `^`, `~`, `<<`, `>>`\n",
    "    - Used to perform logical operations and shift stuffs left and right by certain number of bits"
   ]
  }
 ],
 "metadata": {
  "interpreter": {
   "hash": "0b4484ae063bf9ef0d5115063857dd0e382a2c73ed49a11a000ca56af03302b6"
  },
  "kernelspec": {
   "display_name": "Python 3.9.7 ('base')",
   "language": "python",
   "name": "python3"
  },
  "language_info": {
   "codemirror_mode": {
    "name": "ipython",
    "version": 3
   },
   "file_extension": ".py",
   "mimetype": "text/x-python",
   "name": "python",
   "nbconvert_exporter": "python",
   "pygments_lexer": "ipython3",
   "version": "3.9.7"
  },
  "orig_nbformat": 4
 },
 "nbformat": 4,
 "nbformat_minor": 2
}
