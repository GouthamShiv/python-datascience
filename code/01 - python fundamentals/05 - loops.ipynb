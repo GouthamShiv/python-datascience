{
 "cells": [
  {
   "cell_type": "markdown",
   "metadata": {},
   "source": [
    "# `What is covered`\n",
    "\n",
    "- [What are loops?](#what-are-loops)\n",
    "- [`While` loops](#01-while-loops)\n",
    "- [`For` loops](#02-for-loops)"
   ]
  },
  {
   "cell_type": "markdown",
   "metadata": {},
   "source": [
    "## `What are loops?`\n",
    "\n",
    "- Loops provide a way to automate code to run multiple times\n",
    "- We place statements in a loop and they are executed as continuously until some break-condition is met\n",
    "- We cab put whatever logic we want in the loop body, but all code within will be executed each time the loop runs"
   ]
  },
  {
   "cell_type": "markdown",
   "metadata": {},
   "source": [
    "## `01 While Loops`\n",
    "\n",
    "- `While` loops function similar to if statements but run the code continuously rather than just once\n",
    "- Break out of `while` loop once the test condition evaluates to `False`\n",
    "- Very useful for when we don't know exactly how many times the loop should run\n",
    "- Can run infinitely if we're not careful"
   ]
  },
  {
   "cell_type": "code",
   "execution_count": 1,
   "metadata": {},
   "outputs": [
    {
     "name": "stdout",
     "output_type": "stream",
     "text": [
      "1\n",
      "2\n",
      "3\n",
      "4\n",
      "5\n",
      "You've reached the end of the while loop\n"
     ]
    }
   ],
   "source": [
    "# Creating and running a while loop\n",
    "x_pos = 0\n",
    "end_pos = 5\n",
    "while x_pos < end_pos:\n",
    "  x_pos += 1\n",
    "  print(x_pos)\n",
    "print('You\\'ve reached the end of the while loop')"
   ]
  },
  {
   "cell_type": "code",
   "execution_count": 2,
   "metadata": {},
   "outputs": [
    {
     "name": "stdout",
     "output_type": "stream",
     "text": [
      "1\n",
      "2\n",
      "3\n",
      "You've collided with the enemy\n",
      "Game over\n"
     ]
    }
   ],
   "source": [
    "# Breaking out of a while loop\n",
    "x_pos = 0\n",
    "end_pos = 5\n",
    "enemy_pos = 3\n",
    "while x_pos < end_pos:\n",
    "  x_pos += 1\n",
    "  print(x_pos)\n",
    "  if x_pos == enemy_pos:\n",
    "    print('You\\'ve collided with the enemy')\n",
    "    break;\n",
    "print('Game over')"
   ]
  },
  {
   "cell_type": "code",
   "execution_count": 3,
   "metadata": {},
   "outputs": [
    {
     "name": "stdout",
     "output_type": "stream",
     "text": [
      "1\n",
      "2\n",
      "3\n",
      "4\n",
      "5\n",
      "Game over\n"
     ]
    }
   ],
   "source": [
    "# Continue in a while loop\n",
    "x_pos = 0\n",
    "y_pos = 1\n",
    "end_pos = 5\n",
    "enemy_pos = 3\n",
    "while x_pos < end_pos:\n",
    "  x_pos += 1\n",
    "  print(x_pos)\n",
    "  if y_pos >= 1:\n",
    "    continue\n",
    "  if x_pos == enemy_pos:\n",
    "    print('You\\'ve collided with the enemy')\n",
    "    break\n",
    "print('Game over')\n"
   ]
  },
  {
   "cell_type": "markdown",
   "metadata": {},
   "source": [
    "## `02 For Loops`\n",
    "\n",
    "- Often referred to as `for-in` loops in Python\n",
    "- Run a set number of times with specific start and end points\n",
    "- Visits every element in some `range` or `list`, starting at the beginning and finishing at the end"
   ]
  }
 ],
 "metadata": {
  "interpreter": {
   "hash": "0b4484ae063bf9ef0d5115063857dd0e382a2c73ed49a11a000ca56af03302b6"
  },
  "kernelspec": {
   "display_name": "Python 3.9.7 ('base')",
   "language": "python",
   "name": "python3"
  },
  "language_info": {
   "codemirror_mode": {
    "name": "ipython",
    "version": 3
   },
   "file_extension": ".py",
   "mimetype": "text/x-python",
   "name": "python",
   "nbconvert_exporter": "python",
   "pygments_lexer": "ipython3",
   "version": "3.9.7"
  },
  "orig_nbformat": 4
 },
 "nbformat": 4,
 "nbformat_minor": 2
}
