{
 "cells": [
  {
   "cell_type": "markdown",
   "metadata": {},
   "source": [
    "# Complete `Python` & `Data Science` Course for Absolute Beginners\n",
    "\n",
    "This so called **project**, is actually all the learnings that I have managed to accumulate by taking up the course [Complete Python & Data Science Course for Absolute Beginners](https://www.udemy.com/share/105SgA3@b-b-i62y90RM-qVQ1oFaGTDOzAIVgeitblk8UJn4046Yj2Jh4zAiMDznhiZyy9kp/) from `Udemy` _no idea if this is an affiliated link!_\n",
    "\n",
    "I might have tossed up a few materials here and there, from other places which I found to be useful related to `Python` that are not covered as part of the above mentioned course.\n",
    "\n",
    "## Course Index\n",
    "\n",
    "1.  [Python Basics](./01-python-fundamentals/00-index.ipynb)\n",
    "    - [Variables](./01-python-fundamentals/01-variables.ipynb)\n",
    "    - [Operators](./01-python-fundamentals/02-operators.ipynb)\n",
    "    - [Collections](./01-python-fundamentals/03-collections.ipynb)\n",
    "    - [Conditions](./01-python-fundamentals/04-conditions.ipynb)\n",
    "    - [Loops](./01-python-fundamentals/05-loops.ipynb)\n",
    "    - [Functions](./01-python-fundamentals/06-functions.ipynb)\n",
    "    - [Classes and Objects](./01-python-fundamentals/07-classes-and-objects.ipynb)\n",
    "1.  [Data Visualization with MatPlotLib](./02-data-visualization-with-python-and-matplotlib/00-index.ipynb)\n",
    "    - [Intro to PyPlot](./02-data-visualization-with-python-and-matplotlib/01-intro-to-pyplot.ipynb)\n",
    "    - [Installing PyPlot](./02-data-visualization-with-python-and-matplotlib/02-installing-pyplot.ipynb)\n",
    "    - [Graphing some data](./02-data-visualization-with-python-and-matplotlib/03-graphing-data.ipynb)\n",
    "        - [Basic Line Plot](./02-data-visualization-with-python-and-matplotlib/03-graphing-data.ipynb)\n",
    "        - [Customizing a graph](./02-data-visualization-with-python-and-matplotlib/03-graphing-data.ipynb)\n",
    "    - [Showing multiple graphs](./02-data-visualization-with-python-and-matplotlib/04-multiple-graphs.ipynb)\n",
    "\n",
    "\n",
    "---\n",
    "[next](./01-python-fundamentals/00-index.ipynb)"
   ]
  }
 ],
 "metadata": {
  "interpreter": {
   "hash": "0b4484ae063bf9ef0d5115063857dd0e382a2c73ed49a11a000ca56af03302b6"
  },
  "kernelspec": {
   "display_name": "Python 3.9.7 ('base')",
   "language": "python",
   "name": "python3"
  },
  "language_info": {
   "name": "python",
   "version": "3.9.7"
  },
  "orig_nbformat": 4
 },
 "nbformat": 4,
 "nbformat_minor": 2
}
