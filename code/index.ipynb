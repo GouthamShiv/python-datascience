{
 "cells": [
  {
   "cell_type": "markdown",
   "metadata": {},
   "source": [
    "# Complete `Python` & `Data Science` Course for Absolute Beginners\n",
    "\n",
    "This so called **project**, is actually all the learnings that I have managed to accumulate by taking up the course [Complete Python & Data Science Course for Absolute Beginners](https://www.udemy.com/share/105SgA3@b-b-i62y90RM-qVQ1oFaGTDOzAIVgeitblk8UJn4046Yj2Jh4zAiMDznhiZyy9kp/) from `Udemy` _no idea if this is an affiliated link!_\n",
    "\n",
    "I might have tossed up a few materials here and there, from other places which I found to be useful related to `Python` that are not covered as part of the above mentioned course.\n",
    "\n",
    "## Course Index\n",
    "\n",
    "1.  [Python Basics](./01-python-fundamentals/00-index.ipynb)\n",
    "    - [Variables](./01-python-fundamentals/01-variables.ipynb)\n",
    "    - [Operators](./01-python-fundamentals/02-operators.ipynb)\n",
    "    - [Collections](./01-python-fundamentals/03-collections.ipynb)\n",
    "    - [Conditions](./01-python-fundamentals/04-conditions.ipynb)\n",
    "    - [Loops](./01-python-fundamentals/05-loops.ipynb)\n",
    "    - [Functions](./01-python-fundamentals/06-functions.ipynb)\n",
    "    - [Classes and Objects](./01-python-fundamentals/07-classes-and-objects.ipynb)\n",
    "1.  [Data Visualization with MatPlotLib](./02-data-visualization-with-python-and-matplotlib/00-index.ipynb)\n",
    "    - [Intro to PyPlot](./02-data-visualization-with-python-and-matplotlib/01-intro-to-pyplot.ipynb)\n",
    "    - [Installing PyPlot](./02-data-visualization-with-python-and-matplotlib/02-installing-pyplot.ipynb)\n",
    "    - [Graphing some data](./02-data-visualization-with-python-and-matplotlib/03-graphing-data.ipynb)\n",
    "        - [Basic Line Plot](./02-data-visualization-with-python-and-matplotlib/03-graphing-data.ipynb)\n",
    "        - [Customizing a graph](./02-data-visualization-with-python-and-matplotlib/03-graphing-data.ipynb)\n",
    "    - [Showing multiple graphs](./02-data-visualization-with-python-and-matplotlib/04-multiple-graphs.ipynb)\n",
    "    - [Different kinds of graphs](./02-data-visualization-with-python-and-matplotlib/05-different-kinds-of-graphs.ipynb)\n",
    "        - [Bar Chart](./02-data-visualization-with-python-and-matplotlib/05-different-kinds-of-graphs.ipynb)\n",
    "        - [Pie Chart](./02-data-visualization-with-python-and-matplotlib/05-different-kinds-of-graphs.ipynb)\n",
    "        - [Histogram](./02-data-visualization-with-python-and-matplotlib/05-different-kinds-of-graphs.ipynb)\n",
    "    - [3D Graphs](./02-data-visualization-with-python-and-matplotlib/06-3d-graphs.ipynb)\n",
    "1.  [Data Analysis with Pandas](./03-data-analysis-with-pandas/00-index.ipynb)\n",
    "      - [Intro to Pandas](./03-data-analysis-with-pandas/01-intro-to-pandas.ipynb)\n",
    "          - [What is Pandas?](./03-data-analysis-with-pandas/01-intro-to-pandas.ipynb)\n",
    "          - [Pandas Data Structures](./03-data-analysis-with-pandas/01-intro-to-pandas.ipynb)\n",
    "          - [What are some of the applications of Pandas?](./03-data-analysis-with-pandas/01-intro-to-pandas.ipynb)\n",
    "          - [Why learn Pandas?](./03-data-analysis-with-pandas/01-intro-to-pandas.ipynb)\n",
    "      - [Installing and importing Pandas](./03-data-analysis-with-pandas/02-installing-pandas.ipynb)\n",
    "    -   [Creating Pandas Series](./03-data-analysis-with-pandas/03-pandas-series.ipynb)\n",
    "        -   [Creating Pandas Series - With list](./03-data-analysis-with-pandas/03A-pandas-series-with-list.ipynb)\n",
    "        -   [Creating Pandas Series - With dictionary](./03-data-analysis-with-pandas/03B-pandas-series-with-dictionary.ipynb)\n",
    "        -   [Creating Pandas Series - with NumPy arrays](./03-data-analysis-with-pandas/03C-pandas-series-with-numpy-arrays.ipynb)\n",
    "        -   [Creating Pandas Series - Date Ranges](./03-data-analysis-with-pandas/03D-pandas-series-date-ranges.ipynb)\n",
    "    -   [Getting elements from Series](./03-data-analysis-with-pandas/04-getting-elements-from-series.ipynb)\n",
    "    -   [Getting properties from Series](./03-data-analysis-with-pandas/05-getting-properties-from-series.ipynb)\n",
    "    -   [Modifying Series](./03-data-analysis-with-pandas/06-pandas-series-modification.ipynb)\n",
    "    -   [Series operations]()\n",
    "    -   [Series comparisons and iteration]()\n",
    "      - [Creating Pandas DataFrames]()\n",
    "      - [Getting elements from DataFrames]()\n",
    "      - [Getting properties from DataFrames]()\n",
    "      - [Modifying DataFrames]()\n",
    "      - [DataFrames operations]()\n",
    "      - [DataFrames comparisons and iteration]()\n",
    "      - [Reading CSVs into DataFrames]()\n",
    "\n",
    "\n",
    "---\n",
    "[next](./01-python-fundamentals/00-index.ipynb)"
   ]
  }
 ],
 "metadata": {
  "interpreter": {
   "hash": "0b4484ae063bf9ef0d5115063857dd0e382a2c73ed49a11a000ca56af03302b6"
  },
  "kernelspec": {
   "display_name": "Python 3.9.7 ('base')",
   "language": "python",
   "name": "python3"
  },
  "language_info": {
   "name": "python",
   "version": "3.9.7"
  },
  "orig_nbformat": 4
 },
 "nbformat": 4,
 "nbformat_minor": 2
}
